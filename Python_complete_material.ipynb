{
  "cells": [
    {
      "cell_type": "markdown",
      "metadata": {
        "id": "view-in-github",
        "colab_type": "text"
      },
      "source": [
        "<a href=\"https://colab.research.google.com/github/Gopikathi/Gopikathi/blob/main/Python_complete_material.ipynb\" target=\"_parent\"><img src=\"https://colab.research.google.com/assets/colab-badge.svg\" alt=\"Open In Colab\"/></a>"
      ]
    },
    {
      "cell_type": "markdown",
      "metadata": {
        "id": "RSMc4_x1fUhy"
      },
      "source": [
        "# Basics Data Types\n",
        "\n",
        "1. Numerical\n",
        "   * Integer\n",
        "   * Floating\n",
        "   * Complex\n",
        "   \n",
        "2.String\n",
        "\n",
        "3.Boolean"
      ],
      "id": "RSMc4_x1fUhy"
    },
    {
      "cell_type": "code",
      "execution_count": null,
      "metadata": {
        "id": "02X-L-2sfUh9",
        "outputId": "f771d6b7-f45d-4990-ca5e-627693c6f1a1"
      },
      "outputs": [
        {
          "data": {
            "text/plain": [
              "int"
            ]
          },
          "execution_count": 1,
          "metadata": {},
          "output_type": "execute_result"
        }
      ],
      "source": [
        "###int\n",
        "### type of number\n",
        "type(3)"
      ],
      "id": "02X-L-2sfUh9"
    },
    {
      "cell_type": "code",
      "execution_count": null,
      "metadata": {
        "id": "DO69SAAUfUiC",
        "outputId": "27b9423c-6437-45c8-a79b-cd986b3b8c86"
      },
      "outputs": [
        {
          "name": "stdout",
          "output_type": "stream",
          "text": [
            "<class 'int'>\n"
          ]
        }
      ],
      "source": [
        "### assign a number and check type\n",
        "a = 3\n",
        "print(type(a))"
      ],
      "id": "DO69SAAUfUiC"
    },
    {
      "cell_type": "code",
      "execution_count": null,
      "metadata": {
        "id": "Pl34k-TyfUiF",
        "outputId": "ec1e2eb0-609b-4bf7-c3ae-76eaba2af228"
      },
      "outputs": [
        {
          "data": {
            "text/plain": [
              "float"
            ]
          },
          "execution_count": 4,
          "metadata": {},
          "output_type": "execute_result"
        }
      ],
      "source": [
        "### float\n",
        "### type of number\n",
        "type(5.0)"
      ],
      "id": "Pl34k-TyfUiF"
    },
    {
      "cell_type": "code",
      "execution_count": null,
      "metadata": {
        "id": "9hkMdEMGfUiF",
        "outputId": "c8d59380-82ef-460d-fecd-341741e955aa"
      },
      "outputs": [
        {
          "name": "stdout",
          "output_type": "stream",
          "text": [
            "<class 'float'>\n"
          ]
        }
      ],
      "source": [
        "### assign a number and check type\n",
        "a = 5.0\n",
        "print(type(a))"
      ],
      "id": "9hkMdEMGfUiF"
    },
    {
      "cell_type": "code",
      "execution_count": null,
      "metadata": {
        "id": "dJTqh3TbfUiG",
        "outputId": "05d2dc85-7516-4c3a-988b-83504d75cffc"
      },
      "outputs": [
        {
          "data": {
            "text/plain": [
              "complex"
            ]
          },
          "execution_count": 143,
          "metadata": {},
          "output_type": "execute_result"
        }
      ],
      "source": [
        "### complex number\n",
        "### type of number\n",
        "type(4+6j)"
      ],
      "id": "dJTqh3TbfUiG"
    },
    {
      "cell_type": "code",
      "execution_count": null,
      "metadata": {
        "id": "yF4-VT32fUiH",
        "outputId": "ee8b233c-3562-4027-ef91-bd9215221461"
      },
      "outputs": [
        {
          "name": "stdout",
          "output_type": "stream",
          "text": [
            "<class 'complex'>\n"
          ]
        }
      ],
      "source": [
        "### assign a number and check type\n",
        "a = 4+6j\n",
        "print(type(a))\n"
      ],
      "id": "yF4-VT32fUiH"
    },
    {
      "cell_type": "code",
      "execution_count": null,
      "metadata": {
        "id": "8Dn6drlufUiI",
        "outputId": "ce1686ed-5ae6-4d1e-d824-39c5a70b86eb"
      },
      "outputs": [
        {
          "data": {
            "text/plain": [
              "str"
            ]
          },
          "execution_count": 26,
          "metadata": {},
          "output_type": "execute_result"
        }
      ],
      "source": [
        "### string\n",
        "### type of string\n",
        "type('$%^&*')\n"
      ],
      "id": "8Dn6drlufUiI"
    },
    {
      "cell_type": "code",
      "execution_count": null,
      "metadata": {
        "id": "9rc7q7xMfUiK",
        "outputId": "0d4a4a72-c4cd-4e86-8336-2df457f3efc4"
      },
      "outputs": [
        {
          "name": "stdout",
          "output_type": "stream",
          "text": [
            "<class 'str'>\n"
          ]
        }
      ],
      "source": [
        "### assign a string and check type\n",
        "\n",
        "e ='$%^&*'\n",
        "print(type(e))"
      ],
      "id": "9rc7q7xMfUiK"
    },
    {
      "cell_type": "code",
      "execution_count": null,
      "metadata": {
        "id": "SZ1VNXtpfUiM",
        "outputId": "e4e97129-3f36-456a-cb9c-d9e2b9873d59"
      },
      "outputs": [
        {
          "data": {
            "text/plain": [
              "False"
            ]
          },
          "execution_count": 29,
          "metadata": {},
          "output_type": "execute_result"
        }
      ],
      "source": [
        "### boolean\n",
        "### type of boolean\n",
        "False"
      ],
      "id": "SZ1VNXtpfUiM"
    },
    {
      "cell_type": "code",
      "execution_count": null,
      "metadata": {
        "id": "ZbcuxQJAfUiN",
        "outputId": "ac8e6c40-676d-41f1-8a99-2f85f25a2cae"
      },
      "outputs": [
        {
          "data": {
            "text/plain": [
              "bool"
            ]
          },
          "execution_count": 31,
          "metadata": {},
          "output_type": "execute_result"
        }
      ],
      "source": [
        "### assign a boolean and check type\n",
        "type(True)"
      ],
      "id": "ZbcuxQJAfUiN"
    },
    {
      "cell_type": "markdown",
      "metadata": {
        "id": "JgcHLZXwfUiO"
      },
      "source": [
        "<h2 id=\"types_objects\" align=\"center\">Types of objects in Python</h2>"
      ],
      "id": "JgcHLZXwfUiO"
    },
    {
      "cell_type": "markdown",
      "metadata": {
        "id": "gvtj9TQ9fUiO"
      },
      "source": [
        "<a align=\"center\">\n",
        "    <img src=\"https://s3-api.us-geo.objectstorage.softlayer.net/cf-courses-data/CognitiveClass/PY0101EN/Chapter%201/Images/TypesObjects.png\" width=\"600\">\n",
        "</a>"
      ],
      "id": "gvtj9TQ9fUiO"
    },
    {
      "cell_type": "code",
      "execution_count": null,
      "metadata": {
        "id": "VH2ihH7kfUiP",
        "outputId": "70e8230a-882f-4238-eb4b-0c45aee3b7d1"
      },
      "outputs": [
        {
          "data": {
            "text/plain": [
              "int"
            ]
          },
          "execution_count": 32,
          "metadata": {},
          "output_type": "execute_result"
        }
      ],
      "source": [
        "# datatype of 12\n",
        "type(12)"
      ],
      "id": "VH2ihH7kfUiP"
    },
    {
      "cell_type": "code",
      "execution_count": null,
      "metadata": {
        "id": "RMzAwNCyfUiQ"
      },
      "outputs": [],
      "source": [
        "# datatype of 2.14\n",
        "\n"
      ],
      "id": "RMzAwNCyfUiQ"
    },
    {
      "cell_type": "code",
      "execution_count": null,
      "metadata": {
        "id": "LUjFEwGXfUiQ"
      },
      "outputs": [],
      "source": [
        "# Type of \"Hello, Python 101!\"\n",
        "\n"
      ],
      "id": "LUjFEwGXfUiQ"
    },
    {
      "cell_type": "code",
      "execution_count": null,
      "metadata": {
        "id": "q7bC6SqofUiR",
        "outputId": "645d463e-0fd0-411d-bf3e-c13fbeafb698"
      },
      "outputs": [
        {
          "name": "stdout",
          "output_type": "stream",
          "text": [
            "<class 'int'>\n"
          ]
        }
      ],
      "source": [
        "# Print the datatype of -1\n",
        "\n",
        "print(type(-1))"
      ],
      "id": "q7bC6SqofUiR"
    },
    {
      "cell_type": "code",
      "execution_count": null,
      "metadata": {
        "id": "YdVkd1VNfUiR",
        "outputId": "0ff8dd10-f273-4beb-e629-61b416725996"
      },
      "outputs": [
        {
          "data": {
            "text/plain": [
              "bool"
            ]
          },
          "execution_count": 35,
          "metadata": {},
          "output_type": "execute_result"
        }
      ],
      "source": [
        "# Print the datatype of boolean(0)\n",
        "\n",
        "type(True)"
      ],
      "id": "YdVkd1VNfUiR"
    },
    {
      "cell_type": "markdown",
      "metadata": {
        "id": "pMYBBthtfUiS"
      },
      "source": [
        "# Typecasting"
      ],
      "id": "pMYBBthtfUiS"
    },
    {
      "cell_type": "markdown",
      "metadata": {
        "id": "oi9bW2dbfUiS"
      },
      "source": [
        "<h3 id=\"convert\">Converting from one object type to a different object type</h3>"
      ],
      "id": "oi9bW2dbfUiS"
    },
    {
      "cell_type": "markdown",
      "metadata": {
        "id": "0YWcBQl4fUiT"
      },
      "source": [
        "Casting is when you convert a variable value from one type to another. \n",
        "\n",
        "That is, in Python, done with functions like int() or float() or str(). \n",
        "\n",
        "A pattern is that you convert a number as a string into a number.\n",
        "\n",
        "\n",
        "Typecasting, or type conversion, is a method of changing an entity from one data type to another.\n",
        "\n",
        "It is used in computer programming to ensure variables are correctly processed by a function. \n",
        "\n",
        "An example of typecasting is converting an integer to a string."
      ],
      "id": "0YWcBQl4fUiT"
    },
    {
      "cell_type": "markdown",
      "metadata": {
        "id": "t3Z1B6_GfUiT"
      },
      "source": [
        "<h4>Converting integers to floats</h4>\n",
        "<p>Let's cast integer 2 to float:</p>"
      ],
      "id": "t3Z1B6_GfUiT"
    },
    {
      "cell_type": "code",
      "execution_count": null,
      "metadata": {
        "id": "Pah97KxXfUiU"
      },
      "outputs": [],
      "source": [],
      "id": "Pah97KxXfUiU"
    },
    {
      "cell_type": "code",
      "execution_count": null,
      "metadata": {
        "id": "aHeQV6xHfUiV",
        "outputId": "44f1c9bb-4ec7-47f0-d0f1-9684ccd0d26a"
      },
      "outputs": [
        {
          "data": {
            "text/plain": [
              "2.0"
            ]
          },
          "execution_count": 36,
          "metadata": {},
          "output_type": "execute_result"
        }
      ],
      "source": [
        "# Convert integer 2 to a float and check its type\n",
        "\n",
        "float(2)"
      ],
      "id": "aHeQV6xHfUiV"
    },
    {
      "cell_type": "code",
      "execution_count": null,
      "metadata": {
        "id": "raaW6495fUiW",
        "outputId": "77013cd2-bd3d-4a76-fd04-b3e7de97f954"
      },
      "outputs": [
        {
          "data": {
            "text/plain": [
              "1"
            ]
          },
          "execution_count": 39,
          "metadata": {},
          "output_type": "execute_result"
        }
      ],
      "source": [
        "# Casting 1.1 to integer will it result in any loss of information ?\n",
        "int(1.9)"
      ],
      "id": "raaW6495fUiW"
    },
    {
      "cell_type": "markdown",
      "metadata": {
        "id": "NcuebiHSfUiW"
      },
      "source": [
        "<h4>Converting from strings to integers or floats</h4>"
      ],
      "id": "NcuebiHSfUiW"
    },
    {
      "cell_type": "markdown",
      "metadata": {
        "id": "bASGl_8UfUiX"
      },
      "source": [
        "<p>Sometimes, we can have a string that contains a number within it. If this is the case, we can cast that string that represents a number into an integer using <code>int()</code>:</p>"
      ],
      "id": "bASGl_8UfUiX"
    },
    {
      "cell_type": "code",
      "execution_count": null,
      "metadata": {
        "id": "kFmMvDXKfUiX",
        "outputId": "9d0957a7-23a0-4557-f970-b796a0df47a4"
      },
      "outputs": [
        {
          "data": {
            "text/plain": [
              "1"
            ]
          },
          "execution_count": 42,
          "metadata": {},
          "output_type": "execute_result"
        }
      ],
      "source": [
        "# Convert a string into an integer\n",
        "int('1')"
      ],
      "id": "kFmMvDXKfUiX"
    },
    {
      "cell_type": "code",
      "execution_count": null,
      "metadata": {
        "id": "ZQfFypMrfUiX",
        "outputId": "6f79e877-6cce-490d-fef9-c1411d8e2187"
      },
      "outputs": [
        {
          "ename": "ValueError",
          "evalue": "invalid literal for int() with base 10: 'a'",
          "output_type": "error",
          "traceback": [
            "\u001b[0;31m---------------------------------------------------------------------------\u001b[0m",
            "\u001b[0;31mValueError\u001b[0m                                Traceback (most recent call last)",
            "\u001b[0;32m<ipython-input-43-ac4b4f095848>\u001b[0m in \u001b[0;36m<module>\u001b[0;34m\u001b[0m\n\u001b[1;32m      1\u001b[0m \u001b[0;31m# convert a character into integer\u001b[0m\u001b[0;34m\u001b[0m\u001b[0;34m\u001b[0m\u001b[0;34m\u001b[0m\u001b[0m\n\u001b[0;32m----> 2\u001b[0;31m \u001b[0mint\u001b[0m\u001b[0;34m(\u001b[0m\u001b[0;34m'a'\u001b[0m\u001b[0;34m)\u001b[0m\u001b[0;34m\u001b[0m\u001b[0;34m\u001b[0m\u001b[0m\n\u001b[0m",
            "\u001b[0;31mValueError\u001b[0m: invalid literal for int() with base 10: 'a'"
          ]
        }
      ],
      "source": [
        "# convert a character into integer\n",
        "int('a')"
      ],
      "id": "ZQfFypMrfUiX"
    },
    {
      "cell_type": "code",
      "execution_count": null,
      "metadata": {
        "id": "X9vzp_36fUiY",
        "outputId": "8be741ff-62ae-4197-e00a-48756ba36d7c"
      },
      "outputs": [
        {
          "ename": "ValueError",
          "evalue": "invalid literal for int() with base 10: '1 or 2'",
          "output_type": "error",
          "traceback": [
            "\u001b[0;31m---------------------------------------------------------------------------\u001b[0m",
            "\u001b[0;31mValueError\u001b[0m                                Traceback (most recent call last)",
            "\u001b[0;32m<ipython-input-1-0882229e2a30>\u001b[0m in \u001b[0;36m<module>\u001b[0;34m\u001b[0m\n\u001b[1;32m      1\u001b[0m \u001b[0;31m# Convert a string into an integer\u001b[0m\u001b[0;34m\u001b[0m\u001b[0;34m\u001b[0m\u001b[0;34m\u001b[0m\u001b[0m\n\u001b[0;32m----> 2\u001b[0;31m \u001b[0mint\u001b[0m\u001b[0;34m(\u001b[0m\u001b[0;34m'1 or 2'\u001b[0m\u001b[0;34m)\u001b[0m\u001b[0;34m\u001b[0m\u001b[0;34m\u001b[0m\u001b[0m\n\u001b[0m",
            "\u001b[0;31mValueError\u001b[0m: invalid literal for int() with base 10: '1 or 2'"
          ]
        }
      ],
      "source": [
        "# Convert a string into an integer\n",
        "int('1 or 2')\n"
      ],
      "id": "X9vzp_36fUiY"
    },
    {
      "cell_type": "code",
      "execution_count": null,
      "metadata": {
        "id": "WkoyBSwxfUiY"
      },
      "outputs": [],
      "source": [
        "# Convert an integer to a string \n",
        "\n"
      ],
      "id": "WkoyBSwxfUiY"
    },
    {
      "cell_type": "code",
      "execution_count": null,
      "metadata": {
        "id": "hItA9SB-fUiY",
        "outputId": "812a2cf8-ab55-4746-c8d9-10f525ac6b11"
      },
      "outputs": [
        {
          "data": {
            "text/plain": [
              "1.4"
            ]
          },
          "execution_count": 55,
          "metadata": {},
          "output_type": "execute_result"
        }
      ],
      "source": [
        "# Convert a string to a float\n",
        "\n",
        "float('1.4')"
      ],
      "id": "hItA9SB-fUiY"
    },
    {
      "cell_type": "code",
      "execution_count": null,
      "metadata": {
        "id": "fWoaoQnHfUiZ",
        "outputId": "a1431298-d19c-417f-e374-f0a903d984b3"
      },
      "outputs": [
        {
          "data": {
            "text/plain": [
              "1"
            ]
          },
          "execution_count": 53,
          "metadata": {},
          "output_type": "execute_result"
        }
      ],
      "source": [
        "int(1.4)"
      ],
      "id": "fWoaoQnHfUiZ"
    },
    {
      "cell_type": "markdown",
      "metadata": {
        "id": "jgo1uxXZfUiZ"
      },
      "source": [
        "<p>We can cast boolean objects to other data types. If we cast a boolean with a value of <code>True</code> to an integer or float we will get a one. If we cast a boolean with a value of <code>False</code> to an integer or float we will get a zero. Similarly, if we cast a 1 to a Boolean, you get a <code>True</code>. And if we cast a 0 to a Boolean we will get a <code>False</code>. Let's give it a try:</p> "
      ],
      "id": "jgo1uxXZfUiZ"
    },
    {
      "cell_type": "code",
      "execution_count": null,
      "metadata": {
        "id": "TgfSFkeTfUia",
        "outputId": "2a59d7f8-e25d-4b61-c942-a53ef5b65acf"
      },
      "outputs": [
        {
          "data": {
            "text/plain": [
              "0"
            ]
          },
          "execution_count": 57,
          "metadata": {},
          "output_type": "execute_result"
        }
      ],
      "source": [
        "# Convert True to int\n",
        "# True -> 1\n",
        "# False -> 0\n",
        "int(False)"
      ],
      "id": "TgfSFkeTfUia"
    },
    {
      "cell_type": "code",
      "execution_count": null,
      "metadata": {
        "id": "MT3sUZD1fUib",
        "outputId": "f39af13c-78f5-4419-bc53-ed4834dc3235"
      },
      "outputs": [
        {
          "data": {
            "text/plain": [
              "True"
            ]
          },
          "execution_count": 58,
          "metadata": {},
          "output_type": "execute_result"
        }
      ],
      "source": [
        "# Convert 1 to boolean\n",
        "bool(1)"
      ],
      "id": "MT3sUZD1fUib"
    },
    {
      "cell_type": "code",
      "execution_count": null,
      "metadata": {
        "id": "i6nRblCIfUib",
        "outputId": "a49d35d9-c3e7-444a-94f9-38dbdfaf7116"
      },
      "outputs": [
        {
          "data": {
            "text/plain": [
              "1.0"
            ]
          },
          "execution_count": 59,
          "metadata": {},
          "output_type": "execute_result"
        }
      ],
      "source": [
        "# Convert True to float\n",
        "float(True)"
      ],
      "id": "i6nRblCIfUib"
    },
    {
      "cell_type": "markdown",
      "metadata": {
        "id": "NcL6mhhYfUib"
      },
      "source": [
        "<h1>String Operations</h1>"
      ],
      "id": "NcL6mhhYfUib"
    },
    {
      "cell_type": "markdown",
      "metadata": {
        "id": "KguhzLt-fUic"
      },
      "source": [
        "<h2 id=\"strings\">What are Strings?</h2>"
      ],
      "id": "KguhzLt-fUic"
    },
    {
      "cell_type": "markdown",
      "metadata": {
        "id": "neREkiI_fUic"
      },
      "source": [
        "1. A string in Python is a sequence of characters defined in ' ',\"  \",'\"  '\".\n",
        "\n",
        "\n",
        "2. It is a derived data type. \n",
        "\n",
        "\n",
        "3. Strings are immutable.This means that once defined, they cannot be changed"
      ],
      "id": "neREkiI_fUic"
    },
    {
      "cell_type": "markdown",
      "metadata": {
        "id": "AJfCreaafUic"
      },
      "source": [
        "The following example shows a string contained within 2 quotation marks:"
      ],
      "id": "AJfCreaafUic"
    },
    {
      "cell_type": "code",
      "execution_count": null,
      "metadata": {
        "id": "2B1W-g3gfUic",
        "outputId": "c43d95f8-39a2-4647-b3a8-694d57504d28"
      },
      "outputs": [
        {
          "data": {
            "text/plain": [
              "'Michael Jackson'"
            ]
          },
          "execution_count": 66,
          "metadata": {},
          "output_type": "execute_result"
        }
      ],
      "source": [
        "# Use quotation marks for defining string\n",
        "\"Michael Jackson\""
      ],
      "id": "2B1W-g3gfUic"
    },
    {
      "cell_type": "code",
      "execution_count": null,
      "metadata": {
        "id": "OVQOw0PjfUid",
        "outputId": "daa10805-151d-4258-f844-b05508a047eb"
      },
      "outputs": [
        {
          "data": {
            "text/plain": [
              "'Michael Jackson'"
            ]
          },
          "execution_count": 67,
          "metadata": {},
          "output_type": "execute_result"
        }
      ],
      "source": [
        "# Use single quotation marks for defining string\n",
        "'Michael Jackson'"
      ],
      "id": "OVQOw0PjfUid"
    },
    {
      "cell_type": "code",
      "execution_count": null,
      "metadata": {
        "id": "jYTRHPX0fUid",
        "outputId": "ab22c47f-41a7-4e5c-95b9-d6e663f62dc5"
      },
      "outputs": [
        {
          "name": "stdout",
          "output_type": "stream",
          "text": [
            "hello\n"
          ]
        }
      ],
      "source": [
        "# Print the string\n",
        "print('hello')"
      ],
      "id": "jYTRHPX0fUid"
    },
    {
      "cell_type": "code",
      "execution_count": null,
      "metadata": {
        "id": "cbSe3tKIfUid"
      },
      "outputs": [],
      "source": [
        "# Assign string to variable\n",
        "Name = 'Michael Jackson'"
      ],
      "id": "cbSe3tKIfUid"
    },
    {
      "cell_type": "markdown",
      "metadata": {
        "id": "gvL5CCOzfUie"
      },
      "source": [
        "<h2 id=\"index\">Indexing</h2>"
      ],
      "id": "gvL5CCOzfUie"
    },
    {
      "cell_type": "markdown",
      "metadata": {
        "id": "Xu12TBwFfUie"
      },
      "source": [
        "It is helpful to think of a string as an ordered sequence. Each element in the sequence can be accessed using an index represented by the array of numbers:  "
      ],
      "id": "Xu12TBwFfUie"
    },
    {
      "cell_type": "markdown",
      "metadata": {
        "id": "Dvep5xGDfUie"
      },
      "source": [
        "<img src=\"https://s3-api.us-geo.objectstorage.softlayer.net/cf-courses-data/CognitiveClass/PY0101EN/Chapter%201/Images/StringsIndex.png\" width=\"600\" align=\"center\" />"
      ],
      "id": "Dvep5xGDfUie"
    },
    {
      "cell_type": "code",
      "execution_count": null,
      "metadata": {
        "id": "CguPIYJEfUie"
      },
      "outputs": [],
      "source": [
        "Name = \"Michael Jackson\""
      ],
      "id": "CguPIYJEfUie"
    },
    {
      "cell_type": "code",
      "execution_count": null,
      "metadata": {
        "id": "SKjmL1wYfUif",
        "outputId": "832e1aa5-4b46-4105-d6fd-67c4e3f64859"
      },
      "outputs": [
        {
          "data": {
            "text/plain": [
              "'a'"
            ]
          },
          "execution_count": 75,
          "metadata": {},
          "output_type": "execute_result"
        }
      ],
      "source": [
        "# Print the first element in the string\n",
        "Name[9]"
      ],
      "id": "SKjmL1wYfUif"
    },
    {
      "cell_type": "code",
      "execution_count": null,
      "metadata": {
        "id": "GXdpPkbJfUif",
        "outputId": "77afddcb-0d02-4a78-d4bb-c9f8b3142079"
      },
      "outputs": [
        {
          "data": {
            "text/plain": [
              "'l'"
            ]
          },
          "execution_count": 76,
          "metadata": {},
          "output_type": "execute_result"
        }
      ],
      "source": [
        "# Print the element on index 6 in the string\n",
        "Name[6]"
      ],
      "id": "GXdpPkbJfUif"
    },
    {
      "cell_type": "code",
      "execution_count": null,
      "metadata": {
        "id": "TGycX-C2fUig",
        "outputId": "10c1aa44-c68a-46dc-80cb-23c6daa9ad8e"
      },
      "outputs": [
        {
          "data": {
            "text/plain": [
              "'o'"
            ]
          },
          "execution_count": 77,
          "metadata": {},
          "output_type": "execute_result"
        }
      ],
      "source": [
        "# Print the element on the 13th index in the string\n",
        "Name[13]"
      ],
      "id": "TGycX-C2fUig"
    },
    {
      "cell_type": "code",
      "execution_count": null,
      "metadata": {
        "id": "KYfcaPF8fUig",
        "outputId": "0da87fad-adaf-4f6e-a0f5-a5b1de137906"
      },
      "outputs": [
        {
          "data": {
            "text/plain": [
              "'l'"
            ]
          },
          "execution_count": 78,
          "metadata": {},
          "output_type": "execute_result"
        }
      ],
      "source": [
        "Name[6]"
      ],
      "id": "KYfcaPF8fUig"
    },
    {
      "cell_type": "markdown",
      "metadata": {
        "id": "04fSuy7VfUih"
      },
      "source": [
        "<h3 id=\"neg\">Negative Indexing</h3>"
      ],
      "id": "04fSuy7VfUih"
    },
    {
      "cell_type": "markdown",
      "metadata": {
        "id": "ns7cTZ5OfUih"
      },
      "source": [
        "<img src=\"https://s3-api.us-geo.objectstorage.softlayer.net/cf-courses-data/CognitiveClass/PY0101EN/Chapter%201/Images/StringsNeg.png\" width=\"600\" align=\"center\" />"
      ],
      "id": "ns7cTZ5OfUih"
    },
    {
      "cell_type": "markdown",
      "metadata": {
        "id": "-4l0XVeJfUii"
      },
      "source": [
        "Negative index can help us to count the element from the end of the string."
      ],
      "id": "-4l0XVeJfUii"
    },
    {
      "cell_type": "markdown",
      "metadata": {
        "id": "ohTtMcj6fUii"
      },
      "source": [
        "The last element is given by the index -1: "
      ],
      "id": "ohTtMcj6fUii"
    },
    {
      "cell_type": "code",
      "execution_count": null,
      "metadata": {
        "id": "SxSDxnE1fUii",
        "outputId": "9bcc28fd-2eb5-4c8a-b44f-e6884d16d142"
      },
      "outputs": [
        {
          "name": "stdout",
          "output_type": "stream",
          "text": [
            "n\n"
          ]
        }
      ],
      "source": [
        "# Print the last element in the string\n",
        "print(Name[-1])"
      ],
      "id": "SxSDxnE1fUii"
    },
    {
      "cell_type": "code",
      "execution_count": null,
      "metadata": {
        "id": "c53viglGfUij",
        "outputId": "7850e149-b00c-45fb-c09e-d9c6b40da631"
      },
      "outputs": [
        {
          "name": "stdout",
          "output_type": "stream",
          "text": [
            " \n"
          ]
        }
      ],
      "source": [
        "print(Name[-8])"
      ],
      "id": "c53viglGfUij"
    },
    {
      "cell_type": "code",
      "execution_count": null,
      "metadata": {
        "id": "wnXLt8T3fUik",
        "outputId": "e494f54c-78f3-40e2-d683-2314015349fb"
      },
      "outputs": [
        {
          "name": "stdout",
          "output_type": "stream",
          "text": [
            "M\n"
          ]
        }
      ],
      "source": [
        "# Print the first element in the string\n",
        "\n",
        "print(Name[-15])"
      ],
      "id": "wnXLt8T3fUik"
    },
    {
      "cell_type": "code",
      "execution_count": null,
      "metadata": {
        "id": "cnKCCwqOfUik",
        "outputId": "162563ce-f02d-459f-a30b-e147d7bb97a1"
      },
      "outputs": [
        {
          "data": {
            "text/plain": [
              "15"
            ]
          },
          "execution_count": 86,
          "metadata": {},
          "output_type": "execute_result"
        }
      ],
      "source": [
        "# Find the length of string\n",
        "\n",
        "len(\"Micheal Jackson\")"
      ],
      "id": "cnKCCwqOfUik"
    },
    {
      "cell_type": "markdown",
      "metadata": {
        "id": "EsAO8IA-fUil"
      },
      "source": [
        "<h3 id=\"slice\">Slicing</h3>"
      ],
      "id": "EsAO8IA-fUil"
    },
    {
      "cell_type": "markdown",
      "metadata": {
        "id": "X_JJEwjVfUil"
      },
      "source": [
        "We can obtain multiple characters from a string using slicing, we can obtain the 0 to 4th and 8th to the 12th element:  "
      ],
      "id": "X_JJEwjVfUil"
    },
    {
      "cell_type": "markdown",
      "metadata": {
        "id": "k5aP2zB9fUim"
      },
      "source": [
        "<img src=\"https://s3-api.us-geo.objectstorage.softlayer.net/cf-courses-data/CognitiveClass/PY0101EN/Chapter%201/Images/StringsSlice.png\" width=\"600\" align=\"center\" />"
      ],
      "id": "k5aP2zB9fUim"
    },
    {
      "cell_type": "code",
      "execution_count": null,
      "metadata": {
        "id": "XDawBbJLfUin"
      },
      "outputs": [],
      "source": [
        "Name = \"Virat Kohli\""
      ],
      "id": "XDawBbJLfUin"
    },
    {
      "cell_type": "code",
      "execution_count": null,
      "metadata": {
        "id": "Fj30FJ3_fUio",
        "outputId": "1a5eb00a-980f-4d2b-c599-74bd995ed00c"
      },
      "outputs": [
        {
          "data": {
            "text/plain": [
              "'Virat K'"
            ]
          },
          "execution_count": 88,
          "metadata": {},
          "output_type": "execute_result"
        }
      ],
      "source": [
        "# Take the slice on variable Name with only index 0 to index 6\n",
        "\n",
        "Name[0:7]"
      ],
      "id": "Fj30FJ3_fUio"
    },
    {
      "cell_type": "code",
      "execution_count": null,
      "metadata": {
        "id": "HDkiX6-EfUip",
        "outputId": "425753c6-0f8e-425a-89c1-11401e042d62"
      },
      "outputs": [
        {
          "data": {
            "text/plain": [
              "'hli'"
            ]
          },
          "execution_count": 95,
          "metadata": {},
          "output_type": "execute_result"
        }
      ],
      "source": [
        "# Take the slice on variable Name with only index 8 to index 11\n",
        "\n",
        "Name[8:25]"
      ],
      "id": "HDkiX6-EfUip"
    },
    {
      "cell_type": "markdown",
      "metadata": {
        "id": "hJdqj4cafUip"
      },
      "source": [
        "<h3 id=\"stride\">Stride</h3>"
      ],
      "id": "hJdqj4cafUip"
    },
    {
      "cell_type": "markdown",
      "metadata": {
        "id": "_9rOzb2cfUiq"
      },
      "source": [
        " We can also  input a stride value as follows, with the '2' indicating that we are selecting every second variable:"
      ],
      "id": "_9rOzb2cfUiq"
    },
    {
      "cell_type": "markdown",
      "metadata": {
        "id": "SgadqLklfUiq"
      },
      "source": [
        "<img src=\"https://s3-api.us-geo.objectstorage.softlayer.net/cf-courses-data/CognitiveClass/PY0101EN/Chapter%201/Images/StringsStride.png\" width=\"600\" align=\"center\" />"
      ],
      "id": "SgadqLklfUiq"
    },
    {
      "cell_type": "code",
      "execution_count": null,
      "metadata": {
        "id": "JOIfZWkbfUiq"
      },
      "outputs": [],
      "source": [
        "Name = 'Michael Jackson'"
      ],
      "id": "JOIfZWkbfUiq"
    },
    {
      "cell_type": "code",
      "execution_count": null,
      "metadata": {
        "id": "rDzWb5mifUir",
        "outputId": "b63686c9-fae1-438d-da4f-ab2e1cdebe0a"
      },
      "outputs": [
        {
          "data": {
            "text/plain": [
              "'ihe ako'"
            ]
          },
          "execution_count": 141,
          "metadata": {},
          "output_type": "execute_result"
        }
      ],
      "source": [
        "# Get every second element. The elments on index 1, 3, 5 ...\n",
        "\n",
        "Name[1::2]"
      ],
      "id": "rDzWb5mifUir"
    },
    {
      "cell_type": "code",
      "execution_count": null,
      "metadata": {
        "id": "zhj72ypOfUir",
        "outputId": "6385d37d-0db3-467a-8532-f18cfbb7e50f"
      },
      "outputs": [
        {
          "data": {
            "text/plain": [
              "'Mca'"
            ]
          },
          "execution_count": 118,
          "metadata": {},
          "output_type": "execute_result"
        }
      ],
      "source": [
        "# Get every second element in the range from index 0 to index 4\n",
        "\n",
        "Name[0:5:2]"
      ],
      "id": "zhj72ypOfUir"
    },
    {
      "cell_type": "markdown",
      "metadata": {
        "id": "ErWiNYBMfUir"
      },
      "source": [
        "<h3 id=\"concat\">Concatenate Strings</h3>"
      ],
      "id": "ErWiNYBMfUir"
    },
    {
      "cell_type": "code",
      "execution_count": null,
      "metadata": {
        "id": "d4fl7jrDfUis"
      },
      "outputs": [],
      "source": [
        "# Concatenate strings\n"
      ],
      "id": "d4fl7jrDfUis"
    },
    {
      "cell_type": "markdown",
      "metadata": {
        "id": "RUrEyxb5fUis"
      },
      "source": [
        "<h2 id=\"escape\">Escape Sequences</h2>"
      ],
      "id": "RUrEyxb5fUis"
    },
    {
      "cell_type": "markdown",
      "metadata": {
        "id": "AU7tFVNJfUis"
      },
      "source": [
        "Back slashes represent the beginning  of escape sequences. Escape sequences represent strings that may be difficult to input. For example, back slash \"n\" represents a new line. The output is given by a new line after the back slash \"n\" is encountered:"
      ],
      "id": "AU7tFVNJfUis"
    },
    {
      "cell_type": "code",
      "execution_count": null,
      "metadata": {
        "id": "k9H_iDPSfUit",
        "outputId": "ec689991-6525-4431-8c66-dc7f3db30953"
      },
      "outputs": [
        {
          "name": "stdout",
          "output_type": "stream",
          "text": [
            "Micheal jackson is \n",
            " the best dancer\n"
          ]
        }
      ],
      "source": [
        "# New line escape sequence\n",
        "print('Micheal jackson is \\n the best dancer')"
      ],
      "id": "k9H_iDPSfUit"
    },
    {
      "cell_type": "code",
      "execution_count": null,
      "metadata": {
        "id": "p7DozojLfUit",
        "outputId": "6ec225a9-f733-4011-f61a-35d2c6eba5ad"
      },
      "outputs": [
        {
          "name": "stdout",
          "output_type": "stream",
          "text": [
            "Micheal jackson is \t the best dancer\n"
          ]
        }
      ],
      "source": [
        "# Tab escape sequence\n",
        "print('Micheal jackson is \\t the best dancer')"
      ],
      "id": "p7DozojLfUit"
    },
    {
      "cell_type": "code",
      "execution_count": null,
      "metadata": {
        "id": "SDzfAawffUit",
        "outputId": "6d0d57dc-f20b-4d80-8c47-ffa34a2ae506"
      },
      "outputs": [
        {
          "name": "stdout",
          "output_type": "stream",
          "text": [
            "Micheal jackson is \\ the best dancer\n"
          ]
        }
      ],
      "source": [
        "# Include back slash in string\n",
        "print('Micheal jackson is \\ the best dancer')"
      ],
      "id": "SDzfAawffUit"
    },
    {
      "cell_type": "code",
      "execution_count": null,
      "metadata": {
        "id": "gTL6iRG8fUiu",
        "outputId": "0cf9dfaa-e97e-4c99-d181-d6ca7b8a38a9"
      },
      "outputs": [
        {
          "name": "stdout",
          "output_type": "stream",
          "text": [
            "Micheal jackson is \\\\\\\\\\_= the best dancer\n"
          ]
        }
      ],
      "source": [
        "# r will tell python that string will be display as raw string\n",
        "print(r'Micheal jackson is \\\\\\\\\\_= the best dancer')"
      ],
      "id": "gTL6iRG8fUiu"
    },
    {
      "cell_type": "markdown",
      "metadata": {
        "id": "o9ZUgYr6fUiu"
      },
      "source": [
        "<h2 id=\"operations\">String Operations</h2>"
      ],
      "id": "o9ZUgYr6fUiu"
    },
    {
      "cell_type": "markdown",
      "metadata": {
        "id": "nL7mg3HEfUiu"
      },
      "source": [
        "There are many string operation methods in Python that can be used to manipulate the data. We are going to use some basic string operations on the data. "
      ],
      "id": "nL7mg3HEfUiu"
    },
    {
      "cell_type": "markdown",
      "metadata": {
        "id": "MdzB5EgmfUiv"
      },
      "source": [
        "Let's try with the method <code>upper</code>; this method converts lower case characters to upper case characters:"
      ],
      "id": "MdzB5EgmfUiv"
    },
    {
      "cell_type": "code",
      "execution_count": null,
      "metadata": {
        "id": "CZ8hvp5pfUiv",
        "outputId": "9c406078-f4a3-44b7-8cbe-4d704152e40f"
      },
      "outputs": [
        {
          "name": "stdout",
          "output_type": "stream",
          "text": [
            "before Upper: India won Test Match in Centurian\n",
            "After Upper: india won test match in centurian\n"
          ]
        }
      ],
      "source": [
        "# Convert all the characters in string to upper case\n",
        "\n",
        "A = \"India won Test Match in Centurian\"\n",
        "print(\"before Upper:\",A)\n",
        "B = A.lower()\n",
        "print(\"After Upper:\",B)"
      ],
      "id": "CZ8hvp5pfUiv"
    },
    {
      "cell_type": "markdown",
      "metadata": {
        "id": "ds9Q12BPfUiw"
      },
      "source": [
        "The method <code>replace</code> replaces a segment of the string, i.e. a substring  with a new string. We input the part of the string we would like to change. The second argument is what we would like to exchange the segment with, and the result is a new string with the segment changed: \n"
      ],
      "id": "ds9Q12BPfUiw"
    },
    {
      "cell_type": "code",
      "execution_count": null,
      "metadata": {
        "id": "2xEt2qW7fUiw",
        "outputId": "5095ea2b-2ad4-4ddb-920e-1145c89c8699"
      },
      "outputs": [
        {
          "data": {
            "text/plain": [
              "'India winning Test Match in Centurian'"
            ]
          },
          "execution_count": 135,
          "metadata": {},
          "output_type": "execute_result"
        }
      ],
      "source": [
        "# Replace the old substring with the new target substring is the segment has been found in the string\n",
        "A = \"India won Test Match in Centurian\"\n",
        "B = A.replace('won','winning')\n",
        "B"
      ],
      "id": "2xEt2qW7fUiw"
    },
    {
      "cell_type": "markdown",
      "metadata": {
        "id": "m-wSzHs_fUiw"
      },
      "source": [
        "<img src=\"https://s3-api.us-geo.objectstorage.softlayer.net/cf-courses-data/CognitiveClass/PY0101EN/Chapter%201/Images/StringsFind.png\" width=\"600\" align=\"center\" />"
      ],
      "id": "m-wSzHs_fUiw"
    },
    {
      "cell_type": "code",
      "execution_count": null,
      "metadata": {
        "id": "1FKDn1gzfUix",
        "outputId": "bc9c5e4a-34b4-4e8c-9709-9ed8ba4a7908"
      },
      "outputs": [
        {
          "data": {
            "text/plain": [
              "10"
            ]
          },
          "execution_count": 148,
          "metadata": {},
          "output_type": "execute_result"
        }
      ],
      "source": [
        "# Find the substring in the string. Only the index of the first elment of substring in string will be the output\n",
        "Name = 'Michael Jackson'\n",
        "Name.find('ck')"
      ],
      "id": "1FKDn1gzfUix"
    },
    {
      "cell_type": "code",
      "execution_count": null,
      "metadata": {
        "id": "zgklymeXfUiy"
      },
      "outputs": [],
      "source": [
        "# Find the substring in the string.\n"
      ],
      "id": "zgklymeXfUiy"
    },
    {
      "cell_type": "markdown",
      "metadata": {
        "id": "kKQoRR1OfUiy"
      },
      "source": [
        "If the  sub-string is not in the string then the output is a negative one. For example, the string 'Jasdfasdasdf' is not a substring:"
      ],
      "id": "kKQoRR1OfUiy"
    },
    {
      "cell_type": "code",
      "execution_count": null,
      "metadata": {
        "id": "WwgsJC5BfUiz",
        "outputId": "ec905caa-573c-49df-cd82-645a7749c15a"
      },
      "outputs": [
        {
          "data": {
            "text/plain": [
              "-1"
            ]
          },
          "execution_count": 137,
          "metadata": {},
          "output_type": "execute_result"
        }
      ],
      "source": [
        "# If cannot find the substring in the string\n",
        "Name.find('jvuvuvu')"
      ],
      "id": "WwgsJC5BfUiz"
    },
    {
      "cell_type": "code",
      "execution_count": null,
      "metadata": {
        "id": "FxHatb7zfUiz"
      },
      "outputs": [],
      "source": [],
      "id": "FxHatb7zfUiz"
    },
    {
      "cell_type": "code",
      "execution_count": null,
      "metadata": {
        "id": "_MAtThp2fUi0"
      },
      "outputs": [],
      "source": [],
      "id": "_MAtThp2fUi0"
    },
    {
      "cell_type": "code",
      "execution_count": null,
      "metadata": {
        "id": "XzaROkZ8fUi0"
      },
      "outputs": [],
      "source": [],
      "id": "XzaROkZ8fUi0"
    },
    {
      "cell_type": "markdown",
      "metadata": {
        "id": "6f7qH0yOfUi1"
      },
      "source": [
        "# Escape Operator"
      ],
      "id": "6f7qH0yOfUi1"
    },
    {
      "cell_type": "raw",
      "metadata": {
        "id": "aUkxFCEQfUi1"
      },
      "source": [
        "\\ is escape operatorhttps://ilab9798.insofe.com/user/4400b108/lab?#Escape-Operator\n",
        "\n",
        "\\n is next line operator\n",
        "\n",
        "\\t is tab operator\n",
        "\n",
        "etc"
      ],
      "id": "aUkxFCEQfUi1"
    },
    {
      "cell_type": "code",
      "execution_count": null,
      "metadata": {
        "id": "nZERxkWOfUi3",
        "outputId": "525db3ff-ffbc-42f0-8ee0-70e3c41560e9"
      },
      "outputs": [
        {
          "name": "stdout",
          "output_type": "stream",
          "text": [
            "hello \t how are you\n"
          ]
        }
      ],
      "source": [
        "print(\"hello \\t how are you\")"
      ],
      "id": "nZERxkWOfUi3"
    },
    {
      "cell_type": "code",
      "execution_count": null,
      "metadata": {
        "id": "rHRZ7hMgfUi4"
      },
      "outputs": [],
      "source": [
        "1tab =  4 space"
      ],
      "id": "rHRZ7hMgfUi4"
    },
    {
      "cell_type": "code",
      "execution_count": null,
      "metadata": {
        "id": "6kWJRmtqfUi4",
        "outputId": "06ad9879-e326-4a10-dbf4-0fc5971b8cb0"
      },
      "outputs": [
        {
          "name": "stdout",
          "output_type": "stream",
          "text": [
            "hello how \t are you\n"
          ]
        }
      ],
      "source": [
        "print(\"hello how \\t are you\")"
      ],
      "id": "6kWJRmtqfUi4"
    },
    {
      "cell_type": "code",
      "execution_count": null,
      "metadata": {
        "id": "80ljBVYnfUi5",
        "outputId": "e0b02629-2942-4e27-bc1b-b8d8aa6fc48e"
      },
      "outputs": [
        {
          "name": "stdout",
          "output_type": "stream",
          "text": [
            "Hell0 how are you\n"
          ]
        }
      ],
      "source": [
        "print(\"Hell0 how are you\")"
      ],
      "id": "80ljBVYnfUi5"
    },
    {
      "cell_type": "code",
      "execution_count": null,
      "metadata": {
        "id": "C7aM85befUi5",
        "outputId": "80954e88-e6af-4049-b0f3-bd296717471d"
      },
      "outputs": [
        {
          "name": "stdout",
          "output_type": "stream",
          "text": [
            "Hello How are you \n",
            " Arpit\n"
          ]
        }
      ],
      "source": [
        "print(\"Hello How are you \\n Arpit\")"
      ],
      "id": "C7aM85befUi5"
    },
    {
      "cell_type": "code",
      "execution_count": null,
      "metadata": {
        "id": "Gb8trNr3fUi5",
        "outputId": "3385f751-d0c0-4c81-c8cf-d6c502969ed9"
      },
      "outputs": [
        {
          "name": "stdout",
          "output_type": "stream",
          "text": [
            "Hello How are you \t Arpit\n"
          ]
        }
      ],
      "source": [
        "print(\"Hello How are you \\t Arpit\")"
      ],
      "id": "Gb8trNr3fUi5"
    },
    {
      "cell_type": "code",
      "execution_count": null,
      "metadata": {
        "id": "-QU2DWOMfUi6",
        "outputId": "96a4a35c-e742-4e2d-b070-a151fb544f3d"
      },
      "outputs": [
        {
          "name": "stdout",
          "output_type": "stream",
          "text": [
            "Hello How are you \\ Arpit\n"
          ]
        }
      ],
      "source": [
        "print(\"Hello How are you \\\\ Arpit\")"
      ],
      "id": "-QU2DWOMfUi6"
    },
    {
      "cell_type": "code",
      "execution_count": null,
      "metadata": {
        "id": "JE-Vs05gfUi6"
      },
      "outputs": [],
      "source": [],
      "id": "JE-Vs05gfUi6"
    },
    {
      "cell_type": "code",
      "execution_count": null,
      "metadata": {
        "id": "J0XfTk03fUi6"
      },
      "outputs": [],
      "source": [],
      "id": "J0XfTk03fUi6"
    },
    {
      "cell_type": "code",
      "execution_count": null,
      "metadata": {
        "id": "dcBhxm9gfUi7"
      },
      "outputs": [],
      "source": [],
      "id": "dcBhxm9gfUi7"
    },
    {
      "cell_type": "code",
      "execution_count": null,
      "metadata": {
        "id": "cJeRxK21fUi7"
      },
      "outputs": [],
      "source": [],
      "id": "cJeRxK21fUi7"
    },
    {
      "cell_type": "code",
      "execution_count": null,
      "metadata": {
        "id": "EHwUT72EfUi7"
      },
      "outputs": [],
      "source": [],
      "id": "EHwUT72EfUi7"
    },
    {
      "cell_type": "markdown",
      "metadata": {
        "id": "HDnbpHIEfUi7"
      },
      "source": [
        "# Membership Operators"
      ],
      "id": "HDnbpHIEfUi7"
    },
    {
      "cell_type": "raw",
      "metadata": {
        "id": "OvkwqIYbfUi7"
      },
      "source": [
        "1. in\n",
        "\n",
        "2. not in"
      ],
      "id": "OvkwqIYbfUi7"
    },
    {
      "cell_type": "code",
      "execution_count": null,
      "metadata": {
        "id": "3LPxg3o_fUi8",
        "outputId": "12ffa2c0-382e-42df-92cc-d8bce8acd544"
      },
      "outputs": [
        {
          "data": {
            "text/plain": [
              "False"
            ]
          },
          "execution_count": 2,
          "metadata": {},
          "output_type": "execute_result"
        }
      ],
      "source": [
        "50 in [1,2,3,4,5,6,7,8]"
      ],
      "id": "3LPxg3o_fUi8"
    },
    {
      "cell_type": "code",
      "execution_count": null,
      "metadata": {
        "id": "_IudGKudfUi8",
        "outputId": "dfe7cff5-6906-4eca-bcd9-887086a31903"
      },
      "outputs": [
        {
          "data": {
            "text/plain": [
              "True"
            ]
          },
          "execution_count": 1,
          "metadata": {},
          "output_type": "execute_result"
        }
      ],
      "source": [
        "5 in [2,3,4,5,6,7]"
      ],
      "id": "_IudGKudfUi8"
    },
    {
      "cell_type": "code",
      "execution_count": null,
      "metadata": {
        "id": "cyUHbGUifUi8",
        "outputId": "68f7eef7-09e9-49aa-eb9e-583a20712aba"
      },
      "outputs": [
        {
          "data": {
            "text/plain": [
              "False"
            ]
          },
          "execution_count": 4,
          "metadata": {},
          "output_type": "execute_result"
        }
      ],
      "source": [
        "5 not in [2,3,4,5,6]"
      ],
      "id": "cyUHbGUifUi8"
    },
    {
      "cell_type": "code",
      "execution_count": null,
      "metadata": {
        "id": "Jba6w8ZLfUi9",
        "outputId": "caa08a80-4e64-4918-b2c6-0b480df7f210"
      },
      "outputs": [
        {
          "data": {
            "text/plain": [
              "True"
            ]
          },
          "execution_count": 1,
          "metadata": {},
          "output_type": "execute_result"
        }
      ],
      "source": [
        "5 != [2,3,4,5,6]"
      ],
      "id": "Jba6w8ZLfUi9"
    },
    {
      "cell_type": "markdown",
      "metadata": {
        "id": "HOHq4st-fUi9"
      },
      "source": [
        "# Boolean Operators"
      ],
      "id": "HOHq4st-fUi9"
    },
    {
      "cell_type": "raw",
      "metadata": {
        "id": "77DvXDCDfUi9"
      },
      "source": [
        "1. and\n",
        "\n",
        "2. or\n",
        "\n",
        "3. not"
      ],
      "id": "77DvXDCDfUi9"
    },
    {
      "cell_type": "code",
      "execution_count": null,
      "metadata": {
        "id": "i8EcMZVsfUi-"
      },
      "outputs": [],
      "source": [
        "1  1   1\n",
        "\n",
        "1  0   0\n",
        "\n",
        "0  1   0\n",
        "\n",
        "0  0   0"
      ],
      "id": "i8EcMZVsfUi-"
    },
    {
      "cell_type": "code",
      "execution_count": null,
      "metadata": {
        "id": "s2MeAhXcfUi-",
        "outputId": "4f6059de-a022-4041-8258-3a82d46311f6"
      },
      "outputs": [
        {
          "data": {
            "text/plain": [
              "True"
            ]
          },
          "execution_count": 2,
          "metadata": {},
          "output_type": "execute_result"
        }
      ],
      "source": [
        "(7>6) and (6>4)\n",
        "\n"
      ],
      "id": "s2MeAhXcfUi-"
    },
    {
      "cell_type": "code",
      "execution_count": null,
      "metadata": {
        "id": "Z_XC4MDWfUi_"
      },
      "outputs": [],
      "source": [
        "1*1\n",
        "0*1\n",
        "1*0\n",
        "0*0"
      ],
      "id": "Z_XC4MDWfUi_"
    },
    {
      "cell_type": "code",
      "execution_count": null,
      "metadata": {
        "id": "B2nvGy3ifUi_"
      },
      "outputs": [],
      "source": [
        "0  0   0\n",
        "0  1   1\n",
        "1  0   1\n",
        "1  1   1"
      ],
      "id": "B2nvGy3ifUi_"
    },
    {
      "cell_type": "code",
      "execution_count": null,
      "metadata": {
        "id": "rfJyRMJ9fUjA",
        "outputId": "d88232b2-254a-4604-e120-b2335ebb1b0f"
      },
      "outputs": [
        {
          "data": {
            "text/plain": [
              "False"
            ]
          },
          "execution_count": 3,
          "metadata": {},
          "output_type": "execute_result"
        }
      ],
      "source": [
        "(5>6) | (6<4)"
      ],
      "id": "rfJyRMJ9fUjA"
    },
    {
      "cell_type": "code",
      "execution_count": null,
      "metadata": {
        "id": "VHnhKi0zfUjA"
      },
      "outputs": [],
      "source": [
        "1+0\n",
        "0+1\n",
        "1+1\n",
        "0+0"
      ],
      "id": "VHnhKi0zfUjA"
    },
    {
      "cell_type": "code",
      "execution_count": null,
      "metadata": {
        "id": "ZDTps4FAfUjB",
        "outputId": "ed396673-6f8f-42ef-fb81-ff96cf55e760"
      },
      "outputs": [
        {
          "data": {
            "text/plain": [
              "False"
            ]
          },
          "execution_count": 2,
          "metadata": {},
          "output_type": "execute_result"
        }
      ],
      "source": [
        "not (7>6)"
      ],
      "id": "ZDTps4FAfUjB"
    },
    {
      "cell_type": "code",
      "execution_count": null,
      "metadata": {
        "id": "1fK87YYWfUjB"
      },
      "outputs": [],
      "source": [],
      "id": "1fK87YYWfUjB"
    },
    {
      "cell_type": "code",
      "execution_count": null,
      "metadata": {
        "id": "jK4X7nqMfUjB"
      },
      "outputs": [],
      "source": [],
      "id": "jK4X7nqMfUjB"
    },
    {
      "cell_type": "code",
      "execution_count": null,
      "metadata": {
        "id": "LMoyFmtQfUjC"
      },
      "outputs": [],
      "source": [
        "#RELATIONAL OPERATOR"
      ],
      "id": "LMoyFmtQfUjC"
    },
    {
      "cell_type": "markdown",
      "metadata": {
        "id": "ncodt9WDfUjD"
      },
      "source": [
        "1. Equal ==\n",
        "\n",
        "2. Not Equal !=\n",
        "\n",
        "3. Less Than <\n",
        "\n",
        "4. Greater than <\n",
        "\n",
        "5. Less than or equal to <=\n",
        "\n",
        "6. Greater than or equal to >="
      ],
      "id": "ncodt9WDfUjD"
    },
    {
      "cell_type": "markdown",
      "metadata": {
        "id": "cVUt9EACfUjE"
      },
      "source": [
        "1. Equal =="
      ],
      "id": "cVUt9EACfUjE"
    },
    {
      "cell_type": "code",
      "execution_count": null,
      "metadata": {
        "id": "dgckIrctfUjE"
      },
      "outputs": [],
      "source": [
        "= "
      ],
      "id": "dgckIrctfUjE"
    },
    {
      "cell_type": "code",
      "execution_count": null,
      "metadata": {
        "id": "mAJoGDkIfUjF"
      },
      "outputs": [],
      "source": [
        "=="
      ],
      "id": "mAJoGDkIfUjF"
    },
    {
      "cell_type": "code",
      "execution_count": null,
      "metadata": {
        "id": "BFGo_3q_fUjF",
        "outputId": "13e00aad-7387-415f-a499-e3351ad0d896"
      },
      "outputs": [
        {
          "data": {
            "text/plain": [
              "True"
            ]
          },
          "execution_count": 2,
          "metadata": {},
          "output_type": "execute_result"
        }
      ],
      "source": [
        "'a'=='a'"
      ],
      "id": "BFGo_3q_fUjF"
    },
    {
      "cell_type": "code",
      "execution_count": null,
      "metadata": {
        "id": "kYxKNbNBfUjG",
        "outputId": "d788a8b0-b424-4ca0-a33f-cf3657ea852f"
      },
      "outputs": [
        {
          "data": {
            "text/plain": [
              "True"
            ]
          },
          "execution_count": 1,
          "metadata": {},
          "output_type": "execute_result"
        }
      ],
      "source": [
        "\n",
        "5==5"
      ],
      "id": "kYxKNbNBfUjG"
    },
    {
      "cell_type": "code",
      "execution_count": null,
      "metadata": {
        "id": "mVdmQrmcfUjH",
        "outputId": "d289143c-caa4-41f1-e724-a2fe931484a3"
      },
      "outputs": [
        {
          "data": {
            "text/plain": [
              "False"
            ]
          },
          "execution_count": 2,
          "metadata": {},
          "output_type": "execute_result"
        }
      ],
      "source": [
        "\n",
        "5==4\n"
      ],
      "id": "mVdmQrmcfUjH"
    },
    {
      "cell_type": "markdown",
      "metadata": {
        "id": "pUzOTaIvfUjI"
      },
      "source": [
        "2. Not Equal !="
      ],
      "id": "pUzOTaIvfUjI"
    },
    {
      "cell_type": "code",
      "execution_count": null,
      "metadata": {
        "id": "18jAiN3DfUjJ"
      },
      "outputs": [],
      "source": [],
      "id": "18jAiN3DfUjJ"
    },
    {
      "cell_type": "code",
      "execution_count": null,
      "metadata": {
        "id": "C8jMQUlgfUjJ",
        "outputId": "121f7dc9-4217-428e-9ff2-390edf77470b"
      },
      "outputs": [
        {
          "data": {
            "text/plain": [
              "False"
            ]
          },
          "execution_count": 3,
          "metadata": {},
          "output_type": "execute_result"
        }
      ],
      "source": [
        "5 !=5\n"
      ],
      "id": "C8jMQUlgfUjJ"
    },
    {
      "cell_type": "code",
      "execution_count": null,
      "metadata": {
        "id": "RGWH3MfRfUjK",
        "outputId": "78e38358-9c54-41a3-ff77-498147c2eabf"
      },
      "outputs": [
        {
          "data": {
            "text/plain": [
              "True"
            ]
          },
          "execution_count": 4,
          "metadata": {},
          "output_type": "execute_result"
        }
      ],
      "source": [
        "5!=6"
      ],
      "id": "RGWH3MfRfUjK"
    },
    {
      "cell_type": "markdown",
      "metadata": {
        "id": "uQ4TvdJNfUjL"
      },
      "source": [
        "3. Less Than <"
      ],
      "id": "uQ4TvdJNfUjL"
    },
    {
      "cell_type": "code",
      "execution_count": null,
      "metadata": {
        "id": "3FhYvkOKfUjM",
        "outputId": "892f7f67-1b7f-4c1a-ec1f-bad0c4f38dbf"
      },
      "outputs": [
        {
          "data": {
            "text/plain": [
              "False"
            ]
          },
          "execution_count": 5,
          "metadata": {},
          "output_type": "execute_result"
        }
      ],
      "source": [
        "5<4"
      ],
      "id": "3FhYvkOKfUjM"
    },
    {
      "cell_type": "markdown",
      "metadata": {
        "id": "AkL_C71MfUjM"
      },
      "source": [
        "4.Greater than"
      ],
      "id": "AkL_C71MfUjM"
    },
    {
      "cell_type": "code",
      "execution_count": null,
      "metadata": {
        "id": "Y-07dWb3fUjN",
        "outputId": "820714ac-0641-4957-de86-8e8d0bb7db36"
      },
      "outputs": [
        {
          "data": {
            "text/plain": [
              "True"
            ]
          },
          "execution_count": 6,
          "metadata": {},
          "output_type": "execute_result"
        }
      ],
      "source": [
        "5>4"
      ],
      "id": "Y-07dWb3fUjN"
    },
    {
      "cell_type": "markdown",
      "metadata": {
        "id": "hC5hRZZ4fUjN"
      },
      "source": [
        "5. Less than or equal to"
      ],
      "id": "hC5hRZZ4fUjN"
    },
    {
      "cell_type": "code",
      "execution_count": null,
      "metadata": {
        "id": "UiNPYwxmfUjN",
        "outputId": "ca837625-d5ca-4854-d1b9-b61ff04467e4"
      },
      "outputs": [
        {
          "data": {
            "text/plain": [
              "True"
            ]
          },
          "execution_count": 7,
          "metadata": {},
          "output_type": "execute_result"
        }
      ],
      "source": [
        "5<= 5"
      ],
      "id": "UiNPYwxmfUjN"
    },
    {
      "cell_type": "markdown",
      "metadata": {
        "id": "unF9X7M-fUjO"
      },
      "source": [
        "6. Greater than or equal to"
      ],
      "id": "unF9X7M-fUjO"
    },
    {
      "cell_type": "code",
      "execution_count": null,
      "metadata": {
        "id": "CghDA8BzfUjO",
        "outputId": "6dc43420-e25b-4d3a-b1f8-04c2f9df16b3"
      },
      "outputs": [
        {
          "data": {
            "text/plain": [
              "True"
            ]
          },
          "execution_count": 8,
          "metadata": {},
          "output_type": "execute_result"
        }
      ],
      "source": [
        "5>=5"
      ],
      "id": "CghDA8BzfUjO"
    },
    {
      "cell_type": "code",
      "execution_count": null,
      "metadata": {
        "id": "HGFJuTolfUjP"
      },
      "outputs": [],
      "source": [
        "a=2\n"
      ],
      "id": "HGFJuTolfUjP"
    },
    {
      "cell_type": "code",
      "execution_count": null,
      "metadata": {
        "id": "XegMbdKNfUjP"
      },
      "outputs": [],
      "source": [],
      "id": "XegMbdKNfUjP"
    },
    {
      "cell_type": "code",
      "execution_count": null,
      "metadata": {
        "id": "QI_JU_zUfUjP"
      },
      "outputs": [],
      "source": [],
      "id": "QI_JU_zUfUjP"
    },
    {
      "cell_type": "markdown",
      "metadata": {
        "id": "2f3ke8grfUjQ"
      },
      "source": [
        "# Arithmetic Operators "
      ],
      "id": "2f3ke8grfUjQ"
    },
    {
      "cell_type": "markdown",
      "metadata": {
        "id": "nY-TXZ5IfUjQ"
      },
      "source": [
        "Arithmetic Operators \n",
        "1. Addition\n",
        "2. Subtraction\n",
        "3. Multiplication\n",
        "4. Division\n",
        "5. Integer Division\n",
        "6. To get Quotient\n",
        "7. To get exponent of a number \n",
        "8. PEMDAS Rule \n",
        "9. Arithmetic operators on strings "
      ],
      "id": "nY-TXZ5IfUjQ"
    },
    {
      "cell_type": "markdown",
      "metadata": {
        "id": "7PBToqU8fUjQ"
      },
      "source": [
        "## Arthmetic Operators on Numbers"
      ],
      "id": "7PBToqU8fUjQ"
    },
    {
      "cell_type": "code",
      "execution_count": null,
      "metadata": {
        "id": "5T7qO-fPfUjR",
        "outputId": "df576ccb-d55b-4609-d41d-571fd2d0a268"
      },
      "outputs": [
        {
          "data": {
            "text/plain": [
              "61"
            ]
          },
          "execution_count": 1,
          "metadata": {},
          "output_type": "execute_result"
        }
      ],
      "source": [
        "### Addition\n",
        "15 + 46"
      ],
      "id": "5T7qO-fPfUjR"
    },
    {
      "cell_type": "code",
      "execution_count": null,
      "metadata": {
        "id": "c-hoUoGPfUjR",
        "outputId": "d4b58158-74f4-4172-fbab-968762454625"
      },
      "outputs": [
        {
          "data": {
            "text/plain": [
              "50"
            ]
          },
          "execution_count": 24,
          "metadata": {},
          "output_type": "execute_result"
        }
      ],
      "source": [
        "### subtraction\n",
        "45 - 20 + 25"
      ],
      "id": "c-hoUoGPfUjR"
    },
    {
      "cell_type": "code",
      "execution_count": null,
      "metadata": {
        "id": "2qcq3CKKfUjS",
        "outputId": "f9aec7e9-67ef-4178-bfc5-347838bf52bf"
      },
      "outputs": [
        {
          "data": {
            "text/plain": [
              "2"
            ]
          },
          "execution_count": 5,
          "metadata": {},
          "output_type": "execute_result"
        }
      ],
      "source": [
        "### Both Addition and Subtraction \n",
        "45 - (23 + 20)"
      ],
      "id": "2qcq3CKKfUjS"
    },
    {
      "cell_type": "code",
      "execution_count": null,
      "metadata": {
        "id": "0kfTBbXLfUjS",
        "outputId": "f566b461-201e-420b-d8d2-a5e014ad333f"
      },
      "outputs": [
        {
          "data": {
            "text/plain": [
              "192"
            ]
          },
          "execution_count": 6,
          "metadata": {},
          "output_type": "execute_result"
        }
      ],
      "source": [
        "### Multiplication\n",
        "32 * 6"
      ],
      "id": "0kfTBbXLfUjS"
    },
    {
      "cell_type": "code",
      "execution_count": null,
      "metadata": {
        "id": "DuKtHfEcfUjT"
      },
      "outputs": [],
      "source": [
        "### Division 2 types"
      ],
      "id": "DuKtHfEcfUjT"
    },
    {
      "cell_type": "code",
      "execution_count": null,
      "metadata": {
        "id": "qf0o9rM0fUjT",
        "outputId": "a5b87290-0416-43d7-eb67-a75762ef5a1b"
      },
      "outputs": [
        {
          "data": {
            "text/plain": [
              "4.5"
            ]
          },
          "execution_count": 7,
          "metadata": {},
          "output_type": "execute_result"
        }
      ],
      "source": [
        "### Division example1\n",
        "\n",
        "18 / 4"
      ],
      "id": "qf0o9rM0fUjT"
    },
    {
      "cell_type": "code",
      "execution_count": null,
      "metadata": {
        "id": "KH4fyBUufUjU",
        "outputId": "8cced5a1-f24f-4bc0-e954-b197253ae45e"
      },
      "outputs": [
        {
          "data": {
            "text/plain": [
              "4"
            ]
          },
          "execution_count": 8,
          "metadata": {},
          "output_type": "execute_result"
        }
      ],
      "source": [
        "### integer divison example1\n",
        "18 //4"
      ],
      "id": "KH4fyBUufUjU"
    },
    {
      "cell_type": "code",
      "execution_count": null,
      "metadata": {
        "id": "GznPl0VifUjV",
        "outputId": "a6315a4b-9a08-47f7-993d-5b527be9b5c2"
      },
      "outputs": [
        {
          "data": {
            "text/plain": [
              "2.090909090909091"
            ]
          },
          "execution_count": 9,
          "metadata": {},
          "output_type": "execute_result"
        }
      ],
      "source": [
        "### Division example2\n",
        "23/11"
      ],
      "id": "GznPl0VifUjV"
    },
    {
      "cell_type": "code",
      "execution_count": null,
      "metadata": {
        "id": "--vCk_LWfUjV",
        "outputId": "d779ee5a-12c7-439a-e96b-14c019632327"
      },
      "outputs": [
        {
          "data": {
            "text/plain": [
              "2"
            ]
          },
          "execution_count": 10,
          "metadata": {},
          "output_type": "execute_result"
        }
      ],
      "source": [
        "### Division example3\n",
        "23//11"
      ],
      "id": "--vCk_LWfUjV"
    },
    {
      "cell_type": "code",
      "execution_count": null,
      "metadata": {
        "id": "T5SnCrm4fUjX",
        "outputId": "d1bbd0bc-92ea-4ed9-b559-bf6bd3fd6c3c"
      },
      "outputs": [
        {
          "data": {
            "text/plain": [
              "3"
            ]
          },
          "execution_count": 11,
          "metadata": {},
          "output_type": "execute_result"
        }
      ],
      "source": [
        "### integer divison example2\n",
        "45//12"
      ],
      "id": "T5SnCrm4fUjX"
    },
    {
      "cell_type": "code",
      "execution_count": null,
      "metadata": {
        "id": "sn2F4UYqfUjY",
        "outputId": "3d966a46-634c-46ad-d735-f82c156a9a7d"
      },
      "outputs": [
        {
          "data": {
            "text/plain": [
              "10.825"
            ]
          },
          "execution_count": 13,
          "metadata": {},
          "output_type": "execute_result"
        }
      ],
      "source": [
        "### integer divison example3\n",
        "43.3//4"
      ],
      "id": "sn2F4UYqfUjY"
    },
    {
      "cell_type": "code",
      "execution_count": null,
      "metadata": {
        "id": "BrRfe3E5fUjY"
      },
      "outputs": [],
      "source": [
        "### integer divison example4\n"
      ],
      "id": "BrRfe3E5fUjY"
    },
    {
      "cell_type": "code",
      "execution_count": null,
      "metadata": {
        "id": "anRY9BljfUjZ"
      },
      "outputs": [],
      "source": [
        "### integer divison example5\n"
      ],
      "id": "anRY9BljfUjZ"
    },
    {
      "cell_type": "code",
      "execution_count": null,
      "metadata": {
        "id": "SQ12xBMkfUjZ",
        "outputId": "5eb829f2-214e-4105-ac0e-6ce31d568126"
      },
      "outputs": [
        {
          "data": {
            "text/plain": [
              "1"
            ]
          },
          "execution_count": 15,
          "metadata": {},
          "output_type": "execute_result"
        }
      ],
      "source": [
        "### To get the reminder example1\n",
        "55 % 3"
      ],
      "id": "SQ12xBMkfUjZ"
    },
    {
      "cell_type": "code",
      "execution_count": null,
      "metadata": {
        "id": "9eG0EC2AfUje",
        "outputId": "ee0e6a00-340b-426d-a3f9-b0e695575e4f"
      },
      "outputs": [
        {
          "data": {
            "text/plain": [
              "2"
            ]
          },
          "execution_count": 16,
          "metadata": {},
          "output_type": "execute_result"
        }
      ],
      "source": [
        "### To get the reminder example2\n",
        "65 % 9"
      ],
      "id": "9eG0EC2AfUje"
    },
    {
      "cell_type": "code",
      "execution_count": null,
      "metadata": {
        "id": "-uM0pgzXfUje"
      },
      "outputs": [],
      "source": [
        "### To get the reminder example3\n"
      ],
      "id": "-uM0pgzXfUje"
    },
    {
      "cell_type": "code",
      "execution_count": null,
      "metadata": {
        "id": "HqB9STQPfUje",
        "outputId": "cdb7cb65-9b24-4a3a-c8df-bdca55077300"
      },
      "outputs": [
        {
          "data": {
            "text/plain": [
              "125"
            ]
          },
          "execution_count": 17,
          "metadata": {},
          "output_type": "execute_result"
        }
      ],
      "source": [
        "### To get the exponent example1\n",
        "5 ** 3"
      ],
      "id": "HqB9STQPfUje"
    },
    {
      "cell_type": "code",
      "execution_count": null,
      "metadata": {
        "id": "PPqA-3lnfUjf",
        "outputId": "7c5cfe5e-237d-4329-ed4b-698a021c5e60"
      },
      "outputs": [
        {
          "data": {
            "text/plain": [
              "1024"
            ]
          },
          "execution_count": 18,
          "metadata": {},
          "output_type": "execute_result"
        }
      ],
      "source": [
        "### To get the exponent example2\n",
        "2 ** 10"
      ],
      "id": "PPqA-3lnfUjf"
    },
    {
      "cell_type": "code",
      "execution_count": null,
      "metadata": {
        "id": "y9befQpDfUjg"
      },
      "outputs": [],
      "source": [
        "### To get the exponent example3\n"
      ],
      "id": "y9befQpDfUjg"
    },
    {
      "cell_type": "code",
      "execution_count": null,
      "metadata": {
        "id": "9K_w6oQ9fUjg",
        "outputId": "7ca51e71-0e09-48dd-e02c-757c3823ba4c"
      },
      "outputs": [
        {
          "data": {
            "text/plain": [
              "61"
            ]
          },
          "execution_count": 19,
          "metadata": {},
          "output_type": "execute_result"
        }
      ],
      "source": [
        "#PEMDAS: Parentheses, Exponents, Multiplication and Division (from left to right), Addition and Subtraction (from left to right).\n",
        "\n",
        "12 + 13 * 4 -3"
      ],
      "id": "9K_w6oQ9fUjg"
    },
    {
      "cell_type": "code",
      "execution_count": null,
      "metadata": {
        "id": "jaGqqipZfUjg",
        "outputId": "c39190de-4990-4e0a-83fb-0d9d3db104c1"
      },
      "outputs": [
        {
          "data": {
            "text/plain": [
              "-375"
            ]
          },
          "execution_count": 21,
          "metadata": {},
          "output_type": "execute_result"
        }
      ],
      "source": [
        "#PEMDAS: Example2\n",
        "\n",
        "54 - 21 ** 2 + (4*3)"
      ],
      "id": "jaGqqipZfUjg"
    },
    {
      "cell_type": "code",
      "execution_count": null,
      "metadata": {
        "id": "Z4XFNhqFfUjh",
        "outputId": "a993d808-d26a-4f33-82e1-9b7724c43dee"
      },
      "outputs": [
        {
          "data": {
            "text/plain": [
              "-375"
            ]
          },
          "execution_count": 23,
          "metadata": {},
          "output_type": "execute_result"
        }
      ],
      "source": [
        "54 - 441 + 12"
      ],
      "id": "Z4XFNhqFfUjh"
    },
    {
      "cell_type": "code",
      "execution_count": null,
      "metadata": {
        "id": "gVNoWqkVfUjh",
        "outputId": "cc3297d3-94d8-4f3b-b9cb-c8fd2f1b6d19"
      },
      "outputs": [
        {
          "data": {
            "text/plain": [
              "66"
            ]
          },
          "execution_count": 25,
          "metadata": {},
          "output_type": "execute_result"
        }
      ],
      "source": [
        "54 + 12"
      ],
      "id": "gVNoWqkVfUjh"
    },
    {
      "cell_type": "code",
      "execution_count": null,
      "metadata": {
        "id": "kNZCQZEqfUji",
        "outputId": "dcd143ff-266c-4a4b-fb27-0cba74bcff25"
      },
      "outputs": [
        {
          "data": {
            "text/plain": [
              "-375"
            ]
          },
          "execution_count": 26,
          "metadata": {},
          "output_type": "execute_result"
        }
      ],
      "source": [
        "66 - 441"
      ],
      "id": "kNZCQZEqfUji"
    },
    {
      "cell_type": "markdown",
      "metadata": {
        "id": "F9ZD86akfUji"
      },
      "source": [
        "## Exercises"
      ],
      "id": "F9ZD86akfUji"
    },
    {
      "cell_type": "code",
      "execution_count": null,
      "metadata": {
        "id": "Dv7Ja9McfUji",
        "outputId": "9375de59-b8bd-40c1-d94c-67fa9cbcf938"
      },
      "outputs": [
        {
          "data": {
            "text/plain": [
              "15"
            ]
          },
          "execution_count": 27,
          "metadata": {},
          "output_type": "execute_result"
        }
      ],
      "source": [
        "### Exercise1: Compute the sum of first 5 natural numbers\n",
        "1+2+3+4+5"
      ],
      "id": "Dv7Ja9McfUji"
    },
    {
      "cell_type": "code",
      "execution_count": null,
      "metadata": {
        "id": "VPKRng92fUjj",
        "outputId": "8500f13a-b470-4e8a-8849-c8565977ee33"
      },
      "outputs": [
        {
          "data": {
            "text/plain": [
              "20"
            ]
          },
          "execution_count": 28,
          "metadata": {},
          "output_type": "execute_result"
        }
      ],
      "source": [
        "### Exercise2: There are 45 persons working in an office. If the number of\n",
        "### females is 25. How many Male employees are there ?\n",
        "\n",
        "45 - 25"
      ],
      "id": "VPKRng92fUjj"
    },
    {
      "cell_type": "code",
      "execution_count": null,
      "metadata": {
        "id": "WrunffWofUjj",
        "outputId": "58c6906c-8024-4550-c9d6-24d04ff32a76"
      },
      "outputs": [
        {
          "name": "stdout",
          "output_type": "stream",
          "text": [
            "7.0\n",
            "9.0\n"
          ]
        }
      ],
      "source": [
        "### Exercise3: Anish and Anup play cricket.\n",
        "### Anish made 42 runs in 6 overs and Anup made 63 runs in 7 overs. \n",
        "### Who made more runs per over?\n",
        "\n",
        "print(42/6)\n",
        "print(63/7)"
      ],
      "id": "WrunffWofUjj"
    },
    {
      "cell_type": "code",
      "execution_count": null,
      "metadata": {
        "id": "SRUnupk5fUjk",
        "outputId": "144899fe-d16d-4996-f16e-14942cbf43ef"
      },
      "outputs": [
        {
          "data": {
            "text/plain": [
              "140.0"
            ]
          },
          "execution_count": 32,
          "metadata": {},
          "output_type": "execute_result"
        }
      ],
      "source": [
        "### Exercise4: If the cost of 6 cans of juice is 210, then what will be the cost\n",
        "### of 4 cans of juice?\n",
        "\n",
        "# 6x = 210\n",
        "# 4y = ?\n",
        "\n",
        "(210 * 4)/6"
      ],
      "id": "SRUnupk5fUjk"
    },
    {
      "cell_type": "markdown",
      "metadata": {
        "id": "tkqT5KokfUjk"
      },
      "source": [
        "## Arthmetic Operators on Strings"
      ],
      "id": "tkqT5KokfUjk"
    },
    {
      "cell_type": "code",
      "execution_count": null,
      "metadata": {
        "id": "5fX7k2kofUjk",
        "outputId": "130a17a1-4632-4ce1-8fd0-693978c32c5c"
      },
      "outputs": [
        {
          "data": {
            "text/plain": [
              "'mango  juice'"
            ]
          },
          "execution_count": 38,
          "metadata": {},
          "output_type": "execute_result"
        }
      ],
      "source": [
        "### Addition of 2 strings\n",
        "'mango'+'juice'"
      ],
      "id": "5fX7k2kofUjk"
    },
    {
      "cell_type": "code",
      "execution_count": null,
      "metadata": {
        "id": "D-lFQfCafUjl"
      },
      "outputs": [],
      "source": [
        "### Addition of 2 strings : The correct way !\n"
      ],
      "id": "D-lFQfCafUjl"
    },
    {
      "cell_type": "code",
      "execution_count": null,
      "metadata": {
        "id": "SFBtlPq7fUjl",
        "outputId": "948f3f44-a6f0-44e0-a469-a0778b143870"
      },
      "outputs": [
        {
          "ename": "TypeError",
          "evalue": "unsupported operand type(s) for -: 'str' and 'str'",
          "output_type": "error",
          "traceback": [
            "\u001b[0;31m---------------------------------------------------------------------------\u001b[0m",
            "\u001b[0;31mTypeError\u001b[0m                                 Traceback (most recent call last)",
            "\u001b[0;32m<ipython-input-39-02c995710409>\u001b[0m in \u001b[0;36m<module>\u001b[0;34m\u001b[0m\n\u001b[1;32m      1\u001b[0m \u001b[0;31m### Subtraction of 2 strings\u001b[0m\u001b[0;34m\u001b[0m\u001b[0;34m\u001b[0m\u001b[0;34m\u001b[0m\u001b[0m\n\u001b[0;32m----> 2\u001b[0;31m \u001b[0;34m'mangojuice'\u001b[0m \u001b[0;34m-\u001b[0m \u001b[0;34m'juice'\u001b[0m\u001b[0;34m\u001b[0m\u001b[0;34m\u001b[0m\u001b[0m\n\u001b[0m",
            "\u001b[0;31mTypeError\u001b[0m: unsupported operand type(s) for -: 'str' and 'str'"
          ]
        }
      ],
      "source": [
        "### Subtraction of 2 strings\n",
        "'mangojuice' - 'juice'"
      ],
      "id": "SFBtlPq7fUjl"
    },
    {
      "cell_type": "code",
      "execution_count": null,
      "metadata": {
        "id": "3TjfhYXzfUjm",
        "outputId": "6e06c8cf-d0a7-4d91-9b95-337e695e74f2"
      },
      "outputs": [
        {
          "data": {
            "text/plain": [
              "'mangomangomango'"
            ]
          },
          "execution_count": 41,
          "metadata": {},
          "output_type": "execute_result"
        }
      ],
      "source": [
        "### Multiplication\n",
        "'mango' * 3"
      ],
      "id": "3TjfhYXzfUjm"
    },
    {
      "cell_type": "code",
      "execution_count": null,
      "metadata": {
        "id": "L6vxEjeqfUjm"
      },
      "outputs": [],
      "source": [
        "### Excercise Get the remainder from the strings \n"
      ],
      "id": "L6vxEjeqfUjm"
    },
    {
      "cell_type": "code",
      "execution_count": null,
      "metadata": {
        "id": "Tb1p9fxQfUjn",
        "outputId": "2ba7f44d-35c9-4b84-ba53-621ffa614eec"
      },
      "outputs": [
        {
          "data": {
            "text/plain": [
              "47829690000000.0"
            ]
          },
          "execution_count": 44,
          "metadata": {},
          "output_type": "execute_result"
        }
      ],
      "source": [
        "### Exercise5\n",
        "### imagine there are 30 people infected with Covid-19 .\n",
        "### Each person (unknowingly) met 3 people in day during a trip of 14 days. \n",
        "### How many total covid cases do you expect at the end of the trip\n",
        "### Assume Covid sperad as geometric series\n",
        "# Total infected people = initial number of people *(number of people met per day ** number of days) / (number of people met per day -1)\n",
        "# Convert the result into millons (1 millon = 10**6)\n",
        "\n",
        "(30 *(3 ** 14)/ (4 -1)) * 10**6\n",
        "\n"
      ],
      "id": "Tb1p9fxQfUjn"
    },
    {
      "cell_type": "code",
      "execution_count": null,
      "metadata": {
        "id": "t8lA_d1AfUjo",
        "outputId": "ffee430b-8a96-4314-9a0c-706412f188b3"
      },
      "outputs": [
        {
          "data": {
            "text/html": [
              "<img src=\"images/geometric_series.jpg\" width=\"500\" height=\"200\"/>"
            ],
            "text/plain": [
              "<IPython.core.display.Image object>"
            ]
          },
          "execution_count": 4,
          "metadata": {},
          "output_type": "execute_result"
        }
      ],
      "source": [
        "from IPython.display import Image\n",
        "Image(url= \"images/geometric_series.jpg\", width=500, height=200)\n"
      ],
      "id": "t8lA_d1AfUjo"
    },
    {
      "cell_type": "code",
      "execution_count": null,
      "metadata": {
        "id": "eQA0GmjMfUjo"
      },
      "outputs": [],
      "source": [],
      "id": "eQA0GmjMfUjo"
    },
    {
      "cell_type": "code",
      "execution_count": null,
      "metadata": {
        "id": "fpx9Y8i6fUjp"
      },
      "outputs": [],
      "source": [],
      "id": "fpx9Y8i6fUjp"
    },
    {
      "cell_type": "markdown",
      "metadata": {
        "id": "gON39ACKfUjp"
      },
      "source": [
        "# List"
      ],
      "id": "gON39ACKfUjp"
    },
    {
      "cell_type": "markdown",
      "metadata": {
        "id": "-7KiUxOsfUjq"
      },
      "source": [
        "# A list is a data structure in Python that is a mutable, or changeable, ordered sequence of elements.\n"
      ],
      "id": "-7KiUxOsfUjq"
    },
    {
      "cell_type": "markdown",
      "metadata": {
        "id": "n0uSxPJDfUjq"
      },
      "source": [
        "1. Each element or value that is inside of a list is called an item.\n",
        "\n",
        "\n",
        "2. A list is a data type that allows you to store various types data in it.\n",
        "\n",
        "\n",
        "3. Just as strings are defined as characters between quotes, lists are defined by having values between square brackets [ ] \n",
        "\n",
        "\n",
        "4. The list is a most versatile datatype available in Python which can be written as a list of comma-separated values (items) between square brackets\n"
      ],
      "id": "n0uSxPJDfUjq"
    },
    {
      "cell_type": "markdown",
      "metadata": {
        "id": "SIpTE0nSfUjr"
      },
      "source": [
        "<img src=\"https://s3-api.us-geo.objectstorage.softlayer.net/cf-courses-data/CognitiveClass/PY0101EN/Chapter%202/Images/ListsIndex.png\" width=\"1000\" />"
      ],
      "id": "SIpTE0nSfUjr"
    },
    {
      "cell_type": "markdown",
      "metadata": {
        "id": "DPnTVIMJfUjr"
      },
      "source": [
        "A list is a sequenced collection of different objects such as integers, strings, and other lists as well. The address of each element within a list is called an index. An index is used to access and refer to items within a list."
      ],
      "id": "DPnTVIMJfUjr"
    },
    {
      "cell_type": "markdown",
      "metadata": {
        "id": "K-_vGRXrfUj4"
      },
      "source": [
        "# Create a List\n",
        "\n",
        "\n",
        "Create a list by placing all the elements inside square bracket [], seperated by commas. List can have any number of elements (int, float, string etc.)\n"
      ],
      "id": "K-_vGRXrfUj4"
    },
    {
      "cell_type": "code",
      "execution_count": null,
      "metadata": {
        "id": "y-uSIIGIfUj5",
        "outputId": "f0850fe7-19d7-44e2-cbef-27589158e4a3"
      },
      "outputs": [
        {
          "data": {
            "text/plain": [
              "[]"
            ]
          },
          "execution_count": 1,
          "metadata": {},
          "output_type": "execute_result"
        }
      ],
      "source": [
        "# create a empty list\n",
        "empty = [] \n",
        "empty\n"
      ],
      "id": "y-uSIIGIfUj5"
    },
    {
      "cell_type": "markdown",
      "metadata": {
        "id": "wKgDL3qqfUj6"
      },
      "source": [
        "We can use list() constructor to create a new list"
      ],
      "id": "wKgDL3qqfUj6"
    },
    {
      "cell_type": "code",
      "execution_count": null,
      "metadata": {
        "id": "UI_6JWfifUj6",
        "outputId": "531581c9-1f2d-4fd4-b734-d461c420cdfb"
      },
      "outputs": [
        {
          "data": {
            "text/plain": [
              "[23, 653, 574847, 3738782]"
            ]
          },
          "execution_count": 2,
          "metadata": {},
          "output_type": "execute_result"
        }
      ],
      "source": [
        "# create a list using list() constructor\n",
        "data = list((23, 653, 574847, 3738782))\n",
        "data\n"
      ],
      "id": "UI_6JWfifUj6"
    },
    {
      "cell_type": "code",
      "execution_count": null,
      "metadata": {
        "id": "pbg0ZwyifUj7"
      },
      "outputs": [],
      "source": [],
      "id": "pbg0ZwyifUj7"
    },
    {
      "cell_type": "code",
      "execution_count": null,
      "metadata": {
        "id": "XapPDjvYfUj7",
        "outputId": "be1c5f25-b01f-4b3c-c1c4-2082ec2bb830"
      },
      "outputs": [
        {
          "data": {
            "text/plain": [
              "[12, 32, 15, 33]"
            ]
          },
          "execution_count": 3,
          "metadata": {},
          "output_type": "execute_result"
        }
      ],
      "source": [
        "# create a list of having integers\n",
        "num_student = [12, 32, 15, 33] \n",
        "num_student\n"
      ],
      "id": "XapPDjvYfUj7"
    },
    {
      "cell_type": "code",
      "execution_count": null,
      "metadata": {
        "id": "TuPEjurLfUj7",
        "outputId": "5a1dfd53-4e8b-44e1-e07b-17292fbc685a"
      },
      "outputs": [
        {
          "data": {
            "text/plain": [
              "[5, 10, 15, 20, 25, 30]"
            ]
          },
          "execution_count": 4,
          "metadata": {},
          "output_type": "execute_result"
        }
      ],
      "source": [
        "int_list = [5, 10, 15, 20, 25, 30]\n",
        "\n",
        "int_list"
      ],
      "id": "TuPEjurLfUj7"
    },
    {
      "cell_type": "code",
      "execution_count": null,
      "metadata": {
        "id": "2C9YpamXfUj8",
        "outputId": "fe369213-98e5-4218-dfc7-0e4c2f9b23c8"
      },
      "outputs": [
        {
          "data": {
            "text/plain": [
              "[1.3, 2.4, 4.6, 7.4]"
            ]
          },
          "execution_count": 5,
          "metadata": {},
          "output_type": "execute_result"
        }
      ],
      "source": [
        "# create a list of having Float numbers\n",
        "float_list = [1.3, 2.4, 4.6, 7.4]\n",
        "\n",
        "float_list"
      ],
      "id": "2C9YpamXfUj8"
    },
    {
      "cell_type": "code",
      "execution_count": null,
      "metadata": {
        "id": "72Nc7CX-fUj8",
        "outputId": "92641c89-d784-4ced-e40f-ef9a6abe97bc"
      },
      "outputs": [
        {
          "data": {
            "text/plain": [
              "['Deb', 'Anand', 'Anita', 'Anu', 'Athira']"
            ]
          },
          "execution_count": 6,
          "metadata": {},
          "output_type": "execute_result"
        }
      ],
      "source": [
        "# create a list of having strings\n",
        "string_list = ['Deb', 'Anand', 'Anita', 'Anu', 'Athira']\n",
        "\n",
        "string_list"
      ],
      "id": "72Nc7CX-fUj8"
    },
    {
      "cell_type": "code",
      "execution_count": null,
      "metadata": {
        "id": "RoHHryuNfUj9",
        "outputId": "b4e4f572-a5d5-4474-d033-dd9f9211a03d"
      },
      "outputs": [
        {
          "data": {
            "text/plain": [
              "[1, 3.4, 'Judy', False]"
            ]
          },
          "execution_count": 7,
          "metadata": {},
          "output_type": "execute_result"
        }
      ],
      "source": [
        "# create a list of having mixed data types\n",
        "mixed_list = [1, 3.4, 'Judy', False]\n",
        "\n",
        "mixed_list"
      ],
      "id": "RoHHryuNfUj9"
    },
    {
      "cell_type": "markdown",
      "metadata": {
        "id": "5UtZDWvGfUj9"
      },
      "source": [
        "# Nested list\n",
        "\n",
        "\n",
        "A list with another list as an item. This is called nested list\n"
      ],
      "id": "5UtZDWvGfUj9"
    },
    {
      "cell_type": "code",
      "execution_count": null,
      "metadata": {
        "id": "Ny_GXsDefUj-",
        "outputId": "ebea7e66-3c4e-4e31-98ef-a7d011073543"
      },
      "outputs": [
        {
          "data": {
            "text/plain": [
              "[['Age', 'Height', 'Weight'], [12, 4.5, 55]]"
            ]
          },
          "execution_count": 8,
          "metadata": {},
          "output_type": "execute_result"
        }
      ],
      "source": [
        "# create a nested list\n",
        "nes_list = [['Age', 'Height', 'Weight'], [12, 4.5, 55]] \n",
        "nes_list\n"
      ],
      "id": "Ny_GXsDefUj-"
    },
    {
      "cell_type": "markdown",
      "metadata": {
        "id": "2Z4JU-jpfUj-"
      },
      "source": [
        "# Acessing Items/Elements "
      ],
      "id": "2Z4JU-jpfUj-"
    },
    {
      "cell_type": "markdown",
      "metadata": {
        "id": "Zm5pRqCpfUj-"
      },
      "source": [
        "Use the index operator [] to access an element in a list. Indices starts from 0"
      ],
      "id": "Zm5pRqCpfUj-"
    },
    {
      "cell_type": "markdown",
      "metadata": {
        "id": "jXjDOKsqfUj-"
      },
      "source": [
        "# Accessing  one Item/Element in the List is called Indexing"
      ],
      "id": "jXjDOKsqfUj-"
    },
    {
      "cell_type": "markdown",
      "metadata": {
        "id": "6dt2vEmjfUj_"
      },
      "source": [
        "![](list.png)"
      ],
      "id": "6dt2vEmjfUj_"
    },
    {
      "cell_type": "markdown",
      "metadata": {
        "id": "ymxrvlEUfUj_"
      },
      "source": [
        "#### Positive Indexing"
      ],
      "id": "ymxrvlEUfUj_"
    },
    {
      "cell_type": "code",
      "execution_count": null,
      "metadata": {
        "id": "D6hgTrCnfUj_",
        "outputId": "ff82c4e7-7393-48b3-c505-05d2b98e4229"
      },
      "outputs": [
        {
          "data": {
            "text/plain": [
              "'Orange'"
            ]
          },
          "execution_count": 9,
          "metadata": {},
          "output_type": "execute_result"
        }
      ],
      "source": [
        "# create a list of colors\n",
        "color = ['Yellow', 'Orange', 'Blue', 'Red'] \n",
        "# access the second element from the list \n",
        "color[1]\n"
      ],
      "id": "D6hgTrCnfUj_"
    },
    {
      "cell_type": "code",
      "execution_count": null,
      "metadata": {
        "id": "4KjQTumQfUkA",
        "outputId": "4e902447-15d2-4412-fb7d-c2f1bc533e87"
      },
      "outputs": [
        {
          "data": {
            "text/plain": [
              "'Yellow'"
            ]
          },
          "execution_count": 10,
          "metadata": {},
          "output_type": "execute_result"
        }
      ],
      "source": [
        "color[0]"
      ],
      "id": "4KjQTumQfUkA"
    },
    {
      "cell_type": "markdown",
      "metadata": {
        "id": "4Sm-khBTfUkA"
      },
      "source": [
        "#### Negative Indexing"
      ],
      "id": "4Sm-khBTfUkA"
    },
    {
      "cell_type": "code",
      "execution_count": null,
      "metadata": {
        "id": "XW80e5h9fUkA",
        "outputId": "d8f84488-1aef-4477-9e28-9dc3099795bf"
      },
      "outputs": [
        {
          "data": {
            "text/plain": [
              "'Red'"
            ]
          },
          "execution_count": 11,
          "metadata": {},
          "output_type": "execute_result"
        }
      ],
      "source": [
        "color[-1]"
      ],
      "id": "XW80e5h9fUkA"
    },
    {
      "cell_type": "code",
      "execution_count": null,
      "metadata": {
        "id": "Dp5DXjTzfUkA",
        "outputId": "3b898582-dfef-4669-c331-bbc33b769e41"
      },
      "outputs": [
        {
          "data": {
            "text/plain": [
              "'Orange'"
            ]
          },
          "execution_count": 12,
          "metadata": {},
          "output_type": "execute_result"
        }
      ],
      "source": [
        "color[-3]"
      ],
      "id": "Dp5DXjTzfUkA"
    },
    {
      "cell_type": "markdown",
      "metadata": {
        "id": "v11Us1QYfUkB"
      },
      "source": [
        "<img src=\"https://s3-api.us-geo.objectstorage.softlayer.net/cf-courses-data/CognitiveClass/PY0101EN/Chapter%202/Images/ListsNeg.png\" width=\"1000\" />"
      ],
      "id": "v11Us1QYfUkB"
    },
    {
      "cell_type": "markdown",
      "metadata": {
        "id": "aUcOPrWNfUkB"
      },
      "source": [
        "# check the length of List"
      ],
      "id": "aUcOPrWNfUkB"
    },
    {
      "cell_type": "code",
      "execution_count": null,
      "metadata": {
        "id": "BrrGz2Q-fUkB",
        "outputId": "0a8a859c-6153-4b60-e878-f0e5ec1a3e54"
      },
      "outputs": [
        {
          "data": {
            "text/plain": [
              "4"
            ]
          },
          "execution_count": 13,
          "metadata": {},
          "output_type": "execute_result"
        }
      ],
      "source": [
        "len(color)"
      ],
      "id": "BrrGz2Q-fUkB"
    },
    {
      "cell_type": "code",
      "execution_count": null,
      "metadata": {
        "id": "kEWbf9nhfUkC",
        "outputId": "a5ce215a-c739-45d3-81ce-78fce58ff92a"
      },
      "outputs": [
        {
          "ename": "IndexError",
          "evalue": "list index out of range",
          "output_type": "error",
          "traceback": [
            "\u001b[0;31m---------------------------------------------------------------------------\u001b[0m",
            "\u001b[0;31mIndexError\u001b[0m                                Traceback (most recent call last)",
            "\u001b[0;32m<ipython-input-14-590148b09947>\u001b[0m in \u001b[0;36m<module>\u001b[0;34m\u001b[0m\n\u001b[0;32m----> 1\u001b[0;31m \u001b[0mcolor\u001b[0m\u001b[0;34m[\u001b[0m\u001b[0;36m4\u001b[0m\u001b[0;34m]\u001b[0m\u001b[0;34m\u001b[0m\u001b[0;34m\u001b[0m\u001b[0m\n\u001b[0m",
            "\u001b[0;31mIndexError\u001b[0m: list index out of range"
          ]
        }
      ],
      "source": [
        "color[4]"
      ],
      "id": "kEWbf9nhfUkC"
    },
    {
      "cell_type": "markdown",
      "metadata": {
        "id": "uTV5ENOXfUkC"
      },
      "source": [
        "#### Negative Indexing\n",
        "\n",
        "\n",
        "Negative indexing starts from the end, -1 refers to the last element\n"
      ],
      "id": "uTV5ENOXfUkC"
    },
    {
      "cell_type": "code",
      "execution_count": null,
      "metadata": {
        "id": "0_x1EU32fUkC",
        "outputId": "5aedc87b-57bb-463f-b544-94a5df72e6f4"
      },
      "outputs": [
        {
          "data": {
            "text/plain": [
              "'Red'"
            ]
          },
          "execution_count": 16,
          "metadata": {},
          "output_type": "execute_result"
        }
      ],
      "source": [
        "# display the last element from the list\n",
        "color[-1]\n"
      ],
      "id": "0_x1EU32fUkC"
    },
    {
      "cell_type": "markdown",
      "metadata": {
        "id": "gCs7iQTUfUkC"
      },
      "source": [
        "# Accessing More than one Item/Element in the List is called Slicing/Range of Indexes\n",
        "\n",
        "\n",
        "Specify a range of indexes\n"
      ],
      "id": "gCs7iQTUfUkC"
    },
    {
      "cell_type": "code",
      "execution_count": null,
      "metadata": {
        "id": "X8fv05jXfUkD",
        "outputId": "7d2bc502-3cb1-45fe-e1a5-bc61a97f4278"
      },
      "outputs": [
        {
          "data": {
            "text/plain": [
              "['Yellow', 'Orange', 'Blue', 'Red']"
            ]
          },
          "execution_count": 17,
          "metadata": {},
          "output_type": "execute_result"
        }
      ],
      "source": [
        "color"
      ],
      "id": "X8fv05jXfUkD"
    },
    {
      "cell_type": "code",
      "execution_count": null,
      "metadata": {
        "id": "tczt8y1IfUkD",
        "outputId": "346e1778-61c7-40f9-b8b5-6e0d2e7c269e"
      },
      "outputs": [
        {
          "data": {
            "text/plain": [
              "['Orange', 'Blue', 'Red']"
            ]
          },
          "execution_count": 18,
          "metadata": {},
          "output_type": "execute_result"
        }
      ],
      "source": [
        "# display the second, third, and fourth element\n",
        "color[1:4]\n"
      ],
      "id": "tczt8y1IfUkD"
    },
    {
      "cell_type": "code",
      "execution_count": null,
      "metadata": {
        "id": "SQPVr07WfUkD",
        "outputId": "3663e493-fa01-48db-9706-c139200b17e6"
      },
      "outputs": [
        {
          "data": {
            "text/plain": [
              "['Yellow', 'Orange', 'Blue']"
            ]
          },
          "execution_count": 19,
          "metadata": {},
          "output_type": "execute_result"
        }
      ],
      "source": [
        "# display the elements from the start to \"Blue\"\n",
        "color[:3]\n"
      ],
      "id": "SQPVr07WfUkD"
    },
    {
      "cell_type": "code",
      "execution_count": null,
      "metadata": {
        "id": "OxVXiAZSfUkE",
        "outputId": "51081f11-15b0-41fb-aa47-5f1e914eedf6"
      },
      "outputs": [
        {
          "data": {
            "text/plain": [
              "['Orange', 'Blue', 'Red']"
            ]
          },
          "execution_count": 20,
          "metadata": {},
          "output_type": "execute_result"
        }
      ],
      "source": [
        "# display the elements from \"Orange\" to end\n",
        "color[1:]\n"
      ],
      "id": "OxVXiAZSfUkE"
    },
    {
      "cell_type": "markdown",
      "metadata": {
        "id": "XOzinRVDfUkE"
      },
      "source": [
        "#### Note: It will start at index 1 (included) and end at index 4 (not included)\n",
        "\n"
      ],
      "id": "XOzinRVDfUkE"
    },
    {
      "cell_type": "markdown",
      "metadata": {
        "id": "wzn8RPqlfUkE"
      },
      "source": [
        "Range of Negative Indexes"
      ],
      "id": "wzn8RPqlfUkE"
    },
    {
      "cell_type": "code",
      "execution_count": null,
      "metadata": {
        "id": "T47wG7elfUkF",
        "outputId": "dd033b7d-6333-45c0-83cb-9151b273d8e6"
      },
      "outputs": [
        {
          "data": {
            "text/plain": [
              "['Orange', 'Blue']"
            ]
          },
          "execution_count": 21,
          "metadata": {},
          "output_type": "execute_result"
        }
      ],
      "source": [
        "# display the elements from index -3(included) to index -1(not included)\n",
        "color[-3:-1]\n"
      ],
      "id": "T47wG7elfUkF"
    },
    {
      "cell_type": "code",
      "execution_count": null,
      "metadata": {
        "id": "I7PW5XZZfUkF",
        "outputId": "40524335-cc96-4948-c6a9-87f42a6f8936"
      },
      "outputs": [
        {
          "data": {
            "text/plain": [
              "['Michael Jackson', 10.1, 1982, 'MJ', 1]"
            ]
          },
          "execution_count": 22,
          "metadata": {},
          "output_type": "execute_result"
        }
      ],
      "source": [
        "# Sample List\n",
        "\n",
        "L = [\"Michael Jackson\", 10.1,1982,\"MJ\",1]\n",
        "L"
      ],
      "id": "I7PW5XZZfUkF"
    },
    {
      "cell_type": "markdown",
      "metadata": {
        "id": "uBRxyjs1fUkG"
      },
      "source": [
        "<img src=\"https://s3-api.us-geo.objectstorage.softlayer.net/cf-courses-data/CognitiveClass/PY0101EN/Chapter%202/Images/ListsSlice.png\" width=\"1000\">"
      ],
      "id": "uBRxyjs1fUkG"
    },
    {
      "cell_type": "code",
      "execution_count": null,
      "metadata": {
        "id": "2VmeFj5pfUkH",
        "outputId": "febebaa6-be23-4ee8-9fc3-cdb9724ac5c9"
      },
      "outputs": [
        {
          "data": {
            "text/plain": [
              "['Michael Jackson', 10.1, 1982, 'MJ', 1]"
            ]
          },
          "execution_count": 23,
          "metadata": {},
          "output_type": "execute_result"
        }
      ],
      "source": [
        "L[:]"
      ],
      "id": "2VmeFj5pfUkH"
    },
    {
      "cell_type": "code",
      "execution_count": null,
      "metadata": {
        "id": "WW6oq0QhfUkH",
        "outputId": "2bbf14e1-f673-499b-ae81-8b59019bd6bf"
      },
      "outputs": [
        {
          "data": {
            "text/plain": [
              "['Michael Jackson', 10.1, 1982, 'MJ', 1]"
            ]
          },
          "execution_count": 24,
          "metadata": {},
          "output_type": "execute_result"
        }
      ],
      "source": [
        "L[0:]"
      ],
      "id": "WW6oq0QhfUkH"
    },
    {
      "cell_type": "code",
      "execution_count": null,
      "metadata": {
        "id": "22koYeOQfUkH",
        "outputId": "612b58c9-13ee-4013-8ab4-7ad235324f9f"
      },
      "outputs": [
        {
          "data": {
            "text/plain": [
              "['Michael Jackson', 10.1, 1982, 'MJ', 1]"
            ]
          },
          "execution_count": 25,
          "metadata": {},
          "output_type": "execute_result"
        }
      ],
      "source": [
        "L[0:5]"
      ],
      "id": "22koYeOQfUkH"
    },
    {
      "cell_type": "code",
      "execution_count": null,
      "metadata": {
        "id": "FTY7Gj0DfUkI",
        "outputId": "1779b9a4-3352-4339-f2d1-d46818ac4f25"
      },
      "outputs": [
        {
          "data": {
            "text/plain": [
              "[1982, 'MJ', 1]"
            ]
          },
          "execution_count": 26,
          "metadata": {},
          "output_type": "execute_result"
        }
      ],
      "source": [
        "L[2:5]"
      ],
      "id": "FTY7Gj0DfUkI"
    },
    {
      "cell_type": "markdown",
      "metadata": {
        "id": "eH6aJmKmfUkI"
      },
      "source": [
        "# Accessing Item/Element in list at different index positions is called stride"
      ],
      "id": "eH6aJmKmfUkI"
    },
    {
      "cell_type": "code",
      "execution_count": null,
      "metadata": {
        "id": "Ju2zFRPMfUkI",
        "outputId": "cd61511e-a303-48b0-c163-e14a79c87a24"
      },
      "outputs": [
        {
          "data": {
            "text/plain": [
              "['Yellow', 'Orange', 'Blue', 'Red']"
            ]
          },
          "execution_count": 27,
          "metadata": {},
          "output_type": "execute_result"
        }
      ],
      "source": [
        "color"
      ],
      "id": "Ju2zFRPMfUkI"
    },
    {
      "cell_type": "code",
      "execution_count": null,
      "metadata": {
        "id": "87qOnLyzfUkK",
        "outputId": "7a791430-8aa7-4e4a-94dc-7f7e379fb5de"
      },
      "outputs": [
        {
          "data": {
            "text/plain": [
              "['Yellow', 'Blue']"
            ]
          },
          "execution_count": 28,
          "metadata": {},
          "output_type": "execute_result"
        }
      ],
      "source": [
        "color[::2]"
      ],
      "id": "87qOnLyzfUkK"
    },
    {
      "cell_type": "code",
      "execution_count": null,
      "metadata": {
        "id": "EimvVTlmfUkL",
        "outputId": "8911a8cd-c6c7-45d3-c12f-d81b6d38787c"
      },
      "outputs": [
        {
          "data": {
            "text/plain": [
              "['Orange']"
            ]
          },
          "execution_count": 29,
          "metadata": {},
          "output_type": "execute_result"
        }
      ],
      "source": [
        "color[1:3:2]"
      ],
      "id": "EimvVTlmfUkL"
    },
    {
      "cell_type": "markdown",
      "metadata": {
        "id": "JzXB0H4ifUkM"
      },
      "source": [
        "# Mutable Operation in list: Changing the value of list"
      ],
      "id": "JzXB0H4ifUkM"
    },
    {
      "cell_type": "markdown",
      "metadata": {
        "id": "IzLhu6H7fUkM"
      },
      "source": [
        "# As lists are mutable, we can change them. For example, we can change the first element as follows:"
      ],
      "id": "IzLhu6H7fUkM"
    },
    {
      "cell_type": "code",
      "execution_count": null,
      "metadata": {
        "id": "MMBmSpCtfUkM",
        "outputId": "96294b80-b91d-482c-a7f0-4b2a60e9cced"
      },
      "outputs": [
        {
          "data": {
            "text/plain": [
              "['Yellow', 'Orange', 'Blue', 'Red']"
            ]
          },
          "execution_count": 30,
          "metadata": {},
          "output_type": "execute_result"
        }
      ],
      "source": [
        "color"
      ],
      "id": "MMBmSpCtfUkM"
    },
    {
      "cell_type": "code",
      "execution_count": null,
      "metadata": {
        "id": "2NTs49DyfUkN",
        "outputId": "e732d642-9338-453e-cee6-985b177fda39"
      },
      "outputs": [
        {
          "data": {
            "text/plain": [
              "['Yellow', 'Black', 'Blue', 'Red']"
            ]
          },
          "execution_count": 31,
          "metadata": {},
          "output_type": "execute_result"
        }
      ],
      "source": [
        "# change the value of second element\n",
        "color[1] = 'Black' \n",
        "color\n"
      ],
      "id": "2NTs49DyfUkN"
    },
    {
      "cell_type": "code",
      "execution_count": null,
      "metadata": {
        "id": "z6mHwwG5fUkN",
        "outputId": "cfc0b638-cbb9-472f-b6cc-e78420ee7859"
      },
      "outputs": [
        {
          "name": "stdout",
          "output_type": "stream",
          "text": [
            "Before change: ['disco', 10, 1.2]\n",
            "After change: ['disco', 'hard rock', 1.2]\n"
          ]
        }
      ],
      "source": [
        "# Change the element based on the index\n",
        "\n",
        "A = [\"disco\", 10, 1.2]\n",
        "print('Before change:', A)\n",
        "A[1] = 'hard rock'\n",
        "print('After change:', A)"
      ],
      "id": "z6mHwwG5fUkN"
    },
    {
      "cell_type": "markdown",
      "metadata": {
        "id": "ovmH2zQgfUkO"
      },
      "source": [
        "# Adding Item/Element in list: We can use the method to add new elements to the list:\n",
        "\n",
        "1. append\n",
        "\n",
        "2. extend\n",
        "\n",
        "3. insert"
      ],
      "id": "ovmH2zQgfUkO"
    },
    {
      "cell_type": "markdown",
      "metadata": {
        "id": "1zBPYxxsfUkO"
      },
      "source": [
        "# Append Method"
      ],
      "id": "1zBPYxxsfUkO"
    },
    {
      "cell_type": "markdown",
      "metadata": {
        "id": "VfrggGpffUkP"
      },
      "source": [
        "#### List modifications"
      ],
      "id": "VfrggGpffUkP"
    },
    {
      "cell_type": "code",
      "execution_count": null,
      "metadata": {
        "id": "m39j1jspfUkP",
        "outputId": "aedcd1c0-d33e-40ec-d2c8-6af09876a795"
      },
      "outputs": [
        {
          "data": {
            "text/plain": [
              "['Michael Jackson', 10.2, ['pop', 10]]"
            ]
          },
          "execution_count": 33,
          "metadata": {},
          "output_type": "execute_result"
        }
      ],
      "source": [
        "L = [\"Michael Jackson\", 10.2]\n",
        "L.append(['pop', 10])\n",
        "L"
      ],
      "id": "m39j1jspfUkP"
    },
    {
      "cell_type": "code",
      "execution_count": null,
      "metadata": {
        "id": "t639LjBufUkQ",
        "outputId": "a040e4bb-b35d-490e-caf1-98d89723c293"
      },
      "outputs": [
        {
          "data": {
            "text/plain": [
              "['Michael Jackson', 10.2, 5]"
            ]
          },
          "execution_count": 34,
          "metadata": {},
          "output_type": "execute_result"
        }
      ],
      "source": [
        "L = [\"Michael Jackson\", 10.2]\n",
        "L.append(5)\n",
        "L"
      ],
      "id": "t639LjBufUkQ"
    },
    {
      "cell_type": "markdown",
      "metadata": {
        "id": "dnn80KsyfUkQ"
      },
      "source": [
        "# Extend Method"
      ],
      "id": "dnn80KsyfUkQ"
    },
    {
      "cell_type": "code",
      "execution_count": null,
      "metadata": {
        "id": "olepuldLfUkR",
        "outputId": "cd23fff9-96b1-4852-9563-5a845d34fb13"
      },
      "outputs": [
        {
          "data": {
            "text/plain": [
              "['Michael Jackson', 10.2, 'pop', 10]"
            ]
          },
          "execution_count": 35,
          "metadata": {},
          "output_type": "execute_result"
        }
      ],
      "source": [
        "# Use extend to add elements to list\n",
        "\n",
        "L = [\"Michael Jackson\", 10.2]\n",
        "L.extend(['pop', 10])\n",
        "L"
      ],
      "id": "olepuldLfUkR"
    },
    {
      "cell_type": "code",
      "execution_count": null,
      "metadata": {
        "id": "3Aa0fbWXfUkR",
        "outputId": "bdb3e629-2780-48da-a653-9b31e3004bad"
      },
      "outputs": [
        {
          "data": {
            "text/plain": [
              "['Michael Jackson', 10.2, 5, 6]"
            ]
          },
          "execution_count": 36,
          "metadata": {},
          "output_type": "execute_result"
        }
      ],
      "source": [
        "# Use extend to add elements to list\n",
        "\n",
        "L = [\"Michael Jackson\", 10.2]\n",
        "L.extend([5,6])\n",
        "L"
      ],
      "id": "3Aa0fbWXfUkR"
    },
    {
      "cell_type": "code",
      "execution_count": null,
      "metadata": {
        "id": "quhjvqSCfUkS",
        "outputId": "192369cc-a9f5-41d3-93ef-87f7c7f7068a"
      },
      "outputs": [
        {
          "data": {
            "text/plain": [
              "['Rice', 'Panner', 'Chicken', 'R', 'o', 't', 'i']"
            ]
          },
          "execution_count": 37,
          "metadata": {},
          "output_type": "execute_result"
        }
      ],
      "source": [
        "#create a list\n",
        "food = ['Rice', 'Panner', 'Chicken']\n",
        "# add the elements to the list\n",
        "food.extend('Roti')\n",
        "food"
      ],
      "id": "quhjvqSCfUkS"
    },
    {
      "cell_type": "markdown",
      "metadata": {
        "id": "lOWz58--fUkT"
      },
      "source": [
        "# Addition of Element at specific Position (using Insert Method)"
      ],
      "id": "lOWz58--fUkT"
    },
    {
      "cell_type": "code",
      "execution_count": null,
      "metadata": {
        "id": "hCkBDS2NfUkT",
        "outputId": "16a8601c-0090-4c28-a153-a4a8c819faac"
      },
      "outputs": [
        {
          "name": "stdout",
          "output_type": "stream",
          "text": [
            "Initial List: \n",
            "[1, 2, 3, 4]\n",
            "\n",
            "List after performing Insert Operation: \n",
            "['Geeks', 1, 2, 3, 12, 4]\n"
          ]
        }
      ],
      "source": [
        "#Creating a List \n",
        "List = [1,2,3,4] \n",
        "print(\"Initial List: \") \n",
        "print(List) \n",
        "  \n",
        "# Addition of Element at specific Position (using Insert Method) \n",
        "List.insert(3, 12) \n",
        "List.insert(0, 'Geeks') \n",
        "print(\"\\nList after performing Insert Operation: \") \n",
        "print(List) "
      ],
      "id": "hCkBDS2NfUkT"
    },
    {
      "cell_type": "code",
      "execution_count": null,
      "metadata": {
        "id": "jQzuSbf4fUkU",
        "outputId": "34a54ff8-872e-49c6-d6e3-b805b263ffcb"
      },
      "outputs": [
        {
          "data": {
            "text/plain": [
              "['Rice', 'Roti', 'Panner', 'Chicken']"
            ]
          },
          "execution_count": 39,
          "metadata": {},
          "output_type": "execute_result"
        }
      ],
      "source": [
        "# create a list\n",
        "food = ['Rice', 'Panner', 'Chicken']\n",
        "# add element at index 1\n",
        "food.insert(1, 'Roti')\n",
        "food"
      ],
      "id": "jQzuSbf4fUkU"
    },
    {
      "cell_type": "markdown",
      "metadata": {
        "id": "2-Mckj-MfUkU"
      },
      "source": [
        "# Checking Index number of element in the List"
      ],
      "id": "2-Mckj-MfUkU"
    },
    {
      "cell_type": "code",
      "execution_count": null,
      "metadata": {
        "id": "fsQUw3cIfUkV",
        "outputId": "afe69a50-1503-4fe8-c35c-5723c9070ddc"
      },
      "outputs": [
        {
          "data": {
            "text/plain": [
              "1"
            ]
          },
          "execution_count": 40,
          "metadata": {},
          "output_type": "execute_result"
        }
      ],
      "source": [
        "# create a list\n",
        "food = ['Rice', 'Panner', 'Chicken']\n",
        "# dislay the index number\n",
        "food.index('Panner')"
      ],
      "id": "fsQUw3cIfUkV"
    },
    {
      "cell_type": "code",
      "execution_count": null,
      "metadata": {
        "id": "AxDZK6o0fUkV",
        "outputId": "3f1d358b-b446-4c66-9ed4-7fc2bdcda31d"
      },
      "outputs": [
        {
          "data": {
            "text/plain": [
              "['Michael Jackson', 10.2, 5, 6]"
            ]
          },
          "execution_count": 41,
          "metadata": {},
          "output_type": "execute_result"
        }
      ],
      "source": [
        "L"
      ],
      "id": "AxDZK6o0fUkV"
    },
    {
      "cell_type": "code",
      "execution_count": null,
      "metadata": {
        "id": "RGoHyDMFfUkV",
        "outputId": "0200aa1d-0d8b-4b0c-d203-83c08892a037"
      },
      "outputs": [
        {
          "data": {
            "text/plain": [
              "0"
            ]
          },
          "execution_count": 42,
          "metadata": {},
          "output_type": "execute_result"
        }
      ],
      "source": [
        "L.index(\"Michael Jackson\")"
      ],
      "id": "RGoHyDMFfUkV"
    },
    {
      "cell_type": "markdown",
      "metadata": {
        "id": "tT-NRNegfUkW"
      },
      "source": [
        "# checking particular element present inside the List"
      ],
      "id": "tT-NRNegfUkW"
    },
    {
      "cell_type": "code",
      "execution_count": null,
      "metadata": {
        "id": "QtoOqKzQfUkW",
        "outputId": "6a237485-b3a9-4c06-801b-ba31e36f7563"
      },
      "outputs": [
        {
          "data": {
            "text/plain": [
              "['Michael Jackson', 10.2, 5, 6]"
            ]
          },
          "execution_count": 43,
          "metadata": {},
          "output_type": "execute_result"
        }
      ],
      "source": [
        "L"
      ],
      "id": "QtoOqKzQfUkW"
    },
    {
      "cell_type": "code",
      "execution_count": null,
      "metadata": {
        "id": "PnE2MoGyfUkW",
        "outputId": "e87aa1d7-aaaf-4f98-c2d7-351fa05ebbfc"
      },
      "outputs": [
        {
          "data": {
            "text/plain": [
              "True"
            ]
          },
          "execution_count": 44,
          "metadata": {},
          "output_type": "execute_result"
        }
      ],
      "source": [
        "5 in L"
      ],
      "id": "PnE2MoGyfUkW"
    },
    {
      "cell_type": "markdown",
      "metadata": {
        "id": "ZsQzOjZsfUkX"
      },
      "source": [
        "# Removing Elements from the List"
      ],
      "id": "ZsQzOjZsfUkX"
    },
    {
      "cell_type": "markdown",
      "metadata": {
        "id": "S8qKuy8KfUkX"
      },
      "source": [
        "Using remove() method\n",
        "\n",
        "Elements can be removed from the List by using built-in remove() function but an Error arises if element doesn’t exist in the set. Remove() method only removes one element at a time, to remove range of elements, iterator is used. The remove() method removes the specified item.\n",
        "\n",
        "Note – Remove method in List will only remove the first occurrence of the searched element"
      ],
      "id": "S8qKuy8KfUkX"
    },
    {
      "cell_type": "code",
      "execution_count": null,
      "metadata": {
        "id": "7_11ADa-fUkY",
        "outputId": "88b2ce71-a9f4-4da9-e4d4-b861d1ef7c57"
      },
      "outputs": [
        {
          "data": {
            "text/plain": [
              "['Panner', 'Chicken']"
            ]
          },
          "execution_count": 45,
          "metadata": {},
          "output_type": "execute_result"
        }
      ],
      "source": [
        "# create a list\n",
        "food = ['Rice', 'Panner', 'Chicken']\n",
        "# remove 'Rice' element\n",
        "food.remove('Rice')\n",
        "food"
      ],
      "id": "7_11ADa-fUkY"
    },
    {
      "cell_type": "code",
      "execution_count": null,
      "metadata": {
        "id": "9nZEpNMyfUkY",
        "outputId": "c11c2671-661d-419e-f2a7-cb876259710f"
      },
      "outputs": [
        {
          "name": "stdout",
          "output_type": "stream",
          "text": [
            "Intial List: \n",
            "[1, 2, 3, 4, 5, 6, 7, 8, 9, 10, 11, 12]\n",
            "\n",
            "List after Removal of two elements: \n",
            "[1, 2, 3, 4, 7, 8, 9, 10, 11, 12]\n"
          ]
        }
      ],
      "source": [
        "# Python program to demonstrate  \n",
        "# Removal of elements in a List \n",
        "  \n",
        "# Creating a List \n",
        "List = [1, 2, 3, 4, 5, 6,7, 8, 9, 10, 11, 12] \n",
        "print(\"Intial List: \") \n",
        "print(List) \n",
        "  \n",
        "# Removing elements from List \n",
        "# using Remove() method \n",
        "List.remove(5) \n",
        "List.remove(6) \n",
        "print(\"\\nList after Removal of two elements: \") \n",
        "print(List) "
      ],
      "id": "9nZEpNMyfUkY"
    },
    {
      "cell_type": "markdown",
      "metadata": {
        "id": "2YoE51YPfUkZ"
      },
      "source": [
        "# Using pop() method"
      ],
      "id": "2YoE51YPfUkZ"
    },
    {
      "cell_type": "markdown",
      "metadata": {
        "id": "qJiUfV6QfUkZ"
      },
      "source": [
        "Pop() function can also be used to remove and return an element from the set, but by default it removes only the last element of the set, to remove element from a specific position of the List, index of the element is passed as an argument to the pop() method"
      ],
      "id": "qJiUfV6QfUkZ"
    },
    {
      "cell_type": "code",
      "execution_count": null,
      "metadata": {
        "id": "triebFp5fUka",
        "outputId": "22f23fcf-44d4-447b-a9e2-4dcc1bdee3f1"
      },
      "outputs": [
        {
          "name": "stdout",
          "output_type": "stream",
          "text": [
            "\n",
            "List after popping an element: \n",
            "[1, 2, 3, 4]\n"
          ]
        }
      ],
      "source": [
        "List = [1,2,3,4,5] \n",
        "  \n",
        "# Removing element from the  \n",
        "# Set using the pop() method \n",
        "List.pop() \n",
        "print(\"\\nList after popping an element: \") \n",
        "print(List)"
      ],
      "id": "triebFp5fUka"
    },
    {
      "cell_type": "code",
      "execution_count": null,
      "metadata": {
        "id": "U3roAkmTfUka",
        "outputId": "de25c02e-5cab-43a8-9ebf-42f18ccb5b31"
      },
      "outputs": [
        {
          "name": "stdout",
          "output_type": "stream",
          "text": [
            "\n",
            "List after popping an element: \n",
            "[1, 2, 3, 4]\n",
            "\n",
            "List after popping a specific element: \n",
            "[1, 2, 4]\n"
          ]
        }
      ],
      "source": [
        "List = [1,2,3,4,5] \n",
        "  \n",
        "# Removing element from the  \n",
        "# Set using the pop() method \n",
        "List.pop() \n",
        "print(\"\\nList after popping an element: \") \n",
        "print(List) \n",
        "  \n",
        "# Removing element at a  \n",
        "# specific location from the  \n",
        "# Set using the pop() method \n",
        "List.pop(2) \n",
        "print(\"\\nList after popping a specific element: \") \n",
        "print(List) "
      ],
      "id": "U3roAkmTfUka"
    },
    {
      "cell_type": "markdown",
      "metadata": {
        "id": "E9FV1d2yfUkb"
      },
      "source": [
        "# Clear Method()"
      ],
      "id": "E9FV1d2yfUkb"
    },
    {
      "cell_type": "code",
      "execution_count": null,
      "metadata": {
        "id": "lz4qyfLpfUkc",
        "outputId": "7d5d24c6-f433-4f4a-a4d9-4c078531d957"
      },
      "outputs": [
        {
          "data": {
            "text/plain": [
              "[]"
            ]
          },
          "execution_count": 49,
          "metadata": {},
          "output_type": "execute_result"
        }
      ],
      "source": [
        "# create a list\n",
        "food = ['Rice', 'Panner', 'Chicken']\n",
        "# remove all the elements from the list\n",
        "food.clear()\n",
        "food"
      ],
      "id": "lz4qyfLpfUkc"
    },
    {
      "cell_type": "markdown",
      "metadata": {
        "id": "0bRu5jINfUkc"
      },
      "source": [
        "# We can also delete an element of a list using the del command:"
      ],
      "id": "0bRu5jINfUkc"
    },
    {
      "cell_type": "code",
      "execution_count": null,
      "metadata": {
        "id": "xwkGRT1hfUkd",
        "outputId": "723fb7a0-b329-4415-d4fc-f88985af8fa4"
      },
      "outputs": [
        {
          "name": "stdout",
          "output_type": "stream",
          "text": [
            "Before change: ['disco', 'hard rock', 1.2]\n",
            "After change: ['hard rock', 1.2]\n"
          ]
        }
      ],
      "source": [
        "# Delete the element based on the index\n",
        "A=['disco','hard rock',1.2]\n",
        "print('Before change:', A)\n",
        "del(A[0])\n",
        "print('After change:', A)"
      ],
      "id": "xwkGRT1hfUkd"
    },
    {
      "cell_type": "code",
      "execution_count": null,
      "metadata": {
        "id": "my3n0_vPfUkd",
        "outputId": "867a7e6f-728c-4096-d93e-c652a4e58025"
      },
      "outputs": [
        {
          "name": "stdout",
          "output_type": "stream",
          "text": [
            "['physics', 'chemistry', 1997, 2000]\n",
            "After deleting value at index 2 : \n",
            "['physics', 'chemistry', 2000]\n"
          ]
        }
      ],
      "source": [
        "list1 = ['physics', 'chemistry', 1997, 2000];\n",
        "print (list1)\n",
        "del list1[2]\n",
        "print (\"After deleting value at index 2 : \")\n",
        "print (list1)"
      ],
      "id": "my3n0_vPfUkd"
    },
    {
      "cell_type": "markdown",
      "metadata": {
        "id": "7poXN-y-fUkd"
      },
      "source": [
        "# Count Method:"
      ],
      "id": "7poXN-y-fUkd"
    },
    {
      "cell_type": "code",
      "execution_count": null,
      "metadata": {
        "id": "BAf5bcCDfUke",
        "outputId": "15d2bb4c-b78a-4a19-9817-4e3a512c74c4"
      },
      "outputs": [
        {
          "data": {
            "text/plain": [
              "3"
            ]
          },
          "execution_count": 52,
          "metadata": {},
          "output_type": "execute_result"
        }
      ],
      "source": [
        "# create a list\n",
        "product = ['Chips', 'Biscuits', 'Drinks', 'Numkeen', 'Chips', 'Biscuits', 'Chips']\n",
        "# get the count of \"Chips\"\n",
        "product.count('Chips')"
      ],
      "id": "BAf5bcCDfUke"
    },
    {
      "cell_type": "markdown",
      "metadata": {
        "id": "0maFLTEgfUke"
      },
      "source": [
        "# Reverse Method"
      ],
      "id": "0maFLTEgfUke"
    },
    {
      "cell_type": "code",
      "execution_count": null,
      "metadata": {
        "id": "l0xk-_d3fUke",
        "outputId": "7e798970-07ef-4a29-ce16-27aafb204234"
      },
      "outputs": [
        {
          "data": {
            "text/plain": [
              "['Chicken', 'Panner', 'Rice']"
            ]
          },
          "execution_count": 53,
          "metadata": {},
          "output_type": "execute_result"
        }
      ],
      "source": [
        "# create a list\n",
        "food = ['Rice', 'Panner', 'Chicken']\n",
        "# reverse the order of elements from the list\n",
        "food.reverse()\n",
        "food"
      ],
      "id": "l0xk-_d3fUke"
    },
    {
      "cell_type": "markdown",
      "metadata": {
        "id": "Q8K3LHmifUkf"
      },
      "source": [
        "# Sort Method"
      ],
      "id": "Q8K3LHmifUkf"
    },
    {
      "cell_type": "code",
      "execution_count": null,
      "metadata": {
        "id": "DT0N_46yfUkf",
        "outputId": "62113c76-e385-468e-b653-4fd125aab35d"
      },
      "outputs": [
        {
          "data": {
            "text/plain": [
              "['A', 'C', 'K', 'R']"
            ]
          },
          "execution_count": 54,
          "metadata": {},
          "output_type": "execute_result"
        }
      ],
      "source": [
        "# create a list\n",
        "alph = ['R', 'A', 'C', 'K']\n",
        "# sort the elements\n",
        "alph.sort()\n",
        "alph"
      ],
      "id": "DT0N_46yfUkf"
    },
    {
      "cell_type": "code",
      "execution_count": null,
      "metadata": {
        "id": "OkHuCB6FfUkf",
        "outputId": "9a6b3be5-17e5-4a2b-b93e-62d469e87fbb"
      },
      "outputs": [
        {
          "data": {
            "text/plain": [
              "[1, 3, 4, 5, 7]"
            ]
          },
          "execution_count": 55,
          "metadata": {},
          "output_type": "execute_result"
        }
      ],
      "source": [
        "# create a list\n",
        "num = [1, 4, 5, 7, 3]\n",
        "# sort the numeric elements\n",
        "num.sort()\n",
        "num"
      ],
      "id": "OkHuCB6FfUkf"
    },
    {
      "cell_type": "markdown",
      "metadata": {
        "id": "heRoa0cmfUkg"
      },
      "source": [
        "# copy() method"
      ],
      "id": "heRoa0cmfUkg"
    },
    {
      "cell_type": "code",
      "execution_count": null,
      "metadata": {
        "id": "5zePRCmYfUkg",
        "outputId": "9d09246a-978a-401d-f490-7024fbaf74b4"
      },
      "outputs": [
        {
          "data": {
            "text/plain": [
              "['Rice', 'Panner', 'Chicken']"
            ]
          },
          "execution_count": 56,
          "metadata": {},
          "output_type": "execute_result"
        }
      ],
      "source": [
        "# create a list\n",
        "food = ['Rice', 'Panner', 'Chicken']\n",
        "# create a copy of list\n",
        "food.copy()\n"
      ],
      "id": "5zePRCmYfUkg"
    },
    {
      "cell_type": "code",
      "execution_count": null,
      "metadata": {
        "id": "_SXnRmq4fUkg",
        "outputId": "10114b21-8e00-4fde-b392-9c6b2b9980e7"
      },
      "outputs": [
        {
          "name": "stdout",
          "output_type": "stream",
          "text": [
            "A: ['hard rock', 10, 1.2]\n",
            "B: ['hard rock', 10, 1.2]\n"
          ]
        }
      ],
      "source": [
        "# Copy (copy by reference) the list A\n",
        "\n",
        "A = [\"hard rock\", 10, 1.2]\n",
        "B = A\n",
        "print('A:', A)\n",
        "print('B:', B)"
      ],
      "id": "_SXnRmq4fUkg"
    },
    {
      "cell_type": "code",
      "execution_count": null,
      "metadata": {
        "id": "Fz-R40UHfUkh",
        "outputId": "29d4bdad-e8f6-436b-865d-a4966c669f2b"
      },
      "outputs": [
        {
          "name": "stdout",
          "output_type": "stream",
          "text": [
            "B[0]: hard rock\n",
            "B[0]: banana\n"
          ]
        }
      ],
      "source": [
        "# Examine the copy by reference\n",
        "\n",
        "print('B[0]:', B[0])\n",
        "A[0] = \"banana\"\n",
        "print('B[0]:', B[0])"
      ],
      "id": "Fz-R40UHfUkh"
    },
    {
      "cell_type": "code",
      "execution_count": null,
      "metadata": {
        "id": "eN_uDFuAfUkh"
      },
      "outputs": [],
      "source": [
        "students = ['Deb', 'Judy', 'Yukti', 'Nisarg']"
      ],
      "id": "eN_uDFuAfUkh"
    },
    {
      "cell_type": "code",
      "execution_count": null,
      "metadata": {
        "id": "QWEUP_1pfUkh",
        "outputId": "066e4427-4b5d-4458-ff69-81e530e1cc66"
      },
      "outputs": [
        {
          "data": {
            "text/plain": [
              "'Deb'"
            ]
          },
          "execution_count": 60,
          "metadata": {},
          "output_type": "execute_result"
        }
      ],
      "source": [
        "students[0]"
      ],
      "id": "QWEUP_1pfUkh"
    },
    {
      "cell_type": "code",
      "execution_count": null,
      "metadata": {
        "id": "oTDd1V5MfUki",
        "outputId": "e7f59795-c8d1-4400-a673-4677c93f393b"
      },
      "outputs": [
        {
          "data": {
            "text/plain": [
              "'Judy'"
            ]
          },
          "execution_count": 61,
          "metadata": {},
          "output_type": "execute_result"
        }
      ],
      "source": [
        "students[1]"
      ],
      "id": "oTDd1V5MfUki"
    },
    {
      "cell_type": "code",
      "execution_count": null,
      "metadata": {
        "id": "OvSr42jVfUki",
        "outputId": "44201997-c10b-467f-82f0-9087b8d4a6cd"
      },
      "outputs": [
        {
          "data": {
            "text/plain": [
              "'Nisarg'"
            ]
          },
          "execution_count": 62,
          "metadata": {},
          "output_type": "execute_result"
        }
      ],
      "source": [
        "students[3]"
      ],
      "id": "OvSr42jVfUki"
    },
    {
      "cell_type": "code",
      "execution_count": null,
      "metadata": {
        "id": "XwBeykCYfUki",
        "outputId": "9fbb8dea-e67e-4d6a-f58b-14e4ed3018a2"
      },
      "outputs": [
        {
          "ename": "IndexError",
          "evalue": "list index out of range",
          "output_type": "error",
          "traceback": [
            "\u001b[0;31m---------------------------------------------------------------------------\u001b[0m",
            "\u001b[0;31mIndexError\u001b[0m                                Traceback (most recent call last)",
            "\u001b[0;32m<ipython-input-63-55850e0b8f87>\u001b[0m in \u001b[0;36m<module>\u001b[0;34m\u001b[0m\n\u001b[0;32m----> 1\u001b[0;31m \u001b[0mstudents\u001b[0m\u001b[0;34m[\u001b[0m\u001b[0;36m4\u001b[0m\u001b[0;34m]\u001b[0m\u001b[0;34m\u001b[0m\u001b[0;34m\u001b[0m\u001b[0m\n\u001b[0m",
            "\u001b[0;31mIndexError\u001b[0m: list index out of range"
          ]
        }
      ],
      "source": [
        "students[4]"
      ],
      "id": "XwBeykCYfUki"
    },
    {
      "cell_type": "markdown",
      "metadata": {
        "id": "847sDInqfUkj"
      },
      "source": [
        "#### List operations"
      ],
      "id": "847sDInqfUkj"
    },
    {
      "cell_type": "code",
      "execution_count": null,
      "metadata": {
        "id": "p72wrLGNfUkj",
        "outputId": "047cd177-e8d7-41db-f08d-b5940ef69ef8"
      },
      "outputs": [
        {
          "data": {
            "text/plain": [
              "4"
            ]
          },
          "execution_count": 64,
          "metadata": {},
          "output_type": "execute_result"
        }
      ],
      "source": [
        "len(students)"
      ],
      "id": "p72wrLGNfUkj"
    },
    {
      "cell_type": "code",
      "execution_count": null,
      "metadata": {
        "id": "eQL5bYYMfUkj",
        "outputId": "84e6375f-2c21-40ca-8be8-7acefd8afdb9"
      },
      "outputs": [
        {
          "data": {
            "text/plain": [
              "['Deb', 'Judy', 'Yukti', 'Nisarg']"
            ]
          },
          "execution_count": 65,
          "metadata": {},
          "output_type": "execute_result"
        }
      ],
      "source": [
        "students"
      ],
      "id": "eQL5bYYMfUkj"
    },
    {
      "cell_type": "code",
      "execution_count": null,
      "metadata": {
        "id": "o49jnAYYfUkk",
        "outputId": "732eed88-52d9-4661-a529-eda8f1f8d6dd"
      },
      "outputs": [
        {
          "data": {
            "text/plain": [
              "['Deb', 'Judy', 'Yukti', 'Surbhi']"
            ]
          },
          "execution_count": 66,
          "metadata": {},
          "output_type": "execute_result"
        }
      ],
      "source": [
        "students[3] = 'Surbhi'\n",
        "\n",
        "students"
      ],
      "id": "o49jnAYYfUkk"
    },
    {
      "cell_type": "code",
      "execution_count": null,
      "metadata": {
        "id": "p0cqx1vYfUkk",
        "outputId": "b33ee833-7542-4eb1-c443-09b0c6019c37"
      },
      "outputs": [
        {
          "data": {
            "text/plain": [
              "['Deb', 'Judy', 'Moumita', 'Surbhi']"
            ]
          },
          "execution_count": 67,
          "metadata": {},
          "output_type": "execute_result"
        }
      ],
      "source": [
        "students[2] = 'Moumita'\n",
        "\n",
        "students"
      ],
      "id": "p0cqx1vYfUkk"
    },
    {
      "cell_type": "code",
      "execution_count": null,
      "metadata": {
        "id": "qgnzef3rfUkk",
        "outputId": "55b22d8a-a44e-4e8e-e43e-5c90b09cb8bd"
      },
      "outputs": [
        {
          "data": {
            "text/plain": [
              "['Deb', 'Judy', 'Moumita', 'Surbhi', 'Anuradha']"
            ]
          },
          "execution_count": 68,
          "metadata": {},
          "output_type": "execute_result"
        }
      ],
      "source": [
        "students.append('Anuradha')\n",
        "\n",
        "students"
      ],
      "id": "qgnzef3rfUkk"
    },
    {
      "cell_type": "code",
      "execution_count": null,
      "metadata": {
        "id": "Lz6PuRYnfUkl",
        "outputId": "49a10d5e-03fe-4782-e7e3-6ca3ca797a07"
      },
      "outputs": [
        {
          "data": {
            "text/plain": [
              "['Deb', 'Judy', 'Moumita', 'Surbhi', 'Anuradha', 'Ubaid']"
            ]
          },
          "execution_count": 69,
          "metadata": {},
          "output_type": "execute_result"
        }
      ],
      "source": [
        "students.append('Ubaid')\n",
        "\n",
        "students"
      ],
      "id": "Lz6PuRYnfUkl"
    },
    {
      "cell_type": "code",
      "execution_count": null,
      "metadata": {
        "id": "ngBwSTRsfUkl",
        "outputId": "838af730-b425-4ea5-d3c5-0b59f0c0d006"
      },
      "outputs": [
        {
          "data": {
            "text/plain": [
              "6"
            ]
          },
          "execution_count": 70,
          "metadata": {},
          "output_type": "execute_result"
        }
      ],
      "source": [
        "len(students)"
      ],
      "id": "ngBwSTRsfUkl"
    },
    {
      "cell_type": "code",
      "execution_count": null,
      "metadata": {
        "id": "MvZYBCpnfUkl",
        "outputId": "2b161b71-18ba-48a6-873b-65d6f93d0af7"
      },
      "outputs": [
        {
          "data": {
            "text/plain": [
              "['Anisha', 'Deb', 'Judy', 'Moumita', 'Surbhi', 'Anuradha', 'Ubaid']"
            ]
          },
          "execution_count": 71,
          "metadata": {},
          "output_type": "execute_result"
        }
      ],
      "source": [
        "students.insert(0, 'Anisha')\n",
        "\n",
        "students"
      ],
      "id": "MvZYBCpnfUkl"
    },
    {
      "cell_type": "code",
      "execution_count": null,
      "metadata": {
        "id": "DzdN7gMPfUkm",
        "outputId": "85855401-6492-403c-acc2-65901d09ec79"
      },
      "outputs": [
        {
          "data": {
            "text/plain": [
              "['Anisha', 'Bansi', 'Deb', 'Judy', 'Moumita', 'Surbhi', 'Anuradha', 'Ubaid']"
            ]
          },
          "execution_count": 72,
          "metadata": {},
          "output_type": "execute_result"
        }
      ],
      "source": [
        "students.insert(1, 'Bansi')\n",
        "\n",
        "students"
      ],
      "id": "DzdN7gMPfUkm"
    },
    {
      "cell_type": "code",
      "execution_count": null,
      "metadata": {
        "id": "M-wu3zw6fUkm",
        "outputId": "f2f25ea3-2249-44e1-fc9b-f1a663e45f04"
      },
      "outputs": [
        {
          "data": {
            "text/plain": [
              "['Eshaan', 'Pranoti', 'Priya']"
            ]
          },
          "execution_count": 73,
          "metadata": {},
          "output_type": "execute_result"
        }
      ],
      "source": [
        "other_students = ['Eshaan', 'Pranoti', 'Priya']\n",
        "\n",
        "other_students"
      ],
      "id": "M-wu3zw6fUkm"
    },
    {
      "cell_type": "code",
      "execution_count": null,
      "metadata": {
        "id": "3N970KP3fUkm",
        "outputId": "764dd620-5287-45d9-b0d6-a8a62fe3beea"
      },
      "outputs": [
        {
          "data": {
            "text/plain": [
              "['Anisha',\n",
              " 'Bansi',\n",
              " 'Deb',\n",
              " 'Judy',\n",
              " 'Moumita',\n",
              " 'Surbhi',\n",
              " 'Anuradha',\n",
              " 'Ubaid',\n",
              " 'Eshaan',\n",
              " 'Pranoti',\n",
              " 'Priya']"
            ]
          },
          "execution_count": 74,
          "metadata": {},
          "output_type": "execute_result"
        }
      ],
      "source": [
        "all_students = students + other_students\n",
        "\n",
        "all_students"
      ],
      "id": "3N970KP3fUkm"
    },
    {
      "cell_type": "code",
      "execution_count": null,
      "metadata": {
        "id": "xjZg3o4KfUkn",
        "outputId": "fc2a0ac7-6e10-4c89-a3f5-a6429adffca5"
      },
      "outputs": [
        {
          "data": {
            "text/plain": [
              "['Anisha',\n",
              " 'Bansi',\n",
              " 'Deb',\n",
              " 'Judy',\n",
              " 'Moumita',\n",
              " 'Surbhi',\n",
              " 'Anuradha',\n",
              " 'Ubaid',\n",
              " 'Elroy',\n",
              " 'Neil']"
            ]
          },
          "execution_count": 75,
          "metadata": {},
          "output_type": "execute_result"
        }
      ],
      "source": [
        "students.extend(['Elroy', 'Neil'])\n",
        "\n",
        "students"
      ],
      "id": "xjZg3o4KfUkn"
    },
    {
      "cell_type": "code",
      "execution_count": null,
      "metadata": {
        "id": "qSpsM-YhfUkn",
        "outputId": "8c43a139-220d-47a7-e527-e89d238e0662"
      },
      "outputs": [
        {
          "data": {
            "text/plain": [
              "['Anisha',\n",
              " 'Bansi',\n",
              " 'Deb',\n",
              " 'Judy',\n",
              " 'Moumita',\n",
              " 'Surbhi',\n",
              " 'Anuradha',\n",
              " 'Ubaid',\n",
              " 'Elroy',\n",
              " 'Neil',\n",
              " 'Kishan',\n",
              " 'Dhwani']"
            ]
          },
          "execution_count": 76,
          "metadata": {},
          "output_type": "execute_result"
        }
      ],
      "source": [
        "students += ['Kishan', 'Dhwani']\n",
        "\n",
        "students"
      ],
      "id": "qSpsM-YhfUkn"
    },
    {
      "cell_type": "code",
      "execution_count": null,
      "metadata": {
        "id": "styC0QmVfUkn",
        "outputId": "285f46cc-935c-4fad-9f41-94a33073e116"
      },
      "outputs": [
        {
          "data": {
            "text/plain": [
              "3"
            ]
          },
          "execution_count": 77,
          "metadata": {},
          "output_type": "execute_result"
        }
      ],
      "source": [
        "students.index('Judy')"
      ],
      "id": "styC0QmVfUkn"
    },
    {
      "cell_type": "code",
      "execution_count": null,
      "metadata": {
        "id": "6p57LEuUfUko",
        "outputId": "0c85d823-f3eb-44f1-f3ea-895c608bef7c"
      },
      "outputs": [
        {
          "ename": "ValueError",
          "evalue": "'kishan' is not in list",
          "output_type": "error",
          "traceback": [
            "\u001b[0;31m---------------------------------------------------------------------------\u001b[0m",
            "\u001b[0;31mValueError\u001b[0m                                Traceback (most recent call last)",
            "\u001b[0;32m<ipython-input-78-fea1c507bf8e>\u001b[0m in \u001b[0;36m<module>\u001b[0;34m\u001b[0m\n\u001b[0;32m----> 1\u001b[0;31m \u001b[0melement_index\u001b[0m \u001b[0;34m=\u001b[0m \u001b[0mstudents\u001b[0m\u001b[0;34m.\u001b[0m\u001b[0mindex\u001b[0m\u001b[0;34m(\u001b[0m\u001b[0;34m'kishan'\u001b[0m\u001b[0;34m)\u001b[0m\u001b[0;34m\u001b[0m\u001b[0;34m\u001b[0m\u001b[0m\n\u001b[0m\u001b[1;32m      2\u001b[0m \u001b[0;34m\u001b[0m\u001b[0m\n\u001b[1;32m      3\u001b[0m \u001b[0melement_index\u001b[0m\u001b[0;34m\u001b[0m\u001b[0;34m\u001b[0m\u001b[0m\n",
            "\u001b[0;31mValueError\u001b[0m: 'kishan' is not in list"
          ]
        }
      ],
      "source": [
        "element_index = students.index('kishan')\n",
        "\n",
        "element_index"
      ],
      "id": "6p57LEuUfUko"
    },
    {
      "cell_type": "code",
      "execution_count": null,
      "metadata": {
        "id": "MiXrXZoNfUko",
        "outputId": "7d91602c-ba1f-4f35-cd98-a434d7d5ed3c"
      },
      "outputs": [
        {
          "data": {
            "text/plain": [
              "10"
            ]
          },
          "execution_count": 79,
          "metadata": {},
          "output_type": "execute_result"
        }
      ],
      "source": [
        "element_index = students.index('Kishan')\n",
        "\n",
        "element_index"
      ],
      "id": "MiXrXZoNfUko"
    },
    {
      "cell_type": "code",
      "execution_count": null,
      "metadata": {
        "id": "XunRh6rkfUko",
        "outputId": "54356782-0539-413a-f3fe-a4e6390822f2"
      },
      "outputs": [
        {
          "data": {
            "text/plain": [
              "['Anisha',\n",
              " 'Bansi',\n",
              " 'Deb',\n",
              " 'Judy',\n",
              " 'Moumita',\n",
              " 'Surbhi',\n",
              " 'Anuradha',\n",
              " 'Ubaid',\n",
              " 'Elroy',\n",
              " 'Neil',\n",
              " 'Dhwani']"
            ]
          },
          "execution_count": 80,
          "metadata": {},
          "output_type": "execute_result"
        }
      ],
      "source": [
        "students.remove('Kishan')\n",
        "\n",
        "students"
      ],
      "id": "XunRh6rkfUko"
    },
    {
      "cell_type": "code",
      "execution_count": null,
      "metadata": {
        "id": "tj7gTfd_fUkp",
        "outputId": "c508f3da-202f-415e-f769-ff34927d45c2"
      },
      "outputs": [
        {
          "data": {
            "text/plain": [
              "['Anisha',\n",
              " 'Bansi',\n",
              " 'Judy',\n",
              " 'Moumita',\n",
              " 'Surbhi',\n",
              " 'Anuradha',\n",
              " 'Ubaid',\n",
              " 'Elroy',\n",
              " 'Neil',\n",
              " 'Dhwani']"
            ]
          },
          "execution_count": 81,
          "metadata": {},
          "output_type": "execute_result"
        }
      ],
      "source": [
        "students.remove('Deb')\n",
        "\n",
        "students"
      ],
      "id": "tj7gTfd_fUkp"
    },
    {
      "cell_type": "code",
      "execution_count": null,
      "metadata": {
        "id": "-f-F2HZlfUkq",
        "outputId": "6d98cfc2-7624-4ccf-f211-ba701c66e7e7"
      },
      "outputs": [
        {
          "data": {
            "text/plain": [
              "['Anisha',\n",
              " 'Anuradha',\n",
              " 'Bansi',\n",
              " 'Dhwani',\n",
              " 'Elroy',\n",
              " 'Judy',\n",
              " 'Moumita',\n",
              " 'Neil',\n",
              " 'Surbhi',\n",
              " 'Ubaid']"
            ]
          },
          "execution_count": 82,
          "metadata": {},
          "output_type": "execute_result"
        }
      ],
      "source": [
        "students.sort()\n",
        "\n",
        "students"
      ],
      "id": "-f-F2HZlfUkq"
    },
    {
      "cell_type": "code",
      "execution_count": null,
      "metadata": {
        "id": "0AlE73CnfUkr",
        "outputId": "81e4f936-579a-4d4c-c098-8b7c7a3da06e"
      },
      "outputs": [
        {
          "data": {
            "text/plain": [
              "['Ubaid',\n",
              " 'Surbhi',\n",
              " 'Neil',\n",
              " 'Moumita',\n",
              " 'Judy',\n",
              " 'Elroy',\n",
              " 'Dhwani',\n",
              " 'Bansi',\n",
              " 'Anuradha',\n",
              " 'Anisha']"
            ]
          },
          "execution_count": 83,
          "metadata": {},
          "output_type": "execute_result"
        }
      ],
      "source": [
        "students.reverse()\n",
        "\n",
        "students"
      ],
      "id": "0AlE73CnfUkr"
    },
    {
      "cell_type": "code",
      "execution_count": null,
      "metadata": {
        "id": "Kkvz5DbsfUks",
        "outputId": "1d754327-3f36-45b5-dba7-3d6389f48ed4"
      },
      "outputs": [
        {
          "data": {
            "text/plain": [
              "['Ubaid',\n",
              " 'Surbhi',\n",
              " 'Neil',\n",
              " 'Moumita',\n",
              " 'Judy',\n",
              " 'Elroy',\n",
              " 'Dhwani',\n",
              " 'Bansi',\n",
              " 'Anuradha']"
            ]
          },
          "execution_count": 84,
          "metadata": {},
          "output_type": "execute_result"
        }
      ],
      "source": [
        "students.pop()\n",
        "\n",
        "students"
      ],
      "id": "Kkvz5DbsfUks"
    },
    {
      "cell_type": "code",
      "execution_count": null,
      "metadata": {
        "id": "Vqof3F2VfUks",
        "outputId": "6609a925-0a19-4c34-a956-2a213efb9408"
      },
      "outputs": [
        {
          "data": {
            "text/plain": [
              "['Ubaid', 'Surbhi', 'Neil', 'Moumita', 'Judy', 'Elroy', 'Dhwani', 'Bansi']"
            ]
          },
          "execution_count": 85,
          "metadata": {},
          "output_type": "execute_result"
        }
      ],
      "source": [
        "students.pop()\n",
        "\n",
        "students"
      ],
      "id": "Vqof3F2VfUks"
    },
    {
      "cell_type": "markdown",
      "metadata": {
        "id": "1wYELuLDfUkt"
      },
      "source": [
        "#### List indices"
      ],
      "id": "1wYELuLDfUkt"
    },
    {
      "cell_type": "code",
      "execution_count": null,
      "metadata": {
        "id": "pgllUoItfUkt",
        "outputId": "dbfbfb46-3c5d-4c3b-e9ff-874e11a5cc4b"
      },
      "outputs": [
        {
          "data": {
            "text/plain": [
              "['Ubaid', 'Surbhi', 'Neil', 'Moumita', 'Judy', 'Elroy', 'Dhwani', 'Bansi']"
            ]
          },
          "execution_count": 86,
          "metadata": {},
          "output_type": "execute_result"
        }
      ],
      "source": [
        "students"
      ],
      "id": "pgllUoItfUkt"
    },
    {
      "cell_type": "code",
      "execution_count": null,
      "metadata": {
        "id": "VXJsyTdafUkt",
        "outputId": "207adfa1-7c45-4c51-f379-0f6e78dd5f3f"
      },
      "outputs": [
        {
          "data": {
            "text/plain": [
              "'Bansi'"
            ]
          },
          "execution_count": 87,
          "metadata": {},
          "output_type": "execute_result"
        }
      ],
      "source": [
        "students[-1]"
      ],
      "id": "VXJsyTdafUkt"
    },
    {
      "cell_type": "code",
      "execution_count": null,
      "metadata": {
        "id": "Nw4qVS6JfUku",
        "outputId": "3d45912f-d50b-4c9b-bbb4-2b86a49aa3c6"
      },
      "outputs": [
        {
          "data": {
            "text/plain": [
              "'Dhwani'"
            ]
          },
          "execution_count": 88,
          "metadata": {},
          "output_type": "execute_result"
        }
      ],
      "source": [
        "students[-2]"
      ],
      "id": "Nw4qVS6JfUku"
    },
    {
      "cell_type": "markdown",
      "metadata": {
        "id": "s_ncd4MKfUku"
      },
      "source": [
        "#### Slicing lists"
      ],
      "id": "s_ncd4MKfUku"
    },
    {
      "cell_type": "code",
      "execution_count": null,
      "metadata": {
        "id": "9mBJg0elfUku",
        "outputId": "881b19f4-963e-4667-bb10-1042462eb9d1"
      },
      "outputs": [
        {
          "data": {
            "text/plain": [
              "['Ubaid', 'Surbhi', 'Neil', 'Moumita', 'Judy', 'Elroy', 'Dhwani', 'Bansi']"
            ]
          },
          "execution_count": 89,
          "metadata": {},
          "output_type": "execute_result"
        }
      ],
      "source": [
        "students"
      ],
      "id": "9mBJg0elfUku"
    },
    {
      "cell_type": "code",
      "execution_count": null,
      "metadata": {
        "id": "ywsh9koufUku",
        "outputId": "016ab653-8b6e-4d5c-8cc9-cb839312d3bb"
      },
      "outputs": [
        {
          "data": {
            "text/plain": [
              "['Ubaid', 'Surbhi']"
            ]
          },
          "execution_count": 90,
          "metadata": {},
          "output_type": "execute_result"
        }
      ],
      "source": [
        "students[0:2]"
      ],
      "id": "ywsh9koufUku"
    },
    {
      "cell_type": "code",
      "execution_count": null,
      "metadata": {
        "id": "8WLps-pNfUkv",
        "outputId": "18110027-9dbc-4918-f273-df091e73e893"
      },
      "outputs": [
        {
          "data": {
            "text/plain": [
              "['Ubaid', 'Surbhi', 'Neil', 'Moumita']"
            ]
          },
          "execution_count": 91,
          "metadata": {},
          "output_type": "execute_result"
        }
      ],
      "source": [
        "students[0:4]"
      ],
      "id": "8WLps-pNfUkv"
    },
    {
      "cell_type": "code",
      "execution_count": null,
      "metadata": {
        "id": "k7J3o5zpfUkv",
        "outputId": "6cd5301b-d1a2-4c28-b00d-cf7487b9a0d0"
      },
      "outputs": [
        {
          "data": {
            "text/plain": [
              "['Moumita', 'Judy', 'Elroy', 'Dhwani']"
            ]
          },
          "execution_count": 92,
          "metadata": {},
          "output_type": "execute_result"
        }
      ],
      "source": [
        "students[3:7]"
      ],
      "id": "k7J3o5zpfUkv"
    },
    {
      "cell_type": "code",
      "execution_count": null,
      "metadata": {
        "id": "ttWJ9nnSfUkv",
        "outputId": "5e2a0219-358d-456c-cf49-d5ecbfff182e"
      },
      "outputs": [
        {
          "data": {
            "text/plain": [
              "['Ubaid', 'Surbhi', 'Neil']"
            ]
          },
          "execution_count": 93,
          "metadata": {},
          "output_type": "execute_result"
        }
      ],
      "source": [
        "students[:3]"
      ],
      "id": "ttWJ9nnSfUkv"
    },
    {
      "cell_type": "code",
      "execution_count": null,
      "metadata": {
        "id": "9Y6TOvTMfUkw",
        "outputId": "852116c7-965a-4161-dfc9-c3a214433423"
      },
      "outputs": [
        {
          "data": {
            "text/plain": [
              "['Moumita', 'Judy', 'Elroy', 'Dhwani', 'Bansi']"
            ]
          },
          "execution_count": 94,
          "metadata": {},
          "output_type": "execute_result"
        }
      ],
      "source": [
        "students[3:]"
      ],
      "id": "9Y6TOvTMfUkw"
    },
    {
      "cell_type": "code",
      "execution_count": null,
      "metadata": {
        "id": "QdS0OPmHfUkw",
        "outputId": "3c223d38-4422-4829-b2f2-70b17b38139e"
      },
      "outputs": [
        {
          "data": {
            "text/plain": [
              "['Ubaid', 'Surbhi', 'Neil', 'Moumita', 'Judy', 'Elroy']"
            ]
          },
          "execution_count": 95,
          "metadata": {},
          "output_type": "execute_result"
        }
      ],
      "source": [
        "students[:-2]"
      ],
      "id": "QdS0OPmHfUkw"
    },
    {
      "cell_type": "code",
      "execution_count": null,
      "metadata": {
        "id": "7HAqmDJmfUkw",
        "outputId": "c89c346d-34a4-4cbc-b070-9d18e7bcbf00"
      },
      "outputs": [
        {
          "data": {
            "text/plain": [
              "['Ubaid', 'Surbhi', 'Neil', 'Moumita']"
            ]
          },
          "execution_count": 96,
          "metadata": {},
          "output_type": "execute_result"
        }
      ],
      "source": [
        "students[:-4]"
      ],
      "id": "7HAqmDJmfUkw"
    },
    {
      "cell_type": "code",
      "execution_count": null,
      "metadata": {
        "id": "-Qo60eayfUkx",
        "outputId": "18676b28-8eb4-45f2-f9f1-28fc3e5b524e"
      },
      "outputs": [
        {
          "data": {
            "text/plain": [
              "['Surbhi', 'Neil', 'Moumita', 'Judy', 'Elroy']"
            ]
          },
          "execution_count": 97,
          "metadata": {},
          "output_type": "execute_result"
        }
      ],
      "source": [
        "students[1:-2]"
      ],
      "id": "-Qo60eayfUkx"
    },
    {
      "cell_type": "code",
      "execution_count": null,
      "metadata": {
        "id": "EX_w4j2WfUkx",
        "outputId": "94d12ab1-c8c8-4d22-da93-ddea0132770a"
      },
      "outputs": [
        {
          "data": {
            "text/plain": [
              "['Judy', 'Elroy']"
            ]
          },
          "execution_count": 98,
          "metadata": {},
          "output_type": "execute_result"
        }
      ],
      "source": [
        "students[-4:-2]"
      ],
      "id": "EX_w4j2WfUkx"
    },
    {
      "cell_type": "code",
      "execution_count": null,
      "metadata": {
        "id": "-jfbxCTKfUkx",
        "outputId": "16234738-b515-425f-fb03-9bbc9b3a6dca"
      },
      "outputs": [
        {
          "data": {
            "text/plain": [
              "['Ubaid', 'Akshar', 'Amit', 'Moumita', 'Judy', 'Elroy', 'Dhwani', 'Bansi']"
            ]
          },
          "execution_count": 99,
          "metadata": {},
          "output_type": "execute_result"
        }
      ],
      "source": [
        "students[1:3] = ['Akshar', 'Amit']\n",
        "\n",
        "students"
      ],
      "id": "-jfbxCTKfUkx"
    },
    {
      "cell_type": "markdown",
      "metadata": {
        "id": "opNmWjEFfUkx"
      },
      "source": [
        "#### Nested lists"
      ],
      "id": "opNmWjEFfUkx"
    },
    {
      "cell_type": "code",
      "execution_count": null,
      "metadata": {
        "id": "5da80Kx_fUky",
        "outputId": "1b70b33b-acfb-4224-f957-b62d58606e18"
      },
      "outputs": [
        {
          "data": {
            "text/plain": [
              "[[10, 20, 30], [100, 200, 300]]"
            ]
          },
          "execution_count": 100,
          "metadata": {},
          "output_type": "execute_result"
        }
      ],
      "source": [
        "matrix = [[10, 20, 30], [100, 200, 300]]\n",
        "\n",
        "matrix"
      ],
      "id": "5da80Kx_fUky"
    },
    {
      "cell_type": "code",
      "execution_count": null,
      "metadata": {
        "id": "31M7FNHjfUky",
        "outputId": "c676342f-fa91-4c05-80ee-8704f3706f08"
      },
      "outputs": [
        {
          "data": {
            "text/plain": [
              "10"
            ]
          },
          "execution_count": 101,
          "metadata": {},
          "output_type": "execute_result"
        }
      ],
      "source": [
        "matrix[0][0]"
      ],
      "id": "31M7FNHjfUky"
    },
    {
      "cell_type": "code",
      "execution_count": null,
      "metadata": {
        "id": "emPY7nL8fUky",
        "outputId": "29ccb728-331c-47cb-9698-cc8bbc0592e5"
      },
      "outputs": [
        {
          "data": {
            "text/plain": [
              "20"
            ]
          },
          "execution_count": 102,
          "metadata": {},
          "output_type": "execute_result"
        }
      ],
      "source": [
        "matrix[0][1]"
      ],
      "id": "emPY7nL8fUky"
    },
    {
      "cell_type": "code",
      "execution_count": null,
      "metadata": {
        "id": "b6MIsaaBfUky",
        "outputId": "fa4bbfd2-9b3c-4389-a08f-907e6824695c"
      },
      "outputs": [
        {
          "data": {
            "text/plain": [
              "30"
            ]
          },
          "execution_count": 103,
          "metadata": {},
          "output_type": "execute_result"
        }
      ],
      "source": [
        "matrix[0][2]"
      ],
      "id": "b6MIsaaBfUky"
    },
    {
      "cell_type": "code",
      "execution_count": null,
      "metadata": {
        "id": "nmY53T8GfUkz",
        "outputId": "1b0fdb30-5bbc-427e-9d93-33ac4c686cfe"
      },
      "outputs": [
        {
          "data": {
            "text/plain": [
              "100"
            ]
          },
          "execution_count": 104,
          "metadata": {},
          "output_type": "execute_result"
        }
      ],
      "source": [
        "matrix[1][0]"
      ],
      "id": "nmY53T8GfUkz"
    },
    {
      "cell_type": "code",
      "execution_count": null,
      "metadata": {
        "id": "wNgspWp1fUkz",
        "outputId": "3ecf1fe2-d8cc-4d8c-afd0-31d0a8b08e02"
      },
      "outputs": [
        {
          "data": {
            "text/plain": [
              "2"
            ]
          },
          "execution_count": 105,
          "metadata": {},
          "output_type": "execute_result"
        }
      ],
      "source": [
        "len(matrix)"
      ],
      "id": "wNgspWp1fUkz"
    },
    {
      "cell_type": "code",
      "execution_count": null,
      "metadata": {
        "id": "dkBlpQXHfUkz",
        "outputId": "c5952575-6663-4293-a387-44fa65d328c3"
      },
      "outputs": [
        {
          "data": {
            "text/plain": [
              "3"
            ]
          },
          "execution_count": 106,
          "metadata": {},
          "output_type": "execute_result"
        }
      ],
      "source": [
        "len(matrix[0])"
      ],
      "id": "dkBlpQXHfUkz"
    },
    {
      "cell_type": "markdown",
      "metadata": {
        "id": "1Rb6-BgmfUk0"
      },
      "source": [
        "#### List copies"
      ],
      "id": "1Rb6-BgmfUk0"
    },
    {
      "cell_type": "code",
      "execution_count": null,
      "metadata": {
        "id": "SodYJGk8fUk0"
      },
      "outputs": [],
      "source": [
        "students_copy = students"
      ],
      "id": "SodYJGk8fUk0"
    },
    {
      "cell_type": "code",
      "execution_count": null,
      "metadata": {
        "id": "sRWPf50gfUk0",
        "outputId": "16976335-72ad-4a38-e327-dd7aefb4dc73"
      },
      "outputs": [
        {
          "data": {
            "text/plain": [
              "['Ubaid', 'Akshar', 'Amit', 'Moumita', 'Judy', 'Elroy', 'Dhwani', 'Bansi']"
            ]
          },
          "execution_count": 108,
          "metadata": {},
          "output_type": "execute_result"
        }
      ],
      "source": [
        "students_copy"
      ],
      "id": "sRWPf50gfUk0"
    },
    {
      "cell_type": "code",
      "execution_count": null,
      "metadata": {
        "id": "aNa0C3fLfUk0"
      },
      "outputs": [],
      "source": [
        "students.remove('Ubaid')"
      ],
      "id": "aNa0C3fLfUk0"
    },
    {
      "cell_type": "code",
      "execution_count": null,
      "metadata": {
        "id": "u9qTmyp8fUk1",
        "outputId": "71b4d227-b790-4fd7-be96-6bd0ca1ba042"
      },
      "outputs": [
        {
          "data": {
            "text/plain": [
              "['Akshar', 'Amit', 'Moumita', 'Judy', 'Elroy', 'Dhwani', 'Bansi']"
            ]
          },
          "execution_count": 110,
          "metadata": {},
          "output_type": "execute_result"
        }
      ],
      "source": [
        "students_copy"
      ],
      "id": "u9qTmyp8fUk1"
    },
    {
      "cell_type": "code",
      "execution_count": null,
      "metadata": {
        "id": "T0jnxIMpfUk1",
        "outputId": "68757f1b-5785-4e64-a3ea-f30363a0d363"
      },
      "outputs": [
        {
          "ename": "ValueError",
          "evalue": "list.remove(x): x not in list",
          "output_type": "error",
          "traceback": [
            "\u001b[0;31m---------------------------------------------------------------------------\u001b[0m",
            "\u001b[0;31mValueError\u001b[0m                                Traceback (most recent call last)",
            "\u001b[0;32m<ipython-input-111-96cabb53908f>\u001b[0m in \u001b[0;36m<module>\u001b[0;34m\u001b[0m\n\u001b[0;32m----> 1\u001b[0;31m \u001b[0mstudents_copy\u001b[0m\u001b[0;34m.\u001b[0m\u001b[0mremove\u001b[0m\u001b[0;34m(\u001b[0m\u001b[0;34m'Surbhi'\u001b[0m\u001b[0;34m)\u001b[0m\u001b[0;34m\u001b[0m\u001b[0;34m\u001b[0m\u001b[0m\n\u001b[0m",
            "\u001b[0;31mValueError\u001b[0m: list.remove(x): x not in list"
          ]
        }
      ],
      "source": [
        "students_copy.remove('Surbhi')"
      ],
      "id": "T0jnxIMpfUk1"
    },
    {
      "cell_type": "code",
      "execution_count": null,
      "metadata": {
        "id": "j0d0EYjmfUk1",
        "outputId": "090089f1-35d0-4f04-9538-cfc26b89ce8b"
      },
      "outputs": [
        {
          "data": {
            "text/plain": [
              "['Akshar', 'Amit', 'Moumita', 'Judy', 'Elroy', 'Dhwani', 'Bansi']"
            ]
          },
          "execution_count": 112,
          "metadata": {},
          "output_type": "execute_result"
        }
      ],
      "source": [
        "students"
      ],
      "id": "j0d0EYjmfUk1"
    },
    {
      "cell_type": "markdown",
      "metadata": {
        "id": "ssU2Oq8gfUk1"
      },
      "source": [
        "#### Built-in functions with list"
      ],
      "id": "ssU2Oq8gfUk1"
    },
    {
      "cell_type": "code",
      "execution_count": null,
      "metadata": {
        "id": "zPVPn2WIfUk2",
        "outputId": "938f9df2-48ac-41e4-ddbb-6567b0a38734"
      },
      "outputs": [
        {
          "data": {
            "text/plain": [
              "[5, 10, 15, 20, 25, 30]"
            ]
          },
          "execution_count": 113,
          "metadata": {},
          "output_type": "execute_result"
        }
      ],
      "source": [
        "int_list"
      ],
      "id": "zPVPn2WIfUk2"
    },
    {
      "cell_type": "code",
      "execution_count": null,
      "metadata": {
        "id": "76Blt_RbfUk2",
        "outputId": "55e0b53f-e5d1-4d33-c216-7aa9f3065945"
      },
      "outputs": [
        {
          "data": {
            "text/plain": [
              "6"
            ]
          },
          "execution_count": 114,
          "metadata": {},
          "output_type": "execute_result"
        }
      ],
      "source": [
        "len(int_list)"
      ],
      "id": "76Blt_RbfUk2"
    },
    {
      "cell_type": "code",
      "execution_count": null,
      "metadata": {
        "id": "JbYUB7KvfUk2",
        "outputId": "18412bca-67af-4545-c7b8-ad1e885b7953"
      },
      "outputs": [
        {
          "data": {
            "text/plain": [
              "30"
            ]
          },
          "execution_count": 115,
          "metadata": {},
          "output_type": "execute_result"
        }
      ],
      "source": [
        "max(int_list)"
      ],
      "id": "JbYUB7KvfUk2"
    },
    {
      "cell_type": "code",
      "execution_count": null,
      "metadata": {
        "id": "FvnjJV3ZfUk4",
        "outputId": "b76f5398-fa77-4b0e-ee04-89dc2bad02e4"
      },
      "outputs": [
        {
          "data": {
            "text/plain": [
              "5"
            ]
          },
          "execution_count": 116,
          "metadata": {},
          "output_type": "execute_result"
        }
      ],
      "source": [
        "min(int_list)"
      ],
      "id": "FvnjJV3ZfUk4"
    },
    {
      "cell_type": "code",
      "execution_count": null,
      "metadata": {
        "id": "y5Kv41oHfUk5",
        "outputId": "cfde9252-0514-4750-d77a-2e4018127ad5"
      },
      "outputs": [
        {
          "data": {
            "text/plain": [
              "105"
            ]
          },
          "execution_count": 117,
          "metadata": {},
          "output_type": "execute_result"
        }
      ],
      "source": [
        "sum(int_list)"
      ],
      "id": "y5Kv41oHfUk5"
    },
    {
      "cell_type": "code",
      "execution_count": null,
      "metadata": {
        "id": "kbn5MLexfUk5",
        "outputId": "2d153d8f-6f33-4831-cdff-0f8fd0248a00"
      },
      "outputs": [
        {
          "data": {
            "text/plain": [
              "[5, 10, 15, 20, 25, 30, 3, 9, 2, 1]"
            ]
          },
          "execution_count": 118,
          "metadata": {},
          "output_type": "execute_result"
        }
      ],
      "source": [
        "int_list.extend([3, 9, 2, 1])\n",
        "\n",
        "int_list"
      ],
      "id": "kbn5MLexfUk5"
    },
    {
      "cell_type": "code",
      "execution_count": null,
      "metadata": {
        "id": "mFxGLelffUk6"
      },
      "outputs": [],
      "source": [
        "sorted_list = sorted(int_list)"
      ],
      "id": "mFxGLelffUk6"
    },
    {
      "cell_type": "code",
      "execution_count": null,
      "metadata": {
        "id": "K7ZzOWUXfUk7",
        "outputId": "a1c1b019-e038-4612-a788-5c6a876ed2d9"
      },
      "outputs": [
        {
          "data": {
            "text/plain": [
              "[1, 2, 3, 5, 9, 10, 15, 20, 25, 30]"
            ]
          },
          "execution_count": 120,
          "metadata": {},
          "output_type": "execute_result"
        }
      ],
      "source": [
        "sorted_list"
      ],
      "id": "K7ZzOWUXfUk7"
    },
    {
      "cell_type": "code",
      "execution_count": null,
      "metadata": {
        "id": "rTTCAaz8fUk9",
        "outputId": "da65c16f-61d8-4e88-efae-f55c047a6b95"
      },
      "outputs": [
        {
          "data": {
            "text/plain": [
              "[5, 10, 15, 20, 25, 30, 3, 9, 2, 1]"
            ]
          },
          "execution_count": 121,
          "metadata": {},
          "output_type": "execute_result"
        }
      ],
      "source": [
        "int_list"
      ],
      "id": "rTTCAaz8fUk9"
    },
    {
      "cell_type": "code",
      "execution_count": null,
      "metadata": {
        "id": "6cItwB2GfUk9",
        "outputId": "8d74e614-6dc6-4fd4-8d84-6cd1fb74379c"
      },
      "outputs": [
        {
          "data": {
            "text/plain": [
              "[1, 2, 3, 5, 9, 10, 15, 20, 25, 30]"
            ]
          },
          "execution_count": 122,
          "metadata": {},
          "output_type": "execute_result"
        }
      ],
      "source": [
        "int_list.sort()\n",
        "\n",
        "int_list"
      ],
      "id": "6cItwB2GfUk9"
    },
    {
      "cell_type": "code",
      "execution_count": null,
      "metadata": {
        "id": "3Trsc3B6fUk-"
      },
      "outputs": [],
      "source": [],
      "id": "3Trsc3B6fUk-"
    },
    {
      "cell_type": "code",
      "execution_count": null,
      "metadata": {
        "id": "n0HAItUrfUk-"
      },
      "outputs": [],
      "source": [],
      "id": "n0HAItUrfUk-"
    },
    {
      "cell_type": "code",
      "execution_count": null,
      "metadata": {
        "id": "FTP5q634fUk-"
      },
      "outputs": [],
      "source": [],
      "id": "FTP5q634fUk-"
    },
    {
      "cell_type": "markdown",
      "metadata": {
        "id": "V7jSPkqPfUk-"
      },
      "source": [
        "# Tuples"
      ],
      "id": "V7jSPkqPfUk-"
    },
    {
      "cell_type": "markdown",
      "metadata": {
        "id": "YAqPB3GZfUk_"
      },
      "source": [
        "1. A tuple is a collection of objects which are ordered and immutable. \n",
        "\n",
        "\n",
        "2. Tuples are sequences, just like lists. \n",
        "\n",
        "\n",
        "3. The differences between tuples and lists are, the tuples cannot be changed unlike lists and tuples use parentheses, whereas lists use square brackets"
      ],
      "id": "YAqPB3GZfUk_"
    },
    {
      "cell_type": "markdown",
      "metadata": {
        "id": "I-j-t9KnfUk_"
      },
      "source": [
        "In Python, there are different data types: string, integer and float. These data types can all be contained in a tuple as follows:"
      ],
      "id": "I-j-t9KnfUk_"
    },
    {
      "cell_type": "markdown",
      "metadata": {
        "id": "IR-LMLBqfUk_"
      },
      "source": [
        "<img src=\"https://s3-api.us-geo.objectstorage.softlayer.net/cf-courses-data/CognitiveClass/PY0101EN/Chapter%202/Images/TuplesType.png\" width=\"750\" align=\"center\" />"
      ],
      "id": "IR-LMLBqfUk_"
    },
    {
      "cell_type": "markdown",
      "metadata": {
        "id": "YQzaNeW5fUlA"
      },
      "source": [
        "Create a tuple by placing all the elements inside round bracket "
      ],
      "id": "YQzaNeW5fUlA"
    },
    {
      "cell_type": "code",
      "execution_count": null,
      "metadata": {
        "id": "uryfFErCfUlA",
        "outputId": "b8cf2594-f498-4547-f202-346225c984d3"
      },
      "outputs": [
        {
          "data": {
            "text/plain": [
              "('Raj', 'John', 'Sita', 'Kia')"
            ]
          },
          "execution_count": 7,
          "metadata": {},
          "output_type": "execute_result"
        }
      ],
      "source": [
        "# create a String tuple\n",
        "names = ('Raj', 'John', 'Sita', 'Kia') \n",
        "names\n"
      ],
      "id": "uryfFErCfUlA"
    },
    {
      "cell_type": "code",
      "execution_count": null,
      "metadata": {
        "id": "CwxVGuz_fUlA",
        "outputId": "0b069274-9325-43e6-bd93-15fd0a68e865"
      },
      "outputs": [
        {
          "data": {
            "text/plain": [
              "(2, 3, 4, 5, 6, 7)"
            ]
          },
          "execution_count": 8,
          "metadata": {},
          "output_type": "execute_result"
        }
      ],
      "source": [
        "# create a int tuple\n",
        "tup_int = (2,3,4,5,6,7) \n",
        "tup_int"
      ],
      "id": "CwxVGuz_fUlA"
    },
    {
      "cell_type": "code",
      "execution_count": null,
      "metadata": {
        "id": "efQbauRRfUlB",
        "outputId": "e20cd61d-3a9e-474f-b1e6-f5421817a673"
      },
      "outputs": [
        {
          "data": {
            "text/plain": [
              "(2.2, 3.7, 4.7, 5.2, 6.2, 7.5)"
            ]
          },
          "execution_count": 9,
          "metadata": {},
          "output_type": "execute_result"
        }
      ],
      "source": [
        "# create a float tuple\n",
        "tup_float = (2.2,3.7,4.7,5.2,6.2,7.5) \n",
        "tup_float"
      ],
      "id": "efQbauRRfUlB"
    },
    {
      "cell_type": "code",
      "execution_count": null,
      "metadata": {
        "id": "1_NJs149fUlB",
        "outputId": "b24e0d0a-3a87-4012-d847-f6e3e4819333"
      },
      "outputs": [
        {
          "data": {
            "text/plain": [
              "(2, 3.5, 'raj', 'a')"
            ]
          },
          "execution_count": 10,
          "metadata": {},
          "output_type": "execute_result"
        }
      ],
      "source": [
        "# create a Mix tuple\n",
        "tup_mix = (2,3.5,\"raj\",'a') \n",
        "tup_mix"
      ],
      "id": "1_NJs149fUlB"
    },
    {
      "cell_type": "markdown",
      "metadata": {
        "id": "GASrRYccfUlC"
      },
      "source": [
        "tuple() constructor"
      ],
      "id": "GASrRYccfUlC"
    },
    {
      "cell_type": "code",
      "execution_count": null,
      "metadata": {
        "id": "Mpr7A-yLfUlC",
        "outputId": "b40509e6-fe26-43d0-8b6c-a00812b1e4a2"
      },
      "outputs": [
        {
          "data": {
            "text/plain": [
              "('Raj', 'John', 'Sita', 'Kia')"
            ]
          },
          "execution_count": 2,
          "metadata": {},
          "output_type": "execute_result"
        }
      ],
      "source": [
        "# create a tuple using tuple() constructor\n",
        "names = tuple(('Raj', 'John', 'Sita', 'Kia'))\n",
        "names\n"
      ],
      "id": "Mpr7A-yLfUlC"
    },
    {
      "cell_type": "markdown",
      "metadata": {
        "id": "gq__JWSXfUlD"
      },
      "source": [
        "# Acess Tuple Elements\n",
        "\n",
        "\n",
        "Refer index number inside the square bracket to access the elements\n"
      ],
      "id": "gq__JWSXfUlD"
    },
    {
      "cell_type": "code",
      "execution_count": null,
      "metadata": {
        "id": "6jwvXlBWfUlD",
        "outputId": "0347eff2-2943-4034-e361-5cf36075a8f0"
      },
      "outputs": [
        {
          "data": {
            "text/plain": [
              "('Raj', 'John', 'Sita', 'Kia')"
            ]
          },
          "execution_count": 10,
          "metadata": {},
          "output_type": "execute_result"
        }
      ],
      "source": [
        "names"
      ],
      "id": "6jwvXlBWfUlD"
    },
    {
      "cell_type": "markdown",
      "metadata": {
        "id": "mAQ3lmoXfUlE"
      },
      "source": [
        "### Accessing one Item/ Element from tuple is Indexing"
      ],
      "id": "mAQ3lmoXfUlE"
    },
    {
      "cell_type": "markdown",
      "metadata": {
        "id": "REzUmu9efUlE"
      },
      "source": [
        "Each element of a tuple can be accessed via an index. The following table represents the relationship between the index and the items in the tuple. Each element can be obtained by the name of the tuple followed by a square bracket with the index number:"
      ],
      "id": "REzUmu9efUlE"
    },
    {
      "cell_type": "code",
      "execution_count": null,
      "metadata": {
        "id": "WDXC0qwKfUlE",
        "outputId": "0fad2a46-0a9d-461f-c913-00dd8a742f04"
      },
      "outputs": [
        {
          "data": {
            "text/plain": [
              "('disco', 10, 1.2)"
            ]
          },
          "execution_count": 45,
          "metadata": {},
          "output_type": "execute_result"
        }
      ],
      "source": [
        "L=(\"disco\",10,1.2)\n",
        "L"
      ],
      "id": "WDXC0qwKfUlE"
    },
    {
      "cell_type": "markdown",
      "metadata": {
        "id": "Snhz2UPNfUlF"
      },
      "source": [
        "<img src=\"https://s3-api.us-geo.objectstorage.softlayer.net/cf-courses-data/CognitiveClass/PY0101EN/Chapter%202/Images/TuplesIndex.gif\" width=\"750\" align=\"center\">"
      ],
      "id": "Snhz2UPNfUlF"
    },
    {
      "cell_type": "markdown",
      "metadata": {
        "id": "FhxfMKk1fUlF"
      },
      "source": [
        "#### Positive Indexing"
      ],
      "id": "FhxfMKk1fUlF"
    },
    {
      "cell_type": "code",
      "execution_count": null,
      "metadata": {
        "id": "BDxC5JrDfUlG",
        "outputId": "58bd3b47-4afa-4c83-c79f-57291978388e"
      },
      "outputs": [
        {
          "data": {
            "text/plain": [
              "('Raj', 'John', 'Sita', 'Kia')"
            ]
          },
          "execution_count": 6,
          "metadata": {},
          "output_type": "execute_result"
        }
      ],
      "source": [
        "names"
      ],
      "id": "BDxC5JrDfUlG"
    },
    {
      "cell_type": "code",
      "execution_count": null,
      "metadata": {
        "id": "NrDrm-3bfUlG",
        "outputId": "dafc8261-3a0a-4301-b6ba-10f4a2ac12f7"
      },
      "outputs": [
        {
          "data": {
            "text/plain": [
              "'Sita'"
            ]
          },
          "execution_count": 12,
          "metadata": {},
          "output_type": "execute_result"
        }
      ],
      "source": [
        "# display the third element from the tuple\n",
        "names[2]"
      ],
      "id": "NrDrm-3bfUlG"
    },
    {
      "cell_type": "markdown",
      "metadata": {
        "id": "fayl3sRffUlG"
      },
      "source": [
        "#### Negative Indexing"
      ],
      "id": "fayl3sRffUlG"
    },
    {
      "cell_type": "code",
      "execution_count": null,
      "metadata": {
        "id": "r_yGR-2rfUlH",
        "outputId": "d3a0b49b-fe46-44d5-c3eb-87cab8838d99"
      },
      "outputs": [
        {
          "data": {
            "text/plain": [
              "('disco', 10, 1.2)"
            ]
          },
          "execution_count": 47,
          "metadata": {},
          "output_type": "execute_result"
        }
      ],
      "source": [
        "L=(\"disco\",10,1.2 )\n",
        "L"
      ],
      "id": "r_yGR-2rfUlH"
    },
    {
      "cell_type": "markdown",
      "metadata": {
        "id": "v3r_HfKGfUlI"
      },
      "source": [
        "<img src=\"https://s3-api.us-geo.objectstorage.softlayer.net/cf-courses-data/CognitiveClass/PY0101EN/Chapter%202/Images/TuplesNeg.png\" width=\"750\" align=\"center\">"
      ],
      "id": "v3r_HfKGfUlI"
    },
    {
      "cell_type": "code",
      "execution_count": null,
      "metadata": {
        "id": "871hCGWJfUlI",
        "outputId": "c6bae01b-ba7d-4c46-9d42-2185c9673d69"
      },
      "outputs": [
        {
          "data": {
            "text/plain": [
              "('Raj', 'John', 'Sita', 'Kia')"
            ]
          },
          "execution_count": 48,
          "metadata": {},
          "output_type": "execute_result"
        }
      ],
      "source": [
        "names"
      ],
      "id": "871hCGWJfUlI"
    },
    {
      "cell_type": "code",
      "execution_count": null,
      "metadata": {
        "id": "ewucjSIffUlJ",
        "outputId": "fb34494b-792b-4762-968b-00835ce122fe"
      },
      "outputs": [
        {
          "data": {
            "text/plain": [
              "'Sita'"
            ]
          },
          "execution_count": 13,
          "metadata": {},
          "output_type": "execute_result"
        }
      ],
      "source": [
        "names[-2]"
      ],
      "id": "ewucjSIffUlJ"
    },
    {
      "cell_type": "markdown",
      "metadata": {
        "id": "uZIzVF-cfUlK"
      },
      "source": [
        "### Accessing two Item/Element from Tuple is slicing"
      ],
      "id": "uZIzVF-cfUlK"
    },
    {
      "cell_type": "code",
      "execution_count": null,
      "metadata": {
        "id": "VfoD0Nw9fUlK",
        "outputId": "02fc6914-0dd9-49a8-8101-ff59690b044b"
      },
      "outputs": [
        {
          "data": {
            "text/plain": [
              "('disco', 10, 1.2, 'hard rock', 10)"
            ]
          },
          "execution_count": 14,
          "metadata": {},
          "output_type": "execute_result"
        }
      ],
      "source": [
        "tuple2 = (\"disco\",10,1.2,\"hard rock\", 10)\n",
        "tuple2"
      ],
      "id": "VfoD0Nw9fUlK"
    },
    {
      "cell_type": "code",
      "execution_count": null,
      "metadata": {
        "id": "1AO0G5VpfUlL",
        "outputId": "72175f97-69c7-4861-c906-46ab3032e40e"
      },
      "outputs": [
        {
          "data": {
            "text/plain": [
              "('disco', 10, 1.2)"
            ]
          },
          "execution_count": 15,
          "metadata": {},
          "output_type": "execute_result"
        }
      ],
      "source": [
        "tuple2[0:3]"
      ],
      "id": "1AO0G5VpfUlL"
    },
    {
      "cell_type": "code",
      "execution_count": null,
      "metadata": {
        "id": "qJLm9GN9fUlN",
        "outputId": "a0151047-15f8-43c8-b1d5-a392c2581b7e"
      },
      "outputs": [
        {
          "data": {
            "text/plain": [
              "('hard rock', 10)"
            ]
          },
          "execution_count": 16,
          "metadata": {},
          "output_type": "execute_result"
        }
      ],
      "source": [
        "tuple2[3:5]"
      ],
      "id": "qJLm9GN9fUlN"
    },
    {
      "cell_type": "markdown",
      "metadata": {
        "id": "EmNZomyefUlN"
      },
      "source": [
        "<img src=\"https://s3-api.us-geo.objectstorage.softlayer.net/cf-courses-data/CognitiveClass/PY0101EN/Chapter%202/Images/TuplesSlice.gif\" width=\"750\" align=\"center\">"
      ],
      "id": "EmNZomyefUlN"
    },
    {
      "cell_type": "code",
      "execution_count": null,
      "metadata": {
        "id": "Lt0lWjXwfUlO",
        "outputId": "c9678454-c6e2-42dd-be8a-7327734be3a5"
      },
      "outputs": [
        {
          "data": {
            "text/plain": [
              "('Raj', 'John', 'Sita', 'Kia')"
            ]
          },
          "execution_count": 13,
          "metadata": {},
          "output_type": "execute_result"
        }
      ],
      "source": [
        "names"
      ],
      "id": "Lt0lWjXwfUlO"
    },
    {
      "cell_type": "code",
      "execution_count": null,
      "metadata": {
        "id": "U-DmoKcHfUlO",
        "outputId": "f9ab328f-e382-48c9-b63a-640b88c8c6f2"
      },
      "outputs": [
        {
          "data": {
            "text/plain": [
              "('Raj', 'John')"
            ]
          },
          "execution_count": 17,
          "metadata": {},
          "output_type": "execute_result"
        }
      ],
      "source": [
        "names[0:2]"
      ],
      "id": "U-DmoKcHfUlO"
    },
    {
      "cell_type": "code",
      "execution_count": null,
      "metadata": {
        "id": "3K4-0PQTfUlP",
        "outputId": "ae227488-0e97-499c-83a6-c00449bbb5f7"
      },
      "outputs": [
        {
          "data": {
            "text/plain": [
              "('Raj', 'John', 'Sita', 'Kia')"
            ]
          },
          "execution_count": 18,
          "metadata": {},
          "output_type": "execute_result"
        }
      ],
      "source": [
        "names[:]"
      ],
      "id": "3K4-0PQTfUlP"
    },
    {
      "cell_type": "code",
      "execution_count": null,
      "metadata": {
        "id": "VYwNXM1ofUlP",
        "outputId": "dfea5ac7-2878-4e83-f5b0-91a81f2de78c"
      },
      "outputs": [
        {
          "data": {
            "text/plain": [
              "('John', 'Sita')"
            ]
          },
          "execution_count": 19,
          "metadata": {},
          "output_type": "execute_result"
        }
      ],
      "source": [
        "names[-3:-1]"
      ],
      "id": "VYwNXM1ofUlP"
    },
    {
      "cell_type": "markdown",
      "metadata": {
        "id": "Q1Ev7cp3fUlP"
      },
      "source": [
        "# Acceessing Item/Element in tuple at different position is Stride"
      ],
      "id": "Q1Ev7cp3fUlP"
    },
    {
      "cell_type": "code",
      "execution_count": null,
      "metadata": {
        "id": "mlx6yawefUlQ",
        "outputId": "63ac63b4-c025-4503-95ea-bc43638bddde"
      },
      "outputs": [
        {
          "data": {
            "text/plain": [
              "('Raj', 'John', 'Sita', 'Kia')"
            ]
          },
          "execution_count": 20,
          "metadata": {},
          "output_type": "execute_result"
        }
      ],
      "source": [
        "names[::]"
      ],
      "id": "mlx6yawefUlQ"
    },
    {
      "cell_type": "code",
      "execution_count": null,
      "metadata": {
        "id": "9RsQLc-qfUlQ",
        "outputId": "949351d8-ea89-4fdd-f6f3-e1da3d3452fe"
      },
      "outputs": [
        {
          "data": {
            "text/plain": [
              "('Raj', 'Sita')"
            ]
          },
          "execution_count": 21,
          "metadata": {},
          "output_type": "execute_result"
        }
      ],
      "source": [
        "names[::2]"
      ],
      "id": "9RsQLc-qfUlQ"
    },
    {
      "cell_type": "code",
      "execution_count": null,
      "metadata": {
        "id": "Q93P4tTYfUlR",
        "outputId": "8aa99a86-7653-4cec-9335-607af34a128c"
      },
      "outputs": [
        {
          "data": {
            "text/plain": [
              "('John', 'Kia')"
            ]
          },
          "execution_count": 22,
          "metadata": {},
          "output_type": "execute_result"
        }
      ],
      "source": [
        "names[1::2]"
      ],
      "id": "Q93P4tTYfUlR"
    },
    {
      "cell_type": "markdown",
      "metadata": {
        "id": "ZBausjxxfUlR"
      },
      "source": [
        "# Length of Tuple"
      ],
      "id": "ZBausjxxfUlR"
    },
    {
      "cell_type": "code",
      "execution_count": null,
      "metadata": {
        "id": "l5POhltDfUlS",
        "outputId": "cdfb2794-21a9-433c-fdb7-f0b418c9c877"
      },
      "outputs": [
        {
          "data": {
            "text/plain": [
              "('disco', 10, 1.2, 'hard rock', 10)"
            ]
          },
          "execution_count": 23,
          "metadata": {},
          "output_type": "execute_result"
        }
      ],
      "source": [
        "tuple2 = (\"disco\",10,1.2,\"hard rock\", 10)\n",
        "tuple2"
      ],
      "id": "l5POhltDfUlS"
    },
    {
      "cell_type": "code",
      "execution_count": null,
      "metadata": {
        "id": "RSvGYjMxfUlS",
        "outputId": "afec1e89-aabd-44b9-b552-0b2ba00483c5"
      },
      "outputs": [
        {
          "data": {
            "text/plain": [
              "5"
            ]
          },
          "execution_count": 24,
          "metadata": {},
          "output_type": "execute_result"
        }
      ],
      "source": [
        "len(tuple2)"
      ],
      "id": "RSvGYjMxfUlS"
    },
    {
      "cell_type": "markdown",
      "metadata": {
        "id": "k6TYbKTtfUlT"
      },
      "source": [
        "<img src=\"https://s3-api.us-geo.objectstorage.softlayer.net/cf-courses-data/CognitiveClass/PY0101EN/Chapter%202/Images/TuplesElement.png\" width=\"750\" align=\"center\">"
      ],
      "id": "k6TYbKTtfUlT"
    },
    {
      "cell_type": "markdown",
      "metadata": {
        "id": "cS4NFYLnfUlT"
      },
      "source": [
        "# Nested Tuple"
      ],
      "id": "cS4NFYLnfUlT"
    },
    {
      "cell_type": "code",
      "execution_count": null,
      "metadata": {
        "id": "VGZf8LsgfUlU"
      },
      "outputs": [],
      "source": [
        "# Create a nest tuple\n",
        "\n",
        "NestedT =(1, 2, (\"pop\", \"rock\") ,(3,4),(\"disco\",(1,2)))"
      ],
      "id": "VGZf8LsgfUlU"
    },
    {
      "cell_type": "markdown",
      "metadata": {
        "id": "3_IFngyMfUlU"
      },
      "source": [
        "<img src=\"https://s3-api.us-geo.objectstorage.softlayer.net/cf-courses-data/CognitiveClass/PY0101EN/Chapter%202/Images/TuplesNestOne.png\" width=\"750\" align=\"center\">"
      ],
      "id": "3_IFngyMfUlU"
    },
    {
      "cell_type": "code",
      "execution_count": null,
      "metadata": {
        "id": "-auBdt9hfUlV",
        "outputId": "2f6fed3f-1467-4cf7-c6e7-066f50af5f7c"
      },
      "outputs": [
        {
          "name": "stdout",
          "output_type": "stream",
          "text": [
            "Element 0 of Tuple:  1\n",
            "Element 1 of Tuple:  2\n",
            "Element 2 of Tuple:  ('pop', 'rock')\n",
            "Element 3 of Tuple:  (3, 4)\n",
            "Element 4 of Tuple:  ('disco', (1, 2))\n"
          ]
        }
      ],
      "source": [
        "# Print element on each index\n",
        "\n",
        "print(\"Element 0 of Tuple: \", NestedT[0])\n",
        "print(\"Element 1 of Tuple: \", NestedT[1])\n",
        "print(\"Element 2 of Tuple: \", NestedT[2])\n",
        "print(\"Element 3 of Tuple: \", NestedT[3])\n",
        "print(\"Element 4 of Tuple: \", NestedT[4])"
      ],
      "id": "-auBdt9hfUlV"
    },
    {
      "cell_type": "markdown",
      "metadata": {
        "id": "bwxiClmjfUlV"
      },
      "source": [
        "<img src=\"https://s3-api.us-geo.objectstorage.softlayer.net/cf-courses-data/CognitiveClass/PY0101EN/Chapter%202/Images/TuplesNestTwo.png\" width=\"750\" align=\"center\">"
      ],
      "id": "bwxiClmjfUlV"
    },
    {
      "cell_type": "code",
      "execution_count": null,
      "metadata": {
        "id": "a8-eA3V5fUlW",
        "outputId": "450bf8f0-7cb4-4ebc-fc96-da8ca65c6eea"
      },
      "outputs": [
        {
          "name": "stdout",
          "output_type": "stream",
          "text": [
            "Element 2, 0 of Tuple:  pop\n",
            "Element 2, 1 of Tuple:  rock\n",
            "Element 3, 0 of Tuple:  3\n",
            "Element 3, 1 of Tuple:  4\n",
            "Element 4, 0 of Tuple:  disco\n",
            "Element 4, 1 of Tuple:  (1, 2)\n"
          ]
        }
      ],
      "source": [
        "# Print element on each index, including nest indexes\n",
        "\n",
        "print(\"Element 2, 0 of Tuple: \",   NestedT[2][0])\n",
        "print(\"Element 2, 1 of Tuple: \",   NestedT[2][1])\n",
        "print(\"Element 3, 0 of Tuple: \",   NestedT[3][0])\n",
        "print(\"Element 3, 1 of Tuple: \",   NestedT[3][1])\n",
        "print(\"Element 4, 0 of Tuple: \",   NestedT[4][0])\n",
        "print(\"Element 4, 1 of Tuple: \",   NestedT[4][1])"
      ],
      "id": "a8-eA3V5fUlW"
    },
    {
      "cell_type": "markdown",
      "metadata": {
        "id": "5PDnWqPTfUlW"
      },
      "source": [
        "<img src=\"https://s3-api.us-geo.objectstorage.softlayer.net/cf-courses-data/CognitiveClass/PY0101EN/Chapter%202/Images/TuplesNestFour.gif\" width=\"750\" align=\"center\">"
      ],
      "id": "5PDnWqPTfUlW"
    },
    {
      "cell_type": "code",
      "execution_count": null,
      "metadata": {
        "id": "n9qVkwC0fUlX",
        "outputId": "01c4f07d-5036-41da-9526-4fbb0f8b2c13"
      },
      "outputs": [
        {
          "data": {
            "text/plain": [
              "'r'"
            ]
          },
          "execution_count": 24,
          "metadata": {},
          "output_type": "execute_result"
        }
      ],
      "source": [
        "# Print the first element in the second nested tuples\n",
        "\n",
        "NestedT[2][1][0]"
      ],
      "id": "n9qVkwC0fUlX"
    },
    {
      "cell_type": "code",
      "execution_count": null,
      "metadata": {
        "id": "SlB5UIP1fUlX",
        "outputId": "c6eb3760-41e9-46c4-f000-e1f167885ffa"
      },
      "outputs": [
        {
          "data": {
            "text/plain": [
              "'o'"
            ]
          },
          "execution_count": 25,
          "metadata": {},
          "output_type": "execute_result"
        }
      ],
      "source": [
        "# Print the second element in the second nested tuples\n",
        "\n",
        "NestedT[2][1][1]"
      ],
      "id": "SlB5UIP1fUlX"
    },
    {
      "cell_type": "markdown",
      "metadata": {
        "id": "UYT36RKBfUlY"
      },
      "source": [
        "# Tuple is Immutable: We can not Change Tuple Value\n",
        "\n",
        "\n",
        "We can not change values of the tuples. Tuples are immutable or unchangeable\n",
        "\n",
        "Convert tuple into list to change its values\n"
      ],
      "id": "UYT36RKBfUlY"
    },
    {
      "cell_type": "code",
      "execution_count": null,
      "metadata": {
        "id": "kEFjOHn-fUlY",
        "outputId": "dcb18350-ce76-4fde-cf3b-1ae704289014"
      },
      "outputs": [
        {
          "data": {
            "text/plain": [
              "('Raj', 'John', 'Sita', 'Kia')"
            ]
          },
          "execution_count": 67,
          "metadata": {},
          "output_type": "execute_result"
        }
      ],
      "source": [
        "# create a tuple\n",
        "names = ('Raj', 'John', 'Sita', 'Kia')\n",
        "names"
      ],
      "id": "kEFjOHn-fUlY"
    },
    {
      "cell_type": "code",
      "execution_count": null,
      "metadata": {
        "id": "WbxMf4C_fUlZ",
        "outputId": "384cce64-2c66-4a06-acde-f82f709438b5"
      },
      "outputs": [
        {
          "data": {
            "text/plain": [
              "'Raj'"
            ]
          },
          "execution_count": 68,
          "metadata": {},
          "output_type": "execute_result"
        }
      ],
      "source": [
        "names[0]"
      ],
      "id": "WbxMf4C_fUlZ"
    },
    {
      "cell_type": "code",
      "execution_count": null,
      "metadata": {
        "id": "XMjXbRbVfUlZ",
        "outputId": "e112aab2-9190-45c2-9c29-722833b8ae06"
      },
      "outputs": [
        {
          "ename": "TypeError",
          "evalue": "'tuple' object does not support item assignment",
          "output_type": "error",
          "traceback": [
            "\u001b[1;31m---------------------------------------------------------------------------\u001b[0m",
            "\u001b[1;31mTypeError\u001b[0m                                 Traceback (most recent call last)",
            "\u001b[1;32m<ipython-input-69-80792cea3647>\u001b[0m in \u001b[0;36m<module>\u001b[1;34m()\u001b[0m\n\u001b[1;32m----> 1\u001b[1;33m \u001b[0mnames\u001b[0m\u001b[1;33m[\u001b[0m\u001b[1;36m0\u001b[0m\u001b[1;33m]\u001b[0m\u001b[1;33m=\u001b[0m\u001b[1;34m'Rahul'\u001b[0m\u001b[1;33m\u001b[0m\u001b[1;33m\u001b[0m\u001b[0m\n\u001b[0m",
            "\u001b[1;31mTypeError\u001b[0m: 'tuple' object does not support item assignment"
          ]
        }
      ],
      "source": [
        "names[0]='Rahul'"
      ],
      "id": "XMjXbRbVfUlZ"
    },
    {
      "cell_type": "code",
      "execution_count": null,
      "metadata": {
        "id": "SP5R9HIMfUlZ",
        "outputId": "8d53fd43-1266-46e3-ab07-ac86ba757ef4"
      },
      "outputs": [
        {
          "data": {
            "text/plain": [
              "('Raj', 'John', 'Sita', 'Kia')"
            ]
          },
          "execution_count": 70,
          "metadata": {},
          "output_type": "execute_result"
        }
      ],
      "source": [
        "names"
      ],
      "id": "SP5R9HIMfUlZ"
    },
    {
      "cell_type": "markdown",
      "metadata": {
        "id": "LFX2jiZVfUla"
      },
      "source": [
        "# Add Items: We cannot add values into tuples. Tuples are unchangeable\n"
      ],
      "id": "LFX2jiZVfUla"
    },
    {
      "cell_type": "markdown",
      "metadata": {
        "id": "K0xEfivGfUla"
      },
      "source": [
        "# Remove Elements: We cannot remove elements from the tuple, but we can delete the tuple completely\n"
      ],
      "id": "K0xEfivGfUla"
    },
    {
      "cell_type": "code",
      "execution_count": null,
      "metadata": {
        "id": "4_aONAlRfUla",
        "outputId": "8f3d97d1-0ff9-4e3e-ce89-c91ff1f5e879"
      },
      "outputs": [
        {
          "data": {
            "text/plain": [
              "('this', 'that', 'is', 'there')"
            ]
          },
          "execution_count": 52,
          "metadata": {},
          "output_type": "execute_result"
        }
      ],
      "source": [
        "# create a tuple\n",
        "words = ('this', 'that', 'is', 'there') \n",
        "words\n"
      ],
      "id": "4_aONAlRfUla"
    },
    {
      "cell_type": "code",
      "execution_count": null,
      "metadata": {
        "id": "MdB4ulNZfUlb",
        "outputId": "72098201-aa3c-4a32-f97f-f6af83590384"
      },
      "outputs": [
        {
          "ename": "NameError",
          "evalue": "name 'words' is not defined",
          "output_type": "error",
          "traceback": [
            "\u001b[1;31m---------------------------------------------------------------------------\u001b[0m",
            "\u001b[1;31mNameError\u001b[0m                                 Traceback (most recent call last)",
            "\u001b[1;32m<ipython-input-71-f486c9f416eb>\u001b[0m in \u001b[0;36m<module>\u001b[1;34m()\u001b[0m\n\u001b[0;32m      1\u001b[0m \u001b[1;31m# delete tuple\u001b[0m\u001b[1;33m\u001b[0m\u001b[1;33m\u001b[0m\u001b[1;33m\u001b[0m\u001b[0m\n\u001b[1;32m----> 2\u001b[1;33m \u001b[1;32mdel\u001b[0m \u001b[0mwords\u001b[0m\u001b[1;33m\u001b[0m\u001b[1;33m\u001b[0m\u001b[0m\n\u001b[0m\u001b[0;32m      3\u001b[0m \u001b[0mwords\u001b[0m\u001b[1;33m\u001b[0m\u001b[1;33m\u001b[0m\u001b[0m\n",
            "\u001b[1;31mNameError\u001b[0m: name 'words' is not defined"
          ]
        }
      ],
      "source": [
        "# delete tuple\n",
        "del words \n",
        "words\n"
      ],
      "id": "MdB4ulNZfUlb"
    },
    {
      "cell_type": "markdown",
      "metadata": {
        "id": "8LWCpnoEfUlb"
      },
      "source": [
        "# Concatenate Two Tuples"
      ],
      "id": "8LWCpnoEfUlb"
    },
    {
      "cell_type": "code",
      "execution_count": null,
      "metadata": {
        "id": "fKvCq0aIfUlc"
      },
      "outputs": [],
      "source": [
        "# create a first tuple\n",
        "age_less_20 =(12, 14, 15)\n",
        "# create a second tuple\n",
        "age_greater_20 = (26, 25, 24)\n"
      ],
      "id": "fKvCq0aIfUlc"
    },
    {
      "cell_type": "code",
      "execution_count": null,
      "metadata": {
        "id": "SPzld5qcfUld",
        "outputId": "55316561-4967-4c55-bf98-de953fd3bea4"
      },
      "outputs": [
        {
          "data": {
            "text/plain": [
              "(12, 14, 15, 26, 25, 24)"
            ]
          },
          "execution_count": 72,
          "metadata": {},
          "output_type": "execute_result"
        }
      ],
      "source": [
        "# join two tuples\n",
        "age = age_less_20 + age_greater_20 \n",
        "age\n"
      ],
      "id": "SPzld5qcfUld"
    },
    {
      "cell_type": "markdown",
      "metadata": {
        "id": "IC7_qj-SfUld"
      },
      "source": [
        "# count():To get the count of particular element present in the list "
      ],
      "id": "IC7_qj-SfUld"
    },
    {
      "cell_type": "code",
      "execution_count": null,
      "metadata": {
        "id": "JCxfxpXjfUld",
        "outputId": "fbbccbf8-063e-4d7b-b8c4-118dd7b18f1e"
      },
      "outputs": [
        {
          "data": {
            "text/plain": [
              "2"
            ]
          },
          "execution_count": 73,
          "metadata": {},
          "output_type": "execute_result"
        }
      ],
      "source": [
        "new=(2,3,4,5,6,2)\n",
        "new.count(2)"
      ],
      "id": "JCxfxpXjfUld"
    },
    {
      "cell_type": "markdown",
      "metadata": {
        "id": "hcvIPRwofUle"
      },
      "source": [
        "# index():To get the index of the particular element"
      ],
      "id": "hcvIPRwofUle"
    },
    {
      "cell_type": "code",
      "execution_count": null,
      "metadata": {
        "id": "UzWiqhh9fUle",
        "outputId": "1c5e37ce-a90f-4014-8890-4064ef487830"
      },
      "outputs": [
        {
          "data": {
            "text/plain": [
              "3"
            ]
          },
          "execution_count": 74,
          "metadata": {},
          "output_type": "execute_result"
        }
      ],
      "source": [
        "new=(2,3,4,5,6,2)\n",
        "new.index(5)"
      ],
      "id": "UzWiqhh9fUle"
    },
    {
      "cell_type": "markdown",
      "metadata": {
        "id": "_-CQg4fSfUle"
      },
      "source": [
        "# Sorting"
      ],
      "id": "_-CQg4fSfUle"
    },
    {
      "cell_type": "code",
      "execution_count": null,
      "metadata": {
        "id": "b7SSKjhKfUle",
        "outputId": "6e1c4c73-175d-4c8d-a268-bbe42a88d429"
      },
      "outputs": [
        {
          "data": {
            "text/plain": [
              "[0, 2, 5, 6, 6, 8, 9, 9, 10]"
            ]
          },
          "execution_count": 58,
          "metadata": {},
          "output_type": "execute_result"
        }
      ],
      "source": [
        "# A sample tuple\n",
        "\n",
        "Ratings = (0, 9, 6, 5, 10, 8, 9, 6, 2)\n",
        "h=sorted(Ratings)\n",
        "h"
      ],
      "id": "b7SSKjhKfUle"
    },
    {
      "cell_type": "code",
      "execution_count": null,
      "metadata": {
        "id": "7_LuZJ2FfUlf",
        "outputId": "12098090-e1f8-434e-dfa0-92a0fe8b8d18"
      },
      "outputs": [
        {
          "data": {
            "text/plain": [
              "['a', 'c', 'd', 'p', 'z']"
            ]
          },
          "execution_count": 75,
          "metadata": {},
          "output_type": "execute_result"
        }
      ],
      "source": [
        "fg=(\"d\",\"a\",\"c\",\"z\",\"p\")\n",
        "gh=sorted(fg)\n",
        "gh\n"
      ],
      "id": "7_LuZJ2FfUlf"
    },
    {
      "cell_type": "markdown",
      "metadata": {
        "id": "Pu9IwaMIfUlf"
      },
      "source": [
        "#### Unpacking a tuple"
      ],
      "id": "Pu9IwaMIfUlf"
    },
    {
      "cell_type": "code",
      "execution_count": null,
      "metadata": {
        "id": "3KdL1AEMfUlf",
        "outputId": "f412e541-35b2-4b60-f6a3-2a8b817baf54"
      },
      "outputs": [
        {
          "data": {
            "text/plain": [
              "('Kishore', 90)"
            ]
          },
          "execution_count": 78,
          "metadata": {},
          "output_type": "execute_result"
        }
      ],
      "source": [
        "my_tuple = ('Kishore', 90)\n",
        "\n",
        "my_tuple"
      ],
      "id": "3KdL1AEMfUlf"
    },
    {
      "cell_type": "code",
      "execution_count": null,
      "metadata": {
        "id": "emcG_eL_fUlg"
      },
      "outputs": [],
      "source": [
        "name, score = my_tuple"
      ],
      "id": "emcG_eL_fUlg"
    },
    {
      "cell_type": "code",
      "execution_count": null,
      "metadata": {
        "id": "cwufCKxTfUlg",
        "outputId": "a8911276-0555-475b-d731-0b63b526916c"
      },
      "outputs": [
        {
          "data": {
            "text/plain": [
              "'Kishore'"
            ]
          },
          "execution_count": 80,
          "metadata": {},
          "output_type": "execute_result"
        }
      ],
      "source": [
        "name"
      ],
      "id": "cwufCKxTfUlg"
    },
    {
      "cell_type": "code",
      "execution_count": null,
      "metadata": {
        "id": "wnjbzoEdfUlg",
        "outputId": "65b6f43b-e16c-4ba6-9dba-72b9c614f643"
      },
      "outputs": [
        {
          "data": {
            "text/plain": [
              "90"
            ]
          },
          "execution_count": 81,
          "metadata": {},
          "output_type": "execute_result"
        }
      ],
      "source": [
        "score"
      ],
      "id": "wnjbzoEdfUlg"
    },
    {
      "cell_type": "code",
      "execution_count": null,
      "metadata": {
        "id": "fjkJ_olOfUlg"
      },
      "outputs": [],
      "source": [
        "tuple_with_many_fields = (1, 'Nimisha', 'Venkat', 'Matthew', 45)"
      ],
      "id": "fjkJ_olOfUlg"
    },
    {
      "cell_type": "code",
      "execution_count": null,
      "metadata": {
        "id": "k41vhVBSfUlh"
      },
      "outputs": [],
      "source": [
        "unique_id, girl_name, boy_name, _, _ = tuple_with_many_fields"
      ],
      "id": "k41vhVBSfUlh"
    },
    {
      "cell_type": "code",
      "execution_count": null,
      "metadata": {
        "id": "q4hV8iZMfUlh",
        "outputId": "8fa15203-c241-45b1-fafc-a74b659bbac6"
      },
      "outputs": [
        {
          "data": {
            "text/plain": [
              "(1, 'Nimisha', 'Venkat')"
            ]
          },
          "execution_count": 33,
          "metadata": {},
          "output_type": "execute_result"
        }
      ],
      "source": [
        "unique_id, girl_name, boy_name"
      ],
      "id": "q4hV8iZMfUlh"
    },
    {
      "cell_type": "markdown",
      "metadata": {
        "id": "2QMHfol7fUlh"
      },
      "source": [
        "#### Operations on a tuple"
      ],
      "id": "2QMHfol7fUlh"
    },
    {
      "cell_type": "code",
      "execution_count": null,
      "metadata": {
        "id": "MRM_whkHfUlh"
      },
      "outputs": [],
      "source": [
        "number_tuple = (2, 4, 7, 5, 9, 1, 10)"
      ],
      "id": "MRM_whkHfUlh"
    },
    {
      "cell_type": "code",
      "execution_count": null,
      "metadata": {
        "id": "jU3VS4W6fUli",
        "outputId": "37b97fa7-2868-4a16-8b79-c9fe7c6c0a5c"
      },
      "outputs": [
        {
          "data": {
            "text/plain": [
              "7"
            ]
          },
          "execution_count": 85,
          "metadata": {},
          "output_type": "execute_result"
        }
      ],
      "source": [
        "len(number_tuple)"
      ],
      "id": "jU3VS4W6fUli"
    },
    {
      "cell_type": "code",
      "execution_count": null,
      "metadata": {
        "id": "iEwZtZ2ofUli",
        "outputId": "c3506e71-b9ef-472a-c6ba-8d74eef5dc0e"
      },
      "outputs": [
        {
          "data": {
            "text/plain": [
              "10"
            ]
          },
          "execution_count": 86,
          "metadata": {},
          "output_type": "execute_result"
        }
      ],
      "source": [
        "max(number_tuple)"
      ],
      "id": "iEwZtZ2ofUli"
    },
    {
      "cell_type": "code",
      "execution_count": null,
      "metadata": {
        "id": "6DtuOsc5fUli",
        "outputId": "a43fffce-4596-43bc-a48e-e5afee6f6657"
      },
      "outputs": [
        {
          "data": {
            "text/plain": [
              "38"
            ]
          },
          "execution_count": 87,
          "metadata": {},
          "output_type": "execute_result"
        }
      ],
      "source": [
        "sum(number_tuple)"
      ],
      "id": "6DtuOsc5fUli"
    },
    {
      "cell_type": "code",
      "execution_count": null,
      "metadata": {
        "id": "kwAbXn-xfUlj"
      },
      "outputs": [],
      "source": [
        "some_list = ['A', 'B', 'C']\n",
        "\n",
        "some_tuple = tuple(some_list)"
      ],
      "id": "kwAbXn-xfUlj"
    },
    {
      "cell_type": "code",
      "execution_count": null,
      "metadata": {
        "id": "WRsM2VO6fUlj"
      },
      "outputs": [],
      "source": [
        "some_tuple = tuple(some_list)"
      ],
      "id": "WRsM2VO6fUlj"
    },
    {
      "cell_type": "code",
      "execution_count": null,
      "metadata": {
        "id": "hnJunsBKfUlj",
        "outputId": "047fb02b-4b61-4b35-8694-896d01835d17"
      },
      "outputs": [
        {
          "data": {
            "text/plain": [
              "('A', 'B', 'C')"
            ]
          },
          "execution_count": 41,
          "metadata": {},
          "output_type": "execute_result"
        }
      ],
      "source": [
        "some_tuple"
      ],
      "id": "hnJunsBKfUlj"
    },
    {
      "cell_type": "code",
      "execution_count": null,
      "metadata": {
        "id": "JPfLdllcfUlj"
      },
      "outputs": [],
      "source": [],
      "id": "JPfLdllcfUlj"
    },
    {
      "cell_type": "code",
      "execution_count": null,
      "metadata": {
        "id": "WPApkkgIfUlj"
      },
      "outputs": [],
      "source": [],
      "id": "WPApkkgIfUlj"
    },
    {
      "cell_type": "code",
      "execution_count": null,
      "metadata": {
        "id": "OAs8Ki0ofUlk"
      },
      "outputs": [],
      "source": [],
      "id": "OAs8Ki0ofUlk"
    },
    {
      "cell_type": "markdown",
      "metadata": {
        "id": "fZzseaJvfUlk"
      },
      "source": [
        "<h2 id=\"Dic\">Dictionaries</h2>"
      ],
      "id": "fZzseaJvfUlk"
    },
    {
      "cell_type": "markdown",
      "metadata": {
        "id": "paGhtzkyfUlk"
      },
      "source": [
        "<h3 id=\"content\">What are Dictionaries?</h3>"
      ],
      "id": "paGhtzkyfUlk"
    },
    {
      "cell_type": "markdown",
      "metadata": {
        "id": "37KLcIEafUlk"
      },
      "source": [
        "Dictionaries are another example of a data structure. A dictionary is used to map or associate things you want to store the keys you need to get them. A dictionary in Python is just like a dictionary in the real world. Python Dictionary are defined into two elements Keys and Values. Keys will be a single element"
      ],
      "id": "37KLcIEafUlk"
    },
    {
      "cell_type": "markdown",
      "metadata": {
        "id": "zXOXANCIfUlk"
      },
      "source": [
        "1.  A dictionary consists of keys and values. \n",
        "\n",
        "2.  It is helpful to compare a dictionary to a list. \n",
        "\n",
        "3.  Instead of the numerical indexes such as a list, dictionaries have keys.\n",
        "\n",
        "4.  These keys are the keys that are used to access values within a dictionary.\n",
        "\n",
        "5.  Any key of the dictionary is associated (or mapped) to a value. \n",
        "\n",
        "6.  The values of a dictionary can be any Python data type. \n",
        "\n",
        "7.  So dictionaries are unordered key-value-pairs. \n",
        "\n",
        "8.  Dictionaries belong to the built-in mapping type"
      ],
      "id": "zXOXANCIfUlk"
    },
    {
      "cell_type": "markdown",
      "metadata": {
        "id": "dh6NjftBfUll"
      },
      "source": [
        "<img src=\"https://s3-api.us-geo.objectstorage.softlayer.net/cf-courses-data/CognitiveClass/PY0101EN/Chapter%202/Images/DictsList.png\" width=\"650\" />"
      ],
      "id": "dh6NjftBfUll"
    },
    {
      "cell_type": "code",
      "execution_count": null,
      "metadata": {
        "id": "iGWjapUhfUll",
        "outputId": "07114316-666a-4c80-8114-ddd978a266d1"
      },
      "outputs": [
        {
          "name": "stdout",
          "output_type": "stream",
          "text": [
            "Empty Dictionary: \n",
            "{}\n"
          ]
        }
      ],
      "source": [
        "# Creating an empty Dictionary \n",
        "Dict = {} \n",
        "print(\"Empty Dictionary: \") \n",
        "print(Dict)"
      ],
      "id": "iGWjapUhfUll"
    },
    {
      "cell_type": "markdown",
      "metadata": {
        "id": "ZPNSvk_zfUll"
      },
      "source": [
        "An example of a Dictionary <code>Dict</code>:"
      ],
      "id": "ZPNSvk_zfUll"
    },
    {
      "cell_type": "code",
      "execution_count": null,
      "metadata": {
        "jupyter": {
          "outputs_hidden": false
        },
        "id": "m8VYbapFfUll",
        "outputId": "6f395165-9f1d-4ab5-9a36-2797e010ebd3"
      },
      "outputs": [
        {
          "data": {
            "text/plain": [
              "{(0, 1): 6,\n",
              " 'key1': 1,\n",
              " 'key2': '2',\n",
              " 'key3': [3, 3, 3],\n",
              " 'key5': 5,\n",
              " 'keyi:4': (4, 4, 4)}"
            ]
          },
          "execution_count": 12,
          "metadata": {},
          "output_type": "execute_result"
        }
      ],
      "source": [
        "# Create the dictionary An example of a Dictionary\n",
        "\n",
        "Dict = { \"key2\": \"2\", \"key3\": [3, 3, 3],\"key1\": 1, \"keyi:4\": (4, 4, 4), ('key5'): 5, (0, 1): 6}\n",
        "Dict"
      ],
      "id": "m8VYbapFfUll"
    },
    {
      "cell_type": "markdown",
      "metadata": {
        "id": "9mxmL7mcfUlm"
      },
      "source": [
        "The keys can be strings:"
      ],
      "id": "9mxmL7mcfUlm"
    },
    {
      "cell_type": "code",
      "execution_count": null,
      "metadata": {
        "jupyter": {
          "outputs_hidden": false
        },
        "id": "q4uwDrYAfUlm",
        "outputId": "315ee32d-ac9d-4464-db9d-50fc2361ad94"
      },
      "outputs": [
        {
          "data": {
            "text/plain": [
              "1"
            ]
          },
          "execution_count": 13,
          "metadata": {},
          "output_type": "execute_result"
        }
      ],
      "source": [
        "# Access to the value by the key\n",
        "\n",
        "Dict[\"key1\"]"
      ],
      "id": "q4uwDrYAfUlm"
    },
    {
      "cell_type": "markdown",
      "metadata": {
        "id": "Vi0nNxLHfUlm"
      },
      "source": [
        "Keys can also be any immutable object such as a tuple: "
      ],
      "id": "Vi0nNxLHfUlm"
    },
    {
      "cell_type": "code",
      "execution_count": null,
      "metadata": {
        "jupyter": {
          "outputs_hidden": false
        },
        "id": "dDO8kbSVfUlm",
        "outputId": "a258ab82-0a00-4a11-f429-9ae4e29695f9"
      },
      "outputs": [
        {
          "data": {
            "text/plain": [
              "6"
            ]
          },
          "execution_count": 14,
          "metadata": {},
          "output_type": "execute_result"
        }
      ],
      "source": [
        "# Access to the value by the key\n",
        "\n",
        "Dict[(0, 1)]"
      ],
      "id": "dDO8kbSVfUlm"
    },
    {
      "cell_type": "code",
      "execution_count": null,
      "metadata": {
        "id": "PweCzGCifUln",
        "outputId": "cbb9ab39-d86c-4e20-b2f0-5e9c0387c9d8"
      },
      "outputs": [
        {
          "name": "stdout",
          "output_type": "stream",
          "text": [
            "Empty Dictionary: \n",
            "{}\n",
            "\n",
            "Dictionary with the use of dict(): \n",
            "{1: 'Geeks', 2: 'For', 3: 'Geeks'}\n",
            "\n",
            "Dictionary with each item as a pair: \n",
            "{1: 'Geeks', 2: 'For'}\n"
          ]
        }
      ],
      "source": [
        "# Creating an empty Dictionary \n",
        "Dict = {} \n",
        "print(\"Empty Dictionary: \") \n",
        "print(Dict) \n",
        "  \n",
        "# Creating a Dictionary \n",
        "# with dict() method \n",
        "Dict = dict({1: 'Geeks', 2: 'For', 3:'Geeks'}) \n",
        "print(\"\\nDictionary with the use of dict(): \") \n",
        "print(Dict) \n",
        "  \n",
        "# Creating a Dictionary \n",
        "# with each item as a Pair \n",
        "Dict = dict([(1, 'Geeks'), (2, 'For')]) \n",
        "print(\"\\nDictionary with each item as a pair: \") \n",
        "print(Dict) "
      ],
      "id": "PweCzGCifUln"
    },
    {
      "cell_type": "code",
      "execution_count": null,
      "metadata": {
        "id": "JZ47Ie13fUln",
        "outputId": "252eb0f1-9749-487c-96bd-78a46d818be4"
      },
      "outputs": [
        {
          "name": "stdout",
          "output_type": "stream",
          "text": [
            "{1: 'Geeks', 2: 'For', 3: {'A': 'Welcome', 'B': 'To', 'C': 'Geeks'}}\n"
          ]
        }
      ],
      "source": [
        "# Creating a Nested Dictionary  \n",
        "# as shown in the below image \n",
        "Dict = {1: 'Geeks', 2: 'For',  \n",
        "        3:{'A' : 'Welcome', 'B' : 'To', 'C' : 'Geeks'}} \n",
        "  \n",
        "print(Dict) "
      ],
      "id": "JZ47Ie13fUln"
    },
    {
      "cell_type": "markdown",
      "metadata": {
        "id": "3yW6UTjOfUln"
      },
      "source": [
        "# Adding Element in Dictionary"
      ],
      "id": "3yW6UTjOfUln"
    },
    {
      "cell_type": "code",
      "execution_count": null,
      "metadata": {
        "id": "aAg_9xlafUln",
        "outputId": "fbd822d5-9ee3-461e-da3a-08bbfc622aec"
      },
      "outputs": [
        {
          "name": "stdout",
          "output_type": "stream",
          "text": [
            "Empty Dictionary: \n",
            "{}\n",
            "\n",
            "Dictionary after adding 3 elements: \n",
            "{0: 'Geeks', 2: 'For', 3: 1, 'a': 6}\n"
          ]
        }
      ],
      "source": [
        "# Creating an empty Dictionary \n",
        "Dict = {} \n",
        "print(\"Empty Dictionary: \") \n",
        "print(Dict) \n",
        "  \n",
        "# Adding elements one at a time \n",
        "Dict[0] = 'Geeks'\n",
        "Dict[2] = 'For'\n",
        "Dict[3] = 1\n",
        "Dict['a']=6\n",
        "print(\"\\nDictionary after adding 3 elements: \") \n",
        "print(Dict)"
      ],
      "id": "aAg_9xlafUln"
    },
    {
      "cell_type": "markdown",
      "metadata": {
        "id": "z7zIOX0bfUlo"
      },
      "source": [
        "# Dictionary is Mutable"
      ],
      "id": "z7zIOX0bfUlo"
    },
    {
      "cell_type": "code",
      "execution_count": null,
      "metadata": {
        "id": "fp2vH6opfUlo",
        "outputId": "6c86b3f3-0713-4861-ca67-04b6a9e6c52f"
      },
      "outputs": [
        {
          "data": {
            "text/plain": [
              "{0: 'Geeks', 2: 'For', 3: 1, 'a': 6}"
            ]
          },
          "execution_count": 18,
          "metadata": {},
          "output_type": "execute_result"
        }
      ],
      "source": [
        "Dict"
      ],
      "id": "fp2vH6opfUlo"
    },
    {
      "cell_type": "code",
      "execution_count": null,
      "metadata": {
        "id": "IOcKfojvfUlo",
        "outputId": "1282e764-3e7c-4974-abb3-7cf822d3010c"
      },
      "outputs": [
        {
          "name": "stdout",
          "output_type": "stream",
          "text": [
            "\n",
            "Dictionary after adding 3 elements: \n",
            "{0: 'Geeks', 2: 'For', 3: 1, 'a': 6, 'Value_set': (2, 3, 4)}\n"
          ]
        }
      ],
      "source": [
        "# Adding set of values  \n",
        "# to a single Key \n",
        "Dict['Value_set'] = 2, 3, 4\n",
        "print(\"\\nDictionary after adding 3 elements: \") \n",
        "print(Dict)"
      ],
      "id": "IOcKfojvfUlo"
    },
    {
      "cell_type": "code",
      "execution_count": null,
      "metadata": {
        "id": "2-ZXPOQ3fUlo",
        "outputId": "da4c77df-4579-464c-de52-cd1c036e8d56"
      },
      "outputs": [
        {
          "name": "stdout",
          "output_type": "stream",
          "text": [
            "\n",
            "Updated key value: \n",
            "{0: 'Geeks', 2: 'Welcome', 3: 1, 'a': 6, 'Value_set': (2, 3, 4)}\n"
          ]
        }
      ],
      "source": [
        "# Updating existing Key's Value \n",
        "Dict[2] = 'Welcome'\n",
        "print(\"\\nUpdated key value: \") \n",
        "print(Dict) \n",
        "  "
      ],
      "id": "2-ZXPOQ3fUlo"
    },
    {
      "cell_type": "code",
      "execution_count": null,
      "metadata": {
        "id": "BekmeVHVfUlp",
        "outputId": "439a66c6-a1c6-4a57-a83c-a911f132046e"
      },
      "outputs": [
        {
          "name": "stdout",
          "output_type": "stream",
          "text": [
            "\n",
            "Adding a Nested Key: \n",
            "{0: 'Geeks', 2: 'Welcome', 3: 1, 'a': 6, 'Value_set': (2, 3, 4), 5: {'Nested': {'1': 'Life', '2': 'Geeks'}}}\n"
          ]
        }
      ],
      "source": [
        "# Adding Nested Key value to Dictionary \n",
        "Dict[5] = {'Nested' :{'1' : 'Life', '2' : 'Geeks'}} \n",
        "print(\"\\nAdding a Nested Key: \") \n",
        "print(Dict)"
      ],
      "id": "BekmeVHVfUlp"
    },
    {
      "cell_type": "markdown",
      "metadata": {
        "id": "soVlZHDOfUlp"
      },
      "source": [
        "# Accessing element in dictionary"
      ],
      "id": "soVlZHDOfUlp"
    },
    {
      "cell_type": "code",
      "execution_count": null,
      "metadata": {
        "id": "XstZ7JrUfUlp",
        "outputId": "ed54b26c-6fc9-4eb2-a100-1d4a8e8b8dfb"
      },
      "outputs": [
        {
          "name": "stdout",
          "output_type": "stream",
          "text": [
            "{'Jay': 14, 'Raj': 20, 'Maya': 15}\n"
          ]
        }
      ],
      "source": [
        "# create and print dictionary\n",
        "stud = { 'Jay': 14,\n",
        " 'Raj': 20,\n",
        " 'Maya': 15 }\n",
        "print(stud)"
      ],
      "id": "XstZ7JrUfUlp"
    },
    {
      "cell_type": "code",
      "execution_count": null,
      "metadata": {
        "id": "VJy97OGFfUlq",
        "outputId": "5f39bfc3-ed9e-4273-a80f-0c1f56ca7b91"
      },
      "outputs": [
        {
          "data": {
            "text/plain": [
              "20"
            ]
          },
          "execution_count": 24,
          "metadata": {},
          "output_type": "execute_result"
        }
      ],
      "source": [
        "# get the age of Raj\n",
        "x = stud[\"Raj\"]\n",
        "x"
      ],
      "id": "VJy97OGFfUlq"
    },
    {
      "cell_type": "markdown",
      "metadata": {
        "id": "QHkjXaWifUlq"
      },
      "source": [
        "# We can also use get() method to access the elements"
      ],
      "id": "QHkjXaWifUlq"
    },
    {
      "cell_type": "code",
      "execution_count": null,
      "metadata": {
        "id": "dakRuBDlfUlq",
        "outputId": "3bd47499-8923-4072-b5e3-faa5c2e64565"
      },
      "outputs": [
        {
          "data": {
            "text/plain": [
              "20"
            ]
          },
          "execution_count": 25,
          "metadata": {},
          "output_type": "execute_result"
        }
      ],
      "source": [
        "# create and print dictionary\n",
        "stud = { 'Jay': 14,\n",
        " 'Raj': 20,\n",
        " 'Maya': 15 }\n",
        "x = stud.get(\"Raj\")\n",
        "x\n"
      ],
      "id": "dakRuBDlfUlq"
    },
    {
      "cell_type": "code",
      "execution_count": null,
      "metadata": {
        "id": "Abr8AL_lfUlr",
        "outputId": "78418d3e-a815-4fd9-c676-c03c368624e3"
      },
      "outputs": [
        {
          "name": "stdout",
          "output_type": "stream",
          "text": [
            "Accessing a element using get:\n",
            "Geeks\n"
          ]
        }
      ],
      "source": [
        "# Creating a Dictionary  \n",
        "Dict = {1: 'Geeks', 'name': 'For', 3: 'Geeks'} \n",
        "  \n",
        "# accessing a element using get() \n",
        "# method \n",
        "print(\"Accessing a element using get:\") \n",
        "print(Dict.get(3))"
      ],
      "id": "Abr8AL_lfUlr"
    },
    {
      "cell_type": "code",
      "execution_count": null,
      "metadata": {
        "id": "-TL1IZFvfUlr",
        "outputId": "d7cf34a3-2e08-4b53-f00b-8a6163da7e5c"
      },
      "outputs": [
        {
          "name": "stdout",
          "output_type": "stream",
          "text": [
            "Accessing a element using key:\n",
            "For\n",
            "Accessing a element using key:\n",
            "Geeks\n"
          ]
        }
      ],
      "source": [
        "# Python program to demonstrate   \n",
        "# accessing a element from a Dictionary  \n",
        "  \n",
        "# Creating a Dictionary  \n",
        "Dict = {1: 'Geeks', 'name': 'For', 3: 'Geeks'} \n",
        "  \n",
        "# accessing a element using key \n",
        "print(\"Accessing a element using key:\") \n",
        "print(Dict['name']) \n",
        "  \n",
        "# accessing a element using key \n",
        "print(\"Accessing a element using key:\") \n",
        "print(Dict[1]) "
      ],
      "id": "-TL1IZFvfUlr"
    },
    {
      "cell_type": "markdown",
      "metadata": {
        "id": "_qmNx1JLfUlr"
      },
      "source": [
        "# Change the value"
      ],
      "id": "_qmNx1JLfUlr"
    },
    {
      "cell_type": "code",
      "execution_count": null,
      "metadata": {
        "id": "rRjUD9RYfUlr",
        "outputId": "347c8f8b-17ea-470c-804d-4c8b1a155348"
      },
      "outputs": [
        {
          "name": "stdout",
          "output_type": "stream",
          "text": [
            "{'Jay': 14, 'Raj': 20, 'Maya': 15}\n",
            "{'Jay': 18, 'Raj': 20, 'Maya': 15}\n"
          ]
        }
      ],
      "source": [
        "# change the value\n",
        "# create and print dictionary\n",
        "stud = { 'Jay': 14,\n",
        " 'Raj': 20,\n",
        " 'Maya': 15 }\n",
        "print(stud)\n",
        "stud[\"Jay\"] = 18\n",
        "print(stud)"
      ],
      "id": "rRjUD9RYfUlr"
    },
    {
      "cell_type": "markdown",
      "metadata": {
        "id": "Ws6KHBR8fUls"
      },
      "source": [
        "# Add Elements"
      ],
      "id": "Ws6KHBR8fUls"
    },
    {
      "cell_type": "code",
      "execution_count": null,
      "metadata": {
        "id": "vDYo1ndvfUls",
        "outputId": "d342d399-4ff0-4e8b-84a5-fb220ca08cf6"
      },
      "outputs": [
        {
          "name": "stdout",
          "output_type": "stream",
          "text": [
            "{'Jay': 14, 'Raj': 20, 'Maya': 15}\n",
            "{'Jay': 14, 'Raj': 20, 'Maya': 15, 'Kiran': 19}\n"
          ]
        }
      ],
      "source": [
        "# add new element\n",
        "# change the value\n",
        "# create and print dictionary\n",
        "stud = { 'Jay': 14,\n",
        " 'Raj': 20,\n",
        " 'Maya': 15 }\n",
        "print(stud)\n",
        "stud['Kiran'] = 19\n",
        "print(stud)\n"
      ],
      "id": "vDYo1ndvfUls"
    },
    {
      "cell_type": "markdown",
      "metadata": {
        "id": "qyJ72_S3fUls"
      },
      "source": [
        "# clear() method"
      ],
      "id": "qyJ72_S3fUls"
    },
    {
      "cell_type": "code",
      "execution_count": null,
      "metadata": {
        "id": "WDXiS0t-fUls",
        "outputId": "dae960f6-1467-4dcc-f2ad-548209bea57d"
      },
      "outputs": [
        {
          "data": {
            "text/plain": [
              "{}"
            ]
          },
          "execution_count": 30,
          "metadata": {},
          "output_type": "execute_result"
        }
      ],
      "source": [
        "# remove all the elements from stud\n",
        "# change the value\n",
        "# create and print dictionary\n",
        "stud = { 'Jay': 14,\n",
        " 'Raj': 20,\n",
        " 'Maya': 15 }\n",
        "stud.clear()\n",
        "stud"
      ],
      "id": "WDXiS0t-fUls"
    },
    {
      "cell_type": "markdown",
      "metadata": {
        "id": "XUtDHhyafUlt"
      },
      "source": [
        "# copy() method"
      ],
      "id": "XUtDHhyafUlt"
    },
    {
      "cell_type": "code",
      "execution_count": null,
      "metadata": {
        "id": "sSa3WROdfUlu",
        "outputId": "76834b95-708c-4b57-c17c-3247eb93234a"
      },
      "outputs": [
        {
          "data": {
            "text/plain": [
              "{'101': 'John', '102': 'Olivia', '103': 'Sophia'}"
            ]
          },
          "execution_count": 32,
          "metadata": {},
          "output_type": "execute_result"
        }
      ],
      "source": [
        "# create a dictionary\n",
        "emp = {'101': 'John',\n",
        " '102': 'Olivia',\n",
        " '103': 'Sophia'\n",
        " }\n",
        "emp"
      ],
      "id": "sSa3WROdfUlu"
    },
    {
      "cell_type": "code",
      "execution_count": null,
      "metadata": {
        "id": "SANRGOgyfUlv",
        "outputId": "5e95f792-5c07-4108-bb82-d5581c2c90e1"
      },
      "outputs": [
        {
          "data": {
            "text/plain": [
              "{'101': 'John', '102': 'Olivia', '103': 'Sophia'}"
            ]
          },
          "execution_count": 33,
          "metadata": {},
          "output_type": "execute_result"
        }
      ],
      "source": [
        "# create a copy of dictionary\n",
        "emp_copy = emp.copy()\n",
        "emp_copy"
      ],
      "id": "SANRGOgyfUlv"
    },
    {
      "cell_type": "markdown",
      "metadata": {
        "id": "giJw7tD5fUlv"
      },
      "source": [
        "# fromkeys() method"
      ],
      "id": "giJw7tD5fUlv"
    },
    {
      "cell_type": "markdown",
      "metadata": {
        "id": "w7e7Kfi-fUlv"
      },
      "source": [
        "It returns a dictionary with the specified keys and the specified value"
      ],
      "id": "w7e7Kfi-fUlv"
    },
    {
      "cell_type": "code",
      "execution_count": null,
      "metadata": {
        "id": "I8XH_JzbfUlw",
        "outputId": "a30a4504-5de6-4e2d-839a-6584fecadfe2"
      },
      "outputs": [
        {
          "name": "stdout",
          "output_type": "stream",
          "text": [
            "{'John': 1300, 'Olivia': 1300, 'Sophia': 1300}\n"
          ]
        }
      ],
      "source": [
        "# create a tuple\n",
        "x = ('John', 'Olivia', 'Sophia')\n",
        "# create a numeric variable\n",
        "y = 1300\n",
        "fees = dict.fromkeys(x, y)\n",
        "print(fees)"
      ],
      "id": "I8XH_JzbfUlw"
    },
    {
      "cell_type": "markdown",
      "metadata": {
        "id": "rWhKpWDSfUlw"
      },
      "source": [
        "# items() method"
      ],
      "id": "rWhKpWDSfUlw"
    },
    {
      "cell_type": "code",
      "execution_count": null,
      "metadata": {
        "id": "2C-u4eOXfUlw",
        "outputId": "d2cb4444-5f4a-4918-90a2-285370c95a16"
      },
      "outputs": [
        {
          "data": {
            "text/plain": [
              "dict_items([('John', 1300), ('Olivia', 1300), ('Sophia', 1300)])"
            ]
          },
          "execution_count": 28,
          "metadata": {},
          "output_type": "execute_result"
        }
      ],
      "source": [
        "fees.items()\n"
      ],
      "id": "2C-u4eOXfUlw"
    },
    {
      "cell_type": "markdown",
      "metadata": {
        "id": "CSP142eyfUlw"
      },
      "source": [
        "# keys() method"
      ],
      "id": "CSP142eyfUlw"
    },
    {
      "cell_type": "code",
      "execution_count": null,
      "metadata": {
        "id": "EGLVo13dfUl9",
        "outputId": "e271136f-75a8-482e-b03c-c84e332b35df"
      },
      "outputs": [
        {
          "data": {
            "text/plain": [
              "dict_keys(['John', 'Olivia', 'Sophia'])"
            ]
          },
          "execution_count": 35,
          "metadata": {},
          "output_type": "execute_result"
        }
      ],
      "source": [
        "fees.keys()\n"
      ],
      "id": "EGLVo13dfUl9"
    },
    {
      "cell_type": "code",
      "execution_count": null,
      "metadata": {
        "id": "LAt5jlVkfUl9",
        "outputId": "250565aa-6d07-4c3c-e7ee-21484da534d9"
      },
      "outputs": [
        {
          "data": {
            "text/plain": [
              "{'John': 1300, 'Olivia': 1300, 'Sophia': 1300}"
            ]
          },
          "execution_count": 36,
          "metadata": {},
          "output_type": "execute_result"
        }
      ],
      "source": [
        "fees"
      ],
      "id": "LAt5jlVkfUl9"
    },
    {
      "cell_type": "markdown",
      "metadata": {
        "id": "zz0v8ApMfUl-"
      },
      "source": [
        "# pop() method\n"
      ],
      "id": "zz0v8ApMfUl-"
    },
    {
      "cell_type": "code",
      "execution_count": null,
      "metadata": {
        "id": "UoMYAygyfUl_",
        "outputId": "69fd82e8-6251-44eb-927d-474dbd29dbad"
      },
      "outputs": [
        {
          "data": {
            "text/plain": [
              "1300"
            ]
          },
          "execution_count": 37,
          "metadata": {},
          "output_type": "execute_result"
        }
      ],
      "source": [
        "# remove element from the dictionary\n",
        "fees.pop('John')\n"
      ],
      "id": "UoMYAygyfUl_"
    },
    {
      "cell_type": "code",
      "execution_count": null,
      "metadata": {
        "id": "ffqwOmlJfUmA",
        "outputId": "f540d6ee-e681-4b5b-fc3f-f407b00270b7"
      },
      "outputs": [
        {
          "data": {
            "text/plain": [
              "{'Olivia': 1300, 'Sophia': 1300}"
            ]
          },
          "execution_count": 38,
          "metadata": {},
          "output_type": "execute_result"
        }
      ],
      "source": [
        "fees"
      ],
      "id": "ffqwOmlJfUmA"
    },
    {
      "cell_type": "markdown",
      "metadata": {
        "id": "zP-yOlUMfUmA"
      },
      "source": [
        "# popitem() method"
      ],
      "id": "zP-yOlUMfUmA"
    },
    {
      "cell_type": "code",
      "execution_count": null,
      "metadata": {
        "id": "rxoiKqHXfUmA",
        "outputId": "25b4a41e-beb7-4b7b-9cf3-a51bea0b5184"
      },
      "outputs": [
        {
          "data": {
            "text/plain": [
              "('Sophia', 1300)"
            ]
          },
          "execution_count": 39,
          "metadata": {},
          "output_type": "execute_result"
        }
      ],
      "source": [
        "# remove last inserted key-value pair\n",
        "fees.popitem()"
      ],
      "id": "rxoiKqHXfUmA"
    },
    {
      "cell_type": "code",
      "execution_count": null,
      "metadata": {
        "id": "ufRD08n1fUmB",
        "outputId": "90b77ed7-cea7-4f3e-cba4-81070396ef6b"
      },
      "outputs": [
        {
          "data": {
            "text/plain": [
              "{'Olivia': 1300}"
            ]
          },
          "execution_count": 40,
          "metadata": {},
          "output_type": "execute_result"
        }
      ],
      "source": [
        "fees"
      ],
      "id": "ufRD08n1fUmB"
    },
    {
      "cell_type": "markdown",
      "metadata": {
        "id": "b2c_HSgLfUmB"
      },
      "source": [
        "# update() method"
      ],
      "id": "b2c_HSgLfUmB"
    },
    {
      "cell_type": "code",
      "execution_count": null,
      "metadata": {
        "id": "O3IDIknmfUmB",
        "outputId": "392caf72-24ad-4e87-8691-a6db70aaba6c"
      },
      "outputs": [
        {
          "name": "stdout",
          "output_type": "stream",
          "text": [
            "{'101': 'John', '102': 'Olivia', '103': 'Sophia', 104: 'Sara'}\n"
          ]
        }
      ],
      "source": [
        "# create a dictionary\n",
        "emp = {'101': 'John',\n",
        " '102': 'Olivia',\n",
        " '103': 'Sophia'\n",
        " }\n",
        "emp\n",
        "# insert element\n",
        "emp.update({104: \"Sara\"})\n",
        "print(emp)\n"
      ],
      "id": "O3IDIknmfUmB"
    },
    {
      "cell_type": "markdown",
      "metadata": {
        "id": "_yp4O6xhfUmC"
      },
      "source": [
        "# values() method"
      ],
      "id": "_yp4O6xhfUmC"
    },
    {
      "cell_type": "code",
      "execution_count": null,
      "metadata": {
        "id": "1D2jApi5fUmC",
        "outputId": "58515b3f-01b1-48d5-f052-acaa27ad7ceb"
      },
      "outputs": [
        {
          "data": {
            "text/plain": [
              "dict_values(['John', 'Olivia', 'Sophia', 'Sara'])"
            ]
          },
          "execution_count": 42,
          "metadata": {},
          "output_type": "execute_result"
        }
      ],
      "source": [
        "# get the values\n",
        "emp.values()"
      ],
      "id": "1D2jApi5fUmC"
    },
    {
      "cell_type": "markdown",
      "metadata": {
        "id": "1xo7zNrtfUmC"
      },
      "source": [
        "# Accessing element of a nested dictionary\n",
        "In order to access the value of any key in nested dictionary, use indexing [] syntax."
      ],
      "id": "1xo7zNrtfUmC"
    },
    {
      "cell_type": "code",
      "execution_count": null,
      "metadata": {
        "id": "rDuEv4QYfUmC",
        "outputId": "6825c0b7-8099-49d3-c7d9-3c5fce5477e1"
      },
      "outputs": [
        {
          "name": "stdout",
          "output_type": "stream",
          "text": [
            "{1: 'Geeks'}\n",
            "Geeks\n",
            "For\n"
          ]
        }
      ],
      "source": [
        "# Creating a Dictionary \n",
        "Dict = {'Dict1': {1: 'Geeks'}, \n",
        "        'Dict2': {'Name': 'For'}} \n",
        "  \n",
        "# Accessing element using key \n",
        "print(Dict['Dict1']) \n",
        "print(Dict['Dict1'][1]) \n",
        "print(Dict['Dict2']['Name']) "
      ],
      "id": "rDuEv4QYfUmC"
    },
    {
      "cell_type": "markdown",
      "metadata": {
        "id": "JD20zEWrfUmD"
      },
      "source": [
        "# Removing Elements from Dictionary"
      ],
      "id": "JD20zEWrfUmD"
    },
    {
      "cell_type": "markdown",
      "metadata": {
        "id": "uSwxgJoZfUmD"
      },
      "source": [
        "# Using del keyword\n",
        "In Python Dictionary, deletion of keys can be done by using the del keyword. Using del keyword, specific values from a dictionary as well as whole dictionary can be deleted. Items in a Nested dictionary can also be deleted by using del keyword and providing specific nested key and particular key to be deleted from that nested Dictionary.\n",
        "\n",
        "Note- del Dict will delete the entire dictionary and hence printing it after deletion will raise an Error."
      ],
      "id": "uSwxgJoZfUmD"
    },
    {
      "cell_type": "code",
      "execution_count": null,
      "metadata": {
        "id": "CKEnTQOjfUmD",
        "outputId": "cf4a5bd8-747c-444f-fdf0-6214c5dbe372"
      },
      "outputs": [
        {
          "name": "stdout",
          "output_type": "stream",
          "text": [
            "Initial Dictionary: \n",
            "{5: 'Welcome', 6: 'To', 7: 'Geeks', 'A': {1: 'Geeks', 2: 'For', 3: 'Geeks'}, 'B': {1: 'Geeks', 2: 'Life'}}\n",
            "\n",
            "Deleting a specific key: \n",
            "{5: 'Welcome', 7: 'Geeks', 'A': {1: 'Geeks', 2: 'For', 3: 'Geeks'}, 'B': {1: 'Geeks', 2: 'Life'}}\n",
            "\n",
            "Deleting a key from Nested Dictionary: \n",
            "{5: 'Welcome', 7: 'Geeks', 'A': {1: 'Geeks', 3: 'Geeks'}, 'B': {1: 'Geeks', 2: 'Life'}}\n"
          ]
        }
      ],
      "source": [
        "\n",
        "# Initial Dictionary \n",
        "Dict = { 5 : 'Welcome', 6 : 'To', 7 : 'Geeks', \n",
        "        'A' : {1 : 'Geeks', 2 : 'For', 3 : 'Geeks'}, \n",
        "        'B' : {1 : 'Geeks', 2 : 'Life'}} \n",
        "print(\"Initial Dictionary: \") \n",
        "print(Dict) \n",
        "  \n",
        "# Deleting a Key value \n",
        "del Dict[6] \n",
        "print(\"\\nDeleting a specific key: \") \n",
        "print(Dict) \n",
        "  \n",
        "# Deleting a Key from \n",
        "# Nested Dictionary \n",
        "del Dict['A'][2] \n",
        "print(\"\\nDeleting a key from Nested Dictionary: \") \n",
        "print(Dict) "
      ],
      "id": "CKEnTQOjfUmD"
    },
    {
      "cell_type": "markdown",
      "metadata": {
        "id": "Y72683GmfUmE"
      },
      "source": [
        "# Using pop() method\n",
        "Pop() method is used to return and delete the value of the key specified."
      ],
      "id": "Y72683GmfUmE"
    },
    {
      "cell_type": "code",
      "execution_count": null,
      "metadata": {
        "id": "u7cuifqcfUmE",
        "outputId": "9a266f77-0d99-4455-bdfa-05beeea69115"
      },
      "outputs": [
        {
          "name": "stdout",
          "output_type": "stream",
          "text": [
            "\n",
            "Dictionary after deletion: {'name': 'For', 3: 'Geeks'}\n",
            "Value associated to poped key is: Geeks\n"
          ]
        }
      ],
      "source": [
        "# Creating a Dictionary \n",
        "Dict = {1: 'Geeks', 'name': 'For', 3: 'Geeks'} \n",
        "  \n",
        "# Deleting a key  \n",
        "# using pop() method \n",
        "pop_ele = Dict.pop(1) \n",
        "print('\\nDictionary after deletion: ' + str(Dict)) \n",
        "print('Value associated to poped key is: ' + str(pop_ele))"
      ],
      "id": "u7cuifqcfUmE"
    },
    {
      "cell_type": "markdown",
      "metadata": {
        "id": "rydRcnqtfUmE"
      },
      "source": [
        "# Using clear() method\n",
        "All the items from a dictionary can be deleted at once by using clear() method."
      ],
      "id": "rydRcnqtfUmE"
    },
    {
      "cell_type": "code",
      "execution_count": null,
      "metadata": {
        "id": "eh1YAFpffUmF",
        "outputId": "6ac3a394-add9-41b1-ace6-38a37d48f1a3"
      },
      "outputs": [
        {
          "name": "stdout",
          "output_type": "stream",
          "text": [
            "\n",
            "Deleting Entire Dictionary: \n",
            "{}\n"
          ]
        }
      ],
      "source": [
        "# Creating a Dictionary \n",
        "Dict = {1: 'Geeks', 'name': 'For', 3: 'Geeks'} \n",
        "  \n",
        "  \n",
        "# Deleting entire Dictionary \n",
        "Dict.clear() \n",
        "print(\"\\nDeleting Entire Dictionary: \") \n",
        "print(Dict) "
      ],
      "id": "eh1YAFpffUmF"
    },
    {
      "cell_type": "markdown",
      "metadata": {
        "id": "zLDSURtzfUmF"
      },
      "source": [
        "# Dictionary of Movie and Year of Release"
      ],
      "id": "zLDSURtzfUmF"
    },
    {
      "cell_type": "markdown",
      "metadata": {
        "id": "yow_d52-fUmF"
      },
      "source": [
        " Each key is separated from its value by a colon \"<code>:</code>\".  Commas separate the items, and the whole dictionary is enclosed in curly braces. An empty dictionary without any items is written with just two curly braces, like this  \"<code>{}</code>\"."
      ],
      "id": "yow_d52-fUmF"
    },
    {
      "cell_type": "code",
      "execution_count": null,
      "metadata": {
        "jupyter": {
          "outputs_hidden": false
        },
        "id": "_oXaYoxBfUmF",
        "outputId": "ae3a7b36-5801-4f05-cba3-2da2a53be6ef"
      },
      "outputs": [
        {
          "data": {
            "text/plain": [
              "{'Thriller': '1982',\n",
              " 'Back in Black': '1980',\n",
              " 'The Dark Side of the Moon': '1973',\n",
              " 'The Bodyguard': '1992',\n",
              " 'Bat Out of Hell': '1977',\n",
              " 'Their Greatest Hits (1971-1975)': '1976',\n",
              " 'Saturday Night Fever': '1977',\n",
              " 'Rumours': '1977'}"
            ]
          },
          "execution_count": 7,
          "metadata": {},
          "output_type": "execute_result"
        }
      ],
      "source": [
        "# Create a sample dictionary\n",
        "\n",
        "release_year_dict = {\"Thriller\": \"1982\", \"Back in Black\": \"1980\", \\\n",
        "                    \"The Dark Side of the Moon\": \"1973\", \"The Bodyguard\": \"1992\", \\\n",
        "                    \"Bat Out of Hell\": \"1977\", \"Their Greatest Hits (1971-1975)\": \"1976\", \\\n",
        "                    \"Saturday Night Fever\": \"1977\", \"Rumours\": \"1977\"}\n",
        "release_year_dict"
      ],
      "id": "_oXaYoxBfUmF"
    },
    {
      "cell_type": "markdown",
      "metadata": {
        "id": "nldYz11_fUmG"
      },
      "source": [
        "In summary, like a list, a dictionary holds a sequence of elements. Each element is represented by a key and its corresponding value. Dictionaries are created with two curly braces containing keys and values separated by a colon. For every key, there can only be one single value, however,  multiple keys can hold the same value. Keys can only be strings, numbers, or tuples, but values can be any data type."
      ],
      "id": "nldYz11_fUmG"
    },
    {
      "cell_type": "markdown",
      "metadata": {
        "id": "wYZWTgVdfUmG"
      },
      "source": [
        "It is helpful to visualize the dictionary as a table, as in the following image. The first column represents the keys, the second column represents the values."
      ],
      "id": "wYZWTgVdfUmG"
    },
    {
      "cell_type": "markdown",
      "metadata": {
        "id": "fonhYShPfUmG"
      },
      "source": [
        "<img src=\"https://s3-api.us-geo.objectstorage.softlayer.net/cf-courses-data/CognitiveClass/PY0101EN/Chapter%202/Images/DictsStructure.png\" width=\"650\" />"
      ],
      "id": "fonhYShPfUmG"
    },
    {
      "cell_type": "markdown",
      "metadata": {
        "id": "ZZ8sZp8vfUmG"
      },
      "source": [
        "<h3 id=\"key\">Keys</h3>"
      ],
      "id": "ZZ8sZp8vfUmG"
    },
    {
      "cell_type": "markdown",
      "metadata": {
        "id": "fDVPclDefUmH"
      },
      "source": [
        "You can retrieve the values based on the names:"
      ],
      "id": "fDVPclDefUmH"
    },
    {
      "cell_type": "code",
      "execution_count": null,
      "metadata": {
        "jupyter": {
          "outputs_hidden": false
        },
        "id": "9RtSobYnfUmH",
        "outputId": "0102bba2-262a-4cf8-e421-8998f9cd8603"
      },
      "outputs": [
        {
          "data": {
            "text/plain": [
              "'1982'"
            ]
          },
          "execution_count": 8,
          "metadata": {},
          "output_type": "execute_result"
        }
      ],
      "source": [
        "# Get value by keys\n",
        "\n",
        "release_year_dict['Thriller'] "
      ],
      "id": "9RtSobYnfUmH"
    },
    {
      "cell_type": "markdown",
      "metadata": {
        "id": "6nWZjq5YfUmH"
      },
      "source": [
        "This corresponds to: \n"
      ],
      "id": "6nWZjq5YfUmH"
    },
    {
      "cell_type": "markdown",
      "metadata": {
        "id": "aTmAeoulfUmH"
      },
      "source": [
        "<img src=\"https://s3-api.us-geo.objectstorage.softlayer.net/cf-courses-data/CognitiveClass/PY0101EN/Chapter%202/Images/DictsKeyOne.png\" width=\"500\" />"
      ],
      "id": "aTmAeoulfUmH"
    },
    {
      "cell_type": "markdown",
      "metadata": {
        "id": "fFu07uhYfUmI"
      },
      "source": [
        "Similarly for <b>The Bodyguard</b>"
      ],
      "id": "fFu07uhYfUmI"
    },
    {
      "cell_type": "code",
      "execution_count": null,
      "metadata": {
        "jupyter": {
          "outputs_hidden": false
        },
        "id": "lUqxYpIEfUmI",
        "outputId": "c12c1ef2-61c9-4edf-a3df-d815447d83f4"
      },
      "outputs": [
        {
          "data": {
            "text/plain": [
              "'1992'"
            ]
          },
          "execution_count": 9,
          "metadata": {},
          "output_type": "execute_result"
        }
      ],
      "source": [
        "# Get value by key\n",
        "\n",
        "release_year_dict['The Bodyguard'] "
      ],
      "id": "lUqxYpIEfUmI"
    },
    {
      "cell_type": "markdown",
      "metadata": {
        "id": "NsAhPDZKfUmI"
      },
      "source": [
        "<img src=\"https://s3-api.us-geo.objectstorage.softlayer.net/cf-courses-data/CognitiveClass/PY0101EN/Chapter%202/Images/DictsKeyTwo.png\" width=\"500\" />"
      ],
      "id": "NsAhPDZKfUmI"
    },
    {
      "cell_type": "markdown",
      "metadata": {
        "id": "zEvBi1VOfUmI"
      },
      "source": [
        "Now let you retrieve the keys of the dictionary using the method <code>release_year_dict()</code>:"
      ],
      "id": "zEvBi1VOfUmI"
    },
    {
      "cell_type": "code",
      "execution_count": null,
      "metadata": {
        "jupyter": {
          "outputs_hidden": false
        },
        "id": "l5gSev_PfUmJ",
        "outputId": "c1496368-cfe8-4fa0-f214-d580a3cf4984"
      },
      "outputs": [
        {
          "data": {
            "text/plain": [
              "dict_keys(['Thriller', 'Back in Black', 'The Dark Side of the Moon', 'The Bodyguard', 'Bat Out of Hell', 'Their Greatest Hits (1971-1975)', 'Saturday Night Fever', 'Rumours'])"
            ]
          },
          "execution_count": 10,
          "metadata": {},
          "output_type": "execute_result"
        }
      ],
      "source": [
        "# Get all the keys in dictionary\n",
        "\n",
        "release_year_dict.keys() "
      ],
      "id": "l5gSev_PfUmJ"
    },
    {
      "cell_type": "markdown",
      "metadata": {
        "id": "3_9HuTTvfUmK"
      },
      "source": [
        "You can retrieve the values using the method  <code>values()</code>:"
      ],
      "id": "3_9HuTTvfUmK"
    },
    {
      "cell_type": "code",
      "execution_count": null,
      "metadata": {
        "jupyter": {
          "outputs_hidden": false
        },
        "id": "tGxd5o0ffUmK",
        "outputId": "59336066-8937-4070-e094-b68b5a85b237"
      },
      "outputs": [
        {
          "data": {
            "text/plain": [
              "dict_values(['1982', '1980', '1973', '1992', '1977', '1976', '1977', '1977'])"
            ]
          },
          "execution_count": 11,
          "metadata": {},
          "output_type": "execute_result"
        }
      ],
      "source": [
        "# Get all the values in dictionary\n",
        "\n",
        "release_year_dict.values() "
      ],
      "id": "tGxd5o0ffUmK"
    },
    {
      "cell_type": "markdown",
      "metadata": {
        "id": "3q2cwPeifUmM"
      },
      "source": [
        "We can add an entry:"
      ],
      "id": "3q2cwPeifUmM"
    },
    {
      "cell_type": "code",
      "execution_count": null,
      "metadata": {
        "jupyter": {
          "outputs_hidden": false
        },
        "id": "dQLv4BVRfUmM",
        "outputId": "c4085400-115a-4c64-e6e8-5f9004949abb"
      },
      "outputs": [
        {
          "data": {
            "text/plain": [
              "{'Thriller': '1982',\n",
              " 'Back in Black': '1980',\n",
              " 'The Dark Side of the Moon': '1973',\n",
              " 'The Bodyguard': '1992',\n",
              " 'Bat Out of Hell': '1977',\n",
              " 'Their Greatest Hits (1971-1975)': '1976',\n",
              " 'Saturday Night Fever': '1977',\n",
              " 'Rumours': '1977',\n",
              " 'Graduation': '2007'}"
            ]
          },
          "execution_count": 12,
          "metadata": {},
          "output_type": "execute_result"
        }
      ],
      "source": [
        "# Append value with key into dictionary\n",
        "\n",
        "release_year_dict['Graduation'] = '2007'\n",
        "release_year_dict"
      ],
      "id": "dQLv4BVRfUmM"
    },
    {
      "cell_type": "markdown",
      "metadata": {
        "id": "nTpGWaGCfUmM"
      },
      "source": [
        "We can delete an entry:   "
      ],
      "id": "nTpGWaGCfUmM"
    },
    {
      "cell_type": "code",
      "execution_count": null,
      "metadata": {
        "jupyter": {
          "outputs_hidden": false
        },
        "id": "rY44PEnIfUmN",
        "outputId": "0c4196de-d00a-4fb5-9daf-1768590684fd"
      },
      "outputs": [
        {
          "data": {
            "text/plain": [
              "{'Back in Black': '1980',\n",
              " 'The Dark Side of the Moon': '1973',\n",
              " 'The Bodyguard': '1992',\n",
              " 'Bat Out of Hell': '1977',\n",
              " 'Their Greatest Hits (1971-1975)': '1976',\n",
              " 'Saturday Night Fever': '1977',\n",
              " 'Rumours': '1977'}"
            ]
          },
          "execution_count": 13,
          "metadata": {},
          "output_type": "execute_result"
        }
      ],
      "source": [
        "# Delete entries by key\n",
        "\n",
        "del(release_year_dict['Thriller'])\n",
        "del(release_year_dict['Graduation'])\n",
        "release_year_dict"
      ],
      "id": "rY44PEnIfUmN"
    },
    {
      "cell_type": "markdown",
      "metadata": {
        "id": "Ioo8wwA4fUmN"
      },
      "source": [
        " We can verify if an element is in the dictionary: "
      ],
      "id": "Ioo8wwA4fUmN"
    },
    {
      "cell_type": "code",
      "execution_count": null,
      "metadata": {
        "jupyter": {
          "outputs_hidden": false
        },
        "id": "VRuK4VGofUmN",
        "outputId": "d108092f-f1de-4dc6-ef01-840824a8f3de"
      },
      "outputs": [
        {
          "data": {
            "text/plain": [
              "True"
            ]
          },
          "execution_count": 14,
          "metadata": {},
          "output_type": "execute_result"
        }
      ],
      "source": [
        "# Verify the key is in the dictionary\n",
        "\n",
        "'The Bodyguard' in release_year_dict"
      ],
      "id": "VRuK4VGofUmN"
    },
    {
      "cell_type": "code",
      "execution_count": null,
      "metadata": {
        "id": "P5j4U3FqfUmN",
        "outputId": "dd6046ca-c74c-43bb-b951-cea96fc58be0"
      },
      "outputs": [
        {
          "data": {
            "text/plain": [
              "False"
            ]
          },
          "execution_count": 15,
          "metadata": {},
          "output_type": "execute_result"
        }
      ],
      "source": [
        "\"1977\" in release_year_dict"
      ],
      "id": "P5j4U3FqfUmN"
    },
    {
      "cell_type": "markdown",
      "metadata": {
        "id": "QEZYNnsSfUmP"
      },
      "source": [
        "<hr>"
      ],
      "id": "QEZYNnsSfUmP"
    },
    {
      "cell_type": "markdown",
      "metadata": {
        "id": "C5aPzp8GfUmP"
      },
      "source": [
        "<h2 id=\"quiz\">Quiz on Dictionaries</h2>"
      ],
      "id": "C5aPzp8GfUmP"
    },
    {
      "cell_type": "markdown",
      "metadata": {
        "id": "aeW2xEZVfUmP"
      },
      "source": [
        "<b>You will need this dictionary for the next two questions:</b>"
      ],
      "id": "aeW2xEZVfUmP"
    },
    {
      "cell_type": "code",
      "execution_count": null,
      "metadata": {
        "id": "fPNPnGtcfUmQ",
        "outputId": "dc48d670-0bc1-4ad6-e90e-0d2a14f05492"
      },
      "outputs": [
        {
          "data": {
            "text/plain": [
              "{'The Bodyguard': '1992', 'Saturday Night Fever': '1977'}"
            ]
          },
          "execution_count": 12,
          "metadata": {},
          "output_type": "execute_result"
        }
      ],
      "source": [
        "# Question sample dictionary\n",
        "\n",
        "soundtrack_dic = {\"The Bodyguard\":\"1992\", \"Saturday Night Fever\":\"1977\"}\n",
        "soundtrack_dic "
      ],
      "id": "fPNPnGtcfUmQ"
    },
    {
      "cell_type": "markdown",
      "metadata": {
        "id": "9HDoE_fHfUmQ"
      },
      "source": [
        "a) In the dictionary <code>soundtrack_dict</code> what are the keys ?"
      ],
      "id": "9HDoE_fHfUmQ"
    },
    {
      "cell_type": "code",
      "execution_count": null,
      "metadata": {
        "id": "Jhk3WwuZfUmQ",
        "outputId": "6d79c39c-3a39-4800-8ff0-6682beb37b2d"
      },
      "outputs": [
        {
          "data": {
            "text/plain": [
              "dict_keys(['The Bodyguard', 'Saturday Night Fever'])"
            ]
          },
          "execution_count": 13,
          "metadata": {},
          "output_type": "execute_result"
        }
      ],
      "source": [
        "# Write your code below and press Shift+Enter to execute\n",
        "soundtrack_dic.keys()"
      ],
      "id": "Jhk3WwuZfUmQ"
    },
    {
      "cell_type": "markdown",
      "metadata": {
        "id": "oGUxdjTifUmQ"
      },
      "source": [
        "Double-click __here__ for the solution.\n",
        "\n",
        "<!-- Your answer is below:\n",
        "soundtrack_dic.keys() # The Keys \"The Bodyguard\" and \"Saturday Night Fever\" \n",
        "-->"
      ],
      "id": "oGUxdjTifUmQ"
    },
    {
      "cell_type": "markdown",
      "metadata": {
        "id": "9btS3LJSfUmR"
      },
      "source": [
        "b) In the dictionary <code>soundtrack_dict</code> what are the values ?"
      ],
      "id": "9btS3LJSfUmR"
    },
    {
      "cell_type": "code",
      "execution_count": null,
      "metadata": {
        "id": "QPqIL4jefUmR",
        "outputId": "ff7d2ea8-afea-46cc-84c7-ec0a9fd306ce"
      },
      "outputs": [
        {
          "data": {
            "text/plain": [
              "dict_values(['1992', '1977'])"
            ]
          },
          "execution_count": 14,
          "metadata": {},
          "output_type": "execute_result"
        }
      ],
      "source": [
        "# Write your code below and press Shift+Enter to execute\n",
        "soundtrack_dic .values()"
      ],
      "id": "QPqIL4jefUmR"
    },
    {
      "cell_type": "markdown",
      "metadata": {
        "id": "CR9JCLcKfUmR"
      },
      "source": [
        "Double-click __here__ for the solution.\n",
        "\n",
        "<!-- Your answer is below:\n",
        "soundtrack_dic.values() # The values are \"1992\" and \"1977\"\n",
        "-->"
      ],
      "id": "CR9JCLcKfUmR"
    },
    {
      "cell_type": "markdown",
      "metadata": {
        "id": "9vdWaFeCfUmS"
      },
      "source": [
        "<hr>"
      ],
      "id": "9vdWaFeCfUmS"
    },
    {
      "cell_type": "markdown",
      "metadata": {
        "id": "lNY7YFPkfUmS"
      },
      "source": [
        "<b>You will need this dictionary for the following questions:</b>"
      ],
      "id": "lNY7YFPkfUmS"
    },
    {
      "cell_type": "markdown",
      "metadata": {
        "id": "0_6UiLRXfUmS"
      },
      "source": [
        "The Albums <b>Back in Black</b>, <b>The Bodyguard</b> and <b>Thriller</b> have the following music recording sales in millions 50, 50 and 65 respectively:"
      ],
      "id": "0_6UiLRXfUmS"
    },
    {
      "cell_type": "markdown",
      "metadata": {
        "id": "dZqwsTE3fUmS"
      },
      "source": [
        "a) Create a dictionary <code>album_sales_dict</code> where the keys are the album name and the sales in millions are the values. "
      ],
      "id": "dZqwsTE3fUmS"
    },
    {
      "cell_type": "code",
      "execution_count": null,
      "metadata": {
        "id": "2ZaMTguSfUmS",
        "outputId": "fcf94f80-236c-48a2-add1-e0013cb05bdc"
      },
      "outputs": [
        {
          "data": {
            "text/plain": [
              "{'Back in Black': 50, 'The Bodyguard': 50, 'Thriller': 65}"
            ]
          },
          "execution_count": 15,
          "metadata": {},
          "output_type": "execute_result"
        }
      ],
      "source": [
        "# Write your code below and press Shift+Enter to execute\n",
        "album_sales_dict={\"Back in Black\":50,\"The Bodyguard\":50,\"Thriller\":65}\n",
        "album_sales_dict"
      ],
      "id": "2ZaMTguSfUmS"
    },
    {
      "cell_type": "markdown",
      "metadata": {
        "id": "a8aJaqV5fUmT"
      },
      "source": [
        "Double-click __here__ for the solution.\n",
        "\n",
        "<!-- Your answer is below:\n",
        "album_sales_dict = {\"The Bodyguard\":50, \"Back in Black\":50, \"Thriller\":65}\n",
        "-->"
      ],
      "id": "a8aJaqV5fUmT"
    },
    {
      "cell_type": "markdown",
      "metadata": {
        "id": "-qbOor3KfUmT"
      },
      "source": [
        "b) Use the dictionary to find the total sales of <b>Thriller</b>:"
      ],
      "id": "-qbOor3KfUmT"
    },
    {
      "cell_type": "code",
      "execution_count": null,
      "metadata": {
        "jupyter": {
          "outputs_hidden": false
        },
        "id": "-BYwhEWGfUmT",
        "outputId": "4bdb41b8-3093-4d1f-b0b9-6c25d3997bb8"
      },
      "outputs": [
        {
          "data": {
            "text/plain": [
              "65"
            ]
          },
          "execution_count": 16,
          "metadata": {},
          "output_type": "execute_result"
        }
      ],
      "source": [
        "# Write your code below and press Shift+Enter to execute\n",
        "album_sales_dict[\"Thriller\"]"
      ],
      "id": "-BYwhEWGfUmT"
    },
    {
      "cell_type": "markdown",
      "metadata": {
        "id": "reT7IFF_fUmT"
      },
      "source": [
        "Double-click __here__ for the solution.\n",
        "\n",
        "<!-- Your answer is below:\n",
        "album_sales_dict[\"Thriller\"]\n",
        "-->"
      ],
      "id": "reT7IFF_fUmT"
    },
    {
      "cell_type": "markdown",
      "metadata": {
        "id": "SZMVGHX_fUmU"
      },
      "source": [
        "c) Find the names of the albums from the dictionary using the method <code>keys</code>:"
      ],
      "id": "SZMVGHX_fUmU"
    },
    {
      "cell_type": "code",
      "execution_count": null,
      "metadata": {
        "jupyter": {
          "outputs_hidden": false
        },
        "id": "Jd1vo7jKfUmU",
        "outputId": "de8f3812-2f16-4295-c965-50241fc39665"
      },
      "outputs": [
        {
          "data": {
            "text/plain": [
              "dict_keys(['Back in Black', 'The Bodyguard', 'Thriller'])"
            ]
          },
          "execution_count": 18,
          "metadata": {},
          "output_type": "execute_result"
        }
      ],
      "source": [
        "# Write your code below and press Shift+Enter to execute\n",
        "album_sales_dict.keys()"
      ],
      "id": "Jd1vo7jKfUmU"
    },
    {
      "cell_type": "markdown",
      "metadata": {
        "id": "s14I-5cYfUmU"
      },
      "source": [
        "Double-click __here__ for the solution.\n",
        "\n",
        "<!-- Your answer is below:\n",
        "album_sales_dict.keys()\n",
        "-->"
      ],
      "id": "s14I-5cYfUmU"
    },
    {
      "cell_type": "markdown",
      "metadata": {
        "id": "FeF3GoA3fUmU"
      },
      "source": [
        "d) Find the names of the recording sales from the dictionary using the method <code>values</code>:"
      ],
      "id": "FeF3GoA3fUmU"
    },
    {
      "cell_type": "code",
      "execution_count": null,
      "metadata": {
        "jupyter": {
          "outputs_hidden": false
        },
        "id": "3El79x6zfUmU",
        "outputId": "7a41d6f2-fc04-4ef3-900c-3c3cdf8da2d4"
      },
      "outputs": [
        {
          "data": {
            "text/plain": [
              "dict_values([50, 50, 65])"
            ]
          },
          "execution_count": 19,
          "metadata": {},
          "output_type": "execute_result"
        }
      ],
      "source": [
        "# Write your code below and press Shift+Enter to execute\n",
        "album_sales_dict.values()"
      ],
      "id": "3El79x6zfUmU"
    },
    {
      "cell_type": "markdown",
      "metadata": {
        "id": "bfbbnMlQfUmV"
      },
      "source": [
        "Double-click __here__ for the solution.\n",
        "\n",
        "<!-- Your answer is below:\n",
        "album_sales_dict.values()\n",
        "-->"
      ],
      "id": "bfbbnMlQfUmV"
    },
    {
      "cell_type": "code",
      "execution_count": null,
      "metadata": {
        "id": "Psh1pCgafUmV"
      },
      "outputs": [],
      "source": [],
      "id": "Psh1pCgafUmV"
    },
    {
      "cell_type": "code",
      "execution_count": null,
      "metadata": {
        "id": "jxuNWIrSfUmV"
      },
      "outputs": [],
      "source": [],
      "id": "jxuNWIrSfUmV"
    },
    {
      "cell_type": "code",
      "execution_count": null,
      "metadata": {
        "id": "TmbTRUqHfUmV"
      },
      "outputs": [],
      "source": [
        "# DEEP _AND _SHALLOW COPY"
      ],
      "id": "TmbTRUqHfUmV"
    },
    {
      "cell_type": "code",
      "execution_count": null,
      "metadata": {
        "id": "2goxJozxfUmV"
      },
      "outputs": [],
      "source": [
        "# Python code to demonstrate copy operations\n",
        "\n",
        "# importing \"copy\" for copy operations\n",
        "import copy\n",
        "\n",
        "# initializing list 1\n",
        "li1 = [1, 2, [3,5], 4]\n",
        "\n",
        "# using deepcopy to deep copy\n",
        "li2 = copy.deepcopy(li1)"
      ],
      "id": "2goxJozxfUmV"
    },
    {
      "cell_type": "code",
      "execution_count": null,
      "metadata": {
        "id": "uxtRHXAgfUmW",
        "outputId": "baae37a6-1b2c-4749-b56a-890202f22f52"
      },
      "outputs": [
        {
          "name": "stdout",
          "output_type": "stream",
          "text": [
            "The original elements before deep copying\n",
            "1 2 [3, 5] 4 \n"
          ]
        }
      ],
      "source": [
        "# original elements of list\n",
        "print (\"The original elements before deep copying\")\n",
        "for i in range(0,len(li1)):\n",
        "    print (li1[i],end=\" \")\n",
        "\n",
        "print(\"\\r\")"
      ],
      "id": "uxtRHXAgfUmW"
    },
    {
      "cell_type": "code",
      "execution_count": null,
      "metadata": {
        "id": "CruMWcNzfUmW",
        "outputId": "c19b1fe9-6f9c-4321-e6b4-071b2c8ebc38"
      },
      "outputs": [
        {
          "name": "stdout",
          "output_type": "stream",
          "text": [
            "The new list of elements after deep copying \n",
            "1 2 [7, 5] 4 \n"
          ]
        }
      ],
      "source": [
        "# adding and element to new list\n",
        "li2[2][0] = 7\n",
        "\n",
        "# Change is reflected in l2\n",
        "print (\"The new list of elements after deep copying \")\n",
        "for i in range(0,len( li1)):\n",
        "    print (li2[i],end=\" \")\n",
        "\n",
        "print(\"\\r\")"
      ],
      "id": "CruMWcNzfUmW"
    },
    {
      "cell_type": "code",
      "execution_count": null,
      "metadata": {
        "id": "LRwDAbDHfUmW",
        "outputId": "f5f0b7b5-32f3-4e74-d589-94f39c5dd099"
      },
      "outputs": [
        {
          "name": "stdout",
          "output_type": "stream",
          "text": [
            "The original elements after deep copying\n",
            "1 2 [3, 5] 4 "
          ]
        }
      ],
      "source": [
        "# Change is NOT reflected in original list\n",
        "# as it is a deep copy\n",
        "print (\"The original elements after deep copying\")\n",
        "for i in range(0,len( li1)):\n",
        "    print (li1[i],end=\" \")\n",
        "    \n",
        "#Deep Copy"
      ],
      "id": "LRwDAbDHfUmW"
    },
    {
      "cell_type": "code",
      "execution_count": null,
      "metadata": {
        "id": "26dtkIzjfUmW",
        "outputId": "37e87208-13f2-4033-8217-d4f16bc65189"
      },
      "outputs": [
        {
          "name": "stdout",
          "output_type": "stream",
          "text": [
            "[1, 2, [3, 5], 4]\n"
          ]
        }
      ],
      "source": [
        "# Python code to demonstrate copy operations\n",
        "\n",
        "# importing \"copy\" for copy operations\n",
        "import copy\n",
        "\n",
        "# initializing list 1\n",
        "li1 = [1, 2, [3,5], 4]\n",
        "\n",
        "# using copy to shallow copy\n",
        "li2 = copy.copy(li1)\n",
        "print(li2)\n",
        "\n"
      ],
      "id": "26dtkIzjfUmW"
    },
    {
      "cell_type": "code",
      "execution_count": null,
      "metadata": {
        "id": "Z6ywKF0PfUmW",
        "outputId": "536428d6-c435-4c95-d6e4-01b85d4b2ed2"
      },
      "outputs": [
        {
          "name": "stdout",
          "output_type": "stream",
          "text": [
            "The original elements before shallow copying\n",
            "1 2 [3, 5] 4 \n"
          ]
        }
      ],
      "source": [
        "# original elements of list\n",
        "print (\"The original elements before shallow copying\")\n",
        "for i in range(0,len(li1)):\n",
        "\tprint (li2[i],end=\" \")\n",
        "\n",
        "print(\"\\r\")\n"
      ],
      "id": "Z6ywKF0PfUmW"
    },
    {
      "cell_type": "code",
      "execution_count": null,
      "metadata": {
        "id": "4OnSiQ-0fUmX",
        "outputId": "5bc38bc4-4147-44f7-b037-f0f7ace9ab00"
      },
      "outputs": [
        {
          "name": "stdout",
          "output_type": "stream",
          "text": [
            "The original elements after shallow copying\n",
            "1 2 [9, 5] 4 "
          ]
        }
      ],
      "source": [
        "# adding and element to new list\n",
        "li1[2][0] = 9\n",
        "\n",
        "# checking if change is reflected\n",
        "print (\"The original elements after shallow copying\")\n",
        "for i in range(0,len(li1)):\n",
        "    print (li1[i],end=\" \")\n",
        "#shallow copy"
      ],
      "id": "4OnSiQ-0fUmX"
    },
    {
      "cell_type": "code",
      "execution_count": null,
      "metadata": {
        "id": "J7XQIJolfUmX",
        "outputId": "95c4d032-b34c-4347-ad1a-67602a72826c"
      },
      "outputs": [
        {
          "data": {
            "text/plain": [
              "[1, 2, [9, 5], 4]"
            ]
          },
          "execution_count": 24,
          "metadata": {},
          "output_type": "execute_result"
        }
      ],
      "source": [
        "li1"
      ],
      "id": "J7XQIJolfUmX"
    },
    {
      "cell_type": "code",
      "execution_count": null,
      "metadata": {
        "id": "3dbJGVvCfUmX",
        "outputId": "80ab9b96-8098-4b1f-bbb4-8ce814f58779"
      },
      "outputs": [
        {
          "data": {
            "text/plain": [
              "[1, 2, [9, 5], 4]"
            ]
          },
          "execution_count": 25,
          "metadata": {},
          "output_type": "execute_result"
        }
      ],
      "source": [
        "li2"
      ],
      "id": "3dbJGVvCfUmX"
    },
    {
      "cell_type": "code",
      "execution_count": null,
      "metadata": {
        "id": "KEb3R2r0fUmX"
      },
      "outputs": [],
      "source": [],
      "id": "KEb3R2r0fUmX"
    },
    {
      "cell_type": "code",
      "execution_count": null,
      "metadata": {
        "id": "cgg2oPSKfUmY"
      },
      "outputs": [],
      "source": [],
      "id": "cgg2oPSKfUmY"
    },
    {
      "cell_type": "markdown",
      "metadata": {
        "id": "1ifXlkhWEYxa"
      },
      "source": [
        "## Functions"
      ],
      "id": "1ifXlkhWEYxa"
    },
    {
      "cell_type": "code",
      "execution_count": null,
      "metadata": {
        "id": "6AcV-5ZfFgjp"
      },
      "outputs": [],
      "source": [
        "#1. define a function\n",
        "def func1():\n",
        "  print(\"I am here in function1\")"
      ],
      "id": "6AcV-5ZfFgjp"
    },
    {
      "cell_type": "code",
      "execution_count": null,
      "metadata": {
        "colab": {
          "base_uri": "https://localhost:8080/"
        },
        "id": "UvwyMQBqFk8m",
        "outputId": "1b95d7d9-3605-454f-d973-33d9ccaa2d2e"
      },
      "outputs": [
        {
          "name": "stdout",
          "output_type": "stream",
          "text": [
            "I am here function2\n",
            "function1\n",
            "Back to sweet home\n"
          ]
        }
      ],
      "source": [
        "# function communication\n",
        "def func2():\n",
        "  print(\"I am here function2\")\n",
        "  func1()\n",
        "  print(\"Back to sweet home\")\n",
        "func2()"
      ],
      "id": "UvwyMQBqFk8m"
    },
    {
      "cell_type": "code",
      "execution_count": null,
      "metadata": {
        "colab": {
          "base_uri": "https://localhost:8080/"
        },
        "id": "285aUhDwHukO",
        "outputId": "f20be132-ffc4-4850-8b21-da8afdac434f"
      },
      "outputs": [
        {
          "name": "stdout",
          "output_type": "stream",
          "text": [
            "fun2: 30\n",
            "function1: 30\n"
          ]
        }
      ],
      "source": [
        "x=30\n",
        "def a():\n",
        "  print(\"function1:\",x)\n",
        "\n",
        "def b():\n",
        "  print(\"fun2:\",x)\n",
        "  a()\n",
        "\n",
        "b()"
      ],
      "id": "285aUhDwHukO"
    },
    {
      "cell_type": "code",
      "execution_count": null,
      "metadata": {
        "id": "3kSyGHQxI7-7"
      },
      "outputs": [],
      "source": [
        "def a():\n",
        "  x1 = 30\n",
        "  print(x1)\n",
        "def b():\n",
        "  x2 = 40\n",
        "  print(x2)\n",
        "a()\n",
        "b()"
      ],
      "id": "3kSyGHQxI7-7"
    },
    {
      "cell_type": "markdown",
      "metadata": {
        "id": "VpgJ1dWpJXhZ"
      },
      "source": [
        "#### what is the ouput of the following code? "
      ],
      "id": "VpgJ1dWpJXhZ"
    },
    {
      "cell_type": "code",
      "execution_count": null,
      "metadata": {
        "id": "uEpHgVGfJMLu"
      },
      "outputs": [],
      "source": [
        "\n",
        "# def a():\n",
        "#   x1 = 30\n",
        "#   print(x1)\n",
        "# def b():\n",
        "#   x2 = 40\n",
        "#   print(x2)\n",
        "# a()\n",
        "# b()"
      ],
      "id": "uEpHgVGfJMLu"
    },
    {
      "cell_type": "markdown",
      "metadata": {
        "id": "1fgcfHPSJw_K"
      },
      "source": [
        "#### what is the ouput of the following code?  "
      ],
      "id": "1fgcfHPSJw_K"
    },
    {
      "cell_type": "code",
      "execution_count": null,
      "metadata": {
        "id": "RpD7UtbVJypg"
      },
      "outputs": [],
      "source": [
        "# global variable\n",
        "# b=1500\n",
        "# def var_func1():\n",
        "#    print(b)\n",
        "#    b = b+10\n",
        "#    print(b)\n",
        "\n",
        "# def var_func2():\n",
        "#   print(b)\n",
        "  \n",
        "\n",
        "\n",
        "# var_func1()\n",
        "# var_func2()"
      ],
      "id": "RpD7UtbVJypg"
    },
    {
      "cell_type": "markdown",
      "metadata": {
        "id": "SUQNspwtJntM"
      },
      "source": [
        "### global key word"
      ],
      "id": "SUQNspwtJntM"
    },
    {
      "cell_type": "code",
      "execution_count": null,
      "metadata": {
        "colab": {
          "base_uri": "https://localhost:8080/"
        },
        "id": "gs6lveonGUCM",
        "outputId": "3c6c2b8a-fe47-4013-bf2b-3854a940c8ed"
      },
      "outputs": [
        {
          "name": "stdout",
          "output_type": "stream",
          "text": [
            "0\n",
            "10\n",
            "10\n"
          ]
        }
      ],
      "source": [
        "# global variable\n",
        "b=0\n",
        "def var_func1():\n",
        "   global b\n",
        "   print(b)\n",
        "   b = b+10\n",
        "   print(b)\n",
        "\n",
        "def var_func2():\n",
        "  print(b)\n",
        "  \n",
        "\n",
        "\n",
        "var_func1()\n",
        "var_func2()"
      ],
      "id": "gs6lveonGUCM"
    },
    {
      "cell_type": "markdown",
      "metadata": {
        "editable": false,
        "id": "YjCzKRg1QO1Z",
        "nbgrader": {
          "cell_type": "markdown",
          "checksum": "35d735cc47d01be16cc0563482b75f87",
          "grade": false,
          "grade_id": "cell-62185d23dc631dbb",
          "locked": true,
          "schema_version": 3,
          "solution": false,
          "task": false
        }
      },
      "source": [
        "### Nested Loops and recursive functions\n",
        "* Write a function to print the prime numbers in the in a given range of two number(including both)\n",
        "* Write a fucntion to sort the elements L1=[4,0,1,5,2,10,-1]\n",
        "* Write a recursive function to print the factorial of a number.A recursive funtion is one which calls itself.\n",
        "* Write a recursive fucntion to get the sum of first n natural numbers."
      ],
      "id": "YjCzKRg1QO1Z"
    },
    {
      "cell_type": "code",
      "execution_count": null,
      "metadata": {
        "id": "RLjYOjpFQO1b",
        "nbgrader": {
          "cell_type": "code",
          "checksum": "2bfa960f823e54519022b282eaea3e09",
          "grade": true,
          "grade_id": "cell-243f5ba203073a93",
          "locked": false,
          "points": 2,
          "schema_version": 3,
          "solution": true,
          "task": false
        }
      },
      "outputs": [],
      "source": [
        "# Write a function to print the prime numbers in the in a given range of two number(including both)\n",
        "def primeCheck(n):\n",
        "    f=0\n",
        "    # YOUR CODE HERE\n",
        "a=int(input())\n",
        "b=int(input())\n",
        "for i in range(a,b):\n",
        "      primeCheck(i)"
      ],
      "id": "RLjYOjpFQO1b"
    },
    {
      "cell_type": "code",
      "execution_count": null,
      "metadata": {
        "id": "xgaOVaXnQO1i",
        "nbgrader": {
          "cell_type": "code",
          "checksum": "b367456a6151a70bd45f24f834f7c790",
          "grade": true,
          "grade_id": "cell-50349f16478e7c6d",
          "locked": false,
          "points": 2,
          "schema_version": 3,
          "solution": true,
          "task": false
        }
      },
      "outputs": [],
      "source": [
        "# Above code using nested loops\n",
        "a=int(input())\n",
        "b=int(input())\n",
        "for i in range(a,b):\n",
        "    f=0\n",
        "    # YOUR CODE HERE\n",
        "    for j in range(1,i+1):\n",
        "      if i%j == 0:\n",
        "        f = f+1\n",
        "    if f==2:\n",
        "      print()\n",
        "    else:\n",
        "      print()\n",
        "    # YOUR CODE HERE\n",
        "   "
      ],
      "id": "xgaOVaXnQO1i"
    },
    {
      "cell_type": "code",
      "execution_count": null,
      "metadata": {
        "id": "9SIzpD8-QO1m",
        "nbgrader": {
          "cell_type": "code",
          "checksum": "004884de792f26d61d9aeae6737896d3",
          "grade": true,
          "grade_id": "cell-9473743be942704d",
          "locked": false,
          "points": 2,
          "schema_version": 3,
          "solution": true,
          "task": false
        }
      },
      "outputs": [],
      "source": [
        "#Write a recursive function to print the factorial of a number.A recursive funtion is one which calls itself.\n",
        "\n",
        "def recursiveFact(n):\n",
        "    # YOUR CODE HERE\n",
        "    if( n==0 ) :\n",
        "      return 1;\n",
        "    else:\n",
        "      return n* recursiveFact( n-1)\n",
        "n=int(input())\n",
        "print(recursiveFact(n))"
      ],
      "id": "9SIzpD8-QO1m"
    },
    {
      "cell_type": "code",
      "execution_count": null,
      "metadata": {
        "id": "1iePqv8HQO1p",
        "nbgrader": {
          "cell_type": "code",
          "checksum": "7c50ced2bcef563516194037ae1c930d",
          "grade": true,
          "grade_id": "cell-db7fc55664999fb9",
          "locked": false,
          "points": 2,
          "schema_version": 3,
          "solution": true,
          "task": false
        }
      },
      "outputs": [],
      "source": [
        "#Write a recursive fucntion to get the sum of first n natural numbers.\n",
        "def recursiveSum(n):\n",
        "    # YOUR CODE HERE\n",
        "   \n",
        "n=int(input())\n",
        "print(recursiveSum(n))"
      ],
      "id": "1iePqv8HQO1p"
    },
    {
      "cell_type": "code",
      "execution_count": null,
      "metadata": {
        "id": "DkQ23kykfUmc"
      },
      "outputs": [],
      "source": [],
      "id": "DkQ23kykfUmc"
    },
    {
      "cell_type": "code",
      "execution_count": null,
      "metadata": {
        "id": "wq6U9KlCfUmd"
      },
      "outputs": [],
      "source": [],
      "id": "wq6U9KlCfUmd"
    },
    {
      "cell_type": "code",
      "execution_count": null,
      "metadata": {
        "id": "nd2p7FCAfUmd",
        "outputId": "87cc4994-160c-4172-f9de-c24fdde78f10"
      },
      "outputs": [
        {
          "ename": "NameError",
          "evalue": "name 'Task' is not defined",
          "output_type": "error",
          "traceback": [
            "\u001b[0;31m---------------------------------------------------------------------------\u001b[0m",
            "\u001b[0;31mNameError\u001b[0m                                 Traceback (most recent call last)",
            "\u001b[0;32m<ipython-input-4-5a54f60e184d>\u001b[0m in \u001b[0;36m<module>\u001b[0;34m\u001b[0m\n\u001b[0;32m----> 1\u001b[0;31m \u001b[0mProjects\u001b[0m\u001b[0;34m=\u001b[0m \u001b[0mTask\u001b[0m\u001b[0;34m\u001b[0m\u001b[0;34m\u001b[0m\u001b[0m\n\u001b[0m",
            "\u001b[0;31mNameError\u001b[0m: name 'Task' is not defined"
          ]
        }
      ],
      "source": [
        "Projects= Task"
      ],
      "id": "nd2p7FCAfUmd"
    },
    {
      "cell_type": "markdown",
      "metadata": {
        "id": "QPGTkhmffUmd"
      },
      "source": [
        "<p><strong>Welcome!</strong> This notebook will teach you about the functions in the Python Programming Language. \n",
        "    \n",
        "By the end of this lab, you'll know the basic concepts about function, variables, and how to use functions.</p>"
      ],
      "id": "QPGTkhmffUmd"
    },
    {
      "cell_type": "raw",
      "metadata": {
        "id": "EiZ4-FkzfUme"
      },
      "source": [
        "1. Function\n",
        "\n",
        "2. Function with return statement\n",
        "\n",
        "3. Argument & types of argument\n",
        "\n",
        "4. Pass by value/Pass by Reference\n",
        "\n",
        "5. SCope of variables\n",
        "\n",
        "\n",
        "6. Lambda Function\n",
        "\n",
        "7. Recursive Functions\n"
      ],
      "id": "EiZ4-FkzfUme"
    },
    {
      "cell_type": "markdown",
      "metadata": {
        "id": "IQK750dRfUme"
      },
      "source": [
        "<h2>Table of Contents</h2>\n",
        "<div class=\"alert alert-block alert-info\" style=\"margin-top: 20px\">\n",
        "    <ul>\n",
        "        <li>\n",
        "            <a href=\"#func\">Functions</a>\n",
        "            <ul>\n",
        "                <li><a href=\"content\">What is a function?</a></li>\n",
        "                <li><a href=\"var\">Variables</a></li>\n",
        "                <li><a href=\"simple\">Functions Make Things Simple</a></li>\n",
        "            </ul>\n",
        "        </li>\n",
        "        <li><a href=\"pre\">Pre-defined functions</a></li>\n",
        "        <li><a href=\"if\">Using <code>if</code>/<code>else</code> Statements and Loops in Functions</a></li>\n",
        "        <li><a href=\"default\">Setting default argument values in your custom functions</a></li>\n",
        "        <li><a href=\"global\">Global variables</a></li>\n",
        "        <li><a href=\"scope\">Scope of a Variable</a></li>\n",
        "        <li>\n",
        "            <a href=\"#quiz\">Quiz on Loops</a>\n",
        "        </li>\n",
        "    </ul>\n",
        "    <p>\n",
        "        Estimated time needed: <strong>40 min</strong>\n",
        "    </p>\n",
        "</div>\n",
        "\n",
        "<hr>"
      ],
      "id": "IQK750dRfUme"
    },
    {
      "cell_type": "code",
      "execution_count": null,
      "metadata": {
        "id": "QMCtLboCfUme",
        "outputId": "df147ad0-6da9-4962-c167-ba2cc8040ba7"
      },
      "outputs": [
        {
          "name": "stdout",
          "output_type": "stream",
          "text": [
            "India\n",
            "Kerala\n"
          ]
        }
      ],
      "source": [
        "print(\"India\")\n",
        "\n",
        "print(\"Kerala\")"
      ],
      "id": "QMCtLboCfUme"
    },
    {
      "cell_type": "raw",
      "metadata": {
        "id": "t1oYl3w_fUmf"
      },
      "source": [
        "software: Digital Calculator\n",
        "    \n",
        "1. Arithmatical operations(+ - / *)\n",
        "          +\n",
        "2. Trognometric operation\n",
        "          +\n",
        "3. Integration/Derivative\n",
        "\n"
      ],
      "id": "t1oYl3w_fUmf"
    },
    {
      "cell_type": "code",
      "execution_count": null,
      "metadata": {
        "id": "1X0GSUvufUmg",
        "outputId": "d064ff92-809b-4804-bfc2-60014f01cbe3"
      },
      "outputs": [
        {
          "name": "stdout",
          "output_type": "stream",
          "text": [
            "a\n"
          ]
        }
      ],
      "source": [
        "print('a')"
      ],
      "id": "1X0GSUvufUmg"
    },
    {
      "cell_type": "code",
      "execution_count": null,
      "metadata": {
        "id": "_Ml5gZLjfUmh"
      },
      "outputs": [],
      "source": [
        "a=[1,2,3,4,5,6,7]\n"
      ],
      "id": "_Ml5gZLjfUmh"
    },
    {
      "cell_type": "code",
      "execution_count": null,
      "metadata": {
        "id": "Ku2M6hH3fUmh",
        "outputId": "26492387-ea1c-4bcd-a7f8-f100564dd218"
      },
      "outputs": [
        {
          "data": {
            "text/plain": [
              "7"
            ]
          },
          "execution_count": 3,
          "metadata": {},
          "output_type": "execute_result"
        }
      ],
      "source": [
        "len(a)"
      ],
      "id": "Ku2M6hH3fUmh"
    },
    {
      "cell_type": "code",
      "execution_count": null,
      "metadata": {
        "id": "gvFeBndbfUmh"
      },
      "outputs": [],
      "source": [
        "Project: Calculator"
      ],
      "id": "gvFeBndbfUmh"
    },
    {
      "cell_type": "code",
      "execution_count": null,
      "metadata": {
        "id": "XwuTZdRofUmi"
      },
      "outputs": [],
      "source": [
        "Addition\n",
        "Division\n"
      ],
      "id": "XwuTZdRofUmi"
    },
    {
      "cell_type": "code",
      "execution_count": null,
      "metadata": {
        "id": "rVQMueCufUmi"
      },
      "outputs": [],
      "source": [
        "Addition: \n",
        "    \n",
        "    Function"
      ],
      "id": "rVQMueCufUmi"
    },
    {
      "cell_type": "markdown",
      "metadata": {
        "id": "0WOXy6BffUmi"
      },
      "source": [
        "<h2 id=\"func\">Functions</h2>"
      ],
      "id": "0WOXy6BffUmi"
    },
    {
      "cell_type": "markdown",
      "metadata": {
        "id": "IshDwNdofUmi"
      },
      "source": [
        "A function is a reusable block of code which performs operations specified in the function.  \n",
        "\n",
        "They let you break down tasks and allow you to reuse your code in different programs.\n",
        "\n",
        "There are two types of functions :\n",
        "\n",
        "- <b>Pre-defined functions</b>/Built in Functions\n",
        "\n",
        "\n",
        "- <b>User defined functions</b>"
      ],
      "id": "IshDwNdofUmi"
    },
    {
      "cell_type": "markdown",
      "metadata": {
        "id": "OQFpLMP7fUmj"
      },
      "source": [
        "You can define functions to provide the required functionality. Here are simple rules to define a function in Python:\n",
        "-  Functions blocks begin <code>def</code> followed by the function <code>name</code> and parentheses <code>()</code>.\n",
        "\n",
        "\n",
        "-  There are input parameters or arguments that should be placed within these parentheses. \n",
        "\n",
        "\n",
        "-  You can also define parameters inside these parentheses.\n",
        "\n",
        "\n",
        "-  There is a body within every function that starts with a colon (<code>:</code>) and is indented.\n",
        "\n",
        "\n",
        "-  You can also place documentation before the body \n",
        "\n",
        "\n",
        "-  The statement <code>return</code> exits a function, optionally passing back a value \n",
        "\n",
        "\n",
        "An example of a function that adds on to the parameter <code>a</code> prints and returns the output as <code>b</code>:"
      ],
      "id": "OQFpLMP7fUmj"
    },
    {
      "cell_type": "code",
      "execution_count": null,
      "metadata": {
        "id": "GGy6biEdfUmj"
      },
      "outputs": [],
      "source": [
        "def salman():\n",
        "    print('India')\n",
        "    print()\n",
        "    print('USA')"
      ],
      "id": "GGy6biEdfUmj"
    },
    {
      "cell_type": "code",
      "execution_count": null,
      "metadata": {
        "id": "q22ADkM6fUmj",
        "outputId": "8ff3ccda-3a5c-44c8-8fdc-34690b83c896"
      },
      "outputs": [
        {
          "name": "stdout",
          "output_type": "stream",
          "text": [
            "India\n",
            "\n",
            "USA\n"
          ]
        }
      ],
      "source": [
        "salman()"
      ],
      "id": "q22ADkM6fUmj"
    },
    {
      "cell_type": "code",
      "execution_count": null,
      "metadata": {
        "id": "u3qvHA49fUmj"
      },
      "outputs": [],
      "source": [
        "1. Function Definition\n",
        "\n",
        "2. Function call"
      ],
      "id": "u3qvHA49fUmj"
    },
    {
      "cell_type": "code",
      "execution_count": null,
      "metadata": {
        "id": "LfWpRJQvfUmk"
      },
      "outputs": [],
      "source": [
        "def add_2(a,b):\n",
        "    c=a+b\n",
        "    print(c)"
      ],
      "id": "LfWpRJQvfUmk"
    },
    {
      "cell_type": "code",
      "execution_count": null,
      "metadata": {
        "id": "2NFltlGtfUmk",
        "outputId": "7e53eae6-bf5f-4a04-ba93-fa6c9129e5ea"
      },
      "outputs": [
        {
          "name": "stdout",
          "output_type": "stream",
          "text": [
            "13\n"
          ]
        }
      ],
      "source": [
        "add_2(6,7)"
      ],
      "id": "2NFltlGtfUmk"
    },
    {
      "cell_type": "code",
      "execution_count": null,
      "metadata": {
        "id": "KBQfhNvzfUmk"
      },
      "outputs": [],
      "source": [
        "def add_3():\n",
        "    a=7\n",
        "    b=8\n",
        "    c=9\n",
        "    d=a+b+c\n",
        "    print(d)"
      ],
      "id": "KBQfhNvzfUmk"
    },
    {
      "cell_type": "code",
      "execution_count": null,
      "metadata": {
        "id": "KHF6pvyAfUml",
        "outputId": "eea4e462-f1b6-42ef-b3b4-564b3ea17061"
      },
      "outputs": [
        {
          "name": "stdout",
          "output_type": "stream",
          "text": [
            "24\n"
          ]
        }
      ],
      "source": [
        "add_3()"
      ],
      "id": "KHF6pvyAfUml"
    },
    {
      "cell_type": "code",
      "execution_count": null,
      "metadata": {
        "id": "4CFJUe_OfUml"
      },
      "outputs": [],
      "source": [
        "def add_3():\n",
        "    a=int(input('Enter the vaue of a'))\n",
        "    b=int(input('Enter the vaue of b'))\n",
        "    c=int(input('Enter the vaue of c'))\n",
        "    d=a+b+c\n",
        "    print(d)"
      ],
      "id": "4CFJUe_OfUml"
    },
    {
      "cell_type": "code",
      "execution_count": null,
      "metadata": {
        "id": "NC-547j4fUml",
        "outputId": "05cf867b-7f56-4bab-a8af-b2f0bcc52d5f"
      },
      "outputs": [
        {
          "name": "stdout",
          "output_type": "stream",
          "text": [
            "Enter the vaue of a8\n",
            "Enter the vaue of b67\n",
            "Enter the vaue of c98\n",
            "173\n"
          ]
        }
      ],
      "source": [
        "add_3()"
      ],
      "id": "NC-547j4fUml"
    },
    {
      "cell_type": "code",
      "execution_count": null,
      "metadata": {
        "id": "gkTzFDq9fUml"
      },
      "outputs": [],
      "source": [],
      "id": "gkTzFDq9fUml"
    },
    {
      "cell_type": "code",
      "execution_count": null,
      "metadata": {
        "id": "B_LRWGHsfUml"
      },
      "outputs": [],
      "source": [],
      "id": "B_LRWGHsfUml"
    },
    {
      "cell_type": "code",
      "execution_count": null,
      "metadata": {
        "id": "ukY60ZnrfUmm"
      },
      "outputs": [],
      "source": [],
      "id": "ukY60ZnrfUmm"
    },
    {
      "cell_type": "code",
      "execution_count": null,
      "metadata": {
        "id": "S0FP0GS-fUmm",
        "outputId": "57087bac-70ac-460e-b44a-6b3b1f92a546"
      },
      "outputs": [
        {
          "name": "stdout",
          "output_type": "stream",
          "text": [
            "24\n"
          ]
        }
      ],
      "source": [
        "add_3()"
      ],
      "id": "S0FP0GS-fUmm"
    },
    {
      "cell_type": "code",
      "execution_count": null,
      "metadata": {
        "id": "y_1U9OXJfUmm"
      },
      "outputs": [],
      "source": [
        "def name():\n",
        "    print('India')\n",
        "    print('INSOFE')"
      ],
      "id": "y_1U9OXJfUmm"
    },
    {
      "cell_type": "code",
      "execution_count": null,
      "metadata": {
        "id": "KZ9VvZpBfUmm",
        "outputId": "50ff77eb-3b7a-411a-ac90-645918191a43"
      },
      "outputs": [
        {
          "name": "stdout",
          "output_type": "stream",
          "text": [
            "India\n",
            "INSOFE\n"
          ]
        }
      ],
      "source": [
        "name()"
      ],
      "id": "KZ9VvZpBfUmm"
    },
    {
      "cell_type": "code",
      "execution_count": null,
      "metadata": {
        "id": "NXM2oqb7fUmm"
      },
      "outputs": [],
      "source": [
        "def name1():\n",
        "    print('India')"
      ],
      "id": "NXM2oqb7fUmm"
    },
    {
      "cell_type": "code",
      "execution_count": null,
      "metadata": {
        "id": "Zkg20bJZfUmn",
        "outputId": "9f5eefc6-5404-4c94-d05c-7d85884ec002"
      },
      "outputs": [
        {
          "name": "stdout",
          "output_type": "stream",
          "text": [
            "India\n"
          ]
        }
      ],
      "source": [
        "name()"
      ],
      "id": "Zkg20bJZfUmn"
    },
    {
      "cell_type": "markdown",
      "metadata": {
        "id": "PhKcMg2ufUmn"
      },
      "source": [
        "# syntax"
      ],
      "id": "PhKcMg2ufUmn"
    },
    {
      "cell_type": "raw",
      "metadata": {
        "id": "KeWcFOEdfUmn"
      },
      "source": [
        "def functionname( parameters ):\n",
        "   \"function_docstring\"\n",
        "   function_suite\n",
        "   return [expression]"
      ],
      "id": "KeWcFOEdfUmn"
    },
    {
      "cell_type": "markdown",
      "metadata": {
        "id": "r18FDmk4fUmn"
      },
      "source": [
        "# Function Definition /Defining Function"
      ],
      "id": "r18FDmk4fUmn"
    },
    {
      "cell_type": "code",
      "execution_count": null,
      "metadata": {
        "id": "YHKL-pDtfUmo"
      },
      "outputs": [],
      "source": [
        "def print_something1():\n",
        "    \n",
        "    print('arpit')"
      ],
      "id": "YHKL-pDtfUmo"
    },
    {
      "cell_type": "code",
      "execution_count": null,
      "metadata": {
        "id": "Xm4wJQXwfUmo"
      },
      "outputs": [],
      "source": [
        "def print_something():\n",
        "    print('ashu')"
      ],
      "id": "Xm4wJQXwfUmo"
    },
    {
      "cell_type": "markdown",
      "metadata": {
        "id": "Eoz_Wr0ffUmo"
      },
      "source": [
        "# Function Calling"
      ],
      "id": "Eoz_Wr0ffUmo"
    },
    {
      "cell_type": "code",
      "execution_count": null,
      "metadata": {
        "id": "pdqepNd3fUmo",
        "outputId": "5cc5dbff-12ec-4b8e-f1a6-9874f275d450"
      },
      "outputs": [
        {
          "name": "stdout",
          "output_type": "stream",
          "text": [
            "arpit\n"
          ]
        }
      ],
      "source": [
        "print_something1()"
      ],
      "id": "pdqepNd3fUmo"
    },
    {
      "cell_type": "code",
      "execution_count": null,
      "metadata": {
        "id": "dgjkHC79fUmp",
        "outputId": "a738b6cd-ebd8-4fcd-fe05-97375ecf8aed"
      },
      "outputs": [
        {
          "name": "stdout",
          "output_type": "stream",
          "text": [
            "ashu\n"
          ]
        }
      ],
      "source": [
        "print_something()"
      ],
      "id": "dgjkHC79fUmp"
    },
    {
      "cell_type": "markdown",
      "metadata": {
        "id": "M8w4sOcBfUmp"
      },
      "source": [
        "![](func.png)"
      ],
      "id": "M8w4sOcBfUmp"
    },
    {
      "cell_type": "markdown",
      "metadata": {
        "id": "R-AuddfHfUmp"
      },
      "source": [
        "# Functions with input arguments"
      ],
      "id": "R-AuddfHfUmp"
    },
    {
      "cell_type": "code",
      "execution_count": null,
      "metadata": {
        "id": "4oAQPYGXfUmp"
      },
      "outputs": [],
      "source": [
        "def print_text(text):\n",
        "    print(text)"
      ],
      "id": "4oAQPYGXfUmp"
    },
    {
      "cell_type": "code",
      "execution_count": null,
      "metadata": {
        "id": "gAWY4R7ffUmq",
        "outputId": "5ac0000f-faf1-4059-b8ca-d19b155b0adf"
      },
      "outputs": [
        {
          "name": "stdout",
          "output_type": "stream",
          "text": [
            "Hello World!\n"
          ]
        }
      ],
      "source": [
        "print_text('Hello World!')"
      ],
      "id": "gAWY4R7ffUmq"
    },
    {
      "cell_type": "code",
      "execution_count": null,
      "metadata": {
        "id": "OWUo-7EBfUmq",
        "outputId": "c7e2669b-2c78-47ff-9b47-8e82d53aa53a"
      },
      "outputs": [
        {
          "name": "stdout",
          "output_type": "stream",
          "text": [
            "My dogs are the cutest!\n"
          ]
        }
      ],
      "source": [
        "print_text('My dogs are the cutest!')"
      ],
      "id": "OWUo-7EBfUmq"
    },
    {
      "cell_type": "code",
      "execution_count": null,
      "metadata": {
        "id": "NCGMzneJfUmq"
      },
      "outputs": [],
      "source": [
        "def add_2(a,b):\n",
        "    c=a+b\n",
        "    print(c)\n",
        "    print('India')\n",
        "    print('INSOFE')"
      ],
      "id": "NCGMzneJfUmq"
    },
    {
      "cell_type": "code",
      "execution_count": null,
      "metadata": {
        "id": "K1HVA0kLfUmq",
        "outputId": "2d612425-6cb1-41de-9bc6-b0b4c52cb7d6"
      },
      "outputs": [
        {
          "name": "stdout",
          "output_type": "stream",
          "text": [
            "5\n",
            "India\n",
            "INSOFE\n"
          ]
        }
      ],
      "source": [
        "add_2(2,3)"
      ],
      "id": "K1HVA0kLfUmq"
    },
    {
      "cell_type": "code",
      "execution_count": null,
      "metadata": {
        "id": "95193NLufUmr",
        "outputId": "5edb0b91-6eae-4a8b-af24-52d17608be76"
      },
      "outputs": [
        {
          "name": "stdout",
          "output_type": "stream",
          "text": [
            "116\n"
          ]
        }
      ],
      "source": [
        "add_2(60,56)"
      ],
      "id": "95193NLufUmr"
    },
    {
      "cell_type": "code",
      "execution_count": null,
      "metadata": {
        "id": "YxEvmWmTfUmr"
      },
      "outputs": [],
      "source": [
        "def mul_4num(a,b,c,d):\n",
        "    e=a*b*c*d\n",
        "    print(e)"
      ],
      "id": "YxEvmWmTfUmr"
    },
    {
      "cell_type": "code",
      "execution_count": null,
      "metadata": {
        "id": "ONf0VjogfUmr",
        "outputId": "fc262bb5-6f1d-4dc8-91d2-25720ffd774c"
      },
      "outputs": [
        {
          "name": "stdout",
          "output_type": "stream",
          "text": [
            "120\n"
          ]
        }
      ],
      "source": [
        "mul_4num(2,3,4,5,)"
      ],
      "id": "ONf0VjogfUmr"
    },
    {
      "cell_type": "code",
      "execution_count": null,
      "metadata": {
        "id": "OLilC0KGfUms",
        "outputId": "7e3dea63-8563-4d67-d42a-31ecba7b78b4"
      },
      "outputs": [
        {
          "name": "stdout",
          "output_type": "stream",
          "text": [
            "aaaa\n"
          ]
        }
      ],
      "source": [
        "sum_num(4,'a')"
      ],
      "id": "OLilC0KGfUms"
    },
    {
      "cell_type": "code",
      "execution_count": null,
      "metadata": {
        "id": "nyGghU3bfUms",
        "outputId": "29bb94af-9488-4100-80c9-5931cc337073"
      },
      "outputs": [
        {
          "data": {
            "text/plain": [
              "'aaaa'"
            ]
          },
          "execution_count": 58,
          "metadata": {},
          "output_type": "execute_result"
        }
      ],
      "source": [
        "'a'*4"
      ],
      "id": "nyGghU3bfUms"
    },
    {
      "cell_type": "code",
      "execution_count": null,
      "metadata": {
        "id": "T1yC-otTfUms",
        "outputId": "291d68bf-a225-41f8-d53c-517189fae918"
      },
      "outputs": [
        {
          "name": "stdout",
          "output_type": "stream",
          "text": [
            "INSOFE\n"
          ]
        }
      ],
      "source": [
        "print(\"INSOFE\")"
      ],
      "id": "T1yC-otTfUms"
    },
    {
      "cell_type": "code",
      "execution_count": null,
      "metadata": {
        "id": "vmScMwH0fUmt"
      },
      "outputs": [],
      "source": [
        "def prod_num(x,y,z):\n",
        "    print(x*y*z)\n",
        "    \n",
        "\n"
      ],
      "id": "vmScMwH0fUmt"
    },
    {
      "cell_type": "markdown",
      "metadata": {
        "id": "s_uYR9mffUmt"
      },
      "source": [
        "# Z= a+2b+c"
      ],
      "id": "s_uYR9mffUmt"
    },
    {
      "cell_type": "code",
      "execution_count": null,
      "metadata": {
        "id": "a848JK1wfUmt",
        "outputId": "21b31abb-700b-421e-e0c5-763b0ec9301e"
      },
      "outputs": [
        {
          "name": "stdout",
          "output_type": "stream",
          "text": [
            "48\n"
          ]
        }
      ],
      "source": [
        "prod_num(2,3,8)"
      ],
      "id": "a848JK1wfUmt"
    },
    {
      "cell_type": "code",
      "execution_count": null,
      "metadata": {
        "id": "C2H7xDKNfUmu",
        "outputId": "e3db999c-f7cb-48b6-a37f-121b0b98d8ed"
      },
      "outputs": [
        {
          "name": "stdout",
          "output_type": "stream",
          "text": [
            "4\n"
          ]
        }
      ],
      "source": [
        "print(4)"
      ],
      "id": "C2H7xDKNfUmu"
    },
    {
      "cell_type": "code",
      "execution_count": null,
      "metadata": {
        "id": "nxpcQZo8fUmu"
      },
      "outputs": [],
      "source": [
        "def add_numbers(a, b):\n",
        "    print('Sum: ', a + b)"
      ],
      "id": "nxpcQZo8fUmu"
    },
    {
      "cell_type": "code",
      "execution_count": null,
      "metadata": {
        "id": "8SUreY_NfUmu",
        "outputId": "3ef69c0f-2bd7-4223-abff-018b00dc72a4"
      },
      "outputs": [
        {
          "name": "stdout",
          "output_type": "stream",
          "text": [
            "Sum:  33\n"
          ]
        }
      ],
      "source": [
        "add_numbers(11, 22)"
      ],
      "id": "8SUreY_NfUmu"
    },
    {
      "cell_type": "code",
      "execution_count": null,
      "metadata": {
        "id": "v5WHIXHofUmu",
        "outputId": "f2a28748-6090-46eb-adde-c2bca403a366"
      },
      "outputs": [
        {
          "name": "stdout",
          "output_type": "stream",
          "text": [
            "Sum:  739\n"
          ]
        }
      ],
      "source": [
        "add_numbers(117, 622)\n"
      ],
      "id": "v5WHIXHofUmu"
    },
    {
      "cell_type": "code",
      "execution_count": null,
      "metadata": {
        "id": "RjSWuS-5fUmu"
      },
      "outputs": [],
      "source": [
        "a = 10\n",
        "b = 20\n",
        "\n",
        "def add(x, y):\n",
        "    \n",
        "    \n",
        "    print('Addition: ', x+y) "
      ],
      "id": "RjSWuS-5fUmu"
    },
    {
      "cell_type": "code",
      "execution_count": null,
      "metadata": {
        "id": "AWX7NL6dfUmv",
        "outputId": "d7f0d5ca-a005-4299-af1d-65c77580cda5"
      },
      "outputs": [
        {
          "name": "stdout",
          "output_type": "stream",
          "text": [
            "Addition:  5\n"
          ]
        }
      ],
      "source": [
        "add(2,3)"
      ],
      "id": "AWX7NL6dfUmv"
    },
    {
      "cell_type": "code",
      "execution_count": null,
      "metadata": {
        "id": "_MBsS1L4fUmv"
      },
      "outputs": [],
      "source": [
        "def subtract(x, y):\n",
        "    print('Subtraction: ', x - y) "
      ],
      "id": "_MBsS1L4fUmv"
    },
    {
      "cell_type": "code",
      "execution_count": null,
      "metadata": {
        "id": "cGugu5HDfUmw",
        "outputId": "20d90b39-4a55-4772-87c6-e7e25cfc5641"
      },
      "outputs": [
        {
          "name": "stdout",
          "output_type": "stream",
          "text": [
            "Subtraction:  11\n"
          ]
        }
      ],
      "source": [
        "subtract(23, 12)"
      ],
      "id": "cGugu5HDfUmw"
    },
    {
      "cell_type": "code",
      "execution_count": null,
      "metadata": {
        "id": "jGnBiNiffUmw",
        "outputId": "5ac0fa3d-abc4-4271-8c60-a5641b8f92e8"
      },
      "outputs": [
        {
          "name": "stdout",
          "output_type": "stream",
          "text": [
            "Subtraction:  22\n"
          ]
        }
      ],
      "source": [
        "a = 34\n",
        "b = 12\n",
        "\n",
        "subtract(a, b)"
      ],
      "id": "jGnBiNiffUmw"
    },
    {
      "cell_type": "markdown",
      "metadata": {
        "id": "s5PSp9iwfUmx"
      },
      "source": [
        "# Arguments of a Function\n"
      ],
      "id": "s5PSp9iwfUmx"
    },
    {
      "cell_type": "raw",
      "metadata": {
        "id": "er2LLbhufUmx"
      },
      "source": [
        "1. Arguments are the values passed inside the parenthesis of the function. \n",
        "\n",
        "2. A function can have any number of arguments separated by a comma.\n",
        "\n",
        "3. The arguments are types of information which can be passed into the function. \n",
        "\n",
        "4. The arguments are specified in the parentheses. We can pass any number of arguments, but they must be separate them with a comma.\n",
        "\n",
        "Example: Python Function with arguments\n",
        "\n",
        "In this example, we will create a simple function to check whether the number passed as an argument to the function is even or odd"
      ],
      "id": "er2LLbhufUmx"
    },
    {
      "cell_type": "code",
      "execution_count": null,
      "metadata": {
        "id": "rcDlLSXqfUmy",
        "outputId": "e62045e3-acc0-43b7-9643-fab9603b2b7c"
      },
      "outputs": [
        {
          "name": "stdout",
          "output_type": "stream",
          "text": [
            "even\n",
            "odd\n",
            "even\n"
          ]
        }
      ],
      "source": [
        "# A simple Python function to check\n",
        "# whether x is even or odd\n",
        " \n",
        " \n",
        "def evenOdd(x):\n",
        "    if (x % 2 == 0):\n",
        "        print(\"even\")\n",
        "    else:\n",
        "        print(\"odd\")\n",
        " \n",
        " \n",
        "# Driver code to call the function\n",
        "evenOdd(2)\n",
        "evenOdd(3)\n",
        "evenOdd(10)"
      ],
      "id": "rcDlLSXqfUmy"
    },
    {
      "cell_type": "code",
      "execution_count": null,
      "metadata": {
        "id": "Zb5kYUibfUmy",
        "outputId": "0bdea19b-1a04-4d95-908c-3bccdf3e84c4"
      },
      "outputs": [
        {
          "name": "stdout",
          "output_type": "stream",
          "text": [
            "Hi  Devansh\n"
          ]
        }
      ],
      "source": [
        "#defining the function    \n",
        "def func(name):    \n",
        "    print(\"Hi \",name)   \n",
        "#calling the function     \n",
        "func(\"Devansh\")  "
      ],
      "id": "Zb5kYUibfUmy"
    },
    {
      "cell_type": "markdown",
      "metadata": {
        "id": "gm9vAQaHfUmz"
      },
      "source": [
        "# Types of Arguments"
      ],
      "id": "gm9vAQaHfUmz"
    },
    {
      "cell_type": "raw",
      "metadata": {
        "id": "DtMFGNpIfUmz"
      },
      "source": [
        "1. Default\n",
        "\n",
        "2. Keyword\n",
        "\n",
        "3. Variable Length\n",
        "\n",
        "4. Docstring"
      ],
      "id": "DtMFGNpIfUmz"
    },
    {
      "cell_type": "markdown",
      "metadata": {
        "id": "mwSiGio3fUmz"
      },
      "source": [
        "# Default Argument"
      ],
      "id": "mwSiGio3fUmz"
    },
    {
      "cell_type": "raw",
      "metadata": {
        "id": "jfIjNh7kfUmz"
      },
      "source": [
        "A default argument is a parameter that assumes a default value if a value is not provided in the function call for that argument. \n",
        "\n",
        "The following example illustrates Default arguments. "
      ],
      "id": "jfIjNh7kfUmz"
    },
    {
      "cell_type": "code",
      "execution_count": null,
      "metadata": {
        "id": "CADpjGdafUm0",
        "outputId": "08c894e1-02f9-4c2c-81a8-6c318d92f5b1"
      },
      "outputs": [
        {
          "name": "stdout",
          "output_type": "stream",
          "text": [
            "x:  10\n",
            "y:  50\n"
          ]
        }
      ],
      "source": [
        "# Python program to demonstrate\n",
        "# default arguments\n",
        " \n",
        " \n",
        "def myFun(x, y=50):\n",
        "    print(\"x: \", x)\n",
        "    print(\"y: \", y)\n",
        " \n",
        " \n",
        "# Driver code (We call myFun() with only\n",
        "# argument)\n",
        "myFun(10)"
      ],
      "id": "CADpjGdafUm0"
    },
    {
      "cell_type": "code",
      "execution_count": null,
      "metadata": {
        "id": "apUTf93mfUm0",
        "outputId": "4158ca58-2d97-46d0-f640-ae220546e9c9"
      },
      "outputs": [
        {
          "name": "stdout",
          "output_type": "stream",
          "text": [
            "x:  10\n",
            "y:  20\n"
          ]
        }
      ],
      "source": [
        "myFun(10,20)"
      ],
      "id": "apUTf93mfUm0"
    },
    {
      "cell_type": "markdown",
      "metadata": {
        "id": "S0flamiofUm0"
      },
      "source": [
        "# Keyword arguments"
      ],
      "id": "S0flamiofUm0"
    },
    {
      "cell_type": "raw",
      "metadata": {
        "id": "Kk29yP_VfUm1"
      },
      "source": [
        "The idea is to allow the caller to specify the argument name with values so that caller does not need to remember the order of parameters."
      ],
      "id": "Kk29yP_VfUm1"
    },
    {
      "cell_type": "code",
      "execution_count": null,
      "metadata": {
        "id": "_vY0HAilfUm1",
        "outputId": "84136dd8-6ded-4191-eed4-68556ccff7ac"
      },
      "outputs": [
        {
          "name": "stdout",
          "output_type": "stream",
          "text": [
            "Arpit Yadav\n",
            "Arpit Yadav\n"
          ]
        }
      ],
      "source": [
        "# Python program to demonstrate Keyword Arguments\n",
        "def student(firstname, lastname):\n",
        "    print(firstname, lastname)\n",
        " \n",
        " \n",
        "# Keyword arguments\n",
        "student(firstname='Arpit', lastname='Yadav')\n",
        "\n",
        "student(lastname='Yadav', firstname='Arpit')"
      ],
      "id": "_vY0HAilfUm1"
    },
    {
      "cell_type": "markdown",
      "metadata": {
        "id": "SsJ6nZmnfUm1"
      },
      "source": [
        "# Variable-length arguments\n",
        "\n",
        "In Python, we can pass a variable number of arguments to a function using special symbols. There are two special symbols:\n",
        "\n",
        "*args (Non-Keyword Arguments)\n",
        "\n",
        "**kwargs (Keyword Arguments)"
      ],
      "id": "SsJ6nZmnfUm1"
    },
    {
      "cell_type": "markdown",
      "metadata": {
        "id": "g3c6WJ5ffUm2"
      },
      "source": [
        "# Example 1: Variable length non-keywords argument"
      ],
      "id": "g3c6WJ5ffUm2"
    },
    {
      "cell_type": "code",
      "execution_count": null,
      "metadata": {
        "id": "WK5zwKW0fUm2",
        "outputId": "1166cbff-8f38-4e6a-fa79-df67494eccd4"
      },
      "outputs": [
        {
          "name": "stdout",
          "output_type": "stream",
          "text": [
            "Hello\n",
            "Welcome\n",
            "to\n",
            "India\n",
            "India\n",
            "is\n",
            "great\n",
            "Bangalore\n",
            "is\n",
            "capital\n"
          ]
        }
      ],
      "source": [
        "#Python program to illustrate\n",
        "# *args for variable number of arguments\n",
        " \n",
        " \n",
        "def myFun(*argv):\n",
        "    for arg in argv:\n",
        "        print(arg)\n",
        " \n",
        " \n",
        "myFun('Hello', 'Welcome', 'to', 'India','India','is','great','Bangalore','is','capital')"
      ],
      "id": "WK5zwKW0fUm2"
    },
    {
      "cell_type": "markdown",
      "metadata": {
        "id": "q0bLdFoxfUm2"
      },
      "source": [
        "# Example 2: Variable length keyword arguments"
      ],
      "id": "q0bLdFoxfUm2"
    },
    {
      "cell_type": "code",
      "execution_count": null,
      "metadata": {
        "id": "y1UczVF9fUm3",
        "outputId": "8814a662-2e73-472d-fe83-08bc00c2e21c"
      },
      "outputs": [
        {
          "name": "stdout",
          "output_type": "stream",
          "text": [
            "first == India\n",
            "mid == is\n",
            "last == Great\n"
          ]
        }
      ],
      "source": [
        "# Python program to illustrate\n",
        "# *kwargs for variable number of keyword arguments\n",
        " \n",
        " \n",
        "def myFun(**kwargs):\n",
        "    for key, value in kwargs.items():\n",
        "        print(\"%s == %s\" % (key, value))\n",
        " \n",
        " \n",
        "# Driver code\n",
        "myFun(first='India', mid='is', last='Great')"
      ],
      "id": "y1UczVF9fUm3"
    },
    {
      "cell_type": "markdown",
      "metadata": {
        "id": "ISWIBj-6fUm3"
      },
      "source": [
        "# Docstring"
      ],
      "id": "ISWIBj-6fUm3"
    },
    {
      "cell_type": "raw",
      "metadata": {
        "id": "nr0BIWD3fUm3"
      },
      "source": [
        "The first string after the function is called the Document string or Docstring in short. \n",
        "\n",
        "This is used to describe the functionality of the function. \n",
        "\n",
        "The use of docstring in functions is optional but it is considered a good practice.\n",
        "\n",
        "The below syntax can be used to print out the docstring of a function:\n",
        "\n",
        "Syntax: print(function_name.__doc__)"
      ],
      "id": "nr0BIWD3fUm3"
    },
    {
      "cell_type": "code",
      "execution_count": null,
      "metadata": {
        "id": "x9Iju0EmfUm4",
        "outputId": "937b7a19-cef8-45b0-ef00-08b58f90c72d"
      },
      "outputs": [
        {
          "name": "stdout",
          "output_type": "stream",
          "text": [
            "Function to check if the number is even or odd\n"
          ]
        }
      ],
      "source": [
        "#A simple Python function to check\n",
        "# whether x is even or odd\n",
        " \n",
        " \n",
        "def evenOdd(x):\n",
        "    \"\"\"Function to check if the number is even or odd\"\"\"\n",
        "     \n",
        "    if (x % 2 == 0):\n",
        "        print(\"even\")\n",
        "    else:\n",
        "        print(\"odd\")\n",
        " \n",
        " \n",
        "# Driver code to call the function\n",
        "print(evenOdd.__doc__)"
      ],
      "id": "x9Iju0EmfUm4"
    },
    {
      "cell_type": "markdown",
      "metadata": {
        "id": "75cli5vVfUm4"
      },
      "source": [
        "# Functions with return values"
      ],
      "id": "75cli5vVfUm4"
    },
    {
      "cell_type": "code",
      "execution_count": null,
      "metadata": {
        "id": "qoP3aNuPfUm4",
        "outputId": "ca9acefc-5d7f-4d08-a31a-4ab57189bdb8"
      },
      "outputs": [
        {
          "data": {
            "text/plain": [
              "30"
            ]
          },
          "execution_count": 41,
          "metadata": {},
          "output_type": "execute_result"
        }
      ],
      "source": [
        "a=10\n",
        "b=20\n",
        "c=a+b\n",
        "c"
      ],
      "id": "qoP3aNuPfUm4"
    },
    {
      "cell_type": "code",
      "execution_count": null,
      "metadata": {
        "id": "JdkUiFvVfUm5"
      },
      "outputs": [],
      "source": [
        "def add_2(a,b):\n",
        "    c=a+b\n",
        "    print('india')\n",
        "    print('INSOFE')\n",
        "    return c\n",
        "    print('india')\n",
        "    print('INSOFE')\n",
        "    print()\n",
        "    print()\n",
        "    print('Hyderabad')\n",
        "    "
      ],
      "id": "JdkUiFvVfUm5"
    },
    {
      "cell_type": "code",
      "execution_count": null,
      "metadata": {
        "id": "yqZtIm4efUm6",
        "outputId": "3936b607-22f5-46b9-e3d7-bff105ba59c0"
      },
      "outputs": [
        {
          "name": "stdout",
          "output_type": "stream",
          "text": [
            "india\n",
            "INSOFE\n"
          ]
        },
        {
          "data": {
            "text/plain": [
              "7"
            ]
          },
          "execution_count": 56,
          "metadata": {},
          "output_type": "execute_result"
        }
      ],
      "source": [
        "add_2(3,4)"
      ],
      "id": "yqZtIm4efUm6"
    },
    {
      "cell_type": "code",
      "execution_count": null,
      "metadata": {
        "id": "QdS6e1PkfUm6"
      },
      "outputs": [],
      "source": [],
      "id": "QdS6e1PkfUm6"
    },
    {
      "cell_type": "raw",
      "metadata": {
        "id": "8l1eTaULfUm7"
      },
      "source": [
        "def my_function(parameters):  \n",
        "      function_block  \n",
        "return expression  "
      ],
      "id": "8l1eTaULfUm7"
    },
    {
      "cell_type": "raw",
      "metadata": {
        "id": "OzIlVoYQfUm7"
      },
      "source": [
        "Let's understand the syntax of functions definition.\n",
        "\n",
        "1. The def keyword, along with the function name is used to define the function.\n",
        "\n",
        "2.The identifier rule must follow the function name.\n",
        "\n",
        "3. A function accepts the parameter (argument), and they can be optional.\n",
        "\n",
        "4. The function block is started with the colon (:), and block statements must be at the same indentation.\n",
        "\n",
        "5. The return statement is used to return the value. A function can have only one return"
      ],
      "id": "OzIlVoYQfUm7"
    },
    {
      "cell_type": "raw",
      "metadata": {
        "id": "PN6tl4M6fUm9"
      },
      "source": [
        "Function Calling\n",
        "\n",
        "In Python, after the function is created, we can call it from another function. A function must be defined before the function call; otherwise, the Python interpreter gives an error. To call the function, use the function name followed by the parentheses.\n",
        "\n",
        "Consider the following example of a simple example that prints the message \"Hello World\"."
      ],
      "id": "PN6tl4M6fUm9"
    },
    {
      "cell_type": "code",
      "execution_count": null,
      "metadata": {
        "id": "dfnJtaXVfUm-",
        "outputId": "e89a9a08-84fd-43cb-e62f-1470af18a14c"
      },
      "outputs": [
        {
          "name": "stdout",
          "output_type": "stream",
          "text": [
            "hello world\n"
          ]
        }
      ],
      "source": [
        "#function definition  \n",
        "def hello_world():    \n",
        "    print(\"hello world\")    \n",
        "# function calling  \n",
        "hello_world()    "
      ],
      "id": "dfnJtaXVfUm-"
    },
    {
      "cell_type": "markdown",
      "metadata": {
        "id": "MysMmUE2fUm_"
      },
      "source": [
        "# The return statement"
      ],
      "id": "MysMmUE2fUm_"
    },
    {
      "cell_type": "raw",
      "metadata": {
        "id": "bZDf8XpUfUm_"
      },
      "source": [
        "The return statement is used at the end of the function and returns the result of the function. \n",
        "\n",
        "It terminates the function execution and transfers the result where the function is called. \n",
        "\n",
        "The return statement cannot be used outside of the function.\n",
        "\n",
        "Syntax\n",
        "\n",
        "return [expression_list]  \n",
        "\n",
        "It can contain the expression which gets evaluated and value is returned to the caller function. If the return statement has no expression or does not exist itself in the function then it returns the None object."
      ],
      "id": "bZDf8XpUfUm_"
    },
    {
      "cell_type": "code",
      "execution_count": null,
      "metadata": {
        "id": "JxWDUJcRfUnC",
        "outputId": "ce0194e5-f0ba-49c4-9787-510816be92a3"
      },
      "outputs": [
        {
          "name": "stdout",
          "output_type": "stream",
          "text": [
            "India\n",
            "The sum is: 30\n"
          ]
        }
      ],
      "source": [
        "# Defining function  \n",
        "def sum_2():  \n",
        "    a = 10  \n",
        "    b = 20  \n",
        "    c = a+b\n",
        "    print(\"India\")\n",
        "    return c \n",
        "    print(\"India1\")\n",
        "# calling sum() function in print statement  \n",
        "print(\"The sum is:\",sum_2())  "
      ],
      "id": "JxWDUJcRfUnC"
    },
    {
      "cell_type": "markdown",
      "metadata": {
        "id": "dvTqXUL0fUnD"
      },
      "source": [
        "# Example 2 Creating function without return statement"
      ],
      "id": "dvTqXUL0fUnD"
    },
    {
      "cell_type": "code",
      "execution_count": null,
      "metadata": {
        "id": "O6suZGwAfUnD",
        "outputId": "2a83475b-ecf2-4347-ce2a-0e01048532b1"
      },
      "outputs": [
        {
          "name": "stdout",
          "output_type": "stream",
          "text": [
            "None\n"
          ]
        }
      ],
      "source": [
        "# Defining function  \n",
        "def sum_1():  \n",
        "    a = 10  \n",
        "    b = 20  \n",
        "    c = a+b\n",
        "    # calling sum() function in print statement  \n",
        "print(sum_1())  "
      ],
      "id": "O6suZGwAfUnD"
    },
    {
      "cell_type": "raw",
      "metadata": {
        "id": "c_ILXKskfUnE"
      },
      "source": [
        "In the above code, we have defined the same function without the return statement as we can see that the sum() function returned the None object to the caller function."
      ],
      "id": "c_ILXKskfUnE"
    },
    {
      "cell_type": "markdown",
      "metadata": {
        "id": "NGuggAbVfUnE"
      },
      "source": [
        "The return statement is used when a function is ready to return a value to its caller"
      ],
      "id": "NGuggAbVfUnE"
    },
    {
      "cell_type": "raw",
      "metadata": {
        "id": "XBOpUEzofUnE"
      },
      "source": [
        "When a return statement is reached, Python will stop the execution of the current function, sending a value out to where the function was called. \n",
        "\n",
        "Use return when you want to send a value from one point in your code to another."
      ],
      "id": "XBOpUEzofUnE"
    },
    {
      "cell_type": "markdown",
      "metadata": {
        "id": "83O3O3oKfUnE"
      },
      "source": [
        "A return statement is used to end the execution of the function call and “returns” the result (value of the expression following the return keyword) to the caller.The statements after the return statements are not executed"
      ],
      "id": "83O3O3oKfUnE"
    },
    {
      "cell_type": "markdown",
      "metadata": {
        "id": "0sG64KshfUnE"
      },
      "source": [
        "The return statement terminates the execution of a function and returns control to the calling function. Execution resumes in the calling function at the point immediately following the call. A return statement can also return a value to the calling function."
      ],
      "id": "0sG64KshfUnE"
    },
    {
      "cell_type": "code",
      "execution_count": null,
      "metadata": {
        "id": "Rw3t8akPfUnE",
        "outputId": "f5588bcf-f155-47b6-fb67-84edaa9a1381"
      },
      "outputs": [
        {
          "name": "stdout",
          "output_type": "stream",
          "text": [
            "Enter a: 6\n",
            "Enter b: 8\n",
            "Sum =  14\n"
          ]
        }
      ],
      "source": [
        "#Python function to calculate the sum of two variables     \n",
        "#defining the function    \n",
        "def sum_3(a,b):    \n",
        "    return a+b;    \n",
        "    \n",
        "\n",
        "#taking values from the user    \n",
        "a = int(input(\"Enter a: \"))    \n",
        "b = int(input(\"Enter b: \"))    \n",
        "    \n",
        "#printing the sum of a and b    \n",
        "print(\"Sum = \",sum_3(a,b))    "
      ],
      "id": "Rw3t8akPfUnE"
    },
    {
      "cell_type": "code",
      "execution_count": null,
      "metadata": {
        "id": "norQkujQfUnF"
      },
      "outputs": [],
      "source": [
        "def subtract(x, y):\n",
        "    \n",
        "    \n",
        "    result = x - y\n",
        "    \n",
        "    print('Subtraction: ', result)\n",
        "    print('a')\n",
        "    return result\n",
        "print('b')"
      ],
      "id": "norQkujQfUnF"
    },
    {
      "cell_type": "code",
      "execution_count": null,
      "metadata": {
        "id": "k7AOVfW8fUnF",
        "outputId": "32eabbc4-3340-4a01-e3b0-acfd115bf416"
      },
      "outputs": [
        {
          "name": "stdout",
          "output_type": "stream",
          "text": [
            "Subtraction:  -1\n",
            "a\n"
          ]
        },
        {
          "data": {
            "text/plain": [
              "-1"
            ]
          },
          "execution_count": 13,
          "metadata": {},
          "output_type": "execute_result"
        }
      ],
      "source": [
        "subtract(3,4)"
      ],
      "id": "k7AOVfW8fUnF"
    },
    {
      "cell_type": "code",
      "execution_count": null,
      "metadata": {
        "id": "nk8Vc5NEfUnF",
        "outputId": "dc02b4be-2868-487b-ae34-c7d0b2b2c68b"
      },
      "outputs": [
        {
          "name": "stdout",
          "output_type": "stream",
          "text": [
            "Subtraction:  6\n",
            "a\n"
          ]
        }
      ],
      "source": [
        "r = subtract(12, 6)"
      ],
      "id": "nk8Vc5NEfUnF"
    },
    {
      "cell_type": "code",
      "execution_count": null,
      "metadata": {
        "id": "-HOXe2sUfUnF",
        "outputId": "65ff264a-aa6e-410c-d77f-66a2b086c5d2"
      },
      "outputs": [
        {
          "data": {
            "text/plain": [
              "6"
            ]
          },
          "execution_count": 25,
          "metadata": {},
          "output_type": "execute_result"
        }
      ],
      "source": [
        "r"
      ],
      "id": "-HOXe2sUfUnF"
    },
    {
      "cell_type": "markdown",
      "metadata": {
        "id": "oMc8cNlAfUnF"
      },
      "source": [
        "The figure below illustrates the terminology: "
      ],
      "id": "oMc8cNlAfUnF"
    },
    {
      "cell_type": "markdown",
      "metadata": {
        "id": "6iEUaHCjfUnG"
      },
      "source": [
        "<img src=\"https://s3-api.us-geo.objectstorage.softlayer.net/cf-courses-data/CognitiveClass/PY0101EN/Chapter%203/Images/FuncsDefinition.png\" width=\"500\" /> "
      ],
      "id": "6iEUaHCjfUnG"
    },
    {
      "cell_type": "markdown",
      "metadata": {
        "id": "iIw6asC3fUnG"
      },
      "source": [
        "We can obtain help about a function :"
      ],
      "id": "iIw6asC3fUnG"
    },
    {
      "cell_type": "code",
      "execution_count": null,
      "metadata": {
        "jupyter": {
          "outputs_hidden": false
        },
        "id": "cIxAJX9dfUnG",
        "outputId": "df5f5523-a2dd-4c87-cd46-126e8ae3b12b"
      },
      "outputs": [
        {
          "name": "stdout",
          "output_type": "stream",
          "text": [
            "Help on function add in module __main__:\n",
            "\n",
            "add(x, y)\n",
            "\n"
          ]
        }
      ],
      "source": [
        "# Get a help on add function\n",
        "\n",
        "help(add)"
      ],
      "id": "cIxAJX9dfUnG"
    },
    {
      "cell_type": "code",
      "execution_count": null,
      "metadata": {
        "id": "2TF5QQirfUnG"
      },
      "outputs": [],
      "source": [
        "# First function example: Add 1 to a and store as b\n",
        "\n",
        "def add(a):\n",
        "    b = a + 1\n",
        "    print(a, \"if you add one\", b)\n",
        "    return(b)"
      ],
      "id": "2TF5QQirfUnG"
    },
    {
      "cell_type": "markdown",
      "metadata": {
        "id": "l4z-Mbl7fUnG"
      },
      "source": [
        "We can call the function:"
      ],
      "id": "l4z-Mbl7fUnG"
    },
    {
      "cell_type": "code",
      "execution_count": null,
      "metadata": {
        "jupyter": {
          "outputs_hidden": false
        },
        "id": "8yOLBVGefUnG",
        "outputId": "ace14d5d-fd26-4be2-cda4-cecd2ea6208d"
      },
      "outputs": [
        {
          "name": "stdout",
          "output_type": "stream",
          "text": [
            "1 if you add one 2\n"
          ]
        },
        {
          "data": {
            "text/plain": [
              "2"
            ]
          },
          "execution_count": 27,
          "metadata": {},
          "output_type": "execute_result"
        }
      ],
      "source": [
        "# Call the function add()\n",
        "\n",
        "add(1)"
      ],
      "id": "8yOLBVGefUnG"
    },
    {
      "cell_type": "markdown",
      "metadata": {
        "id": "31KVzXKCfUnH"
      },
      "source": [
        "If we call the function with a new input we get a new result:"
      ],
      "id": "31KVzXKCfUnH"
    },
    {
      "cell_type": "code",
      "execution_count": null,
      "metadata": {
        "jupyter": {
          "outputs_hidden": false
        },
        "id": "n87coz1ffUnH",
        "outputId": "deeae790-a3bc-4f0a-a99e-dabe44259482"
      },
      "outputs": [
        {
          "name": "stdout",
          "output_type": "stream",
          "text": [
            "2 if you add one 3\n"
          ]
        },
        {
          "data": {
            "text/plain": [
              "3"
            ]
          },
          "execution_count": 23,
          "metadata": {},
          "output_type": "execute_result"
        }
      ],
      "source": [
        "# Call the function add()\n",
        "\n",
        "add(2)"
      ],
      "id": "n87coz1ffUnH"
    },
    {
      "cell_type": "markdown",
      "metadata": {
        "id": "8aovu5iEfUnH"
      },
      "source": [
        "We can create different functions. For example, we can create a function that multiplies two numbers. The numbers will be represented by the variables <code>a</code> and <code>b</code>:"
      ],
      "id": "8aovu5iEfUnH"
    },
    {
      "cell_type": "code",
      "execution_count": null,
      "metadata": {
        "id": "By6XEUp8fUnH"
      },
      "outputs": [],
      "source": [
        "# Define a function for multiple two numbers\n",
        "\n",
        "def Mult(a, b):\n",
        "    c = a * b\n",
        "    return(c)"
      ],
      "id": "By6XEUp8fUnH"
    },
    {
      "cell_type": "markdown",
      "metadata": {
        "id": "O9R9Zhf6fUnH"
      },
      "source": [
        "The same function can be used for different data types. For example, we can multiply two integers:\n"
      ],
      "id": "O9R9Zhf6fUnH"
    },
    {
      "cell_type": "code",
      "execution_count": null,
      "metadata": {
        "jupyter": {
          "outputs_hidden": false
        },
        "id": "6fxr-OWjfUnH",
        "outputId": "4d1b074a-03bb-43d0-ff56-4687262c3b6c"
      },
      "outputs": [
        {
          "data": {
            "text/plain": [
              "6"
            ]
          },
          "execution_count": 8,
          "metadata": {},
          "output_type": "execute_result"
        }
      ],
      "source": [
        "# Use mult() multiply two integers\n",
        "\n",
        "Mult(2, 3)"
      ],
      "id": "6fxr-OWjfUnH"
    },
    {
      "cell_type": "markdown",
      "metadata": {
        "id": "kQtsoW-zfUnI"
      },
      "source": [
        " Two Floats: "
      ],
      "id": "kQtsoW-zfUnI"
    },
    {
      "cell_type": "code",
      "execution_count": null,
      "metadata": {
        "jupyter": {
          "outputs_hidden": false
        },
        "id": "TT_4qwwifUnI",
        "outputId": "27b5d1ce-bc58-478b-a548-79e1e56de74e"
      },
      "outputs": [
        {
          "data": {
            "text/plain": [
              "31.400000000000002"
            ]
          },
          "execution_count": 26,
          "metadata": {},
          "output_type": "execute_result"
        }
      ],
      "source": [
        "# Use mult() multiply two floats\n",
        "\n",
        "Mult(10.0, 3.14)"
      ],
      "id": "TT_4qwwifUnI"
    },
    {
      "cell_type": "markdown",
      "metadata": {
        "id": "nkWLddVtfUnI"
      },
      "source": [
        "We can even replicate a string by multiplying with an integer: "
      ],
      "id": "nkWLddVtfUnI"
    },
    {
      "cell_type": "code",
      "execution_count": null,
      "metadata": {
        "jupyter": {
          "outputs_hidden": false
        },
        "id": "wLUNnowCfUnI",
        "outputId": "cdd373e5-266c-4e7e-d81d-dd00aa608149"
      },
      "outputs": [
        {
          "data": {
            "text/plain": [
              "'Michael Jackson Michael Jackson '"
            ]
          },
          "execution_count": 27,
          "metadata": {},
          "output_type": "execute_result"
        }
      ],
      "source": [
        "# Use mult() multiply two different type values together\n",
        "\n",
        "Mult(2, \"Michael Jackson \")"
      ],
      "id": "wLUNnowCfUnI"
    },
    {
      "cell_type": "markdown",
      "metadata": {
        "id": "Bh-G4qf9fUnI"
      },
      "source": [
        "# Named arguments to a function"
      ],
      "id": "Bh-G4qf9fUnI"
    },
    {
      "cell_type": "code",
      "execution_count": null,
      "metadata": {
        "id": "wWXv5ZP2fUnJ"
      },
      "outputs": [],
      "source": [
        "def fn_with_many_arguments(a, b, c, d, e):\n",
        "    \n",
        "    result = a + b - c * d / e\n",
        "    \n",
        "    return result"
      ],
      "id": "wWXv5ZP2fUnJ"
    },
    {
      "cell_type": "code",
      "execution_count": null,
      "metadata": {
        "id": "9hk8JM4dfUnJ",
        "outputId": "71a98dd4-cb04-4dbd-b258-be26ee8379a8"
      },
      "outputs": [
        {
          "data": {
            "text/plain": [
              "0.7142857142857144"
            ]
          },
          "execution_count": 14,
          "metadata": {},
          "output_type": "execute_result"
        }
      ],
      "source": [
        "fn_with_many_arguments(2, 3, 5, 6,7)"
      ],
      "id": "9hk8JM4dfUnJ"
    },
    {
      "cell_type": "code",
      "execution_count": null,
      "metadata": {
        "id": "EvNK3UJ3fUnJ",
        "outputId": "68801f84-08f6-4d76-d041-439ba11cbe58"
      },
      "outputs": [
        {
          "data": {
            "text/plain": [
              "-10.0"
            ]
          },
          "execution_count": 15,
          "metadata": {},
          "output_type": "execute_result"
        }
      ],
      "source": [
        "fn_with_many_arguments(a=2, b=3, c=5, d=6, e=2)"
      ],
      "id": "EvNK3UJ3fUnJ"
    },
    {
      "cell_type": "markdown",
      "metadata": {
        "id": "yxqfzGLBfUnJ"
      },
      "source": [
        "# Is Python Function Pass by Reference or pass by value? \n"
      ],
      "id": "yxqfzGLBfUnJ"
    },
    {
      "cell_type": "raw",
      "metadata": {
        "id": "6eCmTyM7fUnJ"
      },
      "source": [
        "After defining a function, we need pass arguments into it to get desired output. Most programming languages support call by value and call by reference methods for passing arguments into functions.\n",
        "\n",
        "In this chapter, we will learn \"call by value\" works in an object-oriented programming language like C++ and a functional programming language like Python.\n",
        "\n",
        "In Call by Value method, the original value cannot be changed. When we pass an argument to a function, it is stored locally by the function parameter in stack memory. Hence, the values are changed inside the function only and it will not have an effect outside the function."
      ],
      "id": "6eCmTyM7fUnJ"
    },
    {
      "cell_type": "markdown",
      "metadata": {
        "id": "NPHiMHJbfUnJ"
      },
      "source": [
        "# Call by Value in Python"
      ],
      "id": "NPHiMHJbfUnJ"
    },
    {
      "cell_type": "code",
      "execution_count": null,
      "metadata": {
        "id": "4km0HUG4fUnK",
        "outputId": "b587aa25-2a03-40e9-c028-69373614d775"
      },
      "outputs": [
        {
          "name": "stdout",
          "output_type": "stream",
          "text": [
            "value of a before sending to function:  50\n",
            "value of b before sending to function:  75\n",
            "value of a inside the function: : 75\n",
            "value of b inside the function:  50\n",
            "value of a after sending to function:  50\n",
            "value of b after sending to function:  75\n"
          ]
        }
      ],
      "source": [
        "def swap(a,b): \n",
        "   t = a; \n",
        "   a = b; \n",
        "   b = t; \n",
        "   print (\"value of a inside the function: :\",a) \n",
        "   print (\"value of b inside the function: \",b)\n",
        "\n",
        "# Now we can call the swap function \n",
        "a = 50 \n",
        "b = 75 \n",
        "print (\"value of a before sending to function: \",a)\n",
        "print (\"value of b before sending to function: \",b) \n",
        "swap(a,b) \n",
        "print (\"value of a after sending to function: \", a) \n",
        "print (\"value of b after sending to function: \",b) "
      ],
      "id": "4km0HUG4fUnK"
    },
    {
      "cell_type": "markdown",
      "metadata": {
        "id": "2q99gPCqfUnK"
      },
      "source": [
        "# Call by Reference"
      ],
      "id": "2q99gPCqfUnK"
    },
    {
      "cell_type": "raw",
      "metadata": {
        "id": "fx8R6bs2fUnK"
      },
      "source": [
        "In Call by Reference, the original value is changed because we pass reference address of arguments. The actual and formal arguments share the same address space, so any change of value inside the function is reflected inside as well as outside the function."
      ],
      "id": "fx8R6bs2fUnK"
    },
    {
      "cell_type": "code",
      "execution_count": null,
      "metadata": {
        "id": "TX2CcaR8fUnK",
        "outputId": "df3066e7-0dd3-46af-bdfd-0be1b6049a9d"
      },
      "outputs": [
        {
          "name": "stdout",
          "output_type": "stream",
          "text": [
            "value of a before sending to function:  50\n",
            "value of b before sending to function:  75\n",
            "value of a inside the function: : 75\n",
            "value of b inside the function:  50\n",
            "value of a after sending to function:  75\n",
            "value of b after sending to function:  50\n"
          ]
        }
      ],
      "source": [
        "def swap(a,b): \n",
        "   t = a; \n",
        "   a = b; \n",
        "   b = t; \n",
        "   print (\"value of a inside the function: :\",a) \n",
        "   print (\"value of b inside the function: \",b) \n",
        "   return(a,b) \n",
        "    \n",
        "# Now we can call swap function \n",
        "a = 50 \n",
        "b =75 \n",
        "print (\"value of a before sending to function: \",a) \n",
        "print (\"value of b before sending to function: \",b) \n",
        "x = swap(a,b) \n",
        "print (\"value of a after sending to function: \", x[0]) \n",
        "print (\"value of b after sending to function: \",x[1]) "
      ],
      "id": "TX2CcaR8fUnK"
    },
    {
      "cell_type": "raw",
      "metadata": {
        "id": "JrFYlsztfUnK"
      },
      "source": [
        "One important thing to note is, in Python every variable name is a reference. When we pass a variable to a function, a new reference to the object is created."
      ],
      "id": "JrFYlsztfUnK"
    },
    {
      "cell_type": "markdown",
      "metadata": {
        "id": "7md7CabMfUnL"
      },
      "source": [
        "# call by value: (String/Tuple)"
      ],
      "id": "7md7CabMfUnL"
    },
    {
      "cell_type": "code",
      "execution_count": null,
      "metadata": {
        "id": "02FEHC_5fUnL",
        "outputId": "ff090e8d-c758-4ab7-8324-580852724a42"
      },
      "outputs": [
        {
          "name": "stdout",
          "output_type": "stream",
          "text": [
            "India\n",
            "India\n",
            "Yadav\n",
            "India\n"
          ]
        }
      ],
      "source": [
        "str='India'\n",
        "def update(str1):\n",
        "    print(str1)\n",
        "    str1='Yadav'\n",
        "    print(str1)\n",
        "    \n",
        "print(str)    \n",
        "update(str)    \n",
        "print(str)"
      ],
      "id": "02FEHC_5fUnL"
    },
    {
      "cell_type": "markdown",
      "metadata": {
        "id": "-Nqs2vo1fUnL"
      },
      "source": [
        "# Call by Reference: (List)\n"
      ],
      "id": "-Nqs2vo1fUnL"
    },
    {
      "cell_type": "code",
      "execution_count": null,
      "metadata": {
        "id": "wC5XTXh-fUnL",
        "outputId": "6f419c3f-6903-4943-c19a-8fa92555e2d6"
      },
      "outputs": [
        {
          "name": "stdout",
          "output_type": "stream",
          "text": [
            "[1, 2, 3]\n",
            "[1, 2, 3]\n",
            "[1, 2, 3, 4]\n",
            "[1, 2, 3, 4]\n"
          ]
        }
      ],
      "source": [
        "l=[1,2,3]\n",
        "def update(l1):\n",
        "    print(l1)\n",
        "    l1.append(4)\n",
        "    print(l1)\n",
        "    \n",
        "print(l)    \n",
        "update(l)    \n",
        "print(l)"
      ],
      "id": "wC5XTXh-fUnL"
    },
    {
      "cell_type": "code",
      "execution_count": null,
      "metadata": {
        "id": "xp3FkyL4fUnL",
        "outputId": "f7480aaf-4cf2-44cf-8767-2015fdcadf57"
      },
      "outputs": [
        {
          "name": "stdout",
          "output_type": "stream",
          "text": [
            "[20, 11, 12, 13, 14, 15]\n"
          ]
        }
      ],
      "source": [
        "# Here x is a new reference to same list lst\n",
        "def myFun(x):\n",
        "    x[0] = 20\n",
        " \n",
        " \n",
        "# Driver Code (Note that lst is modified\n",
        "# after function call.\n",
        "lst = [10, 11, 12, 13, 14, 15]\n",
        "myFun(lst)\n",
        "print(lst)"
      ],
      "id": "xp3FkyL4fUnL"
    },
    {
      "cell_type": "raw",
      "metadata": {
        "id": "b7V0JUMqfUnM"
      },
      "source": [
        "Call by reference in Python\n",
        "\n",
        "In Python, call by reference means passing the actual value as an argument in the function. All the functions are called by reference, i.e., all the changes made to the reference inside the function revert back to the original value referred by the reference."
      ],
      "id": "b7V0JUMqfUnM"
    },
    {
      "cell_type": "markdown",
      "metadata": {
        "id": "NyyLV5zyfUnM"
      },
      "source": [
        "# Example 1 Passing Immutable Object (List)"
      ],
      "id": "NyyLV5zyfUnM"
    },
    {
      "cell_type": "code",
      "execution_count": null,
      "metadata": {
        "id": "C-VK5pgRfUnM",
        "outputId": "9332e1be-a7a5-43b7-e6a5-b83b464ddaf1"
      },
      "outputs": [
        {
          "name": "stdout",
          "output_type": "stream",
          "text": [
            "list inside function =  [10, 30, 40, 50, 20, 30]\n",
            "list outside function =  [10, 30, 40, 50, 20, 30]\n"
          ]
        }
      ],
      "source": [
        "#defining the function    \n",
        "def change_list(list1):    \n",
        "    list1.append(20)   \n",
        "    list1.append(30)    \n",
        "    print(\"list inside function = \",list1)    \n",
        "    \n",
        "#defining the list    \n",
        "list1 = [10,30,40,50]    \n",
        "    \n",
        "#calling the function     \n",
        "change_list(list1)  \n",
        "print(\"list outside function = \",list1)  "
      ],
      "id": "C-VK5pgRfUnM"
    },
    {
      "cell_type": "markdown",
      "metadata": {
        "id": "OlNHGgVpfUnR"
      },
      "source": [
        "# Example 2 Passing Object (String)"
      ],
      "id": "OlNHGgVpfUnR"
    },
    {
      "cell_type": "code",
      "execution_count": null,
      "metadata": {
        "id": "rGc-VP9ZfUnS",
        "outputId": "300475ed-1cda-466f-a954-cf73b57ed653"
      },
      "outputs": [
        {
          "name": "stdout",
          "output_type": "stream",
          "text": [
            "printing the string inside function : Hi I am there Hows you \n",
            "printing the string outside function : Hi I am there\n"
          ]
        }
      ],
      "source": [
        "#defining the function    \n",
        "def change_string (str):    \n",
        "    str = str + \" Hows you \"  \n",
        "    print(\"printing the string inside function :\",str)  \n",
        "    \n",
        "string1 = \"Hi I am there\"    \n",
        "    \n",
        "#calling the function    \n",
        "change_string(string1)    \n",
        "    \n",
        "print(\"printing the string outside function :\",string1)    "
      ],
      "id": "rGc-VP9ZfUnS"
    },
    {
      "cell_type": "markdown",
      "metadata": {
        "id": "2GXAH_bZfUnT"
      },
      "source": [
        "# Default arguments to a function"
      ],
      "id": "2GXAH_bZfUnT"
    },
    {
      "cell_type": "code",
      "execution_count": null,
      "metadata": {
        "id": "88Mzf08gfUnT"
      },
      "outputs": [],
      "source": [
        "def print_num_times(name, num=1):\n",
        "\n",
        "    for i in range(num):\n",
        "        print(name)"
      ],
      "id": "88Mzf08gfUnT"
    },
    {
      "cell_type": "code",
      "execution_count": null,
      "metadata": {
        "id": "9qzlfVn9fUnT",
        "outputId": "e0cfc79b-ecfe-4c4b-dace-3aac26c55d77"
      },
      "outputs": [
        {
          "name": "stdout",
          "output_type": "stream",
          "text": [
            "Yukti\n",
            "Yukti\n",
            "Yukti\n",
            "Yukti\n",
            "Yukti\n",
            "Yukti\n"
          ]
        }
      ],
      "source": [
        "print_num_times('Yukti', 6)"
      ],
      "id": "9qzlfVn9fUnT"
    },
    {
      "cell_type": "code",
      "execution_count": null,
      "metadata": {
        "id": "8BnGPSTpfUnU"
      },
      "outputs": [],
      "source": [
        "def greet(name, greeting=\"Hello\", num_times=1):\n",
        "\n",
        "    for i in range(num_times):\n",
        "        print(greeting, name)"
      ],
      "id": "8BnGPSTpfUnU"
    },
    {
      "cell_type": "code",
      "execution_count": null,
      "metadata": {
        "id": "V0WnJMYZfUnU",
        "outputId": "883e8b18-125c-410d-9143-49f19b5e3609"
      },
      "outputs": [
        {
          "name": "stdout",
          "output_type": "stream",
          "text": [
            "Hello Akash\n"
          ]
        }
      ],
      "source": [
        "greet('Akash')"
      ],
      "id": "V0WnJMYZfUnU"
    },
    {
      "cell_type": "code",
      "execution_count": null,
      "metadata": {
        "id": "m1elQD4vfUnU",
        "outputId": "eea54ed3-53f9-4623-b499-bdedfacf5fd9"
      },
      "outputs": [
        {
          "name": "stdout",
          "output_type": "stream",
          "text": [
            "Namaste Akash\n"
          ]
        }
      ],
      "source": [
        "greet('Akash', greeting='Namaste')"
      ],
      "id": "m1elQD4vfUnU"
    },
    {
      "cell_type": "code",
      "execution_count": null,
      "metadata": {
        "id": "mHmosZ2WfUnV",
        "outputId": "abd6adff-d194-415e-e1ea-43fa8b1a2177"
      },
      "outputs": [
        {
          "name": "stdout",
          "output_type": "stream",
          "text": [
            "Hello Akash\n",
            "Hello Akash\n",
            "Hello Akash\n"
          ]
        }
      ],
      "source": [
        "greet('Akash', num_times=3)"
      ],
      "id": "mHmosZ2WfUnV"
    },
    {
      "cell_type": "code",
      "execution_count": null,
      "metadata": {
        "id": "-Sqv3ha2fUnV",
        "outputId": "c526f55d-4113-4bfa-81e4-027c2fdd06d8"
      },
      "outputs": [
        {
          "ename": "SyntaxError",
          "evalue": "non-default argument follows default argument (<ipython-input-13-86efcc4716e1>, line 1)",
          "output_type": "error",
          "traceback": [
            "\u001b[1;36m  File \u001b[1;32m\"<ipython-input-13-86efcc4716e1>\"\u001b[1;36m, line \u001b[1;32m1\u001b[0m\n\u001b[1;33m    def greet(name, greeting=\"Hello\", num_times):\u001b[0m\n\u001b[1;37m              ^\u001b[0m\n\u001b[1;31mSyntaxError\u001b[0m\u001b[1;31m:\u001b[0m non-default argument follows default argument\n"
          ]
        }
      ],
      "source": [
        "def greet(name, greeting=\"Hello\", num_times):\n",
        "    for i in range(num_times):\n",
        "        print(greeting, name)"
      ],
      "id": "-Sqv3ha2fUnV"
    },
    {
      "cell_type": "markdown",
      "metadata": {
        "id": "tFSlbPbWfUnW"
      },
      "source": [
        "# Keyword vs positional arguments"
      ],
      "id": "tFSlbPbWfUnW"
    },
    {
      "cell_type": "code",
      "execution_count": null,
      "metadata": {
        "id": "JuosfCv6fUnW",
        "outputId": "bc01f584-d0c1-4507-d0ab-abb7e6531bfd"
      },
      "outputs": [
        {
          "name": "stdout",
          "output_type": "stream",
          "text": [
            "Good morning Namrata\n",
            "Good morning Namrata\n",
            "Good morning Namrata\n",
            "Good morning Namrata\n"
          ]
        }
      ],
      "source": [
        "# All arguments are positional\n",
        "greet('Namrata', 'Good morning', 4)"
      ],
      "id": "JuosfCv6fUnW"
    },
    {
      "cell_type": "markdown",
      "metadata": {
        "id": "7HNLw5DBfUnW"
      },
      "source": [
        "<h3 id=\"var\">Variables</h3>"
      ],
      "id": "7HNLw5DBfUnW"
    },
    {
      "cell_type": "markdown",
      "metadata": {
        "id": "kntnbS1qfUnX"
      },
      "source": [
        "The input to a function is called a formal parameter.\n",
        "\n",
        "A variable that is declared inside a function is called a  local variable. The parameter only exists within the function (i.e. the point where the function starts and stops).  \n",
        "\n",
        "A variable that is declared outside a function definition is a global variable, and its value is accessible and modifiable throughout the program. We will discuss more about global variables at the end of the lab.\n"
      ],
      "id": "kntnbS1qfUnX"
    },
    {
      "cell_type": "code",
      "execution_count": null,
      "metadata": {
        "jupyter": {
          "outputs_hidden": false
        },
        "id": "1qL4TEXMfUnX"
      },
      "outputs": [],
      "source": [
        "# Function Definition\n",
        "\n",
        "def square(a):\n",
        "    \n",
        "    # Local variable b\n",
        "    b = 1\n",
        "    c = a * a + b\n",
        "    print(a, \"if you square + 1\", c) \n",
        "    return(c)"
      ],
      "id": "1qL4TEXMfUnX"
    },
    {
      "cell_type": "markdown",
      "metadata": {
        "id": "jk_IFzA_fUnY"
      },
      "source": [
        "The labels are displayed in the figure:  "
      ],
      "id": "jk_IFzA_fUnY"
    },
    {
      "cell_type": "markdown",
      "metadata": {
        "id": "g9GgaCW6fUnZ"
      },
      "source": [
        "<img src=\"https://s3-api.us-geo.objectstorage.softlayer.net/cf-courses-data/CognitiveClass/PY0101EN/Chapter%203/Images/FuncsVar.png\" width=\"500\" />"
      ],
      "id": "g9GgaCW6fUnZ"
    },
    {
      "cell_type": "markdown",
      "metadata": {
        "id": "gSjcESL6fUna"
      },
      "source": [
        "We can call the function  with an input of <b>3</b>:"
      ],
      "id": "gSjcESL6fUna"
    },
    {
      "cell_type": "code",
      "execution_count": null,
      "metadata": {
        "jupyter": {
          "outputs_hidden": false
        },
        "id": "OFUQLcgUfUna",
        "outputId": "3e4fd5b4-f960-42a4-b46b-1509c9c4603d"
      },
      "outputs": [
        {
          "name": "stdout",
          "output_type": "stream",
          "text": [
            "3 if you square + 1 10\n"
          ]
        },
        {
          "data": {
            "text/plain": [
              "10"
            ]
          },
          "execution_count": 10,
          "metadata": {},
          "output_type": "execute_result"
        }
      ],
      "source": [
        "# Initializes Global variable  \n",
        "\n",
        "x = 3\n",
        "# Makes function call and return function a y\n",
        "y = square(x)\n",
        "y"
      ],
      "id": "OFUQLcgUfUna"
    },
    {
      "cell_type": "markdown",
      "metadata": {
        "id": "240vaUhDfUnb"
      },
      "source": [
        " We can call the function  with an input of <b>2</b> in a different manner:"
      ],
      "id": "240vaUhDfUnb"
    },
    {
      "cell_type": "code",
      "execution_count": null,
      "metadata": {
        "jupyter": {
          "outputs_hidden": false
        },
        "id": "iqogi3hwfUnc",
        "outputId": "2926161f-f8fe-4a2c-9c1e-10d30bf8bfdd"
      },
      "outputs": [
        {
          "name": "stdout",
          "output_type": "stream",
          "text": [
            "2 if you square + 1 5\n"
          ]
        },
        {
          "data": {
            "text/plain": [
              "5"
            ]
          },
          "execution_count": 11,
          "metadata": {},
          "output_type": "execute_result"
        }
      ],
      "source": [
        "# Directly enter a number as parameter\n",
        "\n",
        "square(2)"
      ],
      "id": "iqogi3hwfUnc"
    },
    {
      "cell_type": "markdown",
      "metadata": {
        "id": "b0AP0uH_fUnc"
      },
      "source": [
        "If there is no <code>return</code> statement, the function returns <code>None</code>. The following two functions are equivalent:"
      ],
      "id": "b0AP0uH_fUnc"
    },
    {
      "cell_type": "code",
      "execution_count": null,
      "metadata": {
        "jupyter": {
          "outputs_hidden": false
        },
        "id": "3EcBCbVNfUnc"
      },
      "outputs": [],
      "source": [
        "# Define functions, one with return value None and other without return value\n",
        "\n",
        "def MJ():\n",
        "    print('Michael Jackson')\n",
        "    \n",
        "def MJ1():\n",
        "    print('Michael Jackson')\n",
        "    return(None)"
      ],
      "id": "3EcBCbVNfUnc"
    },
    {
      "cell_type": "code",
      "execution_count": null,
      "metadata": {
        "jupyter": {
          "outputs_hidden": false
        },
        "id": "aAU532OHfUnd",
        "outputId": "79346ef0-4d36-4576-cc26-7d579b565b0c"
      },
      "outputs": [
        {
          "name": "stdout",
          "output_type": "stream",
          "text": [
            "Michael Jackson\n"
          ]
        }
      ],
      "source": [
        "# See the output\n",
        "\n",
        "MJ()"
      ],
      "id": "aAU532OHfUnd"
    },
    {
      "cell_type": "code",
      "execution_count": null,
      "metadata": {
        "jupyter": {
          "outputs_hidden": false
        },
        "id": "qILva2pOfUnd",
        "outputId": "c7ad76c9-6e23-45e3-c45e-a0172e5c3d50"
      },
      "outputs": [
        {
          "name": "stdout",
          "output_type": "stream",
          "text": [
            "Michael Jackson\n"
          ]
        }
      ],
      "source": [
        "# See the output\n",
        "\n",
        "MJ1()"
      ],
      "id": "qILva2pOfUnd"
    },
    {
      "cell_type": "markdown",
      "metadata": {
        "id": "DkeD3D84fUnd"
      },
      "source": [
        "Printing the function after a call reveals a **None** is the default return statement:"
      ],
      "id": "DkeD3D84fUnd"
    },
    {
      "cell_type": "code",
      "execution_count": null,
      "metadata": {
        "jupyter": {
          "outputs_hidden": false
        },
        "id": "gLmzBnd0fUnd",
        "outputId": "c12dc8cc-00d5-46d2-9cf3-ae13c61bdbf4"
      },
      "outputs": [
        {
          "name": "stdout",
          "output_type": "stream",
          "text": [
            "Michael Jackson\n",
            "None\n",
            "Michael Jackson\n",
            "None\n"
          ]
        }
      ],
      "source": [
        "# See what functions returns are\n",
        "\n",
        "print(MJ())\n",
        "print(MJ1())"
      ],
      "id": "gLmzBnd0fUnd"
    },
    {
      "cell_type": "markdown",
      "metadata": {
        "id": "Q3vEhs4ifUne"
      },
      "source": [
        "Create a function <code>con</code> that  concatenates two strings using the addition operation:"
      ],
      "id": "Q3vEhs4ifUne"
    },
    {
      "cell_type": "code",
      "execution_count": null,
      "metadata": {
        "id": "2-Y_m7kofUne"
      },
      "outputs": [],
      "source": [
        "# Define the function for combining strings\n",
        "\n",
        "def con(a, b):\n",
        "    return(a + b)"
      ],
      "id": "2-Y_m7kofUne"
    },
    {
      "cell_type": "code",
      "execution_count": null,
      "metadata": {
        "id": "LgJmGIfYfUnf",
        "outputId": "f1611673-638a-4376-96f9-83e3bd656b01"
      },
      "outputs": [
        {
          "data": {
            "text/plain": [
              "'This is'"
            ]
          },
          "execution_count": 17,
          "metadata": {},
          "output_type": "execute_result"
        }
      ],
      "source": [
        "# Test on the con() function\n",
        "\n",
        "con(\"This \",\"is\")"
      ],
      "id": "LgJmGIfYfUnf"
    },
    {
      "cell_type": "markdown",
      "metadata": {
        "id": "zTa7WWAyfUng"
      },
      "source": [
        "<hr/>\n",
        "    <div class=\"alert alert-success alertsuccess\" style=\"margin-top: 20px\">\n",
        "        <h4> [Tip] How do I learn more about the pre-defined functions in Python? </h4>\n",
        "        <p>We will be introducing a variety of pre-defined functions to you as you learn more about Python. There are just too many functions, so there's no way we can teach them all in one sitting. But if you'd like to take a quick peek, here's a short reference card for some of the commonly-used pre-defined functions: <a href=\"http://www.astro.up.pt/~sousasag/Python_For_Astronomers/Python_qr.pdf\">Reference</a></p>\n",
        "    </div>\n",
        "<hr/>"
      ],
      "id": "zTa7WWAyfUng"
    },
    {
      "cell_type": "markdown",
      "metadata": {
        "id": "olOpZxg8fUng"
      },
      "source": [
        "<h3 id=\"simple\">Functions Make Things Simple</h3>"
      ],
      "id": "olOpZxg8fUng"
    },
    {
      "cell_type": "markdown",
      "metadata": {
        "id": "A7eZtp1cfUnh"
      },
      "source": [
        "Consider the two lines of code in <b>Block 1</b> and <b>Block 2</b>: the procedure for each block is identical. The only thing that is different is the variable names and values."
      ],
      "id": "A7eZtp1cfUnh"
    },
    {
      "cell_type": "markdown",
      "metadata": {
        "id": "pWRK4lojfUnh"
      },
      "source": [
        "<h4>Block 1:</h4>"
      ],
      "id": "pWRK4lojfUnh"
    },
    {
      "cell_type": "code",
      "execution_count": null,
      "metadata": {
        "jupyter": {
          "outputs_hidden": false
        },
        "id": "XTXMsPeCfUnh",
        "outputId": "408b0d27-1995-4493-f232-ea8dff4e4334"
      },
      "outputs": [
        {
          "data": {
            "text/plain": [
              "5"
            ]
          },
          "execution_count": 18,
          "metadata": {},
          "output_type": "execute_result"
        }
      ],
      "source": [
        "# a and b calculation block1\n",
        "\n",
        "a1 = 4\n",
        "b1 = 5\n",
        "c1 = a1 + b1 + 2 * a1 * b1 - 1\n",
        "if(c1 < 0):\n",
        "    c1 = 0 \n",
        "else:\n",
        "    c1 = 5\n",
        "c1   "
      ],
      "id": "XTXMsPeCfUnh"
    },
    {
      "cell_type": "markdown",
      "metadata": {
        "id": "oZPikkBOfUni"
      },
      "source": [
        "<h4>Block 2:</h4>"
      ],
      "id": "oZPikkBOfUni"
    },
    {
      "cell_type": "code",
      "execution_count": null,
      "metadata": {
        "jupyter": {
          "outputs_hidden": false
        },
        "id": "rxwB7GJGfUnj",
        "outputId": "19557e6a-a859-4db5-d2c7-457d27d0882d"
      },
      "outputs": [
        {
          "data": {
            "text/plain": [
              "0"
            ]
          },
          "execution_count": 19,
          "metadata": {},
          "output_type": "execute_result"
        }
      ],
      "source": [
        "# a and b calculation block2\n",
        "\n",
        "a2 = 0\n",
        "b2 = 0\n",
        "c2 = a2 + b2 + 2 * a2 * b2 - 1\n",
        "if(c2 < 0):\n",
        "    c2 = 0 \n",
        "else:\n",
        "    c2 = 5\n",
        "c2   "
      ],
      "id": "rxwB7GJGfUnj"
    },
    {
      "cell_type": "markdown",
      "metadata": {
        "id": "BbTZC1qGfUnv"
      },
      "source": [
        "We can replace the lines of code with a function. A function combines many instructions into a single line of code. Once a function is defined, it can be used repeatedly. You can invoke the same function many times in your program. You can save your function and use it in another program or use someone else’s function. The lines of code in code <b>Block 1</b> and code <b>Block 2</b> can be replaced by the following function:  "
      ],
      "id": "BbTZC1qGfUnv"
    },
    {
      "cell_type": "code",
      "execution_count": null,
      "metadata": {
        "jupyter": {
          "outputs_hidden": false
        },
        "id": "oe3VvS23fUnw"
      },
      "outputs": [],
      "source": [
        "# Make a Function for the calculation above\n",
        "\n",
        "def Equation(a,b):\n",
        "    c = a + b + 2 * a * b - 1\n",
        "    if(c < 0):\n",
        "        c = 0 \n",
        "    else:\n",
        "        c = 5\n",
        "    return(c) "
      ],
      "id": "oe3VvS23fUnw"
    },
    {
      "cell_type": "markdown",
      "metadata": {
        "id": "ZfnIORb4fUnw"
      },
      "source": [
        "This function takes two inputs, a and b, then applies several operations to return c. \n",
        "We simply define the function, replace the instructions with the function, and input the new values of <code>a1</code>, <code>b1</code> and <code>a2</code>, <code>b2</code> as inputs. The entire process is demonstrated in the figure: "
      ],
      "id": "ZfnIORb4fUnw"
    },
    {
      "cell_type": "markdown",
      "metadata": {
        "id": "IzsZInhdfUnw"
      },
      "source": [
        "<img src=\"https://s3-api.us-geo.objectstorage.softlayer.net/cf-courses-data/CognitiveClass/PY0101EN/Chapter%203/Images/FuncsPros.gif\" width=\"850\" />"
      ],
      "id": "IzsZInhdfUnw"
    },
    {
      "cell_type": "markdown",
      "metadata": {
        "id": "QiHtPGHnfUnx"
      },
      "source": [
        "Code **Blocks 1** and **Block 2** can now be replaced with code **Block 3** and code **Block 4**."
      ],
      "id": "QiHtPGHnfUnx"
    },
    {
      "cell_type": "markdown",
      "metadata": {
        "id": "fN8F0oEIfUnx"
      },
      "source": [
        "<h4>Block 3:</h4>"
      ],
      "id": "fN8F0oEIfUnx"
    },
    {
      "cell_type": "code",
      "execution_count": null,
      "metadata": {
        "jupyter": {
          "outputs_hidden": false
        },
        "id": "MH14DTjCfUnx",
        "outputId": "62333502-81f3-4c33-e6cf-8dbf98ada2b2"
      },
      "outputs": [
        {
          "data": {
            "text/plain": [
              "5"
            ]
          },
          "execution_count": 21,
          "metadata": {},
          "output_type": "execute_result"
        }
      ],
      "source": [
        "a1 = 4\n",
        "b1 = 5\n",
        "c1 = Equation(a1, b1)\n",
        "c1"
      ],
      "id": "MH14DTjCfUnx"
    },
    {
      "cell_type": "markdown",
      "metadata": {
        "id": "0i658A84fUnx"
      },
      "source": [
        "<h4>Block 4:</h4>"
      ],
      "id": "0i658A84fUnx"
    },
    {
      "cell_type": "code",
      "execution_count": null,
      "metadata": {
        "jupyter": {
          "outputs_hidden": false
        },
        "id": "Mdu-_Au1fUnx",
        "outputId": "3bd10de6-5a39-4b0e-8965-baa98e3e3206"
      },
      "outputs": [
        {
          "data": {
            "text/plain": [
              "0"
            ]
          },
          "execution_count": 22,
          "metadata": {},
          "output_type": "execute_result"
        }
      ],
      "source": [
        "a2 = 0\n",
        "b2 = 0\n",
        "c2 = Equation(a2, b2)\n",
        "c2"
      ],
      "id": "Mdu-_Au1fUnx"
    },
    {
      "cell_type": "markdown",
      "metadata": {
        "id": "P3lzyMn2fUnx"
      },
      "source": [
        "<hr>"
      ],
      "id": "P3lzyMn2fUnx"
    },
    {
      "cell_type": "markdown",
      "metadata": {
        "id": "DqznoZZUfUny"
      },
      "source": [
        "<h2 id=\"pre\">Pre-defined functions</h2>"
      ],
      "id": "DqznoZZUfUny"
    },
    {
      "cell_type": "markdown",
      "metadata": {
        "id": "3jvAKgoNfUny"
      },
      "source": [
        "There are many pre-defined functions in Python, so let's start with the simple ones."
      ],
      "id": "3jvAKgoNfUny"
    },
    {
      "cell_type": "markdown",
      "metadata": {
        "id": "pWl0luTUfUny"
      },
      "source": [
        "The <code>print()</code> function:"
      ],
      "id": "pWl0luTUfUny"
    },
    {
      "cell_type": "code",
      "execution_count": null,
      "metadata": {
        "id": "o-q_yS4DfUny",
        "outputId": "bdfad6db-06b5-414d-b606-4953fb4e67f8"
      },
      "outputs": [
        {
          "name": "stdout",
          "output_type": "stream",
          "text": [
            "[10.0, 8.5, 9.5, 7.0, 7.0, 9.5, 9.0, 9.5]\n"
          ]
        }
      ],
      "source": [
        "# Build-in function print()\n",
        "\n",
        "album_ratings = [10.0, 8.5, 9.5, 7.0, 7.0, 9.5, 9.0, 9.5] \n",
        "print(album_ratings)"
      ],
      "id": "o-q_yS4DfUny"
    },
    {
      "cell_type": "markdown",
      "metadata": {
        "id": "JRhlTGaxfUnz"
      },
      "source": [
        "The <code>sum()</code> function adds all the  elements in a list or tuple:"
      ],
      "id": "JRhlTGaxfUnz"
    },
    {
      "cell_type": "code",
      "execution_count": null,
      "metadata": {
        "id": "rRgcCBR7fUnz",
        "outputId": "724d252f-3c84-4615-939d-7c67f0486b70"
      },
      "outputs": [
        {
          "data": {
            "text/plain": [
              "70.0"
            ]
          },
          "execution_count": 24,
          "metadata": {},
          "output_type": "execute_result"
        }
      ],
      "source": [
        "# Use sum() to add every element in a list or tuple together\n",
        "\n",
        "sum(album_ratings)"
      ],
      "id": "rRgcCBR7fUnz"
    },
    {
      "cell_type": "markdown",
      "metadata": {
        "id": "47RRzG_mfUnz"
      },
      "source": [
        "The <code>len()</code> function returns the length of a list or tuple: "
      ],
      "id": "47RRzG_mfUnz"
    },
    {
      "cell_type": "code",
      "execution_count": null,
      "metadata": {
        "id": "3o7izKPBfUnz",
        "outputId": "52af32ca-5638-49d3-bfb4-7a06ae057084"
      },
      "outputs": [
        {
          "data": {
            "text/plain": [
              "8"
            ]
          },
          "execution_count": 25,
          "metadata": {},
          "output_type": "execute_result"
        }
      ],
      "source": [
        "# Show the length of the list or tuple\n",
        "\n",
        "len(album_ratings)"
      ],
      "id": "3o7izKPBfUnz"
    },
    {
      "cell_type": "markdown",
      "metadata": {
        "id": "23U7a76IfUn0"
      },
      "source": [
        "# Scope and Lifetime of variables"
      ],
      "id": "23U7a76IfUn0"
    },
    {
      "cell_type": "raw",
      "metadata": {
        "id": "DJv3xYf9fUn0"
      },
      "source": [
        "Scope of a variable is the portion of a program where the variable is recognized. Parameters and variables defined inside a function are not visible from outside the function. Hence, they have a local scope.\n",
        "\n",
        "The lifetime of a variable is the period throughout which the variable exists in the memory. The lifetime of variables inside a function is as long as the function executes.\n",
        "\n",
        "They are destroyed once we return from the function. Hence, a function does not remember the value of a variable from its previous calls.\n",
        "\n",
        "Here is an example to illustrate the scope of a variable inside a function."
      ],
      "id": "DJv3xYf9fUn0"
    },
    {
      "cell_type": "code",
      "execution_count": null,
      "metadata": {
        "id": "G8QSHhOtfUn0",
        "outputId": "72496fce-6d31-4b75-9ac4-f4ee6d644783"
      },
      "outputs": [
        {
          "name": "stdout",
          "output_type": "stream",
          "text": [
            "Value inside function: 10\n",
            "Value outside function: 20\n"
          ]
        }
      ],
      "source": [
        "def my_func():\n",
        "\tx = 10\n",
        "\tprint(\"Value inside function:\",x)\n",
        "\n",
        "x = 20\n",
        "my_func()\n",
        "print(\"Value outside function:\",x)"
      ],
      "id": "G8QSHhOtfUn0"
    },
    {
      "cell_type": "raw",
      "metadata": {
        "id": "ujrhYQxifUn0"
      },
      "source": [
        "Here, we can see that the value of x is 20 initially. Even though the function my_func() changed the value of x to 10, it did not affect the value outside the function.\n",
        "\n",
        "This is because the variable x inside the function is different (local to the function) from the one outside. Although they have the same names, they are two different variables with different scopes.\n",
        "\n",
        "On the other hand, variables outside of the function are visible from inside. They have a global scope.\n",
        "\n",
        "We can read these values from inside the function but cannot change (write) them. In order to modify the value of variables outside the function, they must be declared as global variables using the keyword global.\n"
      ],
      "id": "ujrhYQxifUn0"
    },
    {
      "cell_type": "markdown",
      "metadata": {
        "id": "nBB84UtjfUn0"
      },
      "source": [
        "# Scope of variables"
      ],
      "id": "nBB84UtjfUn0"
    },
    {
      "cell_type": "raw",
      "metadata": {
        "id": "XlJkJ-pjfUn0"
      },
      "source": [
        "\n",
        "The scopes of the variables depend upon the location where the variable is being declared. The variable declared in one part of the program may not be accessible to the other parts.\n",
        "\n",
        "In python, the variables are defined with the two types of scopes.\n",
        "\n",
        "1. Global variables\n",
        "\n",
        "2. Local variables\n",
        "\n",
        "The variable defined outside any function is known to have a global scope, whereas the variable defined inside a function is known to have a local scope."
      ],
      "id": "XlJkJ-pjfUn0"
    },
    {
      "cell_type": "markdown",
      "metadata": {
        "id": "ogM5v1GnfUn0"
      },
      "source": [
        "# Example 1 Local Variable"
      ],
      "id": "ogM5v1GnfUn0"
    },
    {
      "cell_type": "code",
      "execution_count": null,
      "metadata": {
        "id": "uUc7XWJUfUn1",
        "outputId": "8da3fae7-2b88-43cb-a672-29da9912a763"
      },
      "outputs": [
        {
          "name": "stdout",
          "output_type": "stream",
          "text": [
            "hello !! I am going to print a message.\n"
          ]
        },
        {
          "ename": "NameError",
          "evalue": "name 'message' is not defined",
          "output_type": "error",
          "traceback": [
            "\u001b[1;31m---------------------------------------------------------------------------\u001b[0m",
            "\u001b[1;31mNameError\u001b[0m                                 Traceback (most recent call last)",
            "\u001b[1;32m<ipython-input-21-8fafe7c5c49d>\u001b[0m in \u001b[0;36m<module>\u001b[1;34m\u001b[0m\n\u001b[0;32m      3\u001b[0m     \u001b[0mprint\u001b[0m\u001b[1;33m(\u001b[0m\u001b[0mmessage\u001b[0m\u001b[1;33m)\u001b[0m\u001b[1;33m\u001b[0m\u001b[1;33m\u001b[0m\u001b[0m\n\u001b[0;32m      4\u001b[0m \u001b[0mprint_message\u001b[0m\u001b[1;33m(\u001b[0m\u001b[1;33m)\u001b[0m\u001b[1;33m\u001b[0m\u001b[1;33m\u001b[0m\u001b[0m\n\u001b[1;32m----> 5\u001b[1;33m \u001b[0mprint\u001b[0m\u001b[1;33m(\u001b[0m\u001b[0mmessage\u001b[0m\u001b[1;33m)\u001b[0m \u001b[1;31m# this will cause an error since a local variable cannot be accessible here.\u001b[0m\u001b[1;33m\u001b[0m\u001b[1;33m\u001b[0m\u001b[0m\n\u001b[0m",
            "\u001b[1;31mNameError\u001b[0m: name 'message' is not defined"
          ]
        }
      ],
      "source": [
        "def print_message():    \n",
        "    message = \"hello !! I am going to print a message.\" # the variable message is local to the function itself    \n",
        "    print(message)    \n",
        "print_message()    \n",
        "print(message) # this will cause an error since a local variable cannot be accessible here.    "
      ],
      "id": "uUc7XWJUfUn1"
    },
    {
      "cell_type": "markdown",
      "metadata": {
        "id": "S3GfljV9fUn1"
      },
      "source": [
        "# Example 2 Global Variable"
      ],
      "id": "S3GfljV9fUn1"
    },
    {
      "cell_type": "code",
      "execution_count": null,
      "metadata": {
        "id": "X0GViSU4fUn1",
        "outputId": "b8e17fdb-fb64-4490-9779-21d8974e9c70"
      },
      "outputs": [
        {
          "name": "stdout",
          "output_type": "stream",
          "text": [
            "The sum is 60\n",
            "Value of sum outside the function: 0\n"
          ]
        }
      ],
      "source": [
        "def calculate(*args):    \n",
        "    sum=0    \n",
        "    for arg in args:    \n",
        "        sum = sum +arg    \n",
        "    print(\"The sum is\",sum)    \n",
        "sum=0    \n",
        "calculate(10,20,30) #60 will be printed as the sum    \n",
        "print(\"Value of sum outside the function:\",sum) # 0 will be printed  Output:  "
      ],
      "id": "X0GViSU4fUn1"
    },
    {
      "cell_type": "code",
      "execution_count": null,
      "metadata": {
        "id": "x0xE1JMDfUn1"
      },
      "outputs": [],
      "source": [],
      "id": "x0xE1JMDfUn1"
    },
    {
      "cell_type": "code",
      "execution_count": null,
      "metadata": {
        "id": "KS-pnjxcfUn1"
      },
      "outputs": [],
      "source": [],
      "id": "KS-pnjxcfUn1"
    },
    {
      "cell_type": "code",
      "execution_count": null,
      "metadata": {
        "id": "oGMZbYyXfUn1"
      },
      "outputs": [],
      "source": [],
      "id": "oGMZbYyXfUn1"
    },
    {
      "cell_type": "code",
      "execution_count": null,
      "metadata": {
        "id": "9vx1NH81fUn2"
      },
      "outputs": [],
      "source": [],
      "id": "9vx1NH81fUn2"
    },
    {
      "cell_type": "code",
      "execution_count": null,
      "metadata": {
        "id": "CMOqt47qfUn2"
      },
      "outputs": [],
      "source": [],
      "id": "CMOqt47qfUn2"
    },
    {
      "cell_type": "markdown",
      "metadata": {
        "id": "-nS8MVybfUn2"
      },
      "source": [
        "# Python Recursive Function\n",
        "In Python, we know that a function can call other functions. It is even possible for the function to call itself. These types of construct are termed as recursive functions.\n",
        "\n",
        "The following image shows the working of a recursive function called recurse.\n",
        "\n"
      ],
      "id": "-nS8MVybfUn2"
    },
    {
      "cell_type": "code",
      "execution_count": null,
      "metadata": {
        "id": "ebQoo2QDfUn2"
      },
      "outputs": [],
      "source": [
        "Recursive Function: Function calling Function"
      ],
      "id": "ebQoo2QDfUn2"
    },
    {
      "cell_type": "code",
      "execution_count": null,
      "metadata": {
        "id": "D0BMXU-VfUn2"
      },
      "outputs": [],
      "source": [
        "Function Body/Definition\n",
        "\n",
        "Function Call"
      ],
      "id": "D0BMXU-VfUn2"
    },
    {
      "cell_type": "code",
      "execution_count": null,
      "metadata": {
        "id": "QjwtqLY8fUn2",
        "outputId": "8169fee9-96e5-4978-e4bd-1a3b2f111711"
      },
      "outputs": [
        {
          "name": "stdout",
          "output_type": "stream",
          "text": [
            "The factorial of 3 is 6\n"
          ]
        }
      ],
      "source": [
        "def factorial(x):\n",
        "    \"\"\"This is a recursive function\n",
        "    to find the factorial of an integer\"\"\"\n",
        "\n",
        "    if x == 1:\n",
        "        return 1\n",
        "    else:\n",
        "        return (x * factorial(x-1))\n",
        "\n",
        "\n",
        "num = 3\n",
        "print(\"The factorial of\", num, \"is\", factorial(num))"
      ],
      "id": "QjwtqLY8fUn2"
    },
    {
      "cell_type": "raw",
      "metadata": {
        "id": "oVm06pANfUn2"
      },
      "source": [
        "factorial(3)          # 1st call with 3\n",
        "3 * factorial(2)      # 2nd call with 2\n",
        "3 * 2 * factorial(1)  # 3rd call with 1\n",
        "3 * 2 * 1             # return from 3rd call as number=1\n",
        "3 * 2                 # return from 2nd call\n",
        "6                     # return from 1st call"
      ],
      "id": "oVm06pANfUn2"
    },
    {
      "cell_type": "markdown",
      "metadata": {
        "id": "jw1_LpLHfUn3"
      },
      "source": [
        "<h2 id=\"if\">Using <code>if</code>/<code>else</code> Statements and Loops in Functions</h2>"
      ],
      "id": "jw1_LpLHfUn3"
    },
    {
      "cell_type": "markdown",
      "metadata": {
        "id": "ztWYhVhffUn3"
      },
      "source": [
        "The <code>return()</code> function is particularly useful if you have any IF statements in the function, when you want your output to be dependent on some condition: "
      ],
      "id": "ztWYhVhffUn3"
    },
    {
      "cell_type": "code",
      "execution_count": null,
      "metadata": {
        "jupyter": {
          "outputs_hidden": false
        },
        "id": "pys71vDqfUn3",
        "outputId": "bb64526f-46d6-481a-b1b9-149b8b7e255b"
      },
      "outputs": [
        {
          "name": "stdout",
          "output_type": "stream",
          "text": [
            "Michael Jackson Thriller 1980\n",
            "Oldie\n"
          ]
        }
      ],
      "source": [
        "# Function example\n",
        "\n",
        "def type_of_album(artist, album, year_released):\n",
        "    \n",
        "    print(artist, album, year_released)\n",
        "    if year_released > 1980:\n",
        "        return \"Modern\"\n",
        "    else:\n",
        "        return \"Oldie\"\n",
        "    \n",
        "x = type_of_album(\"Michael Jackson\", \"Thriller\", 1980)\n",
        "print(x)"
      ],
      "id": "pys71vDqfUn3"
    },
    {
      "cell_type": "markdown",
      "metadata": {
        "id": "HMFkI3N5fUn3"
      },
      "source": [
        "We can use a loop in a function. For example, we can <code>print</code> out each element in a list:"
      ],
      "id": "HMFkI3N5fUn3"
    },
    {
      "cell_type": "code",
      "execution_count": null,
      "metadata": {
        "id": "_NBqhYnVfUn3"
      },
      "outputs": [],
      "source": [
        "# Print the list using for loop\n",
        "\n",
        "def PrintList(the_list):\n",
        "    for element in the_list:\n",
        "        print(element)"
      ],
      "id": "_NBqhYnVfUn3"
    },
    {
      "cell_type": "code",
      "execution_count": null,
      "metadata": {
        "jupyter": {
          "outputs_hidden": false
        },
        "id": "VAkdhKI1fUn3",
        "outputId": "0b39f4d6-8b60-45d3-8384-661e3748f20a"
      },
      "outputs": [
        {
          "name": "stdout",
          "output_type": "stream",
          "text": [
            "1\n",
            "1\n",
            "the man\n",
            "abc\n"
          ]
        }
      ],
      "source": [
        "# Implement the printlist function\n",
        "\n",
        "PrintList(['1', 1, 'the man', \"abc\"])"
      ],
      "id": "VAkdhKI1fUn3"
    },
    {
      "cell_type": "markdown",
      "metadata": {
        "id": "LSez2kF3fUn4"
      },
      "source": [
        "<hr>"
      ],
      "id": "LSez2kF3fUn4"
    },
    {
      "cell_type": "markdown",
      "metadata": {
        "id": "l8IzcfsnfUn4"
      },
      "source": [
        "<h2 id=\"default\">Setting default argument values in your custom functions</h2>"
      ],
      "id": "l8IzcfsnfUn4"
    },
    {
      "cell_type": "markdown",
      "metadata": {
        "id": "sZbkSO2XfUn4"
      },
      "source": [
        "You can set a default value for arguments in your function. For example, in the <code>isGoodRating()</code> function, what if we wanted to create a threshold for what we consider to be a good rating? Perhaps by default, we should have a default rating of 4:"
      ],
      "id": "sZbkSO2XfUn4"
    },
    {
      "cell_type": "code",
      "execution_count": null,
      "metadata": {
        "jupyter": {
          "outputs_hidden": false
        },
        "id": "__Pppke2fUn4"
      },
      "outputs": [],
      "source": [
        "# Example for setting param with default value\n",
        "\n",
        "def isGoodRating(rating=4): \n",
        "    if(rating < 7):\n",
        "        print(\"this album sucks it's rating is\",rating)\n",
        "        \n",
        "    else:\n",
        "        print(\"this album is good its rating is\",rating)\n"
      ],
      "id": "__Pppke2fUn4"
    },
    {
      "cell_type": "code",
      "execution_count": null,
      "metadata": {
        "jupyter": {
          "outputs_hidden": false
        },
        "id": "Cndd0DvhfUn4",
        "outputId": "7bec5641-94bf-483f-e7c8-599df74e3968"
      },
      "outputs": [
        {
          "name": "stdout",
          "output_type": "stream",
          "text": [
            "this album sucks it's rating is 4\n",
            "this album is good its rating is 10\n"
          ]
        }
      ],
      "source": [
        "# Test the value with default value and with input\n",
        "\n",
        "isGoodRating()\n",
        "isGoodRating(10)"
      ],
      "id": "Cndd0DvhfUn4"
    },
    {
      "cell_type": "markdown",
      "metadata": {
        "id": "zy46BcVffUn4"
      },
      "source": [
        "<hr>"
      ],
      "id": "zy46BcVffUn4"
    },
    {
      "cell_type": "markdown",
      "metadata": {
        "id": "VJh81R6DfUn5"
      },
      "source": [
        "<h2 id=\"global\">Global variables</h2>"
      ],
      "id": "VJh81R6DfUn5"
    },
    {
      "cell_type": "markdown",
      "metadata": {
        "id": "rP2rXi4wfUn5"
      },
      "source": [
        "So far, we've been creating variables within functions, but we have not discussed variables outside the function.  These are called global variables. \n",
        "<br>\n",
        "Let's try to see what <code>printer1</code> returns:"
      ],
      "id": "rP2rXi4wfUn5"
    },
    {
      "cell_type": "code",
      "execution_count": null,
      "metadata": {
        "jupyter": {
          "outputs_hidden": false
        },
        "id": "1sNS_TpefUn5",
        "outputId": "a66b70c1-6c5f-400a-eb68-d688821ba412"
      },
      "outputs": [
        {
          "name": "stdout",
          "output_type": "stream",
          "text": [
            "Michael Jackson is an artist\n"
          ]
        }
      ],
      "source": [
        "# Example of global variable\n",
        "\n",
        "artist = \"Michael Jackson\"\n",
        "def printer1(artist):\n",
        "    internal_var = artist\n",
        "    print(artist, \"is an artist\")\n",
        "    \n",
        "printer1(artist)"
      ],
      "id": "1sNS_TpefUn5"
    },
    {
      "cell_type": "markdown",
      "metadata": {
        "id": "OUTUyEuufUn5"
      },
      "source": [
        "If we print <code>internal_var</code> we get an error. "
      ],
      "id": "OUTUyEuufUn5"
    },
    {
      "cell_type": "markdown",
      "metadata": {
        "id": "HLIIyJsAfUn6"
      },
      "source": [
        "<b>We got a Name Error:  <code>name 'internal_var' is not defined</code>. Why?</b>  \n",
        "\n",
        "It's because all the variables we create in the function is a <b>local variable</b>, meaning that the variable assignment does not persist outside the function.  \n",
        "\n",
        "But there is a way to create <b>global variables</b> from within a function as follows:"
      ],
      "id": "HLIIyJsAfUn6"
    },
    {
      "cell_type": "code",
      "execution_count": null,
      "metadata": {
        "jupyter": {
          "outputs_hidden": false
        },
        "id": "q_2vFoZcfUn6",
        "outputId": "372b3a8d-e61b-49d4-ea11-d948396f850b"
      },
      "outputs": [
        {
          "name": "stdout",
          "output_type": "stream",
          "text": [
            "Michael Jackson is an artist\n",
            "Whitney Houston is an artist\n"
          ]
        }
      ],
      "source": [
        "artist = \"Michael Jackson\"\n",
        "\n",
        "def printer(artist):\n",
        "    global internal_var \n",
        "    internal_var= \"Whitney Houston\"\n",
        "    print(artist,\"is an artist\")\n",
        "\n",
        "printer(artist) \n",
        "printer(internal_var)"
      ],
      "id": "q_2vFoZcfUn6"
    },
    {
      "cell_type": "markdown",
      "metadata": {
        "id": "97LDmKHefUn6"
      },
      "source": [
        "<h2 id=\"scope\">Scope of a Variable</h2>"
      ],
      "id": "97LDmKHefUn6"
    },
    {
      "cell_type": "markdown",
      "metadata": {
        "id": "XEHnmLDZfUn6"
      },
      "source": [
        " The scope of a variable is the part of that program where that variable is accessible. Variables that are declared outside of all function definitions, such as the <code>myFavouriteBand</code> variable in the code shown here, are accessible from anywhere within the program. As a result, such variables are said to have global scope, and are known as global variables. \n",
        "    <code>myFavouriteBand</code> is a global variable, so it is accessible from within the <code>getBandRating</code> function, and we can use it to determine a band's rating. We can also use it outside of the function, such as when we pass it to the print function to display it:"
      ],
      "id": "XEHnmLDZfUn6"
    },
    {
      "cell_type": "code",
      "execution_count": null,
      "metadata": {
        "jupyter": {
          "outputs_hidden": false
        },
        "id": "Bn3mRN9bfUn6",
        "outputId": "9feda3ab-d2e8-400a-e124-05b107aebac9"
      },
      "outputs": [
        {
          "name": "stdout",
          "output_type": "stream",
          "text": [
            "AC/DC's rating is: 10.0\n",
            "Deep Purple's rating is: 0.0\n",
            "My favourite band is: AC/DC\n"
          ]
        }
      ],
      "source": [
        "# Example of global variable\n",
        "\n",
        "myFavouriteBand = \"AC/DC\"\n",
        "\n",
        "def getBandRating(bandname):\n",
        "    if bandname == myFavouriteBand:\n",
        "        return 10.0\n",
        "    else:\n",
        "        return 0.0\n",
        "\n",
        "print(\"AC/DC's rating is:\", getBandRating(\"AC/DC\"))\n",
        "print(\"Deep Purple's rating is:\",getBandRating(\"Deep Purple\"))\n",
        "print(\"My favourite band is:\", myFavouriteBand)"
      ],
      "id": "Bn3mRN9bfUn6"
    },
    {
      "cell_type": "markdown",
      "metadata": {
        "id": "UemMoY80fUn6"
      },
      "source": [
        " Take a look at this modified version of our code. Now the <code>myFavouriteBand</code> variable is defined within the <code>getBandRating</code> function. A variable that is defined within a function is said to be a local variable of that function. That means that it is only accessible from within the function in which it is defined. Our <code>getBandRating</code> function will still work, because <code>myFavouriteBand</code> is still defined within the function. However, we can no longer print <code>myFavouriteBand</code> outside our function, because it is a local variable of our <code>getBandRating</code> function; it is only defined within the <code>getBandRating</code> function:"
      ],
      "id": "UemMoY80fUn6"
    },
    {
      "cell_type": "code",
      "execution_count": null,
      "metadata": {
        "jupyter": {
          "outputs_hidden": false
        },
        "id": "YypuOWmBfUn7",
        "outputId": "ba805dfb-04bc-4cad-a183-a44f0bac41f2"
      },
      "outputs": [
        {
          "name": "stdout",
          "output_type": "stream",
          "text": [
            "AC/DC's rating is:  10.0\n",
            "Deep Purple's rating is:  0.0\n",
            "My favourite band is AC/DC\n"
          ]
        }
      ],
      "source": [
        "# Example of local variable\n",
        "\n",
        "def getBandRating(bandname):\n",
        "    myFavouriteBand = \"AC/DC\"\n",
        "    if bandname == myFavouriteBand:\n",
        "        return 10.0\n",
        "    else:\n",
        "        return 0.0\n",
        "\n",
        "print(\"AC/DC's rating is: \", getBandRating(\"AC/DC\"))\n",
        "print(\"Deep Purple's rating is: \", getBandRating(\"Deep Purple\"))\n",
        "print(\"My favourite band is\", myFavouriteBand)"
      ],
      "id": "YypuOWmBfUn7"
    },
    {
      "cell_type": "markdown",
      "metadata": {
        "id": "GBlc9mHVfUn7"
      },
      "source": [
        " Finally, take a look at this example. We now have two <code>myFavouriteBand</code> variable definitions. The first one of these has a global scope, and the second of them is a local variable within the <code>getBandRating</code> function. Within the <code>getBandRating</code> function, the local variable takes precedence. **Deep Purple** will receive a rating of 10.0 when passed to the <code>getBandRating</code> function. However, outside of the <code>getBandRating</code> function, the <code>getBandRating</code> s local variable is not defined, so the <code>myFavouriteBand</code> variable we print is the global variable, which has a value of **AC/DC**:"
      ],
      "id": "GBlc9mHVfUn7"
    },
    {
      "cell_type": "code",
      "execution_count": null,
      "metadata": {
        "jupyter": {
          "outputs_hidden": false
        },
        "id": "cUajK0B4fUn7",
        "outputId": "fbe3bca7-25d4-4888-f637-34dfc0c13d19"
      },
      "outputs": [
        {
          "name": "stdout",
          "output_type": "stream",
          "text": [
            "AC/DC's rating is: 0.0\n",
            "Deep Purple's rating is:  10.0\n",
            "My favourite band is: AC/DC\n"
          ]
        }
      ],
      "source": [
        "# Example of global variable and local variable with the same name\n",
        "\n",
        "myFavouriteBand = \"AC/DC\"\n",
        "\n",
        "def getBandRating(bandname):\n",
        "    myFavouriteBand = \"Deep Purple\"\n",
        "    if bandname == myFavouriteBand:\n",
        "        return 10.0\n",
        "    else:\n",
        "        return 0.0\n",
        "\n",
        "print(\"AC/DC's rating is:\",getBandRating(\"AC/DC\"))\n",
        "print(\"Deep Purple's rating is: \",getBandRating(\"Deep Purple\"))\n",
        "print(\"My favourite band is:\",myFavouriteBand)"
      ],
      "id": "cUajK0B4fUn7"
    },
    {
      "cell_type": "markdown",
      "metadata": {
        "id": "3-yUFtKzfUn7"
      },
      "source": [
        "<h2>Quiz on Functions</h2>"
      ],
      "id": "3-yUFtKzfUn7"
    },
    {
      "cell_type": "markdown",
      "metadata": {
        "id": "ySV1RxjJfUn7"
      },
      "source": [
        "Come up with a function that divides the first input by the second input:"
      ],
      "id": "ySV1RxjJfUn7"
    },
    {
      "cell_type": "code",
      "execution_count": null,
      "metadata": {
        "id": "10EcenNXfUn7",
        "outputId": "8281da80-57d5-44e2-f65c-5b85b982efae"
      },
      "outputs": [
        {
          "data": {
            "text/plain": [
              "2.0"
            ]
          },
          "execution_count": 36,
          "metadata": {},
          "output_type": "execute_result"
        }
      ],
      "source": [
        "# Write your code below and press Shift+Enter to execute\n",
        "def div(a,b):\n",
        "    return(a/b)\n",
        "div(6,3)"
      ],
      "id": "10EcenNXfUn7"
    },
    {
      "cell_type": "markdown",
      "metadata": {
        "id": "s_PtO8YKfUn8"
      },
      "source": [
        "Double-click __here__ for the solution.\n",
        "\n",
        "<!-- \n",
        "def div(a, b):\n",
        "    return(a/b)\n",
        "-->"
      ],
      "id": "s_PtO8YKfUn8"
    },
    {
      "cell_type": "markdown",
      "metadata": {
        "id": "Hgu7IuKZfUn8"
      },
      "source": [
        "<hr>"
      ],
      "id": "Hgu7IuKZfUn8"
    },
    {
      "cell_type": "markdown",
      "metadata": {
        "id": "YBJOhD4gfUn8"
      },
      "source": [
        "Use the function <code>con</code> for the following question."
      ],
      "id": "YBJOhD4gfUn8"
    },
    {
      "cell_type": "code",
      "execution_count": null,
      "metadata": {
        "id": "iRn82TQYfUn9"
      },
      "outputs": [],
      "source": [
        "# Use the con function for the following question\n",
        "\n",
        "def con(a, b):\n",
        "    return(a + b)"
      ],
      "id": "iRn82TQYfUn9"
    },
    {
      "cell_type": "markdown",
      "metadata": {
        "id": "aH_K0T5RfUn9"
      },
      "source": [
        "Can the <code>con</code> function we defined before be used to add to integers or strings?"
      ],
      "id": "aH_K0T5RfUn9"
    },
    {
      "cell_type": "code",
      "execution_count": null,
      "metadata": {
        "id": "gUpDxEtxfUn9",
        "outputId": "9229e90e-d081-4c32-e01e-fe25f5f5f075"
      },
      "outputs": [
        {
          "data": {
            "text/plain": [
              "'ArpitYadav'"
            ]
          },
          "execution_count": 38,
          "metadata": {},
          "output_type": "execute_result"
        }
      ],
      "source": [
        "# Write your code below and press Shift+Enter to execute\n",
        "con('Arpit','Yadav')"
      ],
      "id": "gUpDxEtxfUn9"
    },
    {
      "cell_type": "markdown",
      "metadata": {
        "id": "ZcioLgBxfUn9"
      },
      "source": [
        "Double-click __here__ for the solution.\n",
        "\n",
        "<!-- \n",
        "yes, for example: \n",
        "con(2, 2)\n",
        " -->"
      ],
      "id": "ZcioLgBxfUn9"
    },
    {
      "cell_type": "markdown",
      "metadata": {
        "id": "1Y_OwYfFfUn9"
      },
      "source": [
        "<hr>"
      ],
      "id": "1Y_OwYfFfUn9"
    },
    {
      "cell_type": "markdown",
      "metadata": {
        "id": "QSCNFXFBfUn9"
      },
      "source": [
        "Can the <code>con</code> function we defined before be used to concentrate a list or tuple?"
      ],
      "id": "QSCNFXFBfUn9"
    },
    {
      "cell_type": "code",
      "execution_count": null,
      "metadata": {
        "id": "qHldDlQLfUn-",
        "outputId": "780bcf03-d56d-4678-94bf-0e63e4be25a6"
      },
      "outputs": [
        {
          "data": {
            "text/plain": [
              "[1, 2, 23, 45]"
            ]
          },
          "execution_count": 39,
          "metadata": {},
          "output_type": "execute_result"
        }
      ],
      "source": [
        "# Write your code below and press Shift+Enter to execute\n",
        "con([1,2],[23,45])"
      ],
      "id": "qHldDlQLfUn-"
    },
    {
      "cell_type": "markdown",
      "metadata": {
        "id": "FYht28TjfUn-"
      },
      "source": [
        "Double-click __here__ for the solution.\n",
        "\n",
        "<!-- \n",
        "yes,for example: \n",
        "con(['a', 1], ['b', 1])\n",
        "-->"
      ],
      "id": "FYht28TjfUn-"
    },
    {
      "cell_type": "code",
      "execution_count": null,
      "metadata": {
        "id": "1wkPk7FZfUn-"
      },
      "outputs": [],
      "source": [],
      "id": "1wkPk7FZfUn-"
    },
    {
      "cell_type": "code",
      "execution_count": null,
      "metadata": {
        "id": "5s_ogIMgfUn-"
      },
      "outputs": [],
      "source": [],
      "id": "5s_ogIMgfUn-"
    },
    {
      "cell_type": "markdown",
      "metadata": {
        "id": "hGe28A3-fUn-"
      },
      "source": [
        "# Define a function that accepts 2 values and return its sum, subtraction and multiplication."
      ],
      "id": "hGe28A3-fUn-"
    },
    {
      "cell_type": "code",
      "execution_count": null,
      "metadata": {
        "id": "9jhzkA8zfUn-",
        "outputId": "b5207db8-37c5-460c-92d6-56e96f13441d"
      },
      "outputs": [
        {
          "name": "stdout",
          "output_type": "stream",
          "text": [
            "Enter value of a: 10\n",
            "Enter value of b: 20\n",
            "Sum is 30, Sub is -10, & Multiply is 200\n"
          ]
        }
      ],
      "source": [
        "def result(a, b):\n",
        "    sum = a+b\n",
        "    sub = a-b\n",
        "    mul = a*b\n",
        "    print(f\"Sum is {sum}, Sub is {sub}, & Multiply is {mul}\")\n",
        "\n",
        "a = int(input(\"Enter value of a: \"))  # 7\n",
        "b = int(input(\"Enter value of b: \"))  # 5\n",
        "result(a,b)"
      ],
      "id": "9jhzkA8zfUn-"
    },
    {
      "cell_type": "markdown",
      "metadata": {
        "id": "4BbfeYwUfUn_"
      },
      "source": [
        "# Define a function that accepts roll number and returns whether the student is present or absent."
      ],
      "id": "4BbfeYwUfUn_"
    },
    {
      "cell_type": "code",
      "execution_count": null,
      "metadata": {
        "id": "k-aNNvOCfUn_",
        "outputId": "3ee8ad4f-6e52-4277-9f53-7755f849a6c0"
      },
      "outputs": [
        {
          "name": "stdout",
          "output_type": "stream",
          "text": [
            "Enter roll no. 21\n",
            "Roll number 21 is absent\n"
          ]
        }
      ],
      "source": [
        "def detail(roll):\n",
        "    x = [23,43,22,56]\n",
        "    if roll in x:\n",
        "        print(f\"Roll number {roll} is present\")\n",
        "    else:\n",
        "        print(f\"Roll number {roll} is absent\")\n",
        "roll = int(input(\"Enter roll no. \")) # 24\n",
        "detail(roll)\n"
      ],
      "id": "k-aNNvOCfUn_"
    },
    {
      "cell_type": "markdown",
      "metadata": {
        "id": "j4Avd7RDfUoA"
      },
      "source": [
        "# Define a function in python that accepts 3 values and returns the maximum of three numbers."
      ],
      "id": "j4Avd7RDfUoA"
    },
    {
      "cell_type": "code",
      "execution_count": null,
      "metadata": {
        "id": "ws66LTR1fUoA"
      },
      "outputs": [],
      "source": [
        "def max(a, b, c):\n",
        "    if a > b and a > c:\n",
        "        print(f\"{a} is maximum among all\")\n",
        "    elif b > a and b > c:\n",
        "        print(f\"{b} is maximum among all\")\n",
        "    else:\n",
        "        print(f\"{c} is maximum among all\")\n"
      ],
      "id": "ws66LTR1fUoA"
    },
    {
      "cell_type": "code",
      "execution_count": null,
      "metadata": {
        "id": "5lhzeX09fUoB",
        "outputId": "61ba0939-c946-4ae0-b7f1-686153009a75"
      },
      "outputs": [
        {
          "name": "stdout",
          "output_type": "stream",
          "text": [
            "30 is maximum among all\n"
          ]
        }
      ],
      "source": [
        "max(30,22,18)"
      ],
      "id": "5lhzeX09fUoB"
    },
    {
      "cell_type": "markdown",
      "metadata": {
        "id": "HYyhvkuBfUoB"
      },
      "source": [
        "# Define a function that accepts a number and returns whether the number is even or odd."
      ],
      "id": "HYyhvkuBfUoB"
    },
    {
      "cell_type": "code",
      "execution_count": null,
      "metadata": {
        "id": "gk7Z-WHpfUoB",
        "outputId": "a5116dfc-7d54-4e28-cf44-b128114f5a17"
      },
      "outputs": [
        {
          "name": "stdout",
          "output_type": "stream",
          "text": [
            "Enter a number7\n",
            "4 is Even number\n"
          ]
        }
      ],
      "source": [
        "def func(x):\n",
        "    if x % 2 == 0:\n",
        "        print(f\"{x} is Even number\")\n",
        "    else:\n",
        "        print(f\"{x} is Odd number\")\n",
        "x = int(input(\"Enter a number\"))\n",
        "func(4)"
      ],
      "id": "gk7Z-WHpfUoB"
    },
    {
      "cell_type": "markdown",
      "metadata": {
        "id": "ArSOnP0ifUoB"
      },
      "source": [
        "# Define a function which counts vowels and consonant in a word.\n"
      ],
      "id": "ArSOnP0ifUoB"
    },
    {
      "cell_type": "code",
      "execution_count": null,
      "metadata": {
        "id": "7E_wueocfUoC",
        "outputId": "20b11d20-afda-45c6-b4f7-134fc126d820"
      },
      "outputs": [
        {
          "name": "stdout",
          "output_type": "stream",
          "text": [
            "Enter Value: 39\n",
            "Count of vowels is  0\n",
            "Count of consonant is  2\n"
          ]
        }
      ],
      "source": [
        "def count(val):\n",
        "    vov = 0\n",
        "    con = 0\n",
        "    for i in range(len(val)):\n",
        "        if val[i] in ['a','e','i','o','u']:\n",
        "            vov = vov+1\n",
        "        else:\n",
        "            con = con + 1\n",
        "\n",
        "    print(\"Count of vowels is \",vov)\n",
        "    print(\"Count of consonant is \",con)\n",
        "\n",
        "x = input(\"Enter Value: \") # pythonlobby\n",
        "count(x)"
      ],
      "id": "7E_wueocfUoC"
    },
    {
      "cell_type": "markdown",
      "metadata": {
        "id": "jSSyOtPcfUoC"
      },
      "source": [
        "# Define a function that returns Factorial of a number."
      ],
      "id": "jSSyOtPcfUoC"
    },
    {
      "cell_type": "code",
      "execution_count": null,
      "metadata": {
        "id": "1GATch2ufUoC",
        "outputId": "2cc51bcd-f37e-4a16-cf3f-12c198f45935"
      },
      "outputs": [
        {
          "name": "stdout",
          "output_type": "stream",
          "text": [
            "Enter number 34\n",
            "Factorial is 295232799039604140847618609643520000000\n"
          ]
        }
      ],
      "source": [
        "def factorial(num):\n",
        "    fact = 1\n",
        "    while(num!=0):\n",
        "        fact *= num\n",
        "        num = num - 1\n",
        "    print(\"Factorial is\",fact)\n",
        "\n",
        "num = int(input(\"Enter number \"))\n",
        "factorial(num)"
      ],
      "id": "1GATch2ufUoC"
    },
    {
      "cell_type": "markdown",
      "metadata": {
        "id": "JLvcBbKqfUoC"
      },
      "source": [
        "# Define a function that accepts lowercase words and returns uppercase words."
      ],
      "id": "JLvcBbKqfUoC"
    },
    {
      "cell_type": "code",
      "execution_count": null,
      "metadata": {
        "id": "I5T1kZeFfUoD",
        "outputId": "ad6e2ff6-6c5f-46df-dc71-1e398783af01"
      },
      "outputs": [
        {
          "name": "stdout",
          "output_type": "stream",
          "text": [
            "Enter String: python\n",
            "PYTHON\n"
          ]
        }
      ],
      "source": [
        "def response(text):\n",
        "    z = text.upper()\n",
        "    print(z)\n",
        "\n",
        "text = input(\"Enter String: \")  # pythonlobby\n",
        "response(text)"
      ],
      "id": "I5T1kZeFfUoD"
    },
    {
      "cell_type": "markdown",
      "metadata": {
        "id": "hJ25fUWRfUoE"
      },
      "source": [
        "# Define a function that accepts radius and returns the area of a circle.\n"
      ],
      "id": "hJ25fUWRfUoE"
    },
    {
      "cell_type": "code",
      "execution_count": null,
      "metadata": {
        "id": "gb3HyWHrfUoE",
        "outputId": "418e1c04-31c3-431d-e332-633c5951d533"
      },
      "outputs": [
        {
          "name": "stdout",
          "output_type": "stream",
          "text": [
            "Enter Radius: 6\n",
            "113.03999999999999\n"
          ]
        }
      ],
      "source": [
        "def area(radius):\n",
        "    area = 3.14*radius*radius\n",
        "    return area\n",
        "\n",
        "radius = int(input(\"Enter Radius: \"))  # 4\n",
        "print(area(radius))"
      ],
      "id": "gb3HyWHrfUoE"
    },
    {
      "cell_type": "code",
      "execution_count": null,
      "metadata": {
        "id": "6nX5MNjNfUoE"
      },
      "outputs": [],
      "source": [],
      "id": "6nX5MNjNfUoE"
    },
    {
      "cell_type": "code",
      "execution_count": null,
      "metadata": {
        "id": "jsOsTMJufUoF"
      },
      "outputs": [],
      "source": [],
      "id": "jsOsTMJufUoF"
    },
    {
      "cell_type": "markdown",
      "metadata": {
        "id": "LbzADVPiY9ti"
      },
      "source": [
        "## Numpy Arrays\n",
        "  * NumPy is a Python library.\n",
        "\n",
        "  * NumPy is used for working with arrays.\n",
        "\n",
        "  * NumPy is short for \"Numerical Python\".\n",
        "\n",
        "### Why Numpy\n",
        "  * In Python we have lists that serve the purpose of arrays, but they are slow to process.\n",
        "\n",
        "  * NumPy aims to provide an array object that is up to 50x faster than traditional Python lists.\n",
        "\n",
        "  * The array object in NumPy is called ndarray, it provides a lot of supporting functions that make working with ndarray very easy.\n",
        "\n",
        "  * Arrays are very frequently used in data science, where speed and resources are very important."
      ],
      "id": "LbzADVPiY9ti"
    },
    {
      "cell_type": "markdown",
      "metadata": {
        "id": "XwKlUZtjY6Kt"
      },
      "source": [
        "### Getting Started\n",
        "#### NumPy Creating Arrays"
      ],
      "id": "XwKlUZtjY6Kt"
    },
    {
      "cell_type": "code",
      "execution_count": null,
      "metadata": {
        "colab": {
          "base_uri": "https://localhost:8080/"
        },
        "id": "cUWPGD1UaHFy",
        "outputId": "28d63eb2-2365-481e-9ae4-01ae39da415c"
      },
      "outputs": [
        {
          "name": "stdout",
          "output_type": "stream",
          "text": [
            "[1 2 3 4 5]\n",
            "<class 'numpy.ndarray'>\n"
          ]
        }
      ],
      "source": [
        "import numpy as np\n",
        "arr = np.array([1, 2, 3, 4, 5])\n",
        "print(arr)\n",
        "print(type(arr))"
      ],
      "id": "cUWPGD1UaHFy"
    },
    {
      "cell_type": "code",
      "execution_count": null,
      "metadata": {
        "colab": {
          "base_uri": "https://localhost:8080/"
        },
        "id": "0NV7WoJzaOwu",
        "outputId": "6534e5e7-dae0-4079-a07f-d7359fe69d67"
      },
      "outputs": [
        {
          "name": "stdout",
          "output_type": "stream",
          "text": [
            "1.21.5\n",
            "<class 'numpy.ndarray'>\n"
          ]
        }
      ],
      "source": [
        "print(np.__version__)"
      ],
      "id": "0NV7WoJzaOwu"
    },
    {
      "cell_type": "markdown",
      "metadata": {
        "id": "Kbo3JikOaWS8"
      },
      "source": [
        "### Dimensions in arrays\n",
        "  * 1-D Arrays\n",
        "  * 2-D Arrays\n",
        "  * 3-D Arrays"
      ],
      "id": "Kbo3JikOaWS8"
    },
    {
      "cell_type": "code",
      "execution_count": null,
      "metadata": {
        "colab": {
          "base_uri": "https://localhost:8080/"
        },
        "id": "d0PVD5gEaXkp",
        "outputId": "305e1e09-eb6a-4036-83d7-1cea92f5d740"
      },
      "outputs": [
        {
          "name": "stdout",
          "output_type": "stream",
          "text": [
            "0\n",
            "1\n",
            "2\n",
            "3\n"
          ]
        }
      ],
      "source": [
        "a = np.array(42) # 0 Dimensional\n",
        "b = np.array([1, 2, 3, 4, 5])  # 1 dimensional\n",
        "c = np.array([[1, 2, 3], \n",
        "              [4, 5, 6]]\n",
        "             ) # 2 dimensional\n",
        "d = np.array([\n",
        "              [[1, 2, 3], [4, 5, 6]],\n",
        "              [[1, 2, 3], [4, 5, 6]]\n",
        "              ]) # 3 dimensional\n",
        " \n",
        "print(a.ndim)\n",
        "print(b.ndim)\n",
        "print(c.ndim)\n",
        "print(d.ndim)\n"
      ],
      "id": "d0PVD5gEaXkp"
    },
    {
      "cell_type": "markdown",
      "metadata": {
        "id": "XvHAr8LIbqeo"
      },
      "source": [
        "### Create Array using ndmin,\n",
        "* check shape,number of dimensions"
      ],
      "id": "XvHAr8LIbqeo"
    },
    {
      "cell_type": "code",
      "execution_count": null,
      "metadata": {
        "colab": {
          "base_uri": "https://localhost:8080/"
        },
        "id": "I0GtIb_vbOlz",
        "outputId": "b75a2e68-cf9f-453e-e674-dd94f72f5900"
      },
      "outputs": [
        {
          "name": "stdout",
          "output_type": "stream",
          "text": [
            "(1, 4)\n",
            "2\n"
          ]
        }
      ],
      "source": [
        "a = np.array([1,2,3,4],ndmin=2)\n",
        "print(a.shape)\n",
        "print(a.ndim)"
      ],
      "id": "I0GtIb_vbOlz"
    },
    {
      "cell_type": "markdown",
      "metadata": {
        "id": "j8SLblaTcXLC"
      },
      "source": [
        "### Array indexing and slicing"
      ],
      "id": "j8SLblaTcXLC"
    },
    {
      "cell_type": "code",
      "execution_count": null,
      "metadata": {
        "colab": {
          "base_uri": "https://localhost:8080/"
        },
        "id": "HFaqZfTWcWc9",
        "outputId": "a01909ce-01f4-4615-a714-bf595ad97924"
      },
      "outputs": [
        {
          "name": "stdout",
          "output_type": "stream",
          "text": [
            "1\n",
            "[1 2]\n",
            "[1 2 3 4 5]\n",
            "5\n",
            "[1 2 3 4 5]\n",
            "[3 4]\n"
          ]
        }
      ],
      "source": [
        "b = np.array([1, 2, 3, 4, 5])  # 1 dimensional\n",
        "print(b[0])\n",
        "print(b[0:2])\n",
        "print(b[0:5])\n",
        "print(b[-1])\n",
        "print(b[-5:])\n",
        "print(b[-3:4])"
      ],
      "id": "HFaqZfTWcWc9"
    },
    {
      "cell_type": "code",
      "execution_count": null,
      "metadata": {
        "colab": {
          "base_uri": "https://localhost:8080/"
        },
        "id": "NmxGSQF_cvra",
        "outputId": "b2c1a1f1-9a1b-435c-d4e1-f63efc2728ac"
      },
      "outputs": [
        {
          "name": "stdout",
          "output_type": "stream",
          "text": [
            "2\n",
            "(2, 3)\n",
            "[1 2 3]\n",
            "[4 5 6]\n",
            "[1 4]\n",
            "[2 5]\n",
            "[1 4]\n",
            "[3 6]\n",
            "[[1]\n",
            " [4]]\n"
          ]
        }
      ],
      "source": [
        "c = np.array([[1, 2, 3], \n",
        "              [4, 5, 6]]) # 2 dimensional\n",
        "print(c.ndim)\n",
        "print(c.shape)\n",
        "\n",
        "print(c[0,])\n",
        "print(c[1,])\n",
        "print(c[ :,0])\n",
        "print(c[ : ,1])\n",
        "print(c[ :,0])\n",
        "print(c[ : ,2])\n",
        "\n",
        "print(c[0:2, 0:1])\n"
      ],
      "id": "NmxGSQF_cvra"
    },
    {
      "cell_type": "code",
      "execution_count": null,
      "metadata": {
        "colab": {
          "base_uri": "https://localhost:8080/"
        },
        "id": "U56HD0Tdc1sE",
        "outputId": "ad893904-4036-45cd-8581-aa9b1cadf773"
      },
      "outputs": [
        {
          "name": "stdout",
          "output_type": "stream",
          "text": [
            "3\n",
            "(2, 2, 3)\n",
            "*******\n",
            "[[[1 2 3]\n",
            "  [4 5 6]]\n",
            "\n",
            " [[1 2 3]\n",
            "  [4 5 6]]]\n",
            "*******\n",
            "[[[1 2]\n",
            "  [4 5]]\n",
            "\n",
            " [[1 2]\n",
            "  [4 5]]]\n",
            "*******\n",
            "[[1 2]\n",
            " [4 5]]\n",
            "*******\n",
            "[[1 2]\n",
            " [4 5]]\n"
          ]
        }
      ],
      "source": [
        "d = np.array([\n",
        "              [[1, 2, 3], [4, 5, 6]],\n",
        "              [[1, 2, 3], [4, 5, 6]]\n",
        "              ]) # 3 dimensional\n",
        "print(d.ndim)\n",
        "print(d.shape)\n",
        "\n",
        "print(\"*******\")\n",
        "print(d[ : , : ,:])\n",
        "print(\"*******\")\n",
        "print(d[ : , 0:2 , 0:2])\n",
        "print(\"*******\")\n",
        "print(d[ 0, 0:2 , 0:2])\n",
        "print(\"*******\")\n",
        "print(d[ 1, 0:2 , 0:2])"
      ],
      "id": "U56HD0Tdc1sE"
    },
    {
      "cell_type": "markdown",
      "metadata": {
        "id": "1fajzY1QgQDI"
      },
      "source": [
        "### Datatypes in Numpy\n",
        "* strings - used to represent text data, the text is given under quote marks. e.g. \"ABCD\"\n",
        "* integer - used to represent integer numbers. e.g. -1, -2, -3\n",
        "* float - used to represent real numbers. e.g. 1.2, 42.42\n",
        "* boolean - used to represent True or False.\n",
        "* complex - used to represent complex numbers. e.g. 1.0 + 2.0j, 1.5 + 2.5j\n",
        "\n",
        "* Most of the times you work wiht integer,boolean."
      ],
      "id": "1fajzY1QgQDI"
    },
    {
      "cell_type": "markdown",
      "metadata": {
        "id": "Qr8Lrn6KgjAz"
      },
      "source": [],
      "id": "Qr8Lrn6KgjAz"
    },
    {
      "cell_type": "code",
      "execution_count": null,
      "metadata": {
        "colab": {
          "base_uri": "https://localhost:8080/"
        },
        "id": "bpw-PVJzgee9",
        "outputId": "1ddf12b0-56c0-49ea-d260-4f036f6bab22"
      },
      "outputs": [
        {
          "name": "stdout",
          "output_type": "stream",
          "text": [
            "<U15\n"
          ]
        }
      ],
      "source": [
        "\n",
        "arr = np.array(['datascience', 'machinelearning', 'dataengineering'])\n",
        "arr\n",
        "print(arr.dtype)"
      ],
      "id": "bpw-PVJzgee9"
    },
    {
      "cell_type": "code",
      "execution_count": null,
      "metadata": {
        "colab": {
          "base_uri": "https://localhost:8080/"
        },
        "id": "Ybqkl_LIgeQS",
        "outputId": "c6b84db5-f78b-40fe-b8d0-ea6ec5a09688"
      },
      "outputs": [
        {
          "name": "stdout",
          "output_type": "stream",
          "text": [
            "[b'1' b'2' b'3' b'4' b'5']\n",
            "|S1\n",
            "5\n"
          ]
        }
      ],
      "source": [
        "arr = np.array([1, 2, 3, 4,5], dtype='S')\n",
        "\n",
        "print(arr)\n",
        "print(arr.dtype)\n",
        "print(arr.size)"
      ],
      "id": "Ybqkl_LIgeQS"
    },
    {
      "cell_type": "code",
      "execution_count": null,
      "metadata": {
        "colab": {
          "base_uri": "https://localhost:8080/"
        },
        "id": "c2aJdxxch3v7",
        "outputId": "f49944dc-0008-4732-fe02-ec54914ac7cb"
      },
      "outputs": [
        {
          "name": "stdout",
          "output_type": "stream",
          "text": [
            "[1 2 3 4 5]\n",
            "int32\n",
            "5\n"
          ]
        }
      ],
      "source": [
        "arr = np.array([1, 2, 3, 4,5], dtype='i4')\n",
        "\n",
        "print(arr)\n",
        "print(arr.dtype)\n"
      ],
      "id": "c2aJdxxch3v7"
    },
    {
      "cell_type": "code",
      "execution_count": null,
      "metadata": {
        "colab": {
          "base_uri": "https://localhost:8080/",
          "height": 236
        },
        "id": "1XWRWP2OiMqc",
        "outputId": "6615725c-35d5-4fc9-e927-c3a6eccdc40f"
      },
      "outputs": [
        {
          "ename": "ValueError",
          "evalue": "ignored",
          "output_type": "error",
          "traceback": [
            "\u001b[0;31m---------------------------------------------------------------------------\u001b[0m",
            "\u001b[0;31mValueError\u001b[0m                                Traceback (most recent call last)",
            "\u001b[0;32m<ipython-input-69-ca39941cab8e>\u001b[0m in \u001b[0;36m<module>\u001b[0;34m()\u001b[0m\n\u001b[0;32m----> 1\u001b[0;31m \u001b[0marr\u001b[0m \u001b[0;34m=\u001b[0m \u001b[0mnp\u001b[0m\u001b[0;34m.\u001b[0m\u001b[0marray\u001b[0m\u001b[0;34m(\u001b[0m\u001b[0;34m[\u001b[0m\u001b[0;34m'a'\u001b[0m\u001b[0;34m,\u001b[0m \u001b[0;34m'2'\u001b[0m\u001b[0;34m,\u001b[0m \u001b[0;34m'3'\u001b[0m\u001b[0;34m]\u001b[0m\u001b[0;34m,\u001b[0m \u001b[0mdtype\u001b[0m\u001b[0;34m=\u001b[0m\u001b[0;34m'i'\u001b[0m\u001b[0;34m)\u001b[0m\u001b[0;34m\u001b[0m\u001b[0;34m\u001b[0m\u001b[0m\n\u001b[0m\u001b[1;32m      2\u001b[0m \u001b[0marr\u001b[0m\u001b[0;34m\u001b[0m\u001b[0;34m\u001b[0m\u001b[0m\n\u001b[1;32m      3\u001b[0m \u001b[0;31m# error as we can not put character into integer\u001b[0m\u001b[0;34m\u001b[0m\u001b[0;34m\u001b[0m\u001b[0;34m\u001b[0m\u001b[0m\n",
            "\u001b[0;31mValueError\u001b[0m: invalid literal for int() with base 10: 'a'"
          ]
        }
      ],
      "source": [
        "arr = np.array(['a', '2', '3'], dtype='i')\n",
        "arr\n",
        "# error as we can not put character into integer"
      ],
      "id": "1XWRWP2OiMqc"
    },
    {
      "cell_type": "code",
      "execution_count": null,
      "metadata": {
        "colab": {
          "base_uri": "https://localhost:8080/"
        },
        "id": "118zV5wboTua",
        "outputId": "47b749b0-b27b-4fa3-fbc3-4450036ada2b"
      },
      "outputs": [
        {
          "data": {
            "text/plain": [
              "array(['a', '2', '3'], dtype='<U1')"
            ]
          },
          "execution_count": 75,
          "metadata": {},
          "output_type": "execute_result"
        }
      ],
      "source": [
        "arr = np.array(['a', '2', '3'], dtype='U')\n",
        "arr"
      ],
      "id": "118zV5wboTua"
    },
    {
      "cell_type": "code",
      "execution_count": null,
      "metadata": {
        "colab": {
          "base_uri": "https://localhost:8080/",
          "height": 201
        },
        "id": "gPhGjbiLokuG",
        "outputId": "3848255c-3662-4acc-c8c7-1bf91255c432"
      },
      "outputs": [
        {
          "ename": "TypeError",
          "evalue": "ignored",
          "output_type": "error",
          "traceback": [
            "\u001b[0;31m---------------------------------------------------------------------------\u001b[0m",
            "\u001b[0;31mTypeError\u001b[0m                                 Traceback (most recent call last)",
            "\u001b[0;32m<ipython-input-76-3f611a05f864>\u001b[0m in \u001b[0;36m<module>\u001b[0;34m()\u001b[0m\n\u001b[0;32m----> 1\u001b[0;31m \u001b[0marr\u001b[0m\u001b[0;34m[\u001b[0m\u001b[0;36m2\u001b[0m\u001b[0;34m]\u001b[0m\u001b[0;34m+\u001b[0m\u001b[0;36m3\u001b[0m\u001b[0;34m\u001b[0m\u001b[0;34m\u001b[0m\u001b[0m\n\u001b[0m",
            "\u001b[0;31mTypeError\u001b[0m: can only concatenate str (not \"int\") to str"
          ]
        }
      ],
      "source": [
        "arr[2]+3\n",
        "# Error since we can do arithmetic operation on character"
      ],
      "id": "gPhGjbiLokuG"
    },
    {
      "cell_type": "code",
      "execution_count": null,
      "metadata": {
        "colab": {
          "base_uri": "https://localhost:8080/"
        },
        "id": "2k0OVnivoudw",
        "outputId": "f0140793-fb3d-44d4-8b6b-f61573c96f86"
      },
      "outputs": [
        {
          "name": "stdout",
          "output_type": "stream",
          "text": [
            "[ True  True False]\n",
            "bool\n"
          ]
        }
      ],
      "source": [
        "b = np.array([True,True,False])\n",
        "print(b)\n",
        "print(b.dtype)"
      ],
      "id": "2k0OVnivoudw"
    },
    {
      "cell_type": "markdown",
      "metadata": {
        "id": "33pafoT-pi4t"
      },
      "source": [
        "#### Let us say convert [1,0,3] numpy array ---> boolean\n",
        "* astype"
      ],
      "id": "33pafoT-pi4t"
    },
    {
      "cell_type": "code",
      "execution_count": null,
      "metadata": {
        "colab": {
          "base_uri": "https://localhost:8080/"
        },
        "id": "d4UYiBEdpg_Y",
        "outputId": "51ebced5-c400-4a74-b8ac-179d48196131"
      },
      "outputs": [
        {
          "name": "stdout",
          "output_type": "stream",
          "text": [
            "[ True False  True]\n",
            "bool\n"
          ]
        }
      ],
      "source": [
        "arr = np.array([1, 0, 3])\n",
        "\n",
        "newarr = arr.astype(bool)\n",
        "\n",
        "print(newarr)\n",
        "print(newarr.dtype)"
      ],
      "id": "d4UYiBEdpg_Y"
    },
    {
      "cell_type": "code",
      "execution_count": null,
      "metadata": {
        "colab": {
          "base_uri": "https://localhost:8080/"
        },
        "id": "u68EGbogprYM",
        "outputId": "4e3838e5-e478-44a5-b5eb-7f39a7b46a2c"
      },
      "outputs": [
        {
          "name": "stdout",
          "output_type": "stream",
          "text": [
            "[1.5 0.6 3.3]\n",
            "float64\n",
            "******\n",
            "[1 0 3]\n",
            "int64\n",
            "******\n",
            "[1. 0. 3.]\n"
          ]
        }
      ],
      "source": [
        "arr = np.array([1.5, 0.6, 3.3])\n",
        "print(arr)\n",
        "print(arr.dtype)\n",
        "print(\"******\")\n",
        "newarr = arr.astype(int)\n",
        "print(newarr)\n",
        "print(newarr.dtype)\n",
        "print(\"******\")\n",
        "print(newarr.astype(float))"
      ],
      "id": "u68EGbogprYM"
    },
    {
      "cell_type": "markdown",
      "metadata": {
        "id": "roIEYNV6qnVb"
      },
      "source": [
        "### Numpy copy "
      ],
      "id": "roIEYNV6qnVb"
    },
    {
      "cell_type": "code",
      "execution_count": null,
      "metadata": {
        "colab": {
          "base_uri": "https://localhost:8080/"
        },
        "id": "IUyXVD_htIqk",
        "outputId": "fee87b04-7412-48ce-bedd-9658f3d4570e"
      },
      "outputs": [
        {
          "name": "stdout",
          "output_type": "stream",
          "text": [
            "[1.5 0.6 3.3]\n",
            "[3.5 0.6 3.3]\n",
            "******\n",
            "[4.5 0.6 3.3]\n",
            "[4.5 0.6 3.3]\n"
          ]
        }
      ],
      "source": [
        "arr = np.array([1.5, 0.6, 3.3])\n",
        "print(arr)\n",
        "arr[0]=3.5\n",
        "print(arr)\n",
        "print(\"******\")\n",
        "arrref = arr\n",
        "arr[0] = 4.5\n",
        "print(arr)\n",
        "print(arrref)"
      ],
      "id": "IUyXVD_htIqk"
    },
    {
      "cell_type": "code",
      "execution_count": null,
      "metadata": {
        "colab": {
          "base_uri": "https://localhost:8080/"
        },
        "id": "90Vs888ltpQ-",
        "outputId": "bd2c21ab-e7c5-47ac-8a6c-74f497c79609"
      },
      "outputs": [
        {
          "name": "stdout",
          "output_type": "stream",
          "text": [
            "[1.5 0.6 3.3]\n",
            "[3.5 0.6 3.3]\n",
            "******\n",
            "[4.5 0.6 3.3]\n",
            "[ 3.5 15.5  3.3]\n"
          ]
        }
      ],
      "source": [
        "arr = np.array([1.5, 0.6, 3.3])\n",
        "print(arr)\n",
        "arr[0]=3.5\n",
        "print(arr)\n",
        "print(\"******\")\n",
        "arrcopy = arr.copy()\n",
        "arr[0] = 4.5\n",
        "arrcopy[1]=15.5\n",
        "print(arr)\n",
        "print(arrcopy)"
      ],
      "id": "90Vs888ltpQ-"
    },
    {
      "cell_type": "markdown",
      "metadata": {
        "id": "8a_qe80EiPES"
      },
      "source": [],
      "id": "8a_qe80EiPES"
    },
    {
      "cell_type": "markdown",
      "metadata": {
        "id": "2ckv29RqujUO"
      },
      "source": [
        "### Numpy functions\n",
        "* randomint\n",
        "* arrange\n",
        "* concatenate\n",
        "* split\n",
        "* reshape\n"
      ],
      "id": "2ckv29RqujUO"
    },
    {
      "cell_type": "markdown",
      "metadata": {
        "id": "bo1e61Ts5hXO"
      },
      "source": [
        "#### random"
      ],
      "id": "bo1e61Ts5hXO"
    },
    {
      "cell_type": "code",
      "execution_count": null,
      "metadata": {
        "colab": {
          "base_uri": "https://localhost:8080/"
        },
        "id": "rJII4n0Cw3D1",
        "outputId": "820a23d6-2b46-4cc3-fa37-2f3bbf368cba"
      },
      "outputs": [
        {
          "name": "stdout",
          "output_type": "stream",
          "text": [
            "[3 9 0 1 2]\n",
            "(5,)\n",
            "************\n",
            "************\n",
            "[[3 9]\n",
            " [1 6]]\n",
            "(2, 2)\n",
            "[[[8 1 1 4]\n",
            "  [0 1 9 9]\n",
            "  [1 7 8 3]]\n",
            "\n",
            " [[2 2 2 1]\n",
            "  [9 4 0 7]\n",
            "  [8 8 7 8]]]\n",
            "(2, 3, 4)\n"
          ]
        }
      ],
      "source": [
        "import numpy as np\n",
        "x1= np.random.randint(10,size= 5)\n",
        "print(x1)\n",
        "print(x1.shape)\n",
        "print(\"************\")\n",
        "x2= np.random.randint(10,size = (2,2))\n",
        "print(\"************\")\n",
        "print(x2)\n",
        "print(x2.shape)\n",
        "x3= np.random.randint(10,size = (2,3,4))\n",
        "print(x3)\n",
        "print(x3.shape)"
      ],
      "id": "rJII4n0Cw3D1"
    },
    {
      "cell_type": "markdown",
      "metadata": {
        "id": "MgRQ42J15m2c"
      },
      "source": [
        "#### arange"
      ],
      "id": "MgRQ42J15m2c"
    },
    {
      "cell_type": "code",
      "execution_count": null,
      "metadata": {
        "colab": {
          "base_uri": "https://localhost:8080/"
        },
        "id": "D9YWK0Cr29rl",
        "outputId": "35d7ea12-6e1f-43f4-ab91-07445ee375d1"
      },
      "outputs": [
        {
          "name": "stdout",
          "output_type": "stream",
          "text": [
            "[0 1 2 3 4 5 6 7 8 9]\n",
            "*******\n",
            "[ 0  5 10 15]\n",
            "*******\n",
            "[ 0 10 20 30 40]\n",
            "*******\n"
          ]
        }
      ],
      "source": [
        "a1  = np.arange(10)\n",
        "print(a1)\n",
        "print(\"*******\")\n",
        "a2  = np.arange(0,20,5)\n",
        "print(a2)\n",
        "print(\"*******\")\n",
        "a3  = np.arange(0,50,10)\n",
        "print(a3)\n",
        "print(\"*******\")"
      ],
      "id": "D9YWK0Cr29rl"
    },
    {
      "cell_type": "markdown",
      "metadata": {
        "id": "8cShyOQ45rHr"
      },
      "source": [
        "#### concatenate\n",
        "* axis =0\n",
        "* axis =1"
      ],
      "id": "8cShyOQ45rHr"
    },
    {
      "cell_type": "code",
      "execution_count": null,
      "metadata": {
        "colab": {
          "base_uri": "https://localhost:8080/"
        },
        "id": "cqi-9rGL3qgI",
        "outputId": "b312f2ac-a32d-4e93-8217-743e9718f40f"
      },
      "outputs": [
        {
          "name": "stdout",
          "output_type": "stream",
          "text": [
            "[ 0  1  2  3  4  5  6  7  8  9  0  5 10 15]\n",
            "********\n",
            "[ 0  5 10 15]\n",
            "[20 25 30 35]\n",
            "[ 0  5 10 15 20 25 30 35]\n"
          ]
        }
      ],
      "source": [
        "a1  = np.arange(10)\n",
        "a2  = np.arange(0,20,5)\n",
        "\n",
        "a3 = np.concatenate((a1,a2),axis =0)\n",
        "print(a3)\n",
        "print(\"********\")\n",
        "\n",
        "a1  = np.arange(0,20,5)\n",
        "a2  = np.arange(20,40,5)\n",
        "print(a1)\n",
        "print(a2)\n",
        "a3 = np.concatenate((a1,a2))\n",
        "print(a3)"
      ],
      "id": "cqi-9rGL3qgI"
    },
    {
      "cell_type": "code",
      "execution_count": null,
      "metadata": {
        "colab": {
          "base_uri": "https://localhost:8080/"
        },
        "id": "IU_WRNCM4VvK",
        "outputId": "5ff337c6-9295-463b-d6ae-3e47b24a874a"
      },
      "outputs": [
        {
          "name": "stdout",
          "output_type": "stream",
          "text": [
            "[[0 1 2 3 4 5 6 7 8 9]]\n",
            "[[0 1 2 3 4 5 6 7 8 9]]\n",
            "****\n",
            "[[0 1 2 3 4 5 6 7 8 9 0 1 2 3 4 5 6 7 8 9]]\n",
            "*************************\n",
            "[[ 0  5 10 15]]\n",
            "[[20 25 30 35]]\n",
            "****\n",
            "[[ 0  5 10 15]\n",
            " [20 25 30 35]]\n",
            "*****\n",
            "[[ 0  5 10 15 20 25 30 35]]\n"
          ]
        }
      ],
      "source": [
        "a1  = np.array(np.arange(10),ndmin= 2)\n",
        "a2  = np.array(np.arange(10),ndmin = 2)\n",
        "print(a1)\n",
        "print(a2)\n",
        "print(\"****\")\n",
        "a3 = np.concatenate((a1,a2),axis =1)\n",
        "print(a3)\n",
        "print(\"*************************\")\n",
        "\n",
        "a1  = np.array(np.arange(0,20,5),ndmin =2)\n",
        "a2  = np.array(np.arange(20,40,5),ndmin =2)\n",
        "print(a1)\n",
        "print(a2)\n",
        "print(\"****\")\n",
        "a3 = np.concatenate((a1,a2))\n",
        "print(a3)\n",
        "print(\"*****\")\n",
        "a4 = np.concatenate((a1,a2),axis=1)\n",
        "print(a4)\n"
      ],
      "id": "IU_WRNCM4VvK"
    },
    {
      "cell_type": "markdown",
      "metadata": {
        "id": "Oi7Go7nV57Rw"
      },
      "source": [
        "#### Split\n",
        "?split\n",
        "* axis=0, vsplit\n",
        "* axis=1, hsplit\n"
      ],
      "id": "Oi7Go7nV57Rw"
    },
    {
      "cell_type": "markdown",
      "metadata": {
        "id": "uCIEc5UW_mXu"
      },
      "source": [
        "##### Split - 1 dimensional arrays"
      ],
      "id": "uCIEc5UW_mXu"
    },
    {
      "cell_type": "code",
      "execution_count": null,
      "metadata": {
        "colab": {
          "base_uri": "https://localhost:8080/"
        },
        "id": "w4iPuopz52oo",
        "outputId": "98e318c3-771e-40b2-9fa2-2b3d42b671dd"
      },
      "outputs": [
        {
          "name": "stdout",
          "output_type": "stream",
          "text": [
            "[ 0  5 10 15]\n",
            "[array([0, 5]), array([10, 15])]\n",
            "********\n",
            "[0 1 2 3 4 5 6 7 8 9]\n",
            "[array([0, 1, 2, 3, 4]), array([5, 6, 7, 8, 9])]\n",
            "[array([0, 1]), array([2, 3]), array([4, 5]), array([6, 7]), array([8, 9])]\n"
          ]
        }
      ],
      "source": [
        "a1  = np.array(np.arange(0,20,5),ndmin =1)\n",
        "print(a1)\n",
        "\n",
        "print(np.split(a1,2))\n",
        "print('********')\n",
        "a1  = np.array(np.arange(0,10),ndmin =1)\n",
        "print(a1)\n",
        "print(np.split(a1,2))\n",
        "\n",
        "print(np.split(a1,5))"
      ],
      "id": "w4iPuopz52oo"
    },
    {
      "cell_type": "code",
      "execution_count": null,
      "metadata": {
        "colab": {
          "base_uri": "https://localhost:8080/"
        },
        "id": "gWMr1rEb56Ve",
        "outputId": "7b327371-88a8-4a70-fe8d-84e5279a0a54"
      },
      "outputs": [
        {
          "name": "stdout",
          "output_type": "stream",
          "text": [
            "[[1 2]\n",
            " [3 4]]\n",
            "[array([[1, 2]]), array([[3, 4]])]\n",
            "[array([[1, 2]]), array([[3, 4]])]\n",
            "********\n",
            "[array([[1],\n",
            "       [3]]), array([[2],\n",
            "       [4]])]\n",
            "[array([[1],\n",
            "       [3]]), array([[2],\n",
            "       [4]])]\n"
          ]
        }
      ],
      "source": [
        "a1  = np.array([[1,2],[3,4]],ndmin =2)\n",
        "print(a1)\n",
        "\n",
        "print(np.split(a1,2))\n",
        "#print(np.vsplit(a1,2))\n",
        "\n",
        "print('********')\n",
        "print(np.split(a1,2,axis=1))\n",
        "#print(np.hsplit(a1,2))\n"
      ],
      "id": "gWMr1rEb56Ve"
    },
    {
      "cell_type": "markdown",
      "metadata": {
        "id": "Y_I5rbXx_tAd"
      },
      "source": [
        "##### Split - 2 dimensional arrays"
      ],
      "id": "Y_I5rbXx_tAd"
    },
    {
      "cell_type": "code",
      "execution_count": null,
      "metadata": {
        "colab": {
          "base_uri": "https://localhost:8080/"
        },
        "id": "0-PvXJB9-6t1",
        "outputId": "dfa446df-57c6-4bde-8b8d-5bf9ef0fc8b4"
      },
      "outputs": [
        {
          "name": "stdout",
          "output_type": "stream",
          "text": [
            "[[14  2 17  7 14]\n",
            " [19 18  0 12  1]\n",
            " [17 12 13 14 10]\n",
            " [10  3  4  2  8]]\n",
            "[array([[14,  2, 17,  7, 14],\n",
            "       [19, 18,  0, 12,  1]]), array([[17, 12, 13, 14, 10],\n",
            "       [10,  3,  4,  2,  8]])]\n",
            "********\n"
          ]
        }
      ],
      "source": [
        "a1  = np.random.randint(20,size = (4,5))\n",
        "print(a1)\n",
        "\n",
        "print(np.split(a1,2))\n",
        "#print(np.vsplit(a1,2))\n",
        "\n",
        "print('********')\n",
        "#print(np.split(a1,2,axis=1))\n",
        "#print(np.hsplit(a1,2))"
      ],
      "id": "0-PvXJB9-6t1"
    },
    {
      "cell_type": "code",
      "execution_count": null,
      "metadata": {
        "colab": {
          "base_uri": "https://localhost:8080/"
        },
        "id": "_W37pX5w_Z5d",
        "outputId": "e250b340-02b7-4e41-e678-743af0c59024"
      },
      "outputs": [
        {
          "name": "stdout",
          "output_type": "stream",
          "text": [
            "[[ 5 15  2 17]\n",
            " [13  6 11  2]\n",
            " [ 1  5 12  2]\n",
            " [16 10  6 12]\n",
            " [13  3  3 18]]\n",
            "********\n",
            "[array([[ 5, 15],\n",
            "       [13,  6],\n",
            "       [ 1,  5],\n",
            "       [16, 10],\n",
            "       [13,  3]]), array([[ 2, 17],\n",
            "       [11,  2],\n",
            "       [12,  2],\n",
            "       [ 6, 12],\n",
            "       [ 3, 18]])]\n",
            "[array([[ 5, 15],\n",
            "       [13,  6],\n",
            "       [ 1,  5],\n",
            "       [16, 10],\n",
            "       [13,  3]]), array([[ 2, 17],\n",
            "       [11,  2],\n",
            "       [12,  2],\n",
            "       [ 6, 12],\n",
            "       [ 3, 18]])]\n"
          ]
        }
      ],
      "source": [
        "a1  = np.random.randint(20,size = (5,4))\n",
        "print(a1)\n",
        "\n",
        "#print(np.split(a1,2))\n",
        "#print(np.vsplit(a1,2))\n",
        "\n",
        "print('********')\n",
        "print(np.split(a1,2,axis=1))\n",
        "print(np.hsplit(a1,2))"
      ],
      "id": "_W37pX5w_Z5d"
    },
    {
      "cell_type": "markdown",
      "metadata": {
        "id": "dW9KSCBxBTt9"
      },
      "source": [
        "#### Reshaping"
      ],
      "id": "dW9KSCBxBTt9"
    },
    {
      "cell_type": "code",
      "execution_count": null,
      "metadata": {
        "colab": {
          "base_uri": "https://localhost:8080/"
        },
        "id": "9M0VnLj1BVkw",
        "outputId": "b7b8b61f-205c-4834-b4f2-3c527d0e10ee"
      },
      "outputs": [
        {
          "name": "stdout",
          "output_type": "stream",
          "text": [
            "[ 3 10  4 11 17  3  4  6 10  2]\n",
            "********\n",
            "[[ 3 10]\n",
            " [ 4 11]\n",
            " [17  3]\n",
            " [ 4  6]\n",
            " [10  2]]\n",
            "********\n",
            "[[ 3 10  4 11 17]\n",
            " [ 3  4  6 10  2]]\n",
            "********\n"
          ]
        }
      ],
      "source": [
        "a1 = np.random.randint(20,size=10)\n",
        "print(a1)\n",
        "print(\"********\")\n",
        "print(a1.reshape(5,2))\n",
        "\n",
        "print(\"********\")\n",
        "print(a1.reshape(2,5))\n",
        "\n",
        "print(\"********\")\n"
      ],
      "id": "9M0VnLj1BVkw"
    },
    {
      "cell_type": "code",
      "execution_count": null,
      "metadata": {
        "colab": {
          "base_uri": "https://localhost:8080/"
        },
        "id": "WANUcuwEB2lr",
        "outputId": "9f0749b0-282c-4909-a35e-64f1bb14b65f"
      },
      "outputs": [
        {
          "name": "stdout",
          "output_type": "stream",
          "text": [
            "[10  0 16  7 13 25 35 29  0 34 45 28  8 38 47  1 16 28  5 37 26 35  7 11\n",
            " 40 43 41  2 18 14  2  4 25 24 10  0 43 16 28 48 44 41  8  8 12  0 28 32\n",
            "  4 14 44 20  9 39 30 23 30  9 39  1  2 26  5 23 15 41 49 44 42 35 37 25\n",
            " 10 45 27 41 29 13 37 12 24 34 42 44 23 17  3 41 20 22  9 24 43 33  0  1\n",
            "  7 11 21 33]\n",
            "********\n",
            "[[10  0 16  7 13 25 35 29  0 34]\n",
            " [45 28  8 38 47  1 16 28  5 37]\n",
            " [26 35  7 11 40 43 41  2 18 14]\n",
            " [ 2  4 25 24 10  0 43 16 28 48]\n",
            " [44 41  8  8 12  0 28 32  4 14]\n",
            " [44 20  9 39 30 23 30  9 39  1]\n",
            " [ 2 26  5 23 15 41 49 44 42 35]\n",
            " [37 25 10 45 27 41 29 13 37 12]\n",
            " [24 34 42 44 23 17  3 41 20 22]\n",
            " [ 9 24 43 33  0  1  7 11 21 33]]\n",
            "********\n",
            "[[10  0 16  7 13]\n",
            " [25 35 29  0 34]\n",
            " [45 28  8 38 47]\n",
            " [ 1 16 28  5 37]\n",
            " [26 35  7 11 40]\n",
            " [43 41  2 18 14]\n",
            " [ 2  4 25 24 10]\n",
            " [ 0 43 16 28 48]\n",
            " [44 41  8  8 12]\n",
            " [ 0 28 32  4 14]\n",
            " [44 20  9 39 30]\n",
            " [23 30  9 39  1]\n",
            " [ 2 26  5 23 15]\n",
            " [41 49 44 42 35]\n",
            " [37 25 10 45 27]\n",
            " [41 29 13 37 12]\n",
            " [24 34 42 44 23]\n",
            " [17  3 41 20 22]\n",
            " [ 9 24 43 33  0]\n",
            " [ 1  7 11 21 33]]\n",
            "********\n"
          ]
        }
      ],
      "source": [
        "a1 = np.random.randint(50,size=100)\n",
        "print(a1)\n",
        "print(\"********\")\n",
        "print(a1.reshape(10,10))\n",
        "\n",
        "print(\"********\")\n",
        "print(a1.reshape(20,5))\n",
        "\n",
        "print(\"********\")\n"
      ],
      "id": "WANUcuwEB2lr"
    },
    {
      "cell_type": "markdown",
      "metadata": {
        "id": "I4u5QVBOBRIE"
      },
      "source": [
        "#### Stacking"
      ],
      "id": "I4u5QVBOBRIE"
    },
    {
      "cell_type": "code",
      "execution_count": null,
      "metadata": {
        "colab": {
          "base_uri": "https://localhost:8080/"
        },
        "id": "8KBt4wnW_3mN",
        "outputId": "2206a353-1a74-416b-bb3f-6ccc25e409c4"
      },
      "outputs": [
        {
          "name": "stdout",
          "output_type": "stream",
          "text": [
            "[[11 19 18  6]\n",
            " [10 12  2 14]\n",
            " [ 3  8 10  5]\n",
            " [13 11  3 19]\n",
            " [ 0  3 19 14]]\n",
            "[[42 18 41 48]\n",
            " [41  7 27 27]\n",
            " [ 8 20  7 12]\n",
            " [27  0 14  7]\n",
            " [11 19 40 33]]\n",
            "********\n",
            "[[11 19 18  6]\n",
            " [10 12  2 14]\n",
            " [ 3  8 10  5]\n",
            " [13 11  3 19]\n",
            " [ 0  3 19 14]\n",
            " [42 18 41 48]\n",
            " [41  7 27 27]\n",
            " [ 8 20  7 12]\n",
            " [27  0 14  7]\n",
            " [11 19 40 33]]\n"
          ]
        }
      ],
      "source": [
        "a1 = np.random.randint(20,size=(5,4))\n",
        "a2 = np.random.randint(50,size=(5,4))\n",
        "print(a1)\n",
        "print(a2)\n",
        "print(\"********\")\n",
        "print(np.vstack([a1,a2]))\n"
      ],
      "id": "8KBt4wnW_3mN"
    },
    {
      "cell_type": "code",
      "execution_count": null,
      "metadata": {
        "colab": {
          "base_uri": "https://localhost:8080/"
        },
        "id": "Wkhse6YsAl51",
        "outputId": "516625ca-3821-4a90-9d9b-ff2cd893337d"
      },
      "outputs": [
        {
          "name": "stdout",
          "output_type": "stream",
          "text": [
            "[[ 0  5  3 12]\n",
            " [ 4 12 17  2]\n",
            " [19 10  0 10]\n",
            " [ 1  4  1 14]\n",
            " [18  0 18 19]]\n",
            "[[ 5 15]\n",
            " [48 37]\n",
            " [29 49]\n",
            " [25 44]\n",
            " [21 46]]\n",
            "********\n",
            "[[ 0  5  3 12  5 15]\n",
            " [ 4 12 17  2 48 37]\n",
            " [19 10  0 10 29 49]\n",
            " [ 1  4  1 14 25 44]\n",
            " [18  0 18 19 21 46]]\n"
          ]
        }
      ],
      "source": [
        "a1 = np.random.randint(20,size=(5,4))\n",
        "a2 = np.random.randint(50,size=(5,2))\n",
        "print(a1)\n",
        "print(a2)\n",
        "print(\"********\")\n",
        "print(np.hstack([a1,a2]))\n"
      ],
      "id": "Wkhse6YsAl51"
    },
    {
      "cell_type": "code",
      "execution_count": null,
      "metadata": {
        "id": "6t6RIL0EfUoR"
      },
      "outputs": [],
      "source": [],
      "id": "6t6RIL0EfUoR"
    },
    {
      "cell_type": "code",
      "execution_count": null,
      "metadata": {
        "id": "Ty0gz7JTfUoS"
      },
      "outputs": [],
      "source": [],
      "id": "Ty0gz7JTfUoS"
    },
    {
      "cell_type": "code",
      "execution_count": null,
      "metadata": {
        "id": "d9RcKybIfUoS",
        "outputId": "a8bb8779-7fa5-4054-caa6-11ab1c27ad2d"
      },
      "outputs": [
        {
          "name": "stdout",
          "output_type": "stream",
          "text": [
            "[10, 15, 20, 25]\n"
          ]
        },
        {
          "data": {
            "text/plain": [
              "list"
            ]
          },
          "execution_count": 3,
          "metadata": {},
          "output_type": "execute_result"
        }
      ],
      "source": [
        "L1=[10,15,20,25]\n",
        "print(L1)\n",
        "type(L1)"
      ],
      "id": "d9RcKybIfUoS"
    },
    {
      "cell_type": "code",
      "execution_count": null,
      "metadata": {
        "colab": {
          "base_uri": "https://localhost:8080/"
        },
        "id": "wqWJCtvF7f0Y",
        "outputId": "f7682562-31ab-42d6-910f-40e4e8272e2e"
      },
      "outputs": [
        {
          "name": "stdout",
          "output_type": "stream",
          "text": [
            "[1 2 3 4 5]\n",
            "int64\n"
          ]
        }
      ],
      "source": [
        "import numpy as np\n",
        "a1 = np.array([1,2,3,4,5])\n",
        "print(a1)\n",
        "print(a1.dtype)"
      ],
      "id": "wqWJCtvF7f0Y"
    },
    {
      "cell_type": "code",
      "execution_count": null,
      "metadata": {
        "colab": {
          "base_uri": "https://localhost:8080/"
        },
        "id": "fkyRRBsF8jP1",
        "outputId": "3eb587cc-e6ee-4ccd-8581-54a3b67cf07e"
      },
      "outputs": [
        {
          "name": "stdout",
          "output_type": "stream",
          "text": [
            "[1.  2.  3.3]\n",
            "float64\n"
          ]
        }
      ],
      "source": [
        "a2 = np.array([1, 2, 3.3])\n",
        "print(a2)\n",
        "print(a2.dtype)"
      ],
      "id": "fkyRRBsF8jP1"
    },
    {
      "cell_type": "code",
      "execution_count": null,
      "metadata": {
        "colab": {
          "base_uri": "https://localhost:8080/"
        },
        "id": "G6jeZ93O8H0f",
        "outputId": "2d82d3dd-31a9-43cd-8a45-21332be924ab"
      },
      "outputs": [
        {
          "name": "stdout",
          "output_type": "stream",
          "text": [
            "['a' 'b' 'cat']\n",
            "<U3\n"
          ]
        }
      ],
      "source": [
        "a3 = np.array(['a','b','cat'])\n",
        "print(a3)\n",
        "print(a3.dtype)"
      ],
      "id": "G6jeZ93O8H0f"
    },
    {
      "cell_type": "code",
      "execution_count": null,
      "metadata": {
        "colab": {
          "base_uri": "https://localhost:8080/"
        },
        "id": "YTbLv5wz97BH",
        "outputId": "cb3cd2bf-2d04-4711-fc20-cb54875c86d6"
      },
      "outputs": [
        {
          "name": "stdout",
          "output_type": "stream",
          "text": [
            "[1 2 3 4 5]\n",
            "1\n",
            "2\n",
            "[1 2 3]\n",
            "[2 3 4]\n"
          ]
        }
      ],
      "source": [
        "print(a1)\n",
        "print(a1[0])\n",
        "print(a1[1])\n",
        "print(a1[0:3])\n",
        "print(a1[1:4])\n"
      ],
      "id": "YTbLv5wz97BH"
    },
    {
      "cell_type": "code",
      "execution_count": null,
      "metadata": {
        "colab": {
          "base_uri": "https://localhost:8080/"
        },
        "id": "AjRcm9iX-0Mv",
        "outputId": "6513c579-d2cf-4968-8843-7643e0332c6c"
      },
      "outputs": [
        {
          "name": "stdout",
          "output_type": "stream",
          "text": [
            "(5,)\n",
            "1\n"
          ]
        }
      ],
      "source": [
        "print(a1.shape)\n",
        "print(a1.ndim)"
      ],
      "id": "AjRcm9iX-0Mv"
    },
    {
      "cell_type": "code",
      "execution_count": null,
      "metadata": {
        "id": "xvx_wM8E_PVX"
      },
      "outputs": [],
      "source": [
        "### 2D"
      ],
      "id": "xvx_wM8E_PVX"
    },
    {
      "cell_type": "code",
      "execution_count": null,
      "metadata": {
        "colab": {
          "base_uri": "https://localhost:8080/"
        },
        "id": "my5oqRKu_Ekn",
        "outputId": "f71e3ad5-5a9c-4f11-fa51-ac321ba341fe"
      },
      "outputs": [
        {
          "name": "stdout",
          "output_type": "stream",
          "text": [
            "[[ 1  2  3]\n",
            " [10 20 30]]\n"
          ]
        }
      ],
      "source": [
        "b= np.array([[1,2,3],[10,20,30]])\n",
        "print(b)"
      ],
      "id": "my5oqRKu_Ekn"
    },
    {
      "cell_type": "code",
      "execution_count": null,
      "metadata": {
        "colab": {
          "base_uri": "https://localhost:8080/"
        },
        "id": "K3OPcr_n_Onf",
        "outputId": "a54c6362-ca1e-456a-fad6-9819fbf2c4b8"
      },
      "outputs": [
        {
          "name": "stdout",
          "output_type": "stream",
          "text": [
            "(2, 3)\n",
            "2\n",
            "int64\n"
          ]
        }
      ],
      "source": [
        "print(b.shape)\n",
        "print(b.ndim)\n",
        "print(b.dtype)"
      ],
      "id": "K3OPcr_n_Onf"
    },
    {
      "cell_type": "code",
      "execution_count": null,
      "metadata": {
        "colab": {
          "base_uri": "https://localhost:8080/"
        },
        "id": "eskvmyYwAxEf",
        "outputId": "04aba562-8eab-4621-c7e4-96e84ba2b99f"
      },
      "outputs": [
        {
          "name": "stdout",
          "output_type": "stream",
          "text": [
            "[1 2 3]\n",
            "[10 20 30]\n"
          ]
        }
      ],
      "source": [
        "# access the values from array\n",
        "print(b[0])\n",
        "print(b[1])"
      ],
      "id": "eskvmyYwAxEf"
    },
    {
      "cell_type": "code",
      "execution_count": null,
      "metadata": {
        "colab": {
          "base_uri": "https://localhost:8080/"
        },
        "id": "xG0Fy1RL_o7q",
        "outputId": "9ec9d749-3abe-4b58-dfe3-bc8d6d22dde4"
      },
      "outputs": [
        {
          "name": "stdout",
          "output_type": "stream",
          "text": [
            "[[  1   2   3]\n",
            " [ 10  20  30]\n",
            " [100 200 300]]\n",
            "************\n",
            "[[ 1  2  3]\n",
            " [10 20 30]]\n",
            "************\n",
            "[[  1   2]\n",
            " [ 10  20]\n",
            " [100 200]]\n",
            "************\n",
            "[[ 1  2]\n",
            " [10 20]]\n"
          ]
        }
      ],
      "source": [
        "b= np.array([[1,2,3],[10,20,30],[100,200,300]])\n",
        "print(b)\n",
        "print(\"************\")\n",
        "print(b[0:2, : ])\n",
        "print(\"************\")\n",
        "print(b[ : , 0:2 ])\n",
        "print(\"************\")\n",
        "print(b[0:2 , 0:2 ])\n"
      ],
      "id": "xG0Fy1RL_o7q"
    },
    {
      "cell_type": "code",
      "execution_count": null,
      "metadata": {
        "colab": {
          "base_uri": "https://localhost:8080/"
        },
        "id": "pXPssMglBuSd",
        "outputId": "9f12cc62-61e2-4811-a2f5-c29fde4297f4"
      },
      "outputs": [
        {
          "name": "stdout",
          "output_type": "stream",
          "text": [
            "[[ 1.   2.   3. ]\n",
            " [ 4.   5.  51.5]\n",
            " [ 6.   8.  50.5]]\n",
            "2.0\n",
            "[[ 4.   5.  51.5]\n",
            " [ 6.   8.  50.5]]\n",
            "[ 3.  51.5 50.5]\n",
            "51.5\n",
            "[100 200 300]\n"
          ]
        }
      ],
      "source": [
        "b2 = np.array([[1,2,3],[4,5,51.5],[6,8,50.5]])\n",
        "print(b2)\n",
        "# print 1st row, 2nd col\n",
        "print(b2[0,1])\n",
        "# print 2nd and 3rd row\n",
        "print(b2[1: , :])\n",
        "# print 3rd col only\n",
        "print(b2[: ,2])\n",
        "# print 2row,3rd col\n",
        "print(b2[1,2])\n",
        "# print 3rd row\n",
        "print(b[2,:])"
      ],
      "id": "pXPssMglBuSd"
    },
    {
      "cell_type": "code",
      "execution_count": null,
      "metadata": {
        "colab": {
          "base_uri": "https://localhost:8080/"
        },
        "id": "aaFBt8XaD872",
        "outputId": "c65a843e-7af7-4f8d-9f3f-dfd61c16fdf4"
      },
      "outputs": [
        {
          "name": "stdout",
          "output_type": "stream",
          "text": [
            "[ True False  True False]\n",
            "bool\n"
          ]
        }
      ],
      "source": [
        "b3 = np.array([True,False,True,False])\n",
        "print(b3)\n",
        "print(b3.dtype)\n"
      ],
      "id": "aaFBt8XaD872"
    },
    {
      "cell_type": "code",
      "execution_count": null,
      "metadata": {
        "colab": {
          "base_uri": "https://localhost:8080/"
        },
        "id": "8T1r3FlQEmK5",
        "outputId": "a4a41586-1784-4e30-e0be-c5d2bb892577"
      },
      "outputs": [
        {
          "name": "stdout",
          "output_type": "stream",
          "text": [
            "[1 0 1 0]\n"
          ]
        }
      ],
      "source": [
        "print(b3.astype('int'))"
      ],
      "id": "8T1r3FlQEmK5"
    },
    {
      "cell_type": "code",
      "execution_count": null,
      "metadata": {
        "colab": {
          "base_uri": "https://localhost:8080/"
        },
        "id": "uAtTnF_dEbs-",
        "outputId": "2655fc77-c2df-4fff-8b83-e55f32924899"
      },
      "outputs": [
        {
          "name": "stdout",
          "output_type": "stream",
          "text": [
            "int64\n",
            "[ True  True  True False]\n"
          ]
        }
      ],
      "source": [
        "b4 = np.array([10,20,30,0])\n",
        "print(b4.dtype)\n",
        "print(b4.astype('bool'))"
      ],
      "id": "uAtTnF_dEbs-"
    },
    {
      "cell_type": "code",
      "execution_count": null,
      "metadata": {
        "colab": {
          "base_uri": "https://localhost:8080/",
          "height": 166
        },
        "id": "k2EtCdZBFoVl",
        "outputId": "e769381b-72ee-4e20-d310-2df8fd2aed64"
      },
      "outputs": [
        {
          "ename": "TypeError",
          "evalue": "ignored",
          "output_type": "error",
          "traceback": [
            "\u001b[0;31m---------------------------------------------------------------------------\u001b[0m",
            "\u001b[0;31mTypeError\u001b[0m                                 Traceback (most recent call last)",
            "\u001b[0;32m<ipython-input-70-402ed38fc5c8>\u001b[0m in \u001b[0;36m<module>\u001b[0;34m()\u001b[0m\n\u001b[0;32m----> 1\u001b[0;31m \u001b[0mnp\u001b[0m\u001b[0;34m.\u001b[0m\u001b[0marray\u001b[0m\u001b[0;34m(\u001b[0m\u001b[0;34m[\u001b[0m\u001b[0;36m1\u001b[0m\u001b[0;34m,\u001b[0m\u001b[0;36m2\u001b[0m\u001b[0;34m,\u001b[0m\u001b[0;36m3\u001b[0m\u001b[0;34m]\u001b[0m\u001b[0;34m,\u001b[0m\u001b[0;34m[\u001b[0m\u001b[0;36m1\u001b[0m\u001b[0;34m,\u001b[0m\u001b[0;36m2\u001b[0m\u001b[0;34m]\u001b[0m\u001b[0;34m)\u001b[0m\u001b[0;34m\u001b[0m\u001b[0;34m\u001b[0m\u001b[0m\n\u001b[0m",
            "\u001b[0;31mTypeError\u001b[0m: Field elements must be 2- or 3-tuples, got '1'"
          ]
        }
      ],
      "source": [
        "np.array([1,2,3],[1,2])"
      ],
      "id": "k2EtCdZBFoVl"
    },
    {
      "cell_type": "code",
      "execution_count": null,
      "metadata": {
        "colab": {
          "base_uri": "https://localhost:8080/"
        },
        "id": "cGOv67fMFyqi",
        "outputId": "b06fda9d-64c5-4f83-d8c4-6f80b86438c0"
      },
      "outputs": [
        {
          "name": "stdout",
          "output_type": "stream",
          "text": [
            "[3 5 7]\n",
            "[-1 -1 -1]\n",
            "[ 2  6 12]\n"
          ]
        }
      ],
      "source": [
        "a1 = np.array([1,2,3])\n",
        "a2 = np.array([2,3,4])\n",
        "print(a1+a2)\n",
        "print(a1-a2)\n",
        "print(a1*a2)"
      ],
      "id": "cGOv67fMFyqi"
    },
    {
      "cell_type": "code",
      "execution_count": null,
      "metadata": {
        "colab": {
          "base_uri": "https://localhost:8080/"
        },
        "id": "UJq443feGJLz",
        "outputId": "50a656e0-8d4c-4482-9bd2-dc55fda9bdf5"
      },
      "outputs": [
        {
          "name": "stdout",
          "output_type": "stream",
          "text": [
            "[[1 2 3]\n",
            " [3 4 5]]\n",
            "[[2 3 4]\n",
            " [4 5 6]]\n",
            "*******\n",
            "[[ 3  5  7]\n",
            " [ 7  9 11]]\n",
            "*******\n",
            "[[-1 -1 -1]\n",
            " [-1 -1 -1]]\n",
            "*******\n",
            "[[ 2  6 12]\n",
            " [12 20 30]]\n"
          ]
        }
      ],
      "source": [
        "a1 = np.array([[1,2,3],[3,4,5]])\n",
        "a2 = np.array([[2,3,4],[4,5,6]])\n",
        "print(a1)\n",
        "print(a2)\n",
        "print(\"*******\")\n",
        "print(a1+a2)\n",
        "print(\"*******\")\n",
        "print(a1-a2)\n",
        "print(\"*******\")\n",
        "print(a1*a2)"
      ],
      "id": "UJq443feGJLz"
    },
    {
      "cell_type": "code",
      "execution_count": null,
      "metadata": {
        "colab": {
          "base_uri": "https://localhost:8080/"
        },
        "id": "bBs-_qjWG-tD",
        "outputId": "7a282b92-1ba8-482e-cda8-6a91313ca332"
      },
      "outputs": [
        {
          "name": "stdout",
          "output_type": "stream",
          "text": [
            "[[ 2  6 12]\n",
            " [12 20 30]]\n",
            "[[20 32]\n",
            " [38 62]]\n"
          ]
        }
      ],
      "source": [
        "print(np.multiply(a1,a2))\n",
        "print(np.dot(a1,np.transpose(a2)))"
      ],
      "id": "bBs-_qjWG-tD"
    },
    {
      "cell_type": "code",
      "execution_count": null,
      "metadata": {
        "colab": {
          "base_uri": "https://localhost:8080/"
        },
        "id": "fMlrkMXTIjDx",
        "outputId": "c9ef7d36-15f1-41a4-bab9-d932a0d68d50"
      },
      "outputs": [
        {
          "data": {
            "text/plain": [
              "array([11, 12, 17,  3,  0,  9,  5,  8, 14, 19])"
            ]
          },
          "execution_count": 92,
          "metadata": {},
          "output_type": "execute_result"
        }
      ],
      "source": [
        "# generate random integers --- with size\n",
        "a1 = np.random.randint(20,size=10)\n",
        "a1"
      ],
      "id": "fMlrkMXTIjDx"
    },
    {
      "cell_type": "code",
      "execution_count": null,
      "metadata": {
        "colab": {
          "base_uri": "https://localhost:8080/"
        },
        "id": "Vv37K7PTI7n-",
        "outputId": "8ff6abdb-d82a-4339-fb75-7987dded82fa"
      },
      "outputs": [
        {
          "data": {
            "text/plain": [
              "array([40, 13, 27, 33, 25, 47,  3, 10, 21, 43, 49, 30,  6, 23,  0, 47, 33,\n",
              "       14, 17,  8])"
            ]
          },
          "execution_count": 93,
          "metadata": {},
          "output_type": "execute_result"
        }
      ],
      "source": [
        "a2 = np.random.randint(50,size=20)\n",
        "a2"
      ],
      "id": "Vv37K7PTI7n-"
    },
    {
      "cell_type": "code",
      "execution_count": null,
      "metadata": {
        "colab": {
          "base_uri": "https://localhost:8080/"
        },
        "id": "1KyFlcabJUKc",
        "outputId": "296e0695-d663-4713-bb7f-1122a0e1b647"
      },
      "outputs": [
        {
          "data": {
            "text/plain": [
              "array([[16,  5,  5, 11,  6,  0, 19,  0, 12, 17]])"
            ]
          },
          "execution_count": 86,
          "metadata": {},
          "output_type": "execute_result"
        }
      ],
      "source": [
        "np.array(a1,ndmin=2)"
      ],
      "id": "1KyFlcabJUKc"
    },
    {
      "cell_type": "code",
      "execution_count": null,
      "metadata": {
        "colab": {
          "base_uri": "https://localhost:8080/"
        },
        "id": "MtcpPdxpJ7l-",
        "outputId": "f5fc98a6-0425-46f4-c033-99b04f0d786d"
      },
      "outputs": [
        {
          "name": "stdout",
          "output_type": "stream",
          "text": [
            "[[ 9 13  5]\n",
            " [18  0  0]]\n"
          ]
        }
      ],
      "source": [
        "a3 = np.random.randint(20,size=(2,3))\n",
        "print(a3)\n",
        "#?np.random.randint"
      ],
      "id": "MtcpPdxpJ7l-"
    },
    {
      "cell_type": "code",
      "execution_count": null,
      "metadata": {
        "colab": {
          "base_uri": "https://localhost:8080/"
        },
        "id": "cJZKgRUmKfHr",
        "outputId": "03aec417-83c5-4667-8e46-9115fa6903cb"
      },
      "outputs": [
        {
          "name": "stdout",
          "output_type": "stream",
          "text": [
            "[[19  3 18]\n",
            " [10  0 11]]\n"
          ]
        }
      ],
      "source": [
        "a4 = np.random.randint(20,size=(2,3))\n",
        "print(a4)"
      ],
      "id": "cJZKgRUmKfHr"
    },
    {
      "cell_type": "code",
      "execution_count": null,
      "metadata": {
        "colab": {
          "base_uri": "https://localhost:8080/"
        },
        "id": "VgREqgAfKnVM",
        "outputId": "3800a7e7-4345-453f-bc96-ab2c99e872cc"
      },
      "outputs": [
        {
          "name": "stdout",
          "output_type": "stream",
          "text": [
            "[11 12 17  3  0  9  5  8 14 19]\n",
            "[40 13 27 33 25 47  3 10 21 43 49 30  6 23  0 47 33 14 17  8]\n",
            "**************\n",
            "[11 12 17  3  0  9  5  8 14 19 40 13 27 33 25 47  3 10 21 43 49 30  6 23\n",
            "  0 47 33 14 17  8]\n"
          ]
        }
      ],
      "source": [
        "print(a1)\n",
        "print(a2)\n",
        "print(\"**************\")\n",
        "print(np.concatenate([a1,a2]))"
      ],
      "id": "VgREqgAfKnVM"
    },
    {
      "cell_type": "code",
      "execution_count": null,
      "metadata": {
        "colab": {
          "base_uri": "https://localhost:8080/"
        },
        "id": "YZu3iWUuLPaE",
        "outputId": "9ecb0a1f-b0c5-4437-fb00-3c74ec305e64"
      },
      "outputs": [
        {
          "name": "stdout",
          "output_type": "stream",
          "text": [
            "[[ 9 13  5]\n",
            " [18  0  0]]\n",
            "[[19  3 18]\n",
            " [10  0 11]]\n",
            "*********\n",
            "[[ 9 13  5]\n",
            " [18  0  0]\n",
            " [19  3 18]\n",
            " [10  0 11]]\n"
          ]
        }
      ],
      "source": [
        "print(a3)\n",
        "print(a4)\n",
        "print(\"*********\")\n",
        "print(np.concatenate([a3,a4]))"
      ],
      "id": "YZu3iWUuLPaE"
    },
    {
      "cell_type": "code",
      "execution_count": null,
      "metadata": {
        "colab": {
          "base_uri": "https://localhost:8080/"
        },
        "id": "9GdUQblyLk7q",
        "outputId": "42ecf3ed-8e39-4c31-b932-e62b0b078ac7"
      },
      "outputs": [
        {
          "name": "stdout",
          "output_type": "stream",
          "text": [
            "[[ 9 13  5]\n",
            " [18  0  0]]\n",
            "[[19  3 18]\n",
            " [10  0 11]]\n",
            "*********\n",
            "[[ 9 13  5 19  3 18]\n",
            " [18  0  0 10  0 11]]\n"
          ]
        }
      ],
      "source": [
        "print(a3)\n",
        "print(a4)\n",
        "print(\"*********\")\n",
        "print(np.concatenate([a3,a4],axis=1))"
      ],
      "id": "9GdUQblyLk7q"
    },
    {
      "cell_type": "code",
      "execution_count": null,
      "metadata": {
        "colab": {
          "base_uri": "https://localhost:8080/"
        },
        "id": "LKlXpbElMzxD",
        "outputId": "b9098aeb-9531-448a-b417-949fa61481d2"
      },
      "outputs": [
        {
          "name": "stdout",
          "output_type": "stream",
          "text": [
            "[[ 0 29 38]\n",
            " [16 42 18]]\n",
            "[[27 12]\n",
            " [ 6 37]\n",
            " [39 38]]\n"
          ]
        }
      ],
      "source": [
        "a5 = np.random.randint(50,size=(2,3))\n",
        "a6 = np.random.randint(50,size=(3,2))\n",
        "print(a5)\n",
        "print(a6)\n"
      ],
      "id": "LKlXpbElMzxD"
    },
    {
      "cell_type": "code",
      "execution_count": null,
      "metadata": {
        "id": "xfL3_GLTNUwg"
      },
      "outputs": [],
      "source": [
        "print(\"*********\")\n",
        "print(np.concatenate([a5,a6],axis=1))"
      ],
      "id": "xfL3_GLTNUwg"
    },
    {
      "cell_type": "code",
      "execution_count": null,
      "metadata": {
        "colab": {
          "base_uri": "https://localhost:8080/"
        },
        "id": "0K8xQEDWN0At",
        "outputId": "4bcc1b70-a13d-4207-b2ab-777f2c960e1e"
      },
      "outputs": [
        {
          "name": "stdout",
          "output_type": "stream",
          "text": [
            "[ 0  5 10 15 20 25 30 35]\n"
          ]
        }
      ],
      "source": [
        "a7 = np.arange(0,40,5)\n",
        "print(a7)"
      ],
      "id": "0K8xQEDWN0At"
    },
    {
      "cell_type": "code",
      "execution_count": null,
      "metadata": {
        "colab": {
          "base_uri": "https://localhost:8080/"
        },
        "id": "-X2QGGDIODqL",
        "outputId": "74654981-dc25-4fbd-b64f-b5304d7b7f8b"
      },
      "outputs": [
        {
          "name": "stdout",
          "output_type": "stream",
          "text": [
            "[40 45 50 55 60 65 70 75]\n"
          ]
        }
      ],
      "source": [
        "a8 = np.arange(40,80,5)\n",
        "print(a8)"
      ],
      "id": "-X2QGGDIODqL"
    },
    {
      "cell_type": "code",
      "execution_count": null,
      "metadata": {
        "colab": {
          "base_uri": "https://localhost:8080/"
        },
        "id": "_az0we7vOIOT",
        "outputId": "0f8986e3-0436-4251-9724-0d9941aec1d6"
      },
      "outputs": [
        {
          "name": "stdout",
          "output_type": "stream",
          "text": [
            "[[ 0  5 10 15 20 25 30 35]\n",
            " [40 45 50 55 60 65 70 75]]\n"
          ]
        }
      ],
      "source": [
        "print(np.stack([a7,a8]))"
      ],
      "id": "_az0we7vOIOT"
    },
    {
      "cell_type": "code",
      "execution_count": null,
      "metadata": {
        "colab": {
          "base_uri": "https://localhost:8080/"
        },
        "id": "n2nn8YF9Nj6F",
        "outputId": "363bc8a6-ca43-4e6a-9401-69c13ef68350"
      },
      "outputs": [
        {
          "data": {
            "text/plain": [
              "array([ 0,  5, 10, 15, 20, 25, 30, 35, 40, 45, 50, 55, 60, 65, 70, 75])"
            ]
          },
          "execution_count": 117,
          "metadata": {},
          "output_type": "execute_result"
        }
      ],
      "source": [
        "np.concatenate([a7,a8],axis=0)"
      ],
      "id": "n2nn8YF9Nj6F"
    },
    {
      "cell_type": "code",
      "execution_count": null,
      "metadata": {
        "colab": {
          "base_uri": "https://localhost:8080/"
        },
        "id": "1J2rROLeO-yZ",
        "outputId": "15605faf-253b-424c-cc1d-bc1fc23b6578"
      },
      "outputs": [
        {
          "name": "stdout",
          "output_type": "stream",
          "text": [
            "[ 0 10 20 30 40 50 60 70 80 90]\n"
          ]
        }
      ],
      "source": [
        "a9 = np.arange(0,100,10)\n",
        "print(a9)"
      ],
      "id": "1J2rROLeO-yZ"
    },
    {
      "cell_type": "code",
      "execution_count": null,
      "metadata": {
        "colab": {
          "base_uri": "https://localhost:8080/"
        },
        "id": "qmuoci9IPRcm",
        "outputId": "be876051-9826-417e-9dee-ca29bb70c4ef"
      },
      "outputs": [
        {
          "data": {
            "text/plain": [
              "array([[ 0, 10, 20, 30, 40],\n",
              "       [50, 60, 70, 80, 90]])"
            ]
          },
          "execution_count": 122,
          "metadata": {},
          "output_type": "execute_result"
        }
      ],
      "source": [
        "np.reshape(a9,(2,5))"
      ],
      "id": "qmuoci9IPRcm"
    },
    {
      "cell_type": "code",
      "execution_count": null,
      "metadata": {
        "colab": {
          "base_uri": "https://localhost:8080/"
        },
        "id": "2Oq9d1mbP0PK",
        "outputId": "59e1dc82-b91b-4dde-97be-3a20fc25b890"
      },
      "outputs": [
        {
          "data": {
            "text/plain": [
              "array([[ 0, 10],\n",
              "       [20, 30],\n",
              "       [40, 50],\n",
              "       [60, 70],\n",
              "       [80, 90]])"
            ]
          },
          "execution_count": 123,
          "metadata": {},
          "output_type": "execute_result"
        }
      ],
      "source": [
        "np.reshape(a9,(5,2))"
      ],
      "id": "2Oq9d1mbP0PK"
    },
    {
      "cell_type": "code",
      "execution_count": null,
      "metadata": {
        "colab": {
          "base_uri": "https://localhost:8080/"
        },
        "id": "s3EJg-0sP9XH",
        "outputId": "36da8766-8cd1-47d4-e9f3-fa4b645cfd4e"
      },
      "outputs": [
        {
          "data": {
            "text/plain": [
              "array([[ 0, 10, 20, 30, 40, 50, 60, 70, 80, 90]])"
            ]
          },
          "execution_count": 124,
          "metadata": {},
          "output_type": "execute_result"
        }
      ],
      "source": [
        "np.reshape(a9,(1,10))"
      ],
      "id": "s3EJg-0sP9XH"
    },
    {
      "cell_type": "code",
      "execution_count": null,
      "metadata": {
        "colab": {
          "base_uri": "https://localhost:8080/"
        },
        "id": "jOsc84mIQAAh",
        "outputId": "a9bdf4a4-83da-4dc1-a774-75c802a99d82"
      },
      "outputs": [
        {
          "data": {
            "text/plain": [
              "array([[ 0],\n",
              "       [10],\n",
              "       [20],\n",
              "       [30],\n",
              "       [40],\n",
              "       [50],\n",
              "       [60],\n",
              "       [70],\n",
              "       [80],\n",
              "       [90]])"
            ]
          },
          "execution_count": 125,
          "metadata": {},
          "output_type": "execute_result"
        }
      ],
      "source": [
        "np.reshape(a9,(10,1))"
      ],
      "id": "jOsc84mIQAAh"
    },
    {
      "cell_type": "code",
      "execution_count": null,
      "metadata": {
        "id": "EDuWk19AfUod"
      },
      "outputs": [],
      "source": [],
      "id": "EDuWk19AfUod"
    },
    {
      "cell_type": "code",
      "execution_count": null,
      "metadata": {
        "id": "AktvYg-hfUoe"
      },
      "outputs": [],
      "source": [],
      "id": "AktvYg-hfUoe"
    },
    {
      "cell_type": "markdown",
      "metadata": {
        "id": "8uijJE6DPCe1"
      },
      "source": [
        "# Data Indexing and Selection"
      ],
      "id": "8uijJE6DPCe1"
    },
    {
      "cell_type": "markdown",
      "metadata": {
        "id": "b_omQMvmPCe1"
      },
      "source": [
        "We'll start with the simple case of the one-dimensional ``Series`` object, and then move on to the more complicated two-dimesnional ``DataFrame`` object."
      ],
      "id": "b_omQMvmPCe1"
    },
    {
      "cell_type": "markdown",
      "metadata": {
        "id": "WD9miqZL-PId"
      },
      "source": [
        "## Dictionary"
      ],
      "id": "WD9miqZL-PId"
    },
    {
      "cell_type": "code",
      "execution_count": null,
      "metadata": {
        "colab": {
          "base_uri": "https://localhost:8080/"
        },
        "id": "LUJJ1zcE-Ndk",
        "outputId": "a0c7726c-291b-4dbd-84c9-414da520adf8"
      },
      "outputs": [
        {
          "name": "stdout",
          "output_type": "stream",
          "text": [
            "dict_keys(['sid', 'marks'])\n",
            "[1, 2, 3, 4, 5]\n",
            "[20, 21, 22, 23, 24]\n",
            "[1, 2, 3]\n",
            "[20, 21, 22]\n"
          ]
        }
      ],
      "source": [
        "Student = { 'sid':[1,2,3,4,5], 'marks':[20,21,22,23,24]}\n",
        "Student\n",
        "\n",
        "print(Student.keys())\n",
        "\n",
        "print(Student['sid'])\n",
        "print(Student['marks'])\n",
        "\n",
        "print(Student['sid'][0:3])\n",
        "print(Student['marks'][0:3])\n",
        "\n"
      ],
      "id": "LUJJ1zcE-Ndk"
    },
    {
      "cell_type": "markdown",
      "metadata": {
        "id": "01a4VFrS_J6z"
      },
      "source": [
        "## Create a Dataframe from dictionary"
      ],
      "id": "01a4VFrS_J6z"
    },
    {
      "cell_type": "code",
      "execution_count": null,
      "metadata": {
        "colab": {
          "base_uri": "https://localhost:8080/",
          "height": 206
        },
        "id": "5wvkov0J-8wW",
        "outputId": "e6029cab-6745-4aec-bee8-385c5051c6b8"
      },
      "outputs": [
        {
          "data": {
            "text/html": [
              "\n",
              "  <div id=\"df-d7a44df2-b96a-467b-8007-3992c58753fc\">\n",
              "    <div class=\"colab-df-container\">\n",
              "      <div>\n",
              "<style scoped>\n",
              "    .dataframe tbody tr th:only-of-type {\n",
              "        vertical-align: middle;\n",
              "    }\n",
              "\n",
              "    .dataframe tbody tr th {\n",
              "        vertical-align: top;\n",
              "    }\n",
              "\n",
              "    .dataframe thead th {\n",
              "        text-align: right;\n",
              "    }\n",
              "</style>\n",
              "<table border=\"1\" class=\"dataframe\">\n",
              "  <thead>\n",
              "    <tr style=\"text-align: right;\">\n",
              "      <th></th>\n",
              "      <th>sid</th>\n",
              "      <th>marks</th>\n",
              "    </tr>\n",
              "  </thead>\n",
              "  <tbody>\n",
              "    <tr>\n",
              "      <th>0</th>\n",
              "      <td>1</td>\n",
              "      <td>20</td>\n",
              "    </tr>\n",
              "    <tr>\n",
              "      <th>1</th>\n",
              "      <td>2</td>\n",
              "      <td>21</td>\n",
              "    </tr>\n",
              "    <tr>\n",
              "      <th>2</th>\n",
              "      <td>3</td>\n",
              "      <td>22</td>\n",
              "    </tr>\n",
              "    <tr>\n",
              "      <th>3</th>\n",
              "      <td>4</td>\n",
              "      <td>23</td>\n",
              "    </tr>\n",
              "    <tr>\n",
              "      <th>4</th>\n",
              "      <td>5</td>\n",
              "      <td>24</td>\n",
              "    </tr>\n",
              "  </tbody>\n",
              "</table>\n",
              "</div>\n",
              "      <button class=\"colab-df-convert\" onclick=\"convertToInteractive('df-d7a44df2-b96a-467b-8007-3992c58753fc')\"\n",
              "              title=\"Convert this dataframe to an interactive table.\"\n",
              "              style=\"display:none;\">\n",
              "        \n",
              "  <svg xmlns=\"http://www.w3.org/2000/svg\" height=\"24px\"viewBox=\"0 0 24 24\"\n",
              "       width=\"24px\">\n",
              "    <path d=\"M0 0h24v24H0V0z\" fill=\"none\"/>\n",
              "    <path d=\"M18.56 5.44l.94 2.06.94-2.06 2.06-.94-2.06-.94-.94-2.06-.94 2.06-2.06.94zm-11 1L8.5 8.5l.94-2.06 2.06-.94-2.06-.94L8.5 2.5l-.94 2.06-2.06.94zm10 10l.94 2.06.94-2.06 2.06-.94-2.06-.94-.94-2.06-.94 2.06-2.06.94z\"/><path d=\"M17.41 7.96l-1.37-1.37c-.4-.4-.92-.59-1.43-.59-.52 0-1.04.2-1.43.59L10.3 9.45l-7.72 7.72c-.78.78-.78 2.05 0 2.83L4 21.41c.39.39.9.59 1.41.59.51 0 1.02-.2 1.41-.59l7.78-7.78 2.81-2.81c.8-.78.8-2.07 0-2.86zM5.41 20L4 18.59l7.72-7.72 1.47 1.35L5.41 20z\"/>\n",
              "  </svg>\n",
              "      </button>\n",
              "      \n",
              "  <style>\n",
              "    .colab-df-container {\n",
              "      display:flex;\n",
              "      flex-wrap:wrap;\n",
              "      gap: 12px;\n",
              "    }\n",
              "\n",
              "    .colab-df-convert {\n",
              "      background-color: #E8F0FE;\n",
              "      border: none;\n",
              "      border-radius: 50%;\n",
              "      cursor: pointer;\n",
              "      display: none;\n",
              "      fill: #1967D2;\n",
              "      height: 32px;\n",
              "      padding: 0 0 0 0;\n",
              "      width: 32px;\n",
              "    }\n",
              "\n",
              "    .colab-df-convert:hover {\n",
              "      background-color: #E2EBFA;\n",
              "      box-shadow: 0px 1px 2px rgba(60, 64, 67, 0.3), 0px 1px 3px 1px rgba(60, 64, 67, 0.15);\n",
              "      fill: #174EA6;\n",
              "    }\n",
              "\n",
              "    [theme=dark] .colab-df-convert {\n",
              "      background-color: #3B4455;\n",
              "      fill: #D2E3FC;\n",
              "    }\n",
              "\n",
              "    [theme=dark] .colab-df-convert:hover {\n",
              "      background-color: #434B5C;\n",
              "      box-shadow: 0px 1px 3px 1px rgba(0, 0, 0, 0.15);\n",
              "      filter: drop-shadow(0px 1px 2px rgba(0, 0, 0, 0.3));\n",
              "      fill: #FFFFFF;\n",
              "    }\n",
              "  </style>\n",
              "\n",
              "      <script>\n",
              "        const buttonEl =\n",
              "          document.querySelector('#df-d7a44df2-b96a-467b-8007-3992c58753fc button.colab-df-convert');\n",
              "        buttonEl.style.display =\n",
              "          google.colab.kernel.accessAllowed ? 'block' : 'none';\n",
              "\n",
              "        async function convertToInteractive(key) {\n",
              "          const element = document.querySelector('#df-d7a44df2-b96a-467b-8007-3992c58753fc');\n",
              "          const dataTable =\n",
              "            await google.colab.kernel.invokeFunction('convertToInteractive',\n",
              "                                                     [key], {});\n",
              "          if (!dataTable) return;\n",
              "\n",
              "          const docLinkHtml = 'Like what you see? Visit the ' +\n",
              "            '<a target=\"_blank\" href=https://colab.research.google.com/notebooks/data_table.ipynb>data table notebook</a>'\n",
              "            + ' to learn more about interactive tables.';\n",
              "          element.innerHTML = '';\n",
              "          dataTable['output_type'] = 'display_data';\n",
              "          await google.colab.output.renderOutput(dataTable, element);\n",
              "          const docLink = document.createElement('div');\n",
              "          docLink.innerHTML = docLinkHtml;\n",
              "          element.appendChild(docLink);\n",
              "        }\n",
              "      </script>\n",
              "    </div>\n",
              "  </div>\n",
              "  "
            ],
            "text/plain": [
              "   sid  marks\n",
              "0    1     20\n",
              "1    2     21\n",
              "2    3     22\n",
              "3    4     23\n",
              "4    5     24"
            ]
          },
          "execution_count": 12,
          "metadata": {},
          "output_type": "execute_result"
        }
      ],
      "source": [
        "import pandas as pd\n",
        "student_df = pd.DataFrame(Student)\n",
        "student_df"
      ],
      "id": "5wvkov0J-8wW"
    },
    {
      "cell_type": "markdown",
      "metadata": {
        "id": "q3pvABc1PCe2"
      },
      "source": [
        "##Series\n",
        "\n"
      ],
      "id": "q3pvABc1PCe2"
    },
    {
      "cell_type": "markdown",
      "metadata": {
        "id": "FU5Zfj7UPCe3"
      },
      "source": [
        "### create a Series\n",
        "\n",
        "Like a dictionary, the ``Series`` object provides a mapping from a collection of keys to a collection of values:"
      ],
      "id": "FU5Zfj7UPCe3"
    },
    {
      "cell_type": "code",
      "execution_count": null,
      "metadata": {
        "colab": {
          "base_uri": "https://localhost:8080/"
        },
        "id": "THQs_a9IPCe5",
        "outputId": "6b02b1db-9f0b-4df0-ef39-a0f05a2368c7"
      },
      "outputs": [
        {
          "name": "stdout",
          "output_type": "stream",
          "text": [
            "a    0.25\n",
            "b    0.50\n",
            "c    0.75\n",
            "d    1.00\n",
            "dtype: float64\n"
          ]
        }
      ],
      "source": [
        "data = pd.Series([0.25, 0.5, 0.75, 1.0],\n",
        "                 index=['a', 'b', 'c', 'd'])\n",
        "data\n",
        "print(data)"
      ],
      "id": "THQs_a9IPCe5"
    },
    {
      "cell_type": "code",
      "execution_count": null,
      "metadata": {
        "colab": {
          "base_uri": "https://localhost:8080/"
        },
        "id": "slzg_UjRPCe-",
        "outputId": "1fb27c3e-dc31-419d-e4ca-5f86abb89665"
      },
      "outputs": [
        {
          "name": "stdout",
          "output_type": "stream",
          "text": [
            "[('1', 20), ('2', 21), ('3', 22), ('4', 23), ('5', 24)]\n"
          ]
        }
      ],
      "source": [
        "#data.items\n",
        "print(list(data.items()))"
      ],
      "id": "slzg_UjRPCe-"
    },
    {
      "cell_type": "markdown",
      "metadata": {
        "id": "m0P-gT3SPCe_"
      },
      "source": [
        "``Series`` objects can even be modified with a dictionary-like syntax.\n",
        "Just as you can extend a dictionary by assigning to a new key, you can extend a ``Series`` by assigning to a new index value:"
      ],
      "id": "m0P-gT3SPCe_"
    },
    {
      "cell_type": "markdown",
      "metadata": {
        "id": "cAM_zfblPCfA"
      },
      "source": [
        "### Access Series "
      ],
      "id": "cAM_zfblPCfA"
    },
    {
      "cell_type": "markdown",
      "metadata": {
        "id": "MzsdaoFePCfB"
      },
      "source": [
        "A ``Series`` builds on this dictionary-like interface and provides array-style item selection via the same basic mechanisms as NumPy arrays – that is, *slices*, *masking*, and *fancy indexing*.\n",
        "Examples of these are as follows:"
      ],
      "id": "MzsdaoFePCfB"
    },
    {
      "cell_type": "code",
      "execution_count": null,
      "metadata": {
        "colab": {
          "base_uri": "https://localhost:8080/"
        },
        "id": "0C81iHs0PCfB",
        "outputId": "1bfb3464-c089-472e-8631-05b67b104965"
      },
      "outputs": [
        {
          "data": {
            "text/plain": [
              "Series([], dtype: float64)"
            ]
          },
          "execution_count": 39,
          "metadata": {},
          "output_type": "execute_result"
        }
      ],
      "source": [
        "# slicing by explicit index\n",
        "data['a':'c']\n"
      ],
      "id": "0C81iHs0PCfB"
    },
    {
      "cell_type": "code",
      "execution_count": null,
      "metadata": {
        "colab": {
          "base_uri": "https://localhost:8080/"
        },
        "id": "doLusbXSPCfC",
        "outputId": "4e0be4ee-0370-4d29-e33b-3ff5a56c5588"
      },
      "outputs": [
        {
          "data": {
            "text/plain": [
              "1    20.0\n",
              "2    21.0\n",
              "dtype: float64"
            ]
          },
          "execution_count": 40,
          "metadata": {},
          "output_type": "execute_result"
        }
      ],
      "source": [
        "# slicing by implicit integer index\n",
        "data[0:2]"
      ],
      "id": "doLusbXSPCfC"
    },
    {
      "cell_type": "markdown",
      "metadata": {
        "id": "ae8TV21lMEJh"
      },
      "source": [
        "### "
      ],
      "id": "ae8TV21lMEJh"
    },
    {
      "cell_type": "code",
      "execution_count": null,
      "metadata": {
        "colab": {
          "base_uri": "https://localhost:8080/"
        },
        "id": "iJAEcrdzMC0V",
        "outputId": "b1ab0553-f2d6-4aa4-ad85-c854531e21c8"
      },
      "outputs": [
        {
          "data": {
            "text/plain": [
              "California    423967\n",
              "Texas         695662\n",
              "New York      141297\n",
              "Florida       170312\n",
              "Illinois      149995\n",
              "dtype: int64"
            ]
          },
          "execution_count": 75,
          "metadata": {},
          "output_type": "execute_result"
        }
      ],
      "source": [
        "area = pd.Series({'California': 423967, 'Texas': 695662,\n",
        "                  'New York': 141297, 'Florida': 170312,\n",
        "                  'Illinois': 149995})\n",
        "area"
      ],
      "id": "iJAEcrdzMC0V"
    },
    {
      "cell_type": "markdown",
      "metadata": {
        "id": "WuAWZHd5PCfJ"
      },
      "source": [
        "## Create a DataFrame from Series\n",
        "\n",
        "Recall that a ``DataFrame`` acts in many ways like a two-dimensional or structured array, and in other ways like a dictionary of ``Series`` structures sharing the same index.\n",
        "These analogies can be helpful to keep in mind as we explore data selection within this structure."
      ],
      "id": "WuAWZHd5PCfJ"
    },
    {
      "cell_type": "markdown",
      "metadata": {
        "id": "nIPAlAa7PCfK"
      },
      "source": [
        "### DataFrame as a dictionary\n",
        "\n",
        "The first analogy we will consider is the ``DataFrame`` as a dictionary of related ``Series`` objects.\n",
        "Let's return to our example of areas and populations of states:"
      ],
      "id": "nIPAlAa7PCfK"
    },
    {
      "cell_type": "code",
      "execution_count": null,
      "metadata": {
        "colab": {
          "base_uri": "https://localhost:8080/",
          "height": 206
        },
        "id": "_vzsTlJ7PCfK",
        "outputId": "f7c3e736-6d68-4753-9170-9f3f480a1c6e"
      },
      "outputs": [
        {
          "data": {
            "text/html": [
              "\n",
              "  <div id=\"df-50706b9f-4b9c-4af9-b613-7eda14b2f101\">\n",
              "    <div class=\"colab-df-container\">\n",
              "      <div>\n",
              "<style scoped>\n",
              "    .dataframe tbody tr th:only-of-type {\n",
              "        vertical-align: middle;\n",
              "    }\n",
              "\n",
              "    .dataframe tbody tr th {\n",
              "        vertical-align: top;\n",
              "    }\n",
              "\n",
              "    .dataframe thead th {\n",
              "        text-align: right;\n",
              "    }\n",
              "</style>\n",
              "<table border=\"1\" class=\"dataframe\">\n",
              "  <thead>\n",
              "    <tr style=\"text-align: right;\">\n",
              "      <th></th>\n",
              "      <th>area</th>\n",
              "      <th>pop</th>\n",
              "    </tr>\n",
              "  </thead>\n",
              "  <tbody>\n",
              "    <tr>\n",
              "      <th>California</th>\n",
              "      <td>423967</td>\n",
              "      <td>38332521</td>\n",
              "    </tr>\n",
              "    <tr>\n",
              "      <th>Texas</th>\n",
              "      <td>695662</td>\n",
              "      <td>26448193</td>\n",
              "    </tr>\n",
              "    <tr>\n",
              "      <th>New York</th>\n",
              "      <td>141297</td>\n",
              "      <td>19651127</td>\n",
              "    </tr>\n",
              "    <tr>\n",
              "      <th>Florida</th>\n",
              "      <td>170312</td>\n",
              "      <td>19552860</td>\n",
              "    </tr>\n",
              "    <tr>\n",
              "      <th>Illinois</th>\n",
              "      <td>149995</td>\n",
              "      <td>12882135</td>\n",
              "    </tr>\n",
              "  </tbody>\n",
              "</table>\n",
              "</div>\n",
              "      <button class=\"colab-df-convert\" onclick=\"convertToInteractive('df-50706b9f-4b9c-4af9-b613-7eda14b2f101')\"\n",
              "              title=\"Convert this dataframe to an interactive table.\"\n",
              "              style=\"display:none;\">\n",
              "        \n",
              "  <svg xmlns=\"http://www.w3.org/2000/svg\" height=\"24px\"viewBox=\"0 0 24 24\"\n",
              "       width=\"24px\">\n",
              "    <path d=\"M0 0h24v24H0V0z\" fill=\"none\"/>\n",
              "    <path d=\"M18.56 5.44l.94 2.06.94-2.06 2.06-.94-2.06-.94-.94-2.06-.94 2.06-2.06.94zm-11 1L8.5 8.5l.94-2.06 2.06-.94-2.06-.94L8.5 2.5l-.94 2.06-2.06.94zm10 10l.94 2.06.94-2.06 2.06-.94-2.06-.94-.94-2.06-.94 2.06-2.06.94z\"/><path d=\"M17.41 7.96l-1.37-1.37c-.4-.4-.92-.59-1.43-.59-.52 0-1.04.2-1.43.59L10.3 9.45l-7.72 7.72c-.78.78-.78 2.05 0 2.83L4 21.41c.39.39.9.59 1.41.59.51 0 1.02-.2 1.41-.59l7.78-7.78 2.81-2.81c.8-.78.8-2.07 0-2.86zM5.41 20L4 18.59l7.72-7.72 1.47 1.35L5.41 20z\"/>\n",
              "  </svg>\n",
              "      </button>\n",
              "      \n",
              "  <style>\n",
              "    .colab-df-container {\n",
              "      display:flex;\n",
              "      flex-wrap:wrap;\n",
              "      gap: 12px;\n",
              "    }\n",
              "\n",
              "    .colab-df-convert {\n",
              "      background-color: #E8F0FE;\n",
              "      border: none;\n",
              "      border-radius: 50%;\n",
              "      cursor: pointer;\n",
              "      display: none;\n",
              "      fill: #1967D2;\n",
              "      height: 32px;\n",
              "      padding: 0 0 0 0;\n",
              "      width: 32px;\n",
              "    }\n",
              "\n",
              "    .colab-df-convert:hover {\n",
              "      background-color: #E2EBFA;\n",
              "      box-shadow: 0px 1px 2px rgba(60, 64, 67, 0.3), 0px 1px 3px 1px rgba(60, 64, 67, 0.15);\n",
              "      fill: #174EA6;\n",
              "    }\n",
              "\n",
              "    [theme=dark] .colab-df-convert {\n",
              "      background-color: #3B4455;\n",
              "      fill: #D2E3FC;\n",
              "    }\n",
              "\n",
              "    [theme=dark] .colab-df-convert:hover {\n",
              "      background-color: #434B5C;\n",
              "      box-shadow: 0px 1px 3px 1px rgba(0, 0, 0, 0.15);\n",
              "      filter: drop-shadow(0px 1px 2px rgba(0, 0, 0, 0.3));\n",
              "      fill: #FFFFFF;\n",
              "    }\n",
              "  </style>\n",
              "\n",
              "      <script>\n",
              "        const buttonEl =\n",
              "          document.querySelector('#df-50706b9f-4b9c-4af9-b613-7eda14b2f101 button.colab-df-convert');\n",
              "        buttonEl.style.display =\n",
              "          google.colab.kernel.accessAllowed ? 'block' : 'none';\n",
              "\n",
              "        async function convertToInteractive(key) {\n",
              "          const element = document.querySelector('#df-50706b9f-4b9c-4af9-b613-7eda14b2f101');\n",
              "          const dataTable =\n",
              "            await google.colab.kernel.invokeFunction('convertToInteractive',\n",
              "                                                     [key], {});\n",
              "          if (!dataTable) return;\n",
              "\n",
              "          const docLinkHtml = 'Like what you see? Visit the ' +\n",
              "            '<a target=\"_blank\" href=https://colab.research.google.com/notebooks/data_table.ipynb>data table notebook</a>'\n",
              "            + ' to learn more about interactive tables.';\n",
              "          element.innerHTML = '';\n",
              "          dataTable['output_type'] = 'display_data';\n",
              "          await google.colab.output.renderOutput(dataTable, element);\n",
              "          const docLink = document.createElement('div');\n",
              "          docLink.innerHTML = docLinkHtml;\n",
              "          element.appendChild(docLink);\n",
              "        }\n",
              "      </script>\n",
              "    </div>\n",
              "  </div>\n",
              "  "
            ],
            "text/plain": [
              "              area       pop\n",
              "California  423967  38332521\n",
              "Texas       695662  26448193\n",
              "New York    141297  19651127\n",
              "Florida     170312  19552860\n",
              "Illinois    149995  12882135"
            ]
          },
          "execution_count": 78,
          "metadata": {},
          "output_type": "execute_result"
        }
      ],
      "source": [
        "area = pd.Series({'California': 423967, 'Texas': 695662,\n",
        "                  'New York': 141297, 'Florida': 170312,\n",
        "                  'Illinois': 149995})\n",
        "pop = pd.Series({'California': 38332521, 'Texas': 26448193,\n",
        "                 'New York': 19651127, 'Florida': 19552860,\n",
        "                 'Illinois': 12882135})\n",
        "data = pd.DataFrame({'area':area, 'pop':pop})\n",
        "data"
      ],
      "id": "_vzsTlJ7PCfK"
    },
    {
      "cell_type": "markdown",
      "metadata": {
        "id": "xxazcaVaPCfK"
      },
      "source": [
        "The individual ``Series`` that make up the columns of the ``DataFrame`` can be accessed via dictionary-style indexing of the column name:"
      ],
      "id": "xxazcaVaPCfK"
    },
    {
      "cell_type": "code",
      "execution_count": null,
      "metadata": {
        "colab": {
          "base_uri": "https://localhost:8080/"
        },
        "id": "ajNlZBIsPCfL",
        "outputId": "e1b4eba3-817d-4736-eb96-1f1a08dff5f6"
      },
      "outputs": [
        {
          "data": {
            "text/plain": [
              "California    423967\n",
              "Texas         695662\n",
              "New York      141297\n",
              "Florida       170312\n",
              "Illinois      149995\n",
              "Name: area, dtype: int64"
            ]
          },
          "execution_count": 79,
          "metadata": {},
          "output_type": "execute_result"
        }
      ],
      "source": [
        "data['area']"
      ],
      "id": "ajNlZBIsPCfL"
    },
    {
      "cell_type": "markdown",
      "metadata": {
        "id": "1pedP0nLPCfL"
      },
      "source": [
        "Equivalently, we can use attribute-style access with column names that are strings:"
      ],
      "id": "1pedP0nLPCfL"
    },
    {
      "cell_type": "code",
      "execution_count": null,
      "metadata": {
        "colab": {
          "base_uri": "https://localhost:8080/"
        },
        "id": "Swp_5rSnPCfL",
        "outputId": "a41af9a3-d28a-4336-814d-20f234c51058"
      },
      "outputs": [
        {
          "data": {
            "text/plain": [
              "California    423967\n",
              "Texas         695662\n",
              "New York      141297\n",
              "Florida       170312\n",
              "Illinois      149995\n",
              "Name: area, dtype: int64"
            ]
          },
          "execution_count": 80,
          "metadata": {},
          "output_type": "execute_result"
        }
      ],
      "source": [
        "data.area"
      ],
      "id": "Swp_5rSnPCfL"
    },
    {
      "cell_type": "code",
      "execution_count": null,
      "metadata": {
        "colab": {
          "base_uri": "https://localhost:8080/",
          "height": 206
        },
        "id": "1fDRTw-MPCfN",
        "outputId": "8bdf5b7d-c8bf-4060-bfd1-2c0995d053ae"
      },
      "outputs": [
        {
          "data": {
            "text/html": [
              "\n",
              "  <div id=\"df-ea022ccc-43dc-454e-a484-992f01306339\">\n",
              "    <div class=\"colab-df-container\">\n",
              "      <div>\n",
              "<style scoped>\n",
              "    .dataframe tbody tr th:only-of-type {\n",
              "        vertical-align: middle;\n",
              "    }\n",
              "\n",
              "    .dataframe tbody tr th {\n",
              "        vertical-align: top;\n",
              "    }\n",
              "\n",
              "    .dataframe thead th {\n",
              "        text-align: right;\n",
              "    }\n",
              "</style>\n",
              "<table border=\"1\" class=\"dataframe\">\n",
              "  <thead>\n",
              "    <tr style=\"text-align: right;\">\n",
              "      <th></th>\n",
              "      <th>area</th>\n",
              "      <th>pop</th>\n",
              "      <th>density</th>\n",
              "    </tr>\n",
              "  </thead>\n",
              "  <tbody>\n",
              "    <tr>\n",
              "      <th>California</th>\n",
              "      <td>423967</td>\n",
              "      <td>38332521</td>\n",
              "      <td>90.413926</td>\n",
              "    </tr>\n",
              "    <tr>\n",
              "      <th>Texas</th>\n",
              "      <td>695662</td>\n",
              "      <td>26448193</td>\n",
              "      <td>38.018740</td>\n",
              "    </tr>\n",
              "    <tr>\n",
              "      <th>New York</th>\n",
              "      <td>141297</td>\n",
              "      <td>19651127</td>\n",
              "      <td>139.076746</td>\n",
              "    </tr>\n",
              "    <tr>\n",
              "      <th>Florida</th>\n",
              "      <td>170312</td>\n",
              "      <td>19552860</td>\n",
              "      <td>114.806121</td>\n",
              "    </tr>\n",
              "    <tr>\n",
              "      <th>Illinois</th>\n",
              "      <td>149995</td>\n",
              "      <td>12882135</td>\n",
              "      <td>85.883763</td>\n",
              "    </tr>\n",
              "  </tbody>\n",
              "</table>\n",
              "</div>\n",
              "      <button class=\"colab-df-convert\" onclick=\"convertToInteractive('df-ea022ccc-43dc-454e-a484-992f01306339')\"\n",
              "              title=\"Convert this dataframe to an interactive table.\"\n",
              "              style=\"display:none;\">\n",
              "        \n",
              "  <svg xmlns=\"http://www.w3.org/2000/svg\" height=\"24px\"viewBox=\"0 0 24 24\"\n",
              "       width=\"24px\">\n",
              "    <path d=\"M0 0h24v24H0V0z\" fill=\"none\"/>\n",
              "    <path d=\"M18.56 5.44l.94 2.06.94-2.06 2.06-.94-2.06-.94-.94-2.06-.94 2.06-2.06.94zm-11 1L8.5 8.5l.94-2.06 2.06-.94-2.06-.94L8.5 2.5l-.94 2.06-2.06.94zm10 10l.94 2.06.94-2.06 2.06-.94-2.06-.94-.94-2.06-.94 2.06-2.06.94z\"/><path d=\"M17.41 7.96l-1.37-1.37c-.4-.4-.92-.59-1.43-.59-.52 0-1.04.2-1.43.59L10.3 9.45l-7.72 7.72c-.78.78-.78 2.05 0 2.83L4 21.41c.39.39.9.59 1.41.59.51 0 1.02-.2 1.41-.59l7.78-7.78 2.81-2.81c.8-.78.8-2.07 0-2.86zM5.41 20L4 18.59l7.72-7.72 1.47 1.35L5.41 20z\"/>\n",
              "  </svg>\n",
              "      </button>\n",
              "      \n",
              "  <style>\n",
              "    .colab-df-container {\n",
              "      display:flex;\n",
              "      flex-wrap:wrap;\n",
              "      gap: 12px;\n",
              "    }\n",
              "\n",
              "    .colab-df-convert {\n",
              "      background-color: #E8F0FE;\n",
              "      border: none;\n",
              "      border-radius: 50%;\n",
              "      cursor: pointer;\n",
              "      display: none;\n",
              "      fill: #1967D2;\n",
              "      height: 32px;\n",
              "      padding: 0 0 0 0;\n",
              "      width: 32px;\n",
              "    }\n",
              "\n",
              "    .colab-df-convert:hover {\n",
              "      background-color: #E2EBFA;\n",
              "      box-shadow: 0px 1px 2px rgba(60, 64, 67, 0.3), 0px 1px 3px 1px rgba(60, 64, 67, 0.15);\n",
              "      fill: #174EA6;\n",
              "    }\n",
              "\n",
              "    [theme=dark] .colab-df-convert {\n",
              "      background-color: #3B4455;\n",
              "      fill: #D2E3FC;\n",
              "    }\n",
              "\n",
              "    [theme=dark] .colab-df-convert:hover {\n",
              "      background-color: #434B5C;\n",
              "      box-shadow: 0px 1px 3px 1px rgba(0, 0, 0, 0.15);\n",
              "      filter: drop-shadow(0px 1px 2px rgba(0, 0, 0, 0.3));\n",
              "      fill: #FFFFFF;\n",
              "    }\n",
              "  </style>\n",
              "\n",
              "      <script>\n",
              "        const buttonEl =\n",
              "          document.querySelector('#df-ea022ccc-43dc-454e-a484-992f01306339 button.colab-df-convert');\n",
              "        buttonEl.style.display =\n",
              "          google.colab.kernel.accessAllowed ? 'block' : 'none';\n",
              "\n",
              "        async function convertToInteractive(key) {\n",
              "          const element = document.querySelector('#df-ea022ccc-43dc-454e-a484-992f01306339');\n",
              "          const dataTable =\n",
              "            await google.colab.kernel.invokeFunction('convertToInteractive',\n",
              "                                                     [key], {});\n",
              "          if (!dataTable) return;\n",
              "\n",
              "          const docLinkHtml = 'Like what you see? Visit the ' +\n",
              "            '<a target=\"_blank\" href=https://colab.research.google.com/notebooks/data_table.ipynb>data table notebook</a>'\n",
              "            + ' to learn more about interactive tables.';\n",
              "          element.innerHTML = '';\n",
              "          dataTable['output_type'] = 'display_data';\n",
              "          await google.colab.output.renderOutput(dataTable, element);\n",
              "          const docLink = document.createElement('div');\n",
              "          docLink.innerHTML = docLinkHtml;\n",
              "          element.appendChild(docLink);\n",
              "        }\n",
              "      </script>\n",
              "    </div>\n",
              "  </div>\n",
              "  "
            ],
            "text/plain": [
              "              area       pop     density\n",
              "California  423967  38332521   90.413926\n",
              "Texas       695662  26448193   38.018740\n",
              "New York    141297  19651127  139.076746\n",
              "Florida     170312  19552860  114.806121\n",
              "Illinois    149995  12882135   85.883763"
            ]
          },
          "execution_count": 81,
          "metadata": {},
          "output_type": "execute_result"
        }
      ],
      "source": [
        "data['density'] = data['pop'] / data['area']\n",
        "data"
      ],
      "id": "1fDRTw-MPCfN"
    },
    {
      "cell_type": "markdown",
      "metadata": {
        "id": "iQDN3FwOPCfN"
      },
      "source": [
        "### DataFrame as two-dimensional array\n",
        "\n",
        "As mentioned previously, we can also view the ``DataFrame`` as an enhanced two-dimensional array.\n",
        "We can examine the raw underlying data array using the ``values`` attribute:"
      ],
      "id": "iQDN3FwOPCfN"
    },
    {
      "cell_type": "code",
      "execution_count": null,
      "metadata": {
        "colab": {
          "base_uri": "https://localhost:8080/"
        },
        "id": "1SoTVncsPCfN",
        "outputId": "de2a9546-74fe-4f71-b5f1-19f8c1e30308"
      },
      "outputs": [
        {
          "data": {
            "text/plain": [
              "array([[4.23967000e+05, 3.83325210e+07, 9.04139261e+01],\n",
              "       [6.95662000e+05, 2.64481930e+07, 3.80187404e+01],\n",
              "       [1.41297000e+05, 1.96511270e+07, 1.39076746e+02],\n",
              "       [1.70312000e+05, 1.95528600e+07, 1.14806121e+02],\n",
              "       [1.49995000e+05, 1.28821350e+07, 8.58837628e+01]])"
            ]
          },
          "execution_count": 82,
          "metadata": {},
          "output_type": "execute_result"
        }
      ],
      "source": [
        "data.values"
      ],
      "id": "1SoTVncsPCfN"
    },
    {
      "cell_type": "markdown",
      "metadata": {
        "id": "ugOFZZK0PCfQ"
      },
      "source": [
        "With this picture in mind, many familiar array-like observations can be done on the ``DataFrame`` itself.\n",
        "For example, we can transpose the full ``DataFrame`` to swap rows and columns:"
      ],
      "id": "ugOFZZK0PCfQ"
    },
    {
      "cell_type": "code",
      "execution_count": null,
      "metadata": {
        "colab": {
          "base_uri": "https://localhost:8080/",
          "height": 143
        },
        "id": "WdrDp-88PCfQ",
        "outputId": "d33967e4-1ebe-4dce-9af2-871903b611cf"
      },
      "outputs": [
        {
          "data": {
            "text/html": [
              "\n",
              "  <div id=\"df-84b0b969-060b-43da-a242-00508ca37013\">\n",
              "    <div class=\"colab-df-container\">\n",
              "      <div>\n",
              "<style scoped>\n",
              "    .dataframe tbody tr th:only-of-type {\n",
              "        vertical-align: middle;\n",
              "    }\n",
              "\n",
              "    .dataframe tbody tr th {\n",
              "        vertical-align: top;\n",
              "    }\n",
              "\n",
              "    .dataframe thead th {\n",
              "        text-align: right;\n",
              "    }\n",
              "</style>\n",
              "<table border=\"1\" class=\"dataframe\">\n",
              "  <thead>\n",
              "    <tr style=\"text-align: right;\">\n",
              "      <th></th>\n",
              "      <th>California</th>\n",
              "      <th>Texas</th>\n",
              "      <th>New York</th>\n",
              "      <th>Florida</th>\n",
              "      <th>Illinois</th>\n",
              "    </tr>\n",
              "  </thead>\n",
              "  <tbody>\n",
              "    <tr>\n",
              "      <th>area</th>\n",
              "      <td>4.239670e+05</td>\n",
              "      <td>6.956620e+05</td>\n",
              "      <td>1.412970e+05</td>\n",
              "      <td>1.703120e+05</td>\n",
              "      <td>1.499950e+05</td>\n",
              "    </tr>\n",
              "    <tr>\n",
              "      <th>pop</th>\n",
              "      <td>3.833252e+07</td>\n",
              "      <td>2.644819e+07</td>\n",
              "      <td>1.965113e+07</td>\n",
              "      <td>1.955286e+07</td>\n",
              "      <td>1.288214e+07</td>\n",
              "    </tr>\n",
              "    <tr>\n",
              "      <th>density</th>\n",
              "      <td>9.041393e+01</td>\n",
              "      <td>3.801874e+01</td>\n",
              "      <td>1.390767e+02</td>\n",
              "      <td>1.148061e+02</td>\n",
              "      <td>8.588376e+01</td>\n",
              "    </tr>\n",
              "  </tbody>\n",
              "</table>\n",
              "</div>\n",
              "      <button class=\"colab-df-convert\" onclick=\"convertToInteractive('df-84b0b969-060b-43da-a242-00508ca37013')\"\n",
              "              title=\"Convert this dataframe to an interactive table.\"\n",
              "              style=\"display:none;\">\n",
              "        \n",
              "  <svg xmlns=\"http://www.w3.org/2000/svg\" height=\"24px\"viewBox=\"0 0 24 24\"\n",
              "       width=\"24px\">\n",
              "    <path d=\"M0 0h24v24H0V0z\" fill=\"none\"/>\n",
              "    <path d=\"M18.56 5.44l.94 2.06.94-2.06 2.06-.94-2.06-.94-.94-2.06-.94 2.06-2.06.94zm-11 1L8.5 8.5l.94-2.06 2.06-.94-2.06-.94L8.5 2.5l-.94 2.06-2.06.94zm10 10l.94 2.06.94-2.06 2.06-.94-2.06-.94-.94-2.06-.94 2.06-2.06.94z\"/><path d=\"M17.41 7.96l-1.37-1.37c-.4-.4-.92-.59-1.43-.59-.52 0-1.04.2-1.43.59L10.3 9.45l-7.72 7.72c-.78.78-.78 2.05 0 2.83L4 21.41c.39.39.9.59 1.41.59.51 0 1.02-.2 1.41-.59l7.78-7.78 2.81-2.81c.8-.78.8-2.07 0-2.86zM5.41 20L4 18.59l7.72-7.72 1.47 1.35L5.41 20z\"/>\n",
              "  </svg>\n",
              "      </button>\n",
              "      \n",
              "  <style>\n",
              "    .colab-df-container {\n",
              "      display:flex;\n",
              "      flex-wrap:wrap;\n",
              "      gap: 12px;\n",
              "    }\n",
              "\n",
              "    .colab-df-convert {\n",
              "      background-color: #E8F0FE;\n",
              "      border: none;\n",
              "      border-radius: 50%;\n",
              "      cursor: pointer;\n",
              "      display: none;\n",
              "      fill: #1967D2;\n",
              "      height: 32px;\n",
              "      padding: 0 0 0 0;\n",
              "      width: 32px;\n",
              "    }\n",
              "\n",
              "    .colab-df-convert:hover {\n",
              "      background-color: #E2EBFA;\n",
              "      box-shadow: 0px 1px 2px rgba(60, 64, 67, 0.3), 0px 1px 3px 1px rgba(60, 64, 67, 0.15);\n",
              "      fill: #174EA6;\n",
              "    }\n",
              "\n",
              "    [theme=dark] .colab-df-convert {\n",
              "      background-color: #3B4455;\n",
              "      fill: #D2E3FC;\n",
              "    }\n",
              "\n",
              "    [theme=dark] .colab-df-convert:hover {\n",
              "      background-color: #434B5C;\n",
              "      box-shadow: 0px 1px 3px 1px rgba(0, 0, 0, 0.15);\n",
              "      filter: drop-shadow(0px 1px 2px rgba(0, 0, 0, 0.3));\n",
              "      fill: #FFFFFF;\n",
              "    }\n",
              "  </style>\n",
              "\n",
              "      <script>\n",
              "        const buttonEl =\n",
              "          document.querySelector('#df-84b0b969-060b-43da-a242-00508ca37013 button.colab-df-convert');\n",
              "        buttonEl.style.display =\n",
              "          google.colab.kernel.accessAllowed ? 'block' : 'none';\n",
              "\n",
              "        async function convertToInteractive(key) {\n",
              "          const element = document.querySelector('#df-84b0b969-060b-43da-a242-00508ca37013');\n",
              "          const dataTable =\n",
              "            await google.colab.kernel.invokeFunction('convertToInteractive',\n",
              "                                                     [key], {});\n",
              "          if (!dataTable) return;\n",
              "\n",
              "          const docLinkHtml = 'Like what you see? Visit the ' +\n",
              "            '<a target=\"_blank\" href=https://colab.research.google.com/notebooks/data_table.ipynb>data table notebook</a>'\n",
              "            + ' to learn more about interactive tables.';\n",
              "          element.innerHTML = '';\n",
              "          dataTable['output_type'] = 'display_data';\n",
              "          await google.colab.output.renderOutput(dataTable, element);\n",
              "          const docLink = document.createElement('div');\n",
              "          docLink.innerHTML = docLinkHtml;\n",
              "          element.appendChild(docLink);\n",
              "        }\n",
              "      </script>\n",
              "    </div>\n",
              "  </div>\n",
              "  "
            ],
            "text/plain": [
              "           California         Texas      New York       Florida      Illinois\n",
              "area     4.239670e+05  6.956620e+05  1.412970e+05  1.703120e+05  1.499950e+05\n",
              "pop      3.833252e+07  2.644819e+07  1.965113e+07  1.955286e+07  1.288214e+07\n",
              "density  9.041393e+01  3.801874e+01  1.390767e+02  1.148061e+02  8.588376e+01"
            ]
          },
          "execution_count": 83,
          "metadata": {},
          "output_type": "execute_result"
        }
      ],
      "source": [
        "data.T"
      ],
      "id": "WdrDp-88PCfQ"
    },
    {
      "cell_type": "markdown",
      "metadata": {
        "id": "UWapQlmWPCfQ"
      },
      "source": [
        "When it comes to indexing of ``DataFrame`` objects, however, it is clear that the dictionary-style indexing of columns precludes our ability to simply treat it as a NumPy array.\n",
        "In particular, passing a ``single`` index to an array accesses a row:"
      ],
      "id": "UWapQlmWPCfQ"
    },
    {
      "cell_type": "code",
      "execution_count": null,
      "metadata": {
        "colab": {
          "base_uri": "https://localhost:8080/"
        },
        "id": "cXwNnMmhPCfR",
        "outputId": "6e98d74d-4d1e-4cbe-a63f-538ec3d29f9f"
      },
      "outputs": [
        {
          "data": {
            "text/plain": [
              "array([6.95662000e+05, 2.64481930e+07, 3.80187404e+01])"
            ]
          },
          "execution_count": 84,
          "metadata": {},
          "output_type": "execute_result"
        }
      ],
      "source": [
        "data.values[1]"
      ],
      "id": "cXwNnMmhPCfR"
    },
    {
      "cell_type": "markdown",
      "metadata": {
        "id": "95O0wwbvPCfR"
      },
      "source": [
        "and passing a single \"index\" to a ``DataFrame`` accesses a column:"
      ],
      "id": "95O0wwbvPCfR"
    },
    {
      "cell_type": "markdown",
      "metadata": {
        "id": "Opas3am1LhRm"
      },
      "source": [
        "### Indexing: accessing rows and columns\n",
        "* column: using column name"
      ],
      "id": "Opas3am1LhRm"
    },
    {
      "cell_type": "code",
      "execution_count": null,
      "metadata": {
        "colab": {
          "base_uri": "https://localhost:8080/"
        },
        "id": "hOgr0nEoPCfR",
        "outputId": "2fe4c71b-2500-4379-ab34-87659e0135d4"
      },
      "outputs": [
        {
          "data": {
            "text/plain": [
              "California    423967\n",
              "Texas         695662\n",
              "New York      141297\n",
              "Florida       170312\n",
              "Illinois      149995\n",
              "Name: area, dtype: int64"
            ]
          },
          "execution_count": 99,
          "metadata": {},
          "output_type": "execute_result"
        }
      ],
      "source": [
        "data['area']\n"
      ],
      "id": "hOgr0nEoPCfR"
    },
    {
      "cell_type": "code",
      "execution_count": null,
      "metadata": {
        "colab": {
          "base_uri": "https://localhost:8080/",
          "height": 206
        },
        "id": "VY6uGUzqNc5r",
        "outputId": "8fa3295d-65e0-460a-d0ff-cc35a6d3bded"
      },
      "outputs": [
        {
          "data": {
            "text/html": [
              "\n",
              "  <div id=\"df-3fd0abc6-14d3-45d3-ae34-8c39586f7b96\">\n",
              "    <div class=\"colab-df-container\">\n",
              "      <div>\n",
              "<style scoped>\n",
              "    .dataframe tbody tr th:only-of-type {\n",
              "        vertical-align: middle;\n",
              "    }\n",
              "\n",
              "    .dataframe tbody tr th {\n",
              "        vertical-align: top;\n",
              "    }\n",
              "\n",
              "    .dataframe thead th {\n",
              "        text-align: right;\n",
              "    }\n",
              "</style>\n",
              "<table border=\"1\" class=\"dataframe\">\n",
              "  <thead>\n",
              "    <tr style=\"text-align: right;\">\n",
              "      <th></th>\n",
              "      <th>area</th>\n",
              "    </tr>\n",
              "  </thead>\n",
              "  <tbody>\n",
              "    <tr>\n",
              "      <th>California</th>\n",
              "      <td>423967</td>\n",
              "    </tr>\n",
              "    <tr>\n",
              "      <th>Texas</th>\n",
              "      <td>695662</td>\n",
              "    </tr>\n",
              "    <tr>\n",
              "      <th>New York</th>\n",
              "      <td>141297</td>\n",
              "    </tr>\n",
              "    <tr>\n",
              "      <th>Florida</th>\n",
              "      <td>170312</td>\n",
              "    </tr>\n",
              "    <tr>\n",
              "      <th>Illinois</th>\n",
              "      <td>149995</td>\n",
              "    </tr>\n",
              "  </tbody>\n",
              "</table>\n",
              "</div>\n",
              "      <button class=\"colab-df-convert\" onclick=\"convertToInteractive('df-3fd0abc6-14d3-45d3-ae34-8c39586f7b96')\"\n",
              "              title=\"Convert this dataframe to an interactive table.\"\n",
              "              style=\"display:none;\">\n",
              "        \n",
              "  <svg xmlns=\"http://www.w3.org/2000/svg\" height=\"24px\"viewBox=\"0 0 24 24\"\n",
              "       width=\"24px\">\n",
              "    <path d=\"M0 0h24v24H0V0z\" fill=\"none\"/>\n",
              "    <path d=\"M18.56 5.44l.94 2.06.94-2.06 2.06-.94-2.06-.94-.94-2.06-.94 2.06-2.06.94zm-11 1L8.5 8.5l.94-2.06 2.06-.94-2.06-.94L8.5 2.5l-.94 2.06-2.06.94zm10 10l.94 2.06.94-2.06 2.06-.94-2.06-.94-.94-2.06-.94 2.06-2.06.94z\"/><path d=\"M17.41 7.96l-1.37-1.37c-.4-.4-.92-.59-1.43-.59-.52 0-1.04.2-1.43.59L10.3 9.45l-7.72 7.72c-.78.78-.78 2.05 0 2.83L4 21.41c.39.39.9.59 1.41.59.51 0 1.02-.2 1.41-.59l7.78-7.78 2.81-2.81c.8-.78.8-2.07 0-2.86zM5.41 20L4 18.59l7.72-7.72 1.47 1.35L5.41 20z\"/>\n",
              "  </svg>\n",
              "      </button>\n",
              "      \n",
              "  <style>\n",
              "    .colab-df-container {\n",
              "      display:flex;\n",
              "      flex-wrap:wrap;\n",
              "      gap: 12px;\n",
              "    }\n",
              "\n",
              "    .colab-df-convert {\n",
              "      background-color: #E8F0FE;\n",
              "      border: none;\n",
              "      border-radius: 50%;\n",
              "      cursor: pointer;\n",
              "      display: none;\n",
              "      fill: #1967D2;\n",
              "      height: 32px;\n",
              "      padding: 0 0 0 0;\n",
              "      width: 32px;\n",
              "    }\n",
              "\n",
              "    .colab-df-convert:hover {\n",
              "      background-color: #E2EBFA;\n",
              "      box-shadow: 0px 1px 2px rgba(60, 64, 67, 0.3), 0px 1px 3px 1px rgba(60, 64, 67, 0.15);\n",
              "      fill: #174EA6;\n",
              "    }\n",
              "\n",
              "    [theme=dark] .colab-df-convert {\n",
              "      background-color: #3B4455;\n",
              "      fill: #D2E3FC;\n",
              "    }\n",
              "\n",
              "    [theme=dark] .colab-df-convert:hover {\n",
              "      background-color: #434B5C;\n",
              "      box-shadow: 0px 1px 3px 1px rgba(0, 0, 0, 0.15);\n",
              "      filter: drop-shadow(0px 1px 2px rgba(0, 0, 0, 0.3));\n",
              "      fill: #FFFFFF;\n",
              "    }\n",
              "  </style>\n",
              "\n",
              "      <script>\n",
              "        const buttonEl =\n",
              "          document.querySelector('#df-3fd0abc6-14d3-45d3-ae34-8c39586f7b96 button.colab-df-convert');\n",
              "        buttonEl.style.display =\n",
              "          google.colab.kernel.accessAllowed ? 'block' : 'none';\n",
              "\n",
              "        async function convertToInteractive(key) {\n",
              "          const element = document.querySelector('#df-3fd0abc6-14d3-45d3-ae34-8c39586f7b96');\n",
              "          const dataTable =\n",
              "            await google.colab.kernel.invokeFunction('convertToInteractive',\n",
              "                                                     [key], {});\n",
              "          if (!dataTable) return;\n",
              "\n",
              "          const docLinkHtml = 'Like what you see? Visit the ' +\n",
              "            '<a target=\"_blank\" href=https://colab.research.google.com/notebooks/data_table.ipynb>data table notebook</a>'\n",
              "            + ' to learn more about interactive tables.';\n",
              "          element.innerHTML = '';\n",
              "          dataTable['output_type'] = 'display_data';\n",
              "          await google.colab.output.renderOutput(dataTable, element);\n",
              "          const docLink = document.createElement('div');\n",
              "          docLink.innerHTML = docLinkHtml;\n",
              "          element.appendChild(docLink);\n",
              "        }\n",
              "      </script>\n",
              "    </div>\n",
              "  </div>\n",
              "  "
            ],
            "text/plain": [
              "              area\n",
              "California  423967\n",
              "Texas       695662\n",
              "New York    141297\n",
              "Florida     170312\n",
              "Illinois    149995"
            ]
          },
          "execution_count": 98,
          "metadata": {},
          "output_type": "execute_result"
        }
      ],
      "source": [
        "data[['area']]"
      ],
      "id": "VY6uGUzqNc5r"
    },
    {
      "cell_type": "markdown",
      "metadata": {
        "id": "SyLLgDIBPCfS"
      },
      "source": [
        "Thus for array-style indexing, we need another convention.\n",
        "Pandasuses the ``loc``, ``iloc``indexers \n",
        "* Using the ``iloc`` indexer, we can index the underlying array as if it is a simple NumPy array (using the implicit Python-style index), but the ``DataFrame`` index and column labels are maintained in the result:"
      ],
      "id": "SyLLgDIBPCfS"
    },
    {
      "cell_type": "code",
      "execution_count": null,
      "metadata": {
        "colab": {
          "base_uri": "https://localhost:8080/",
          "height": 143
        },
        "id": "HN9eColsPCfS",
        "outputId": "c1b2135c-e667-4245-bf55-dabe5b6b12e6"
      },
      "outputs": [
        {
          "data": {
            "text/html": [
              "\n",
              "  <div id=\"df-57b6b237-d8c7-492c-9381-9da9cf4a737b\">\n",
              "    <div class=\"colab-df-container\">\n",
              "      <div>\n",
              "<style scoped>\n",
              "    .dataframe tbody tr th:only-of-type {\n",
              "        vertical-align: middle;\n",
              "    }\n",
              "\n",
              "    .dataframe tbody tr th {\n",
              "        vertical-align: top;\n",
              "    }\n",
              "\n",
              "    .dataframe thead th {\n",
              "        text-align: right;\n",
              "    }\n",
              "</style>\n",
              "<table border=\"1\" class=\"dataframe\">\n",
              "  <thead>\n",
              "    <tr style=\"text-align: right;\">\n",
              "      <th></th>\n",
              "      <th>area</th>\n",
              "      <th>pop</th>\n",
              "    </tr>\n",
              "  </thead>\n",
              "  <tbody>\n",
              "    <tr>\n",
              "      <th>California</th>\n",
              "      <td>423967</td>\n",
              "      <td>38332521</td>\n",
              "    </tr>\n",
              "    <tr>\n",
              "      <th>Texas</th>\n",
              "      <td>695662</td>\n",
              "      <td>26448193</td>\n",
              "    </tr>\n",
              "    <tr>\n",
              "      <th>New York</th>\n",
              "      <td>141297</td>\n",
              "      <td>19651127</td>\n",
              "    </tr>\n",
              "  </tbody>\n",
              "</table>\n",
              "</div>\n",
              "      <button class=\"colab-df-convert\" onclick=\"convertToInteractive('df-57b6b237-d8c7-492c-9381-9da9cf4a737b')\"\n",
              "              title=\"Convert this dataframe to an interactive table.\"\n",
              "              style=\"display:none;\">\n",
              "        \n",
              "  <svg xmlns=\"http://www.w3.org/2000/svg\" height=\"24px\"viewBox=\"0 0 24 24\"\n",
              "       width=\"24px\">\n",
              "    <path d=\"M0 0h24v24H0V0z\" fill=\"none\"/>\n",
              "    <path d=\"M18.56 5.44l.94 2.06.94-2.06 2.06-.94-2.06-.94-.94-2.06-.94 2.06-2.06.94zm-11 1L8.5 8.5l.94-2.06 2.06-.94-2.06-.94L8.5 2.5l-.94 2.06-2.06.94zm10 10l.94 2.06.94-2.06 2.06-.94-2.06-.94-.94-2.06-.94 2.06-2.06.94z\"/><path d=\"M17.41 7.96l-1.37-1.37c-.4-.4-.92-.59-1.43-.59-.52 0-1.04.2-1.43.59L10.3 9.45l-7.72 7.72c-.78.78-.78 2.05 0 2.83L4 21.41c.39.39.9.59 1.41.59.51 0 1.02-.2 1.41-.59l7.78-7.78 2.81-2.81c.8-.78.8-2.07 0-2.86zM5.41 20L4 18.59l7.72-7.72 1.47 1.35L5.41 20z\"/>\n",
              "  </svg>\n",
              "      </button>\n",
              "      \n",
              "  <style>\n",
              "    .colab-df-container {\n",
              "      display:flex;\n",
              "      flex-wrap:wrap;\n",
              "      gap: 12px;\n",
              "    }\n",
              "\n",
              "    .colab-df-convert {\n",
              "      background-color: #E8F0FE;\n",
              "      border: none;\n",
              "      border-radius: 50%;\n",
              "      cursor: pointer;\n",
              "      display: none;\n",
              "      fill: #1967D2;\n",
              "      height: 32px;\n",
              "      padding: 0 0 0 0;\n",
              "      width: 32px;\n",
              "    }\n",
              "\n",
              "    .colab-df-convert:hover {\n",
              "      background-color: #E2EBFA;\n",
              "      box-shadow: 0px 1px 2px rgba(60, 64, 67, 0.3), 0px 1px 3px 1px rgba(60, 64, 67, 0.15);\n",
              "      fill: #174EA6;\n",
              "    }\n",
              "\n",
              "    [theme=dark] .colab-df-convert {\n",
              "      background-color: #3B4455;\n",
              "      fill: #D2E3FC;\n",
              "    }\n",
              "\n",
              "    [theme=dark] .colab-df-convert:hover {\n",
              "      background-color: #434B5C;\n",
              "      box-shadow: 0px 1px 3px 1px rgba(0, 0, 0, 0.15);\n",
              "      filter: drop-shadow(0px 1px 2px rgba(0, 0, 0, 0.3));\n",
              "      fill: #FFFFFF;\n",
              "    }\n",
              "  </style>\n",
              "\n",
              "      <script>\n",
              "        const buttonEl =\n",
              "          document.querySelector('#df-57b6b237-d8c7-492c-9381-9da9cf4a737b button.colab-df-convert');\n",
              "        buttonEl.style.display =\n",
              "          google.colab.kernel.accessAllowed ? 'block' : 'none';\n",
              "\n",
              "        async function convertToInteractive(key) {\n",
              "          const element = document.querySelector('#df-57b6b237-d8c7-492c-9381-9da9cf4a737b');\n",
              "          const dataTable =\n",
              "            await google.colab.kernel.invokeFunction('convertToInteractive',\n",
              "                                                     [key], {});\n",
              "          if (!dataTable) return;\n",
              "\n",
              "          const docLinkHtml = 'Like what you see? Visit the ' +\n",
              "            '<a target=\"_blank\" href=https://colab.research.google.com/notebooks/data_table.ipynb>data table notebook</a>'\n",
              "            + ' to learn more about interactive tables.';\n",
              "          element.innerHTML = '';\n",
              "          dataTable['output_type'] = 'display_data';\n",
              "          await google.colab.output.renderOutput(dataTable, element);\n",
              "          const docLink = document.createElement('div');\n",
              "          docLink.innerHTML = docLinkHtml;\n",
              "          element.appendChild(docLink);\n",
              "        }\n",
              "      </script>\n",
              "    </div>\n",
              "  </div>\n",
              "  "
            ],
            "text/plain": [
              "              area       pop\n",
              "California  423967  38332521\n",
              "Texas       695662  26448193\n",
              "New York    141297  19651127"
            ]
          },
          "execution_count": 63,
          "metadata": {},
          "output_type": "execute_result"
        }
      ],
      "source": [
        "data.iloc[:3, :2]"
      ],
      "id": "HN9eColsPCfS"
    },
    {
      "cell_type": "markdown",
      "metadata": {
        "id": "XwRMZuj1PCfS"
      },
      "source": [
        "* Similarly, using the ``loc`` indexer we can index the underlying data in an array-like style but using the explicit index and column names:"
      ],
      "id": "XwRMZuj1PCfS"
    },
    {
      "cell_type": "code",
      "execution_count": null,
      "metadata": {
        "colab": {
          "base_uri": "https://localhost:8080/",
          "height": 206
        },
        "id": "PAW2ZetGPCfS",
        "outputId": "3276f938-332b-44c5-e5cf-a5940865051f"
      },
      "outputs": [
        {
          "data": {
            "text/html": [
              "\n",
              "  <div id=\"df-a2636836-0e62-41a1-8fb7-28565dadda2d\">\n",
              "    <div class=\"colab-df-container\">\n",
              "      <div>\n",
              "<style scoped>\n",
              "    .dataframe tbody tr th:only-of-type {\n",
              "        vertical-align: middle;\n",
              "    }\n",
              "\n",
              "    .dataframe tbody tr th {\n",
              "        vertical-align: top;\n",
              "    }\n",
              "\n",
              "    .dataframe thead th {\n",
              "        text-align: right;\n",
              "    }\n",
              "</style>\n",
              "<table border=\"1\" class=\"dataframe\">\n",
              "  <thead>\n",
              "    <tr style=\"text-align: right;\">\n",
              "      <th></th>\n",
              "      <th>area</th>\n",
              "      <th>pop</th>\n",
              "    </tr>\n",
              "  </thead>\n",
              "  <tbody>\n",
              "    <tr>\n",
              "      <th>California</th>\n",
              "      <td>423967</td>\n",
              "      <td>38332521</td>\n",
              "    </tr>\n",
              "    <tr>\n",
              "      <th>Texas</th>\n",
              "      <td>695662</td>\n",
              "      <td>26448193</td>\n",
              "    </tr>\n",
              "    <tr>\n",
              "      <th>New York</th>\n",
              "      <td>141297</td>\n",
              "      <td>19651127</td>\n",
              "    </tr>\n",
              "    <tr>\n",
              "      <th>Florida</th>\n",
              "      <td>170312</td>\n",
              "      <td>19552860</td>\n",
              "    </tr>\n",
              "    <tr>\n",
              "      <th>Illinois</th>\n",
              "      <td>149995</td>\n",
              "      <td>12882135</td>\n",
              "    </tr>\n",
              "  </tbody>\n",
              "</table>\n",
              "</div>\n",
              "      <button class=\"colab-df-convert\" onclick=\"convertToInteractive('df-a2636836-0e62-41a1-8fb7-28565dadda2d')\"\n",
              "              title=\"Convert this dataframe to an interactive table.\"\n",
              "              style=\"display:none;\">\n",
              "        \n",
              "  <svg xmlns=\"http://www.w3.org/2000/svg\" height=\"24px\"viewBox=\"0 0 24 24\"\n",
              "       width=\"24px\">\n",
              "    <path d=\"M0 0h24v24H0V0z\" fill=\"none\"/>\n",
              "    <path d=\"M18.56 5.44l.94 2.06.94-2.06 2.06-.94-2.06-.94-.94-2.06-.94 2.06-2.06.94zm-11 1L8.5 8.5l.94-2.06 2.06-.94-2.06-.94L8.5 2.5l-.94 2.06-2.06.94zm10 10l.94 2.06.94-2.06 2.06-.94-2.06-.94-.94-2.06-.94 2.06-2.06.94z\"/><path d=\"M17.41 7.96l-1.37-1.37c-.4-.4-.92-.59-1.43-.59-.52 0-1.04.2-1.43.59L10.3 9.45l-7.72 7.72c-.78.78-.78 2.05 0 2.83L4 21.41c.39.39.9.59 1.41.59.51 0 1.02-.2 1.41-.59l7.78-7.78 2.81-2.81c.8-.78.8-2.07 0-2.86zM5.41 20L4 18.59l7.72-7.72 1.47 1.35L5.41 20z\"/>\n",
              "  </svg>\n",
              "      </button>\n",
              "      \n",
              "  <style>\n",
              "    .colab-df-container {\n",
              "      display:flex;\n",
              "      flex-wrap:wrap;\n",
              "      gap: 12px;\n",
              "    }\n",
              "\n",
              "    .colab-df-convert {\n",
              "      background-color: #E8F0FE;\n",
              "      border: none;\n",
              "      border-radius: 50%;\n",
              "      cursor: pointer;\n",
              "      display: none;\n",
              "      fill: #1967D2;\n",
              "      height: 32px;\n",
              "      padding: 0 0 0 0;\n",
              "      width: 32px;\n",
              "    }\n",
              "\n",
              "    .colab-df-convert:hover {\n",
              "      background-color: #E2EBFA;\n",
              "      box-shadow: 0px 1px 2px rgba(60, 64, 67, 0.3), 0px 1px 3px 1px rgba(60, 64, 67, 0.15);\n",
              "      fill: #174EA6;\n",
              "    }\n",
              "\n",
              "    [theme=dark] .colab-df-convert {\n",
              "      background-color: #3B4455;\n",
              "      fill: #D2E3FC;\n",
              "    }\n",
              "\n",
              "    [theme=dark] .colab-df-convert:hover {\n",
              "      background-color: #434B5C;\n",
              "      box-shadow: 0px 1px 3px 1px rgba(0, 0, 0, 0.15);\n",
              "      filter: drop-shadow(0px 1px 2px rgba(0, 0, 0, 0.3));\n",
              "      fill: #FFFFFF;\n",
              "    }\n",
              "  </style>\n",
              "\n",
              "      <script>\n",
              "        const buttonEl =\n",
              "          document.querySelector('#df-a2636836-0e62-41a1-8fb7-28565dadda2d button.colab-df-convert');\n",
              "        buttonEl.style.display =\n",
              "          google.colab.kernel.accessAllowed ? 'block' : 'none';\n",
              "\n",
              "        async function convertToInteractive(key) {\n",
              "          const element = document.querySelector('#df-a2636836-0e62-41a1-8fb7-28565dadda2d');\n",
              "          const dataTable =\n",
              "            await google.colab.kernel.invokeFunction('convertToInteractive',\n",
              "                                                     [key], {});\n",
              "          if (!dataTable) return;\n",
              "\n",
              "          const docLinkHtml = 'Like what you see? Visit the ' +\n",
              "            '<a target=\"_blank\" href=https://colab.research.google.com/notebooks/data_table.ipynb>data table notebook</a>'\n",
              "            + ' to learn more about interactive tables.';\n",
              "          element.innerHTML = '';\n",
              "          dataTable['output_type'] = 'display_data';\n",
              "          await google.colab.output.renderOutput(dataTable, element);\n",
              "          const docLink = document.createElement('div');\n",
              "          docLink.innerHTML = docLinkHtml;\n",
              "          element.appendChild(docLink);\n",
              "        }\n",
              "      </script>\n",
              "    </div>\n",
              "  </div>\n",
              "  "
            ],
            "text/plain": [
              "              area       pop\n",
              "California  423967  38332521\n",
              "Texas       695662  26448193\n",
              "New York    141297  19651127\n",
              "Florida     170312  19552860\n",
              "Illinois    149995  12882135"
            ]
          },
          "execution_count": 65,
          "metadata": {},
          "output_type": "execute_result"
        }
      ],
      "source": [
        "data.loc[:'Illinois', :'pop']"
      ],
      "id": "PAW2ZetGPCfS"
    },
    {
      "cell_type": "markdown",
      "metadata": {
        "id": "ve4SZZpvPCfT"
      },
      "source": [
        "\n",
        "For example, in the ``loc`` indexer we can combine masking and fancy indexing as in the following:"
      ],
      "id": "ve4SZZpvPCfT"
    },
    {
      "cell_type": "code",
      "execution_count": null,
      "metadata": {
        "id": "oVlBmEGvDXcN"
      },
      "outputs": [],
      "source": [
        "data.density > 100"
      ],
      "id": "oVlBmEGvDXcN"
    },
    {
      "cell_type": "code",
      "execution_count": null,
      "metadata": {
        "colab": {
          "base_uri": "https://localhost:8080/",
          "height": 112
        },
        "id": "lEs_UONZPCfT",
        "outputId": "87c72723-05bb-40b1-b141-e782e2281f0a"
      },
      "outputs": [
        {
          "data": {
            "text/html": [
              "\n",
              "  <div id=\"df-f9f672fe-5880-4830-92f7-1e0988b342c4\">\n",
              "    <div class=\"colab-df-container\">\n",
              "      <div>\n",
              "<style scoped>\n",
              "    .dataframe tbody tr th:only-of-type {\n",
              "        vertical-align: middle;\n",
              "    }\n",
              "\n",
              "    .dataframe tbody tr th {\n",
              "        vertical-align: top;\n",
              "    }\n",
              "\n",
              "    .dataframe thead th {\n",
              "        text-align: right;\n",
              "    }\n",
              "</style>\n",
              "<table border=\"1\" class=\"dataframe\">\n",
              "  <thead>\n",
              "    <tr style=\"text-align: right;\">\n",
              "      <th></th>\n",
              "      <th>pop</th>\n",
              "      <th>density</th>\n",
              "    </tr>\n",
              "  </thead>\n",
              "  <tbody>\n",
              "    <tr>\n",
              "      <th>New York</th>\n",
              "      <td>19651127</td>\n",
              "      <td>139.076746</td>\n",
              "    </tr>\n",
              "    <tr>\n",
              "      <th>Florida</th>\n",
              "      <td>19552860</td>\n",
              "      <td>114.806121</td>\n",
              "    </tr>\n",
              "  </tbody>\n",
              "</table>\n",
              "</div>\n",
              "      <button class=\"colab-df-convert\" onclick=\"convertToInteractive('df-f9f672fe-5880-4830-92f7-1e0988b342c4')\"\n",
              "              title=\"Convert this dataframe to an interactive table.\"\n",
              "              style=\"display:none;\">\n",
              "        \n",
              "  <svg xmlns=\"http://www.w3.org/2000/svg\" height=\"24px\"viewBox=\"0 0 24 24\"\n",
              "       width=\"24px\">\n",
              "    <path d=\"M0 0h24v24H0V0z\" fill=\"none\"/>\n",
              "    <path d=\"M18.56 5.44l.94 2.06.94-2.06 2.06-.94-2.06-.94-.94-2.06-.94 2.06-2.06.94zm-11 1L8.5 8.5l.94-2.06 2.06-.94-2.06-.94L8.5 2.5l-.94 2.06-2.06.94zm10 10l.94 2.06.94-2.06 2.06-.94-2.06-.94-.94-2.06-.94 2.06-2.06.94z\"/><path d=\"M17.41 7.96l-1.37-1.37c-.4-.4-.92-.59-1.43-.59-.52 0-1.04.2-1.43.59L10.3 9.45l-7.72 7.72c-.78.78-.78 2.05 0 2.83L4 21.41c.39.39.9.59 1.41.59.51 0 1.02-.2 1.41-.59l7.78-7.78 2.81-2.81c.8-.78.8-2.07 0-2.86zM5.41 20L4 18.59l7.72-7.72 1.47 1.35L5.41 20z\"/>\n",
              "  </svg>\n",
              "      </button>\n",
              "      \n",
              "  <style>\n",
              "    .colab-df-container {\n",
              "      display:flex;\n",
              "      flex-wrap:wrap;\n",
              "      gap: 12px;\n",
              "    }\n",
              "\n",
              "    .colab-df-convert {\n",
              "      background-color: #E8F0FE;\n",
              "      border: none;\n",
              "      border-radius: 50%;\n",
              "      cursor: pointer;\n",
              "      display: none;\n",
              "      fill: #1967D2;\n",
              "      height: 32px;\n",
              "      padding: 0 0 0 0;\n",
              "      width: 32px;\n",
              "    }\n",
              "\n",
              "    .colab-df-convert:hover {\n",
              "      background-color: #E2EBFA;\n",
              "      box-shadow: 0px 1px 2px rgba(60, 64, 67, 0.3), 0px 1px 3px 1px rgba(60, 64, 67, 0.15);\n",
              "      fill: #174EA6;\n",
              "    }\n",
              "\n",
              "    [theme=dark] .colab-df-convert {\n",
              "      background-color: #3B4455;\n",
              "      fill: #D2E3FC;\n",
              "    }\n",
              "\n",
              "    [theme=dark] .colab-df-convert:hover {\n",
              "      background-color: #434B5C;\n",
              "      box-shadow: 0px 1px 3px 1px rgba(0, 0, 0, 0.15);\n",
              "      filter: drop-shadow(0px 1px 2px rgba(0, 0, 0, 0.3));\n",
              "      fill: #FFFFFF;\n",
              "    }\n",
              "  </style>\n",
              "\n",
              "      <script>\n",
              "        const buttonEl =\n",
              "          document.querySelector('#df-f9f672fe-5880-4830-92f7-1e0988b342c4 button.colab-df-convert');\n",
              "        buttonEl.style.display =\n",
              "          google.colab.kernel.accessAllowed ? 'block' : 'none';\n",
              "\n",
              "        async function convertToInteractive(key) {\n",
              "          const element = document.querySelector('#df-f9f672fe-5880-4830-92f7-1e0988b342c4');\n",
              "          const dataTable =\n",
              "            await google.colab.kernel.invokeFunction('convertToInteractive',\n",
              "                                                     [key], {});\n",
              "          if (!dataTable) return;\n",
              "\n",
              "          const docLinkHtml = 'Like what you see? Visit the ' +\n",
              "            '<a target=\"_blank\" href=https://colab.research.google.com/notebooks/data_table.ipynb>data table notebook</a>'\n",
              "            + ' to learn more about interactive tables.';\n",
              "          element.innerHTML = '';\n",
              "          dataTable['output_type'] = 'display_data';\n",
              "          await google.colab.output.renderOutput(dataTable, element);\n",
              "          const docLink = document.createElement('div');\n",
              "          docLink.innerHTML = docLinkHtml;\n",
              "          element.appendChild(docLink);\n",
              "        }\n",
              "      </script>\n",
              "    </div>\n",
              "  </div>\n",
              "  "
            ],
            "text/plain": [
              "               pop     density\n",
              "New York  19651127  139.076746\n",
              "Florida   19552860  114.806121"
            ]
          },
          "execution_count": 66,
          "metadata": {},
          "output_type": "execute_result"
        }
      ],
      "source": [
        "data.loc[data.density > 100, ['pop', 'density']]"
      ],
      "id": "lEs_UONZPCfT"
    },
    {
      "cell_type": "markdown",
      "metadata": {
        "id": "MpJS5UJTPCfT"
      },
      "source": [
        "Any of these indexing conventions may also be used to set or modify values; this is done in the standard way that you might be accustomed to from working with NumPy:"
      ],
      "id": "MpJS5UJTPCfT"
    },
    {
      "cell_type": "code",
      "execution_count": null,
      "metadata": {
        "colab": {
          "base_uri": "https://localhost:8080/",
          "height": 206
        },
        "id": "rzX-scaZPCfU",
        "outputId": "b62bbd05-cb21-4b71-e4a5-8117af2274fb"
      },
      "outputs": [
        {
          "data": {
            "text/html": [
              "\n",
              "  <div id=\"df-930021f2-6a09-4ef9-ac57-5104c9d69962\">\n",
              "    <div class=\"colab-df-container\">\n",
              "      <div>\n",
              "<style scoped>\n",
              "    .dataframe tbody tr th:only-of-type {\n",
              "        vertical-align: middle;\n",
              "    }\n",
              "\n",
              "    .dataframe tbody tr th {\n",
              "        vertical-align: top;\n",
              "    }\n",
              "\n",
              "    .dataframe thead th {\n",
              "        text-align: right;\n",
              "    }\n",
              "</style>\n",
              "<table border=\"1\" class=\"dataframe\">\n",
              "  <thead>\n",
              "    <tr style=\"text-align: right;\">\n",
              "      <th></th>\n",
              "      <th>area</th>\n",
              "      <th>pop</th>\n",
              "      <th>density</th>\n",
              "    </tr>\n",
              "  </thead>\n",
              "  <tbody>\n",
              "    <tr>\n",
              "      <th>California</th>\n",
              "      <td>423967</td>\n",
              "      <td>38332521</td>\n",
              "      <td>90.000000</td>\n",
              "    </tr>\n",
              "    <tr>\n",
              "      <th>Texas</th>\n",
              "      <td>695662</td>\n",
              "      <td>26448193</td>\n",
              "      <td>38.018740</td>\n",
              "    </tr>\n",
              "    <tr>\n",
              "      <th>New York</th>\n",
              "      <td>141297</td>\n",
              "      <td>19651127</td>\n",
              "      <td>139.076746</td>\n",
              "    </tr>\n",
              "    <tr>\n",
              "      <th>Florida</th>\n",
              "      <td>170312</td>\n",
              "      <td>19552860</td>\n",
              "      <td>114.806121</td>\n",
              "    </tr>\n",
              "    <tr>\n",
              "      <th>Illinois</th>\n",
              "      <td>149995</td>\n",
              "      <td>12882135</td>\n",
              "      <td>85.883763</td>\n",
              "    </tr>\n",
              "  </tbody>\n",
              "</table>\n",
              "</div>\n",
              "      <button class=\"colab-df-convert\" onclick=\"convertToInteractive('df-930021f2-6a09-4ef9-ac57-5104c9d69962')\"\n",
              "              title=\"Convert this dataframe to an interactive table.\"\n",
              "              style=\"display:none;\">\n",
              "        \n",
              "  <svg xmlns=\"http://www.w3.org/2000/svg\" height=\"24px\"viewBox=\"0 0 24 24\"\n",
              "       width=\"24px\">\n",
              "    <path d=\"M0 0h24v24H0V0z\" fill=\"none\"/>\n",
              "    <path d=\"M18.56 5.44l.94 2.06.94-2.06 2.06-.94-2.06-.94-.94-2.06-.94 2.06-2.06.94zm-11 1L8.5 8.5l.94-2.06 2.06-.94-2.06-.94L8.5 2.5l-.94 2.06-2.06.94zm10 10l.94 2.06.94-2.06 2.06-.94-2.06-.94-.94-2.06-.94 2.06-2.06.94z\"/><path d=\"M17.41 7.96l-1.37-1.37c-.4-.4-.92-.59-1.43-.59-.52 0-1.04.2-1.43.59L10.3 9.45l-7.72 7.72c-.78.78-.78 2.05 0 2.83L4 21.41c.39.39.9.59 1.41.59.51 0 1.02-.2 1.41-.59l7.78-7.78 2.81-2.81c.8-.78.8-2.07 0-2.86zM5.41 20L4 18.59l7.72-7.72 1.47 1.35L5.41 20z\"/>\n",
              "  </svg>\n",
              "      </button>\n",
              "      \n",
              "  <style>\n",
              "    .colab-df-container {\n",
              "      display:flex;\n",
              "      flex-wrap:wrap;\n",
              "      gap: 12px;\n",
              "    }\n",
              "\n",
              "    .colab-df-convert {\n",
              "      background-color: #E8F0FE;\n",
              "      border: none;\n",
              "      border-radius: 50%;\n",
              "      cursor: pointer;\n",
              "      display: none;\n",
              "      fill: #1967D2;\n",
              "      height: 32px;\n",
              "      padding: 0 0 0 0;\n",
              "      width: 32px;\n",
              "    }\n",
              "\n",
              "    .colab-df-convert:hover {\n",
              "      background-color: #E2EBFA;\n",
              "      box-shadow: 0px 1px 2px rgba(60, 64, 67, 0.3), 0px 1px 3px 1px rgba(60, 64, 67, 0.15);\n",
              "      fill: #174EA6;\n",
              "    }\n",
              "\n",
              "    [theme=dark] .colab-df-convert {\n",
              "      background-color: #3B4455;\n",
              "      fill: #D2E3FC;\n",
              "    }\n",
              "\n",
              "    [theme=dark] .colab-df-convert:hover {\n",
              "      background-color: #434B5C;\n",
              "      box-shadow: 0px 1px 3px 1px rgba(0, 0, 0, 0.15);\n",
              "      filter: drop-shadow(0px 1px 2px rgba(0, 0, 0, 0.3));\n",
              "      fill: #FFFFFF;\n",
              "    }\n",
              "  </style>\n",
              "\n",
              "      <script>\n",
              "        const buttonEl =\n",
              "          document.querySelector('#df-930021f2-6a09-4ef9-ac57-5104c9d69962 button.colab-df-convert');\n",
              "        buttonEl.style.display =\n",
              "          google.colab.kernel.accessAllowed ? 'block' : 'none';\n",
              "\n",
              "        async function convertToInteractive(key) {\n",
              "          const element = document.querySelector('#df-930021f2-6a09-4ef9-ac57-5104c9d69962');\n",
              "          const dataTable =\n",
              "            await google.colab.kernel.invokeFunction('convertToInteractive',\n",
              "                                                     [key], {});\n",
              "          if (!dataTable) return;\n",
              "\n",
              "          const docLinkHtml = 'Like what you see? Visit the ' +\n",
              "            '<a target=\"_blank\" href=https://colab.research.google.com/notebooks/data_table.ipynb>data table notebook</a>'\n",
              "            + ' to learn more about interactive tables.';\n",
              "          element.innerHTML = '';\n",
              "          dataTable['output_type'] = 'display_data';\n",
              "          await google.colab.output.renderOutput(dataTable, element);\n",
              "          const docLink = document.createElement('div');\n",
              "          docLink.innerHTML = docLinkHtml;\n",
              "          element.appendChild(docLink);\n",
              "        }\n",
              "      </script>\n",
              "    </div>\n",
              "  </div>\n",
              "  "
            ],
            "text/plain": [
              "              area       pop     density\n",
              "California  423967  38332521   90.000000\n",
              "Texas       695662  26448193   38.018740\n",
              "New York    141297  19651127  139.076746\n",
              "Florida     170312  19552860  114.806121\n",
              "Illinois    149995  12882135   85.883763"
            ]
          },
          "execution_count": 67,
          "metadata": {},
          "output_type": "execute_result"
        }
      ],
      "source": [
        "data.iloc[0, 2] = 90\n",
        "data"
      ],
      "id": "rzX-scaZPCfU"
    },
    {
      "cell_type": "markdown",
      "metadata": {
        "id": "WFMcXGLdPCfU"
      },
      "source": [
        "To build up your fluency in Pandas data manipulation, I suggest spending some time with a simple ``DataFrame`` and exploring the types of indexing, slicing, masking, and fancy indexing that are allowed by these various indexing approaches."
      ],
      "id": "WFMcXGLdPCfU"
    },
    {
      "cell_type": "markdown",
      "metadata": {
        "id": "5evw-TsZPCfU"
      },
      "source": [
        "### Additional indexing conventions\n"
      ],
      "id": "5evw-TsZPCfU"
    },
    {
      "cell_type": "code",
      "execution_count": null,
      "metadata": {
        "colab": {
          "base_uri": "https://localhost:8080/",
          "height": 112
        },
        "id": "jaxtoGSFPCfU",
        "outputId": "35ce6ba1-2e2a-4a89-b485-9856a37f0d5f"
      },
      "outputs": [
        {
          "data": {
            "text/html": [
              "\n",
              "  <div id=\"df-b2644dcb-5f60-4598-bc8f-07f3af071cc4\">\n",
              "    <div class=\"colab-df-container\">\n",
              "      <div>\n",
              "<style scoped>\n",
              "    .dataframe tbody tr th:only-of-type {\n",
              "        vertical-align: middle;\n",
              "    }\n",
              "\n",
              "    .dataframe tbody tr th {\n",
              "        vertical-align: top;\n",
              "    }\n",
              "\n",
              "    .dataframe thead th {\n",
              "        text-align: right;\n",
              "    }\n",
              "</style>\n",
              "<table border=\"1\" class=\"dataframe\">\n",
              "  <thead>\n",
              "    <tr style=\"text-align: right;\">\n",
              "      <th></th>\n",
              "      <th>area</th>\n",
              "      <th>pop</th>\n",
              "      <th>density</th>\n",
              "    </tr>\n",
              "  </thead>\n",
              "  <tbody>\n",
              "    <tr>\n",
              "      <th>Florida</th>\n",
              "      <td>170312</td>\n",
              "      <td>19552860</td>\n",
              "      <td>114.806121</td>\n",
              "    </tr>\n",
              "    <tr>\n",
              "      <th>Illinois</th>\n",
              "      <td>149995</td>\n",
              "      <td>12882135</td>\n",
              "      <td>85.883763</td>\n",
              "    </tr>\n",
              "  </tbody>\n",
              "</table>\n",
              "</div>\n",
              "      <button class=\"colab-df-convert\" onclick=\"convertToInteractive('df-b2644dcb-5f60-4598-bc8f-07f3af071cc4')\"\n",
              "              title=\"Convert this dataframe to an interactive table.\"\n",
              "              style=\"display:none;\">\n",
              "        \n",
              "  <svg xmlns=\"http://www.w3.org/2000/svg\" height=\"24px\"viewBox=\"0 0 24 24\"\n",
              "       width=\"24px\">\n",
              "    <path d=\"M0 0h24v24H0V0z\" fill=\"none\"/>\n",
              "    <path d=\"M18.56 5.44l.94 2.06.94-2.06 2.06-.94-2.06-.94-.94-2.06-.94 2.06-2.06.94zm-11 1L8.5 8.5l.94-2.06 2.06-.94-2.06-.94L8.5 2.5l-.94 2.06-2.06.94zm10 10l.94 2.06.94-2.06 2.06-.94-2.06-.94-.94-2.06-.94 2.06-2.06.94z\"/><path d=\"M17.41 7.96l-1.37-1.37c-.4-.4-.92-.59-1.43-.59-.52 0-1.04.2-1.43.59L10.3 9.45l-7.72 7.72c-.78.78-.78 2.05 0 2.83L4 21.41c.39.39.9.59 1.41.59.51 0 1.02-.2 1.41-.59l7.78-7.78 2.81-2.81c.8-.78.8-2.07 0-2.86zM5.41 20L4 18.59l7.72-7.72 1.47 1.35L5.41 20z\"/>\n",
              "  </svg>\n",
              "      </button>\n",
              "      \n",
              "  <style>\n",
              "    .colab-df-container {\n",
              "      display:flex;\n",
              "      flex-wrap:wrap;\n",
              "      gap: 12px;\n",
              "    }\n",
              "\n",
              "    .colab-df-convert {\n",
              "      background-color: #E8F0FE;\n",
              "      border: none;\n",
              "      border-radius: 50%;\n",
              "      cursor: pointer;\n",
              "      display: none;\n",
              "      fill: #1967D2;\n",
              "      height: 32px;\n",
              "      padding: 0 0 0 0;\n",
              "      width: 32px;\n",
              "    }\n",
              "\n",
              "    .colab-df-convert:hover {\n",
              "      background-color: #E2EBFA;\n",
              "      box-shadow: 0px 1px 2px rgba(60, 64, 67, 0.3), 0px 1px 3px 1px rgba(60, 64, 67, 0.15);\n",
              "      fill: #174EA6;\n",
              "    }\n",
              "\n",
              "    [theme=dark] .colab-df-convert {\n",
              "      background-color: #3B4455;\n",
              "      fill: #D2E3FC;\n",
              "    }\n",
              "\n",
              "    [theme=dark] .colab-df-convert:hover {\n",
              "      background-color: #434B5C;\n",
              "      box-shadow: 0px 1px 3px 1px rgba(0, 0, 0, 0.15);\n",
              "      filter: drop-shadow(0px 1px 2px rgba(0, 0, 0, 0.3));\n",
              "      fill: #FFFFFF;\n",
              "    }\n",
              "  </style>\n",
              "\n",
              "      <script>\n",
              "        const buttonEl =\n",
              "          document.querySelector('#df-b2644dcb-5f60-4598-bc8f-07f3af071cc4 button.colab-df-convert');\n",
              "        buttonEl.style.display =\n",
              "          google.colab.kernel.accessAllowed ? 'block' : 'none';\n",
              "\n",
              "        async function convertToInteractive(key) {\n",
              "          const element = document.querySelector('#df-b2644dcb-5f60-4598-bc8f-07f3af071cc4');\n",
              "          const dataTable =\n",
              "            await google.colab.kernel.invokeFunction('convertToInteractive',\n",
              "                                                     [key], {});\n",
              "          if (!dataTable) return;\n",
              "\n",
              "          const docLinkHtml = 'Like what you see? Visit the ' +\n",
              "            '<a target=\"_blank\" href=https://colab.research.google.com/notebooks/data_table.ipynb>data table notebook</a>'\n",
              "            + ' to learn more about interactive tables.';\n",
              "          element.innerHTML = '';\n",
              "          dataTable['output_type'] = 'display_data';\n",
              "          await google.colab.output.renderOutput(dataTable, element);\n",
              "          const docLink = document.createElement('div');\n",
              "          docLink.innerHTML = docLinkHtml;\n",
              "          element.appendChild(docLink);\n",
              "        }\n",
              "      </script>\n",
              "    </div>\n",
              "  </div>\n",
              "  "
            ],
            "text/plain": [
              "            area       pop     density\n",
              "Florida   170312  19552860  114.806121\n",
              "Illinois  149995  12882135   85.883763"
            ]
          },
          "execution_count": 68,
          "metadata": {},
          "output_type": "execute_result"
        }
      ],
      "source": [
        "data['Florida':'Illinois']"
      ],
      "id": "jaxtoGSFPCfU"
    },
    {
      "cell_type": "markdown",
      "metadata": {
        "id": "LHGV-BPRPCfU"
      },
      "source": [
        "Such slices can also refer to rows by number rather than by index:"
      ],
      "id": "LHGV-BPRPCfU"
    },
    {
      "cell_type": "code",
      "execution_count": null,
      "metadata": {
        "colab": {
          "base_uri": "https://localhost:8080/",
          "height": 112
        },
        "id": "DbEu_2FfPCfV",
        "outputId": "d1a47732-f309-4822-9223-d92f492d24d5"
      },
      "outputs": [
        {
          "data": {
            "text/html": [
              "\n",
              "  <div id=\"df-5b41e07a-bc26-4d33-8814-37c3975a345a\">\n",
              "    <div class=\"colab-df-container\">\n",
              "      <div>\n",
              "<style scoped>\n",
              "    .dataframe tbody tr th:only-of-type {\n",
              "        vertical-align: middle;\n",
              "    }\n",
              "\n",
              "    .dataframe tbody tr th {\n",
              "        vertical-align: top;\n",
              "    }\n",
              "\n",
              "    .dataframe thead th {\n",
              "        text-align: right;\n",
              "    }\n",
              "</style>\n",
              "<table border=\"1\" class=\"dataframe\">\n",
              "  <thead>\n",
              "    <tr style=\"text-align: right;\">\n",
              "      <th></th>\n",
              "      <th>area</th>\n",
              "      <th>pop</th>\n",
              "      <th>density</th>\n",
              "    </tr>\n",
              "  </thead>\n",
              "  <tbody>\n",
              "    <tr>\n",
              "      <th>Texas</th>\n",
              "      <td>695662</td>\n",
              "      <td>26448193</td>\n",
              "      <td>38.018740</td>\n",
              "    </tr>\n",
              "    <tr>\n",
              "      <th>New York</th>\n",
              "      <td>141297</td>\n",
              "      <td>19651127</td>\n",
              "      <td>139.076746</td>\n",
              "    </tr>\n",
              "  </tbody>\n",
              "</table>\n",
              "</div>\n",
              "      <button class=\"colab-df-convert\" onclick=\"convertToInteractive('df-5b41e07a-bc26-4d33-8814-37c3975a345a')\"\n",
              "              title=\"Convert this dataframe to an interactive table.\"\n",
              "              style=\"display:none;\">\n",
              "        \n",
              "  <svg xmlns=\"http://www.w3.org/2000/svg\" height=\"24px\"viewBox=\"0 0 24 24\"\n",
              "       width=\"24px\">\n",
              "    <path d=\"M0 0h24v24H0V0z\" fill=\"none\"/>\n",
              "    <path d=\"M18.56 5.44l.94 2.06.94-2.06 2.06-.94-2.06-.94-.94-2.06-.94 2.06-2.06.94zm-11 1L8.5 8.5l.94-2.06 2.06-.94-2.06-.94L8.5 2.5l-.94 2.06-2.06.94zm10 10l.94 2.06.94-2.06 2.06-.94-2.06-.94-.94-2.06-.94 2.06-2.06.94z\"/><path d=\"M17.41 7.96l-1.37-1.37c-.4-.4-.92-.59-1.43-.59-.52 0-1.04.2-1.43.59L10.3 9.45l-7.72 7.72c-.78.78-.78 2.05 0 2.83L4 21.41c.39.39.9.59 1.41.59.51 0 1.02-.2 1.41-.59l7.78-7.78 2.81-2.81c.8-.78.8-2.07 0-2.86zM5.41 20L4 18.59l7.72-7.72 1.47 1.35L5.41 20z\"/>\n",
              "  </svg>\n",
              "      </button>\n",
              "      \n",
              "  <style>\n",
              "    .colab-df-container {\n",
              "      display:flex;\n",
              "      flex-wrap:wrap;\n",
              "      gap: 12px;\n",
              "    }\n",
              "\n",
              "    .colab-df-convert {\n",
              "      background-color: #E8F0FE;\n",
              "      border: none;\n",
              "      border-radius: 50%;\n",
              "      cursor: pointer;\n",
              "      display: none;\n",
              "      fill: #1967D2;\n",
              "      height: 32px;\n",
              "      padding: 0 0 0 0;\n",
              "      width: 32px;\n",
              "    }\n",
              "\n",
              "    .colab-df-convert:hover {\n",
              "      background-color: #E2EBFA;\n",
              "      box-shadow: 0px 1px 2px rgba(60, 64, 67, 0.3), 0px 1px 3px 1px rgba(60, 64, 67, 0.15);\n",
              "      fill: #174EA6;\n",
              "    }\n",
              "\n",
              "    [theme=dark] .colab-df-convert {\n",
              "      background-color: #3B4455;\n",
              "      fill: #D2E3FC;\n",
              "    }\n",
              "\n",
              "    [theme=dark] .colab-df-convert:hover {\n",
              "      background-color: #434B5C;\n",
              "      box-shadow: 0px 1px 3px 1px rgba(0, 0, 0, 0.15);\n",
              "      filter: drop-shadow(0px 1px 2px rgba(0, 0, 0, 0.3));\n",
              "      fill: #FFFFFF;\n",
              "    }\n",
              "  </style>\n",
              "\n",
              "      <script>\n",
              "        const buttonEl =\n",
              "          document.querySelector('#df-5b41e07a-bc26-4d33-8814-37c3975a345a button.colab-df-convert');\n",
              "        buttonEl.style.display =\n",
              "          google.colab.kernel.accessAllowed ? 'block' : 'none';\n",
              "\n",
              "        async function convertToInteractive(key) {\n",
              "          const element = document.querySelector('#df-5b41e07a-bc26-4d33-8814-37c3975a345a');\n",
              "          const dataTable =\n",
              "            await google.colab.kernel.invokeFunction('convertToInteractive',\n",
              "                                                     [key], {});\n",
              "          if (!dataTable) return;\n",
              "\n",
              "          const docLinkHtml = 'Like what you see? Visit the ' +\n",
              "            '<a target=\"_blank\" href=https://colab.research.google.com/notebooks/data_table.ipynb>data table notebook</a>'\n",
              "            + ' to learn more about interactive tables.';\n",
              "          element.innerHTML = '';\n",
              "          dataTable['output_type'] = 'display_data';\n",
              "          await google.colab.output.renderOutput(dataTable, element);\n",
              "          const docLink = document.createElement('div');\n",
              "          docLink.innerHTML = docLinkHtml;\n",
              "          element.appendChild(docLink);\n",
              "        }\n",
              "      </script>\n",
              "    </div>\n",
              "  </div>\n",
              "  "
            ],
            "text/plain": [
              "            area       pop     density\n",
              "Texas     695662  26448193   38.018740\n",
              "New York  141297  19651127  139.076746"
            ]
          },
          "execution_count": 69,
          "metadata": {},
          "output_type": "execute_result"
        }
      ],
      "source": [
        "data[1:3]"
      ],
      "id": "DbEu_2FfPCfV"
    },
    {
      "cell_type": "markdown",
      "metadata": {
        "id": "cBijLpFQPCfV"
      },
      "source": [
        "Similarly, direct masking operations are also interpreted row-wise rather than column-wise:"
      ],
      "id": "cBijLpFQPCfV"
    },
    {
      "cell_type": "code",
      "execution_count": null,
      "metadata": {
        "colab": {
          "base_uri": "https://localhost:8080/",
          "height": 112
        },
        "id": "z4FGf2AlPCfV",
        "outputId": "ee76147d-1cc9-4a24-fdce-9560df52a4c4"
      },
      "outputs": [
        {
          "data": {
            "text/html": [
              "\n",
              "  <div id=\"df-bc277d5e-97ba-4dee-a614-c530442bded0\">\n",
              "    <div class=\"colab-df-container\">\n",
              "      <div>\n",
              "<style scoped>\n",
              "    .dataframe tbody tr th:only-of-type {\n",
              "        vertical-align: middle;\n",
              "    }\n",
              "\n",
              "    .dataframe tbody tr th {\n",
              "        vertical-align: top;\n",
              "    }\n",
              "\n",
              "    .dataframe thead th {\n",
              "        text-align: right;\n",
              "    }\n",
              "</style>\n",
              "<table border=\"1\" class=\"dataframe\">\n",
              "  <thead>\n",
              "    <tr style=\"text-align: right;\">\n",
              "      <th></th>\n",
              "      <th>area</th>\n",
              "      <th>pop</th>\n",
              "      <th>density</th>\n",
              "    </tr>\n",
              "  </thead>\n",
              "  <tbody>\n",
              "    <tr>\n",
              "      <th>New York</th>\n",
              "      <td>141297</td>\n",
              "      <td>19651127</td>\n",
              "      <td>139.076746</td>\n",
              "    </tr>\n",
              "    <tr>\n",
              "      <th>Florida</th>\n",
              "      <td>170312</td>\n",
              "      <td>19552860</td>\n",
              "      <td>114.806121</td>\n",
              "    </tr>\n",
              "  </tbody>\n",
              "</table>\n",
              "</div>\n",
              "      <button class=\"colab-df-convert\" onclick=\"convertToInteractive('df-bc277d5e-97ba-4dee-a614-c530442bded0')\"\n",
              "              title=\"Convert this dataframe to an interactive table.\"\n",
              "              style=\"display:none;\">\n",
              "        \n",
              "  <svg xmlns=\"http://www.w3.org/2000/svg\" height=\"24px\"viewBox=\"0 0 24 24\"\n",
              "       width=\"24px\">\n",
              "    <path d=\"M0 0h24v24H0V0z\" fill=\"none\"/>\n",
              "    <path d=\"M18.56 5.44l.94 2.06.94-2.06 2.06-.94-2.06-.94-.94-2.06-.94 2.06-2.06.94zm-11 1L8.5 8.5l.94-2.06 2.06-.94-2.06-.94L8.5 2.5l-.94 2.06-2.06.94zm10 10l.94 2.06.94-2.06 2.06-.94-2.06-.94-.94-2.06-.94 2.06-2.06.94z\"/><path d=\"M17.41 7.96l-1.37-1.37c-.4-.4-.92-.59-1.43-.59-.52 0-1.04.2-1.43.59L10.3 9.45l-7.72 7.72c-.78.78-.78 2.05 0 2.83L4 21.41c.39.39.9.59 1.41.59.51 0 1.02-.2 1.41-.59l7.78-7.78 2.81-2.81c.8-.78.8-2.07 0-2.86zM5.41 20L4 18.59l7.72-7.72 1.47 1.35L5.41 20z\"/>\n",
              "  </svg>\n",
              "      </button>\n",
              "      \n",
              "  <style>\n",
              "    .colab-df-container {\n",
              "      display:flex;\n",
              "      flex-wrap:wrap;\n",
              "      gap: 12px;\n",
              "    }\n",
              "\n",
              "    .colab-df-convert {\n",
              "      background-color: #E8F0FE;\n",
              "      border: none;\n",
              "      border-radius: 50%;\n",
              "      cursor: pointer;\n",
              "      display: none;\n",
              "      fill: #1967D2;\n",
              "      height: 32px;\n",
              "      padding: 0 0 0 0;\n",
              "      width: 32px;\n",
              "    }\n",
              "\n",
              "    .colab-df-convert:hover {\n",
              "      background-color: #E2EBFA;\n",
              "      box-shadow: 0px 1px 2px rgba(60, 64, 67, 0.3), 0px 1px 3px 1px rgba(60, 64, 67, 0.15);\n",
              "      fill: #174EA6;\n",
              "    }\n",
              "\n",
              "    [theme=dark] .colab-df-convert {\n",
              "      background-color: #3B4455;\n",
              "      fill: #D2E3FC;\n",
              "    }\n",
              "\n",
              "    [theme=dark] .colab-df-convert:hover {\n",
              "      background-color: #434B5C;\n",
              "      box-shadow: 0px 1px 3px 1px rgba(0, 0, 0, 0.15);\n",
              "      filter: drop-shadow(0px 1px 2px rgba(0, 0, 0, 0.3));\n",
              "      fill: #FFFFFF;\n",
              "    }\n",
              "  </style>\n",
              "\n",
              "      <script>\n",
              "        const buttonEl =\n",
              "          document.querySelector('#df-bc277d5e-97ba-4dee-a614-c530442bded0 button.colab-df-convert');\n",
              "        buttonEl.style.display =\n",
              "          google.colab.kernel.accessAllowed ? 'block' : 'none';\n",
              "\n",
              "        async function convertToInteractive(key) {\n",
              "          const element = document.querySelector('#df-bc277d5e-97ba-4dee-a614-c530442bded0');\n",
              "          const dataTable =\n",
              "            await google.colab.kernel.invokeFunction('convertToInteractive',\n",
              "                                                     [key], {});\n",
              "          if (!dataTable) return;\n",
              "\n",
              "          const docLinkHtml = 'Like what you see? Visit the ' +\n",
              "            '<a target=\"_blank\" href=https://colab.research.google.com/notebooks/data_table.ipynb>data table notebook</a>'\n",
              "            + ' to learn more about interactive tables.';\n",
              "          element.innerHTML = '';\n",
              "          dataTable['output_type'] = 'display_data';\n",
              "          await google.colab.output.renderOutput(dataTable, element);\n",
              "          const docLink = document.createElement('div');\n",
              "          docLink.innerHTML = docLinkHtml;\n",
              "          element.appendChild(docLink);\n",
              "        }\n",
              "      </script>\n",
              "    </div>\n",
              "  </div>\n",
              "  "
            ],
            "text/plain": [
              "            area       pop     density\n",
              "New York  141297  19651127  139.076746\n",
              "Florida   170312  19552860  114.806121"
            ]
          },
          "execution_count": 70,
          "metadata": {},
          "output_type": "execute_result"
        }
      ],
      "source": [
        "data[data.density > 100]"
      ],
      "id": "z4FGf2AlPCfV"
    },
    {
      "cell_type": "markdown",
      "metadata": {
        "id": "Kf1mJlUAPCfV"
      },
      "source": [
        "These two conventions are syntactically similar to those on a NumPy array, and while these may not precisely fit the mold of the Pandas conventions, they are nevertheless quite useful in practice."
      ],
      "id": "Kf1mJlUAPCfV"
    },
    {
      "cell_type": "markdown",
      "metadata": {
        "id": "KWYFaoOW3TIP"
      },
      "source": [
        "# Create a Dataframe with the following data\n",
        "* Location,smoking_yes_cancer_yes,smoking_yes_cancer_no,smoking_no_cancer_yes,smoking_no_cancer_no\n",
        "* Beijing,126,100,35,61\n",
        "* Shanghai,908,688,497,807\n",
        "* Shenyang,913,747,336,598\n",
        "* Nanjng,235,172,58,121\n",
        "* Harbin,402,308,121,215\n",
        "* Zhengzhou,182,156,72,98\n",
        "* Taiyuan,60,99,11,43\n",
        "* Nanchang,104,89,21,36"
      ],
      "id": "KWYFaoOW3TIP"
    },
    {
      "cell_type": "code",
      "execution_count": null,
      "metadata": {
        "colab": {
          "base_uri": "https://localhost:8080/",
          "height": 112
        },
        "id": "B1KZTqKdXuPP",
        "outputId": "780b4909-6d44-435b-f91b-720be8cc4f1f"
      },
      "outputs": [
        {
          "data": {
            "text/html": [
              "\n",
              "  <div id=\"df-ca4d5a28-8c54-47f6-99da-647b080c8a6c\">\n",
              "    <div class=\"colab-df-container\">\n",
              "      <div>\n",
              "<style scoped>\n",
              "    .dataframe tbody tr th:only-of-type {\n",
              "        vertical-align: middle;\n",
              "    }\n",
              "\n",
              "    .dataframe tbody tr th {\n",
              "        vertical-align: top;\n",
              "    }\n",
              "\n",
              "    .dataframe thead th {\n",
              "        text-align: right;\n",
              "    }\n",
              "</style>\n",
              "<table border=\"1\" class=\"dataframe\">\n",
              "  <thead>\n",
              "    <tr style=\"text-align: right;\">\n",
              "      <th></th>\n",
              "      <th>Location</th>\n",
              "      <th>smoking_yes_cancer_yes</th>\n",
              "    </tr>\n",
              "  </thead>\n",
              "  <tbody>\n",
              "    <tr>\n",
              "      <th>0</th>\n",
              "      <td>Beijing</td>\n",
              "      <td>126</td>\n",
              "    </tr>\n",
              "    <tr>\n",
              "      <th>1</th>\n",
              "      <td>Shanghai</td>\n",
              "      <td>908</td>\n",
              "    </tr>\n",
              "  </tbody>\n",
              "</table>\n",
              "</div>\n",
              "      <button class=\"colab-df-convert\" onclick=\"convertToInteractive('df-ca4d5a28-8c54-47f6-99da-647b080c8a6c')\"\n",
              "              title=\"Convert this dataframe to an interactive table.\"\n",
              "              style=\"display:none;\">\n",
              "        \n",
              "  <svg xmlns=\"http://www.w3.org/2000/svg\" height=\"24px\"viewBox=\"0 0 24 24\"\n",
              "       width=\"24px\">\n",
              "    <path d=\"M0 0h24v24H0V0z\" fill=\"none\"/>\n",
              "    <path d=\"M18.56 5.44l.94 2.06.94-2.06 2.06-.94-2.06-.94-.94-2.06-.94 2.06-2.06.94zm-11 1L8.5 8.5l.94-2.06 2.06-.94-2.06-.94L8.5 2.5l-.94 2.06-2.06.94zm10 10l.94 2.06.94-2.06 2.06-.94-2.06-.94-.94-2.06-.94 2.06-2.06.94z\"/><path d=\"M17.41 7.96l-1.37-1.37c-.4-.4-.92-.59-1.43-.59-.52 0-1.04.2-1.43.59L10.3 9.45l-7.72 7.72c-.78.78-.78 2.05 0 2.83L4 21.41c.39.39.9.59 1.41.59.51 0 1.02-.2 1.41-.59l7.78-7.78 2.81-2.81c.8-.78.8-2.07 0-2.86zM5.41 20L4 18.59l7.72-7.72 1.47 1.35L5.41 20z\"/>\n",
              "  </svg>\n",
              "      </button>\n",
              "      \n",
              "  <style>\n",
              "    .colab-df-container {\n",
              "      display:flex;\n",
              "      flex-wrap:wrap;\n",
              "      gap: 12px;\n",
              "    }\n",
              "\n",
              "    .colab-df-convert {\n",
              "      background-color: #E8F0FE;\n",
              "      border: none;\n",
              "      border-radius: 50%;\n",
              "      cursor: pointer;\n",
              "      display: none;\n",
              "      fill: #1967D2;\n",
              "      height: 32px;\n",
              "      padding: 0 0 0 0;\n",
              "      width: 32px;\n",
              "    }\n",
              "\n",
              "    .colab-df-convert:hover {\n",
              "      background-color: #E2EBFA;\n",
              "      box-shadow: 0px 1px 2px rgba(60, 64, 67, 0.3), 0px 1px 3px 1px rgba(60, 64, 67, 0.15);\n",
              "      fill: #174EA6;\n",
              "    }\n",
              "\n",
              "    [theme=dark] .colab-df-convert {\n",
              "      background-color: #3B4455;\n",
              "      fill: #D2E3FC;\n",
              "    }\n",
              "\n",
              "    [theme=dark] .colab-df-convert:hover {\n",
              "      background-color: #434B5C;\n",
              "      box-shadow: 0px 1px 3px 1px rgba(0, 0, 0, 0.15);\n",
              "      filter: drop-shadow(0px 1px 2px rgba(0, 0, 0, 0.3));\n",
              "      fill: #FFFFFF;\n",
              "    }\n",
              "  </style>\n",
              "\n",
              "      <script>\n",
              "        const buttonEl =\n",
              "          document.querySelector('#df-ca4d5a28-8c54-47f6-99da-647b080c8a6c button.colab-df-convert');\n",
              "        buttonEl.style.display =\n",
              "          google.colab.kernel.accessAllowed ? 'block' : 'none';\n",
              "\n",
              "        async function convertToInteractive(key) {\n",
              "          const element = document.querySelector('#df-ca4d5a28-8c54-47f6-99da-647b080c8a6c');\n",
              "          const dataTable =\n",
              "            await google.colab.kernel.invokeFunction('convertToInteractive',\n",
              "                                                     [key], {});\n",
              "          if (!dataTable) return;\n",
              "\n",
              "          const docLinkHtml = 'Like what you see? Visit the ' +\n",
              "            '<a target=\"_blank\" href=https://colab.research.google.com/notebooks/data_table.ipynb>data table notebook</a>'\n",
              "            + ' to learn more about interactive tables.';\n",
              "          element.innerHTML = '';\n",
              "          dataTable['output_type'] = 'display_data';\n",
              "          await google.colab.output.renderOutput(dataTable, element);\n",
              "          const docLink = document.createElement('div');\n",
              "          docLink.innerHTML = docLinkHtml;\n",
              "          element.appendChild(docLink);\n",
              "        }\n",
              "      </script>\n",
              "    </div>\n",
              "  </div>\n",
              "  "
            ],
            "text/plain": [
              "   Location  smoking_yes_cancer_yes\n",
              "0   Beijing                     126\n",
              "1  Shanghai                     908"
            ]
          },
          "execution_count": 3,
          "metadata": {},
          "output_type": "execute_result"
        }
      ],
      "source": [
        "import pandas as pd\n",
        "d1 = { 'Location':['Beijing','Shanghai'],\n",
        "        'smoking_yes_cancer_yes' :[126,908],\n",
        "           'smoking_yes_cancer_no' :[126,908],\n",
        "        'smoking_yes_cancer_yes' :[126,908]\n",
        "      }\n",
        "pd.DataFrame(d1)"
      ],
      "id": "B1KZTqKdXuPP"
    },
    {
      "cell_type": "markdown",
      "metadata": {
        "id": "Cl1VFns13xa-"
      },
      "source": [
        "# Create a Dataframe with the following data with first line as column names - pd.Series\n",
        "#* Year as index\n",
        "* \"YEAR\",\"WORLDCONSUMPTION\",\"COPPERPRICE\",\"INCOMEINDEX\",\"ALUMPRICE\",\"INVENTORYINDEX\",\"TIME\"\n",
        "* 1951,3173,26.56,0.7,19.76,0.98,1\n",
        "* 1952,3281.1,27.31,0.71,20.78,1.04,2\n",
        "* 1953,3135.7,32.95,0.72,22.55,1.05,3\n",
        "* 1954,3359.1,33.9,0.7,23.06,0.97,4\n",
        "* 1955,3755.1,42.7,0.74,24.93,1.02,5\n",
        "* 1956,3875.9,46.11,0.74,26.5,1.04,6\n",
        "* 1957,3905.7,31.7,0.74,27.24,0.98,7\n",
        "* 1958,3957.6,27.23,0.72,26.21,0.98,8\n",
        "* 1959,4279.1,32.89,0.75,26.09,1.03,9\n",
        "* 1960,4627.9,33.78,0.77,27.4,1.03,10\n",
        "* 1961,4910.2,31.66,0.76,26.94,0.98,11\n",
        "* 1962,4908.4,32.28,0.79,25.18,1,12\n",
        "* 1963,5327.9,32.38,0.83,23.94,0.97,13\n",
        "* 1964,5878.4,33.75,0.85,25.07,1.03,14\n",
        "* 1965,6075.2,36.25,0.89,25.37,1.08,15\n",
        "* 1966,6312.7,36.24,0.93,24.55,1.05,16\n",
        "* 1967,6056.8,38.23,0.95,24.98,1.03,17\n",
        "* 1968,6375.9,40.83,0.99,24.96,1.03,18\n",
        "* 1969,6974.3,44.62,1,25.52,0.99,19\n",
        "* 1970,7101.6,52.27,1,26.01,1,20\n",
        "* 1971,7071.7,45.16,1.02,25.46,0.96,21\n",
        "* 1972,7754.8,42.5,1.07,22.17,0.97,22\n",
        "* 1973,8480.3,43.7,1.12,18.56,0.98,23\n",
        "* 1974,8105.2,47.88,1.1,21.32,1.01,24\n",
        "* 1975,7157.2,36.33,1.07,22.75,0.94,25"
      ],
      "id": "Cl1VFns13xa-"
    },
    {
      "cell_type": "code",
      "execution_count": null,
      "metadata": {
        "id": "RSLYS9uLZfw5"
      },
      "outputs": [],
      "source": [],
      "id": "RSLYS9uLZfw5"
    },
    {
      "cell_type": "code",
      "execution_count": null,
      "metadata": {
        "id": "Zv1S56pYfUos"
      },
      "outputs": [],
      "source": [],
      "id": "Zv1S56pYfUos"
    },
    {
      "cell_type": "markdown",
      "metadata": {
        "id": "mvyHm56WQTSY"
      },
      "source": [
        "# Combining Datasets: Concat and Append"
      ],
      "id": "mvyHm56WQTSY"
    },
    {
      "cell_type": "code",
      "execution_count": null,
      "metadata": {
        "collapsed": true,
        "id": "pX0tApxaQTSZ",
        "jupyter": {
          "outputs_hidden": true
        }
      },
      "outputs": [],
      "source": [
        "import pandas as pd\n",
        "import numpy as np"
      ],
      "id": "pX0tApxaQTSZ"
    },
    {
      "cell_type": "markdown",
      "metadata": {
        "id": "EXrVJa5RQTSj"
      },
      "source": [
        "## Simple Concatenation with ``pd.concat``"
      ],
      "id": "EXrVJa5RQTSj"
    },
    {
      "cell_type": "markdown",
      "metadata": {
        "id": "ley-8FjqQTSj"
      },
      "source": [
        "Pandas has a function, ``pd.concat()``, which has a similar syntax to ``np.concatenate`` but contains a number of options that we'll discuss momentarily:\n",
        "\n",
        "```python\n",
        "# Signature in Pandas v0.18\n",
        "pd.concat(objs, axis=0, join='outer', join_axes=None, ignore_index=False,\n",
        "          keys=None, levels=None, names=None, verify_integrity=False,\n",
        "          copy=True)\n",
        "```\n",
        "\n",
        "``pd.concat()`` can be used for a simple concatenation of ``Series`` or ``DataFrame`` objects, just as ``np.concatenate()`` can be used for simple concatenations of arrays:"
      ],
      "id": "ley-8FjqQTSj"
    },
    {
      "cell_type": "code",
      "execution_count": null,
      "metadata": {
        "colab": {
          "base_uri": "https://localhost:8080/"
        },
        "id": "H4WQUUeJQTSk",
        "outputId": "079f9ae4-f688-4218-fca6-c34e5352b6f0"
      },
      "outputs": [
        {
          "data": {
            "text/plain": [
              "1    A\n",
              "2    B\n",
              "3    C\n",
              "4    D\n",
              "5    E\n",
              "6    F\n",
              "dtype: object"
            ]
          },
          "execution_count": 2,
          "metadata": {},
          "output_type": "execute_result"
        }
      ],
      "source": [
        "import pandas as pd\n",
        "ser1 = pd.Series(['A', 'B', 'C'], index=[1, 2, 3])\n",
        "ser2 = pd.Series(['D', 'E', 'F'], index=[4, 5, 6])\n",
        "pd.concat([ser1, ser2])"
      ],
      "id": "H4WQUUeJQTSk"
    },
    {
      "cell_type": "markdown",
      "metadata": {
        "id": "ANAYI1D1QTSl"
      },
      "source": [
        "It also works to concatenate higher-dimensional objects, such as ``DataFrame``s:"
      ],
      "id": "ANAYI1D1QTSl"
    },
    {
      "cell_type": "code",
      "execution_count": null,
      "metadata": {
        "colab": {
          "base_uri": "https://localhost:8080/"
        },
        "id": "IrwArcGzQTSl",
        "outputId": "79e32908-d4ba-4a87-8088-ce624dfee585"
      },
      "outputs": [
        {
          "name": "stdout",
          "output_type": "stream",
          "text": [
            "    A   B\n",
            "0  A1  B1\n",
            "1  A2  B2\n",
            "    A   B\n",
            "0  A3  B3\n",
            "1  A4  B4\n"
          ]
        }
      ],
      "source": [
        "df1 = pd.DataFrame({\"A\":[\"A1\",\"A2\"],\"B\":[\"B1\",\"B2\"]})\n",
        "print(df1)\n",
        "df2 = pd.DataFrame({\"A\":[\"A3\",\"A4\"],\"B\":[\"B3\",\"B4\"]})\n",
        "print(df2)"
      ],
      "id": "IrwArcGzQTSl"
    },
    {
      "cell_type": "markdown",
      "metadata": {
        "id": "HR84_qXNQTSm"
      },
      "source": [
        "By default, the concatenation takes place row-wise within the ``DataFrame`` (i.e., ``axis=0``).\n",
        "Like ``np.concatenate``, ``pd.concat`` allows specification of an axis along which concatenation will take place.\n",
        "Consider the following example:"
      ],
      "id": "HR84_qXNQTSm"
    },
    {
      "cell_type": "markdown",
      "metadata": {
        "id": "yMCr6KaXWcUv"
      },
      "source": [
        "### Concatenate"
      ],
      "id": "yMCr6KaXWcUv"
    },
    {
      "cell_type": "code",
      "execution_count": null,
      "metadata": {
        "colab": {
          "base_uri": "https://localhost:8080/",
          "height": 175
        },
        "id": "g8BZi6nnVzVG",
        "outputId": "2d8977c2-1cb2-4638-b44c-134f3a265713"
      },
      "outputs": [
        {
          "data": {
            "text/html": [
              "\n",
              "  <div id=\"df-605e636b-09b0-4f9c-b6dc-c0ca73b5359e\">\n",
              "    <div class=\"colab-df-container\">\n",
              "      <div>\n",
              "<style scoped>\n",
              "    .dataframe tbody tr th:only-of-type {\n",
              "        vertical-align: middle;\n",
              "    }\n",
              "\n",
              "    .dataframe tbody tr th {\n",
              "        vertical-align: top;\n",
              "    }\n",
              "\n",
              "    .dataframe thead th {\n",
              "        text-align: right;\n",
              "    }\n",
              "</style>\n",
              "<table border=\"1\" class=\"dataframe\">\n",
              "  <thead>\n",
              "    <tr style=\"text-align: right;\">\n",
              "      <th></th>\n",
              "      <th>A</th>\n",
              "      <th>B</th>\n",
              "    </tr>\n",
              "  </thead>\n",
              "  <tbody>\n",
              "    <tr>\n",
              "      <th>0</th>\n",
              "      <td>A1</td>\n",
              "      <td>B1</td>\n",
              "    </tr>\n",
              "    <tr>\n",
              "      <th>1</th>\n",
              "      <td>A2</td>\n",
              "      <td>B2</td>\n",
              "    </tr>\n",
              "    <tr>\n",
              "      <th>0</th>\n",
              "      <td>A3</td>\n",
              "      <td>B3</td>\n",
              "    </tr>\n",
              "    <tr>\n",
              "      <th>1</th>\n",
              "      <td>A4</td>\n",
              "      <td>B4</td>\n",
              "    </tr>\n",
              "  </tbody>\n",
              "</table>\n",
              "</div>\n",
              "      <button class=\"colab-df-convert\" onclick=\"convertToInteractive('df-605e636b-09b0-4f9c-b6dc-c0ca73b5359e')\"\n",
              "              title=\"Convert this dataframe to an interactive table.\"\n",
              "              style=\"display:none;\">\n",
              "        \n",
              "  <svg xmlns=\"http://www.w3.org/2000/svg\" height=\"24px\"viewBox=\"0 0 24 24\"\n",
              "       width=\"24px\">\n",
              "    <path d=\"M0 0h24v24H0V0z\" fill=\"none\"/>\n",
              "    <path d=\"M18.56 5.44l.94 2.06.94-2.06 2.06-.94-2.06-.94-.94-2.06-.94 2.06-2.06.94zm-11 1L8.5 8.5l.94-2.06 2.06-.94-2.06-.94L8.5 2.5l-.94 2.06-2.06.94zm10 10l.94 2.06.94-2.06 2.06-.94-2.06-.94-.94-2.06-.94 2.06-2.06.94z\"/><path d=\"M17.41 7.96l-1.37-1.37c-.4-.4-.92-.59-1.43-.59-.52 0-1.04.2-1.43.59L10.3 9.45l-7.72 7.72c-.78.78-.78 2.05 0 2.83L4 21.41c.39.39.9.59 1.41.59.51 0 1.02-.2 1.41-.59l7.78-7.78 2.81-2.81c.8-.78.8-2.07 0-2.86zM5.41 20L4 18.59l7.72-7.72 1.47 1.35L5.41 20z\"/>\n",
              "  </svg>\n",
              "      </button>\n",
              "      \n",
              "  <style>\n",
              "    .colab-df-container {\n",
              "      display:flex;\n",
              "      flex-wrap:wrap;\n",
              "      gap: 12px;\n",
              "    }\n",
              "\n",
              "    .colab-df-convert {\n",
              "      background-color: #E8F0FE;\n",
              "      border: none;\n",
              "      border-radius: 50%;\n",
              "      cursor: pointer;\n",
              "      display: none;\n",
              "      fill: #1967D2;\n",
              "      height: 32px;\n",
              "      padding: 0 0 0 0;\n",
              "      width: 32px;\n",
              "    }\n",
              "\n",
              "    .colab-df-convert:hover {\n",
              "      background-color: #E2EBFA;\n",
              "      box-shadow: 0px 1px 2px rgba(60, 64, 67, 0.3), 0px 1px 3px 1px rgba(60, 64, 67, 0.15);\n",
              "      fill: #174EA6;\n",
              "    }\n",
              "\n",
              "    [theme=dark] .colab-df-convert {\n",
              "      background-color: #3B4455;\n",
              "      fill: #D2E3FC;\n",
              "    }\n",
              "\n",
              "    [theme=dark] .colab-df-convert:hover {\n",
              "      background-color: #434B5C;\n",
              "      box-shadow: 0px 1px 3px 1px rgba(0, 0, 0, 0.15);\n",
              "      filter: drop-shadow(0px 1px 2px rgba(0, 0, 0, 0.3));\n",
              "      fill: #FFFFFF;\n",
              "    }\n",
              "  </style>\n",
              "\n",
              "      <script>\n",
              "        const buttonEl =\n",
              "          document.querySelector('#df-605e636b-09b0-4f9c-b6dc-c0ca73b5359e button.colab-df-convert');\n",
              "        buttonEl.style.display =\n",
              "          google.colab.kernel.accessAllowed ? 'block' : 'none';\n",
              "\n",
              "        async function convertToInteractive(key) {\n",
              "          const element = document.querySelector('#df-605e636b-09b0-4f9c-b6dc-c0ca73b5359e');\n",
              "          const dataTable =\n",
              "            await google.colab.kernel.invokeFunction('convertToInteractive',\n",
              "                                                     [key], {});\n",
              "          if (!dataTable) return;\n",
              "\n",
              "          const docLinkHtml = 'Like what you see? Visit the ' +\n",
              "            '<a target=\"_blank\" href=https://colab.research.google.com/notebooks/data_table.ipynb>data table notebook</a>'\n",
              "            + ' to learn more about interactive tables.';\n",
              "          element.innerHTML = '';\n",
              "          dataTable['output_type'] = 'display_data';\n",
              "          await google.colab.output.renderOutput(dataTable, element);\n",
              "          const docLink = document.createElement('div');\n",
              "          docLink.innerHTML = docLinkHtml;\n",
              "          element.appendChild(docLink);\n",
              "        }\n",
              "      </script>\n",
              "    </div>\n",
              "  </div>\n",
              "  "
            ],
            "text/plain": [
              "    A   B\n",
              "0  A1  B1\n",
              "1  A2  B2\n",
              "0  A3  B3\n",
              "1  A4  B4"
            ]
          },
          "execution_count": 8,
          "metadata": {},
          "output_type": "execute_result"
        }
      ],
      "source": [
        "pd.concat([df1,df2])"
      ],
      "id": "g8BZi6nnVzVG"
    },
    {
      "cell_type": "code",
      "execution_count": null,
      "metadata": {
        "colab": {
          "base_uri": "https://localhost:8080/",
          "height": 112
        },
        "id": "DCdpNoC5V6Ic",
        "outputId": "95d1c812-03aa-4c70-c586-9139170e70a1"
      },
      "outputs": [
        {
          "data": {
            "text/html": [
              "\n",
              "  <div id=\"df-a1cbbd73-c880-4d3e-bc3c-a30757b4ae5d\">\n",
              "    <div class=\"colab-df-container\">\n",
              "      <div>\n",
              "<style scoped>\n",
              "    .dataframe tbody tr th:only-of-type {\n",
              "        vertical-align: middle;\n",
              "    }\n",
              "\n",
              "    .dataframe tbody tr th {\n",
              "        vertical-align: top;\n",
              "    }\n",
              "\n",
              "    .dataframe thead th {\n",
              "        text-align: right;\n",
              "    }\n",
              "</style>\n",
              "<table border=\"1\" class=\"dataframe\">\n",
              "  <thead>\n",
              "    <tr style=\"text-align: right;\">\n",
              "      <th></th>\n",
              "      <th>A</th>\n",
              "      <th>B</th>\n",
              "      <th>A</th>\n",
              "      <th>B</th>\n",
              "    </tr>\n",
              "  </thead>\n",
              "  <tbody>\n",
              "    <tr>\n",
              "      <th>0</th>\n",
              "      <td>A1</td>\n",
              "      <td>B1</td>\n",
              "      <td>A3</td>\n",
              "      <td>B3</td>\n",
              "    </tr>\n",
              "    <tr>\n",
              "      <th>1</th>\n",
              "      <td>A2</td>\n",
              "      <td>B2</td>\n",
              "      <td>A4</td>\n",
              "      <td>B4</td>\n",
              "    </tr>\n",
              "  </tbody>\n",
              "</table>\n",
              "</div>\n",
              "      <button class=\"colab-df-convert\" onclick=\"convertToInteractive('df-a1cbbd73-c880-4d3e-bc3c-a30757b4ae5d')\"\n",
              "              title=\"Convert this dataframe to an interactive table.\"\n",
              "              style=\"display:none;\">\n",
              "        \n",
              "  <svg xmlns=\"http://www.w3.org/2000/svg\" height=\"24px\"viewBox=\"0 0 24 24\"\n",
              "       width=\"24px\">\n",
              "    <path d=\"M0 0h24v24H0V0z\" fill=\"none\"/>\n",
              "    <path d=\"M18.56 5.44l.94 2.06.94-2.06 2.06-.94-2.06-.94-.94-2.06-.94 2.06-2.06.94zm-11 1L8.5 8.5l.94-2.06 2.06-.94-2.06-.94L8.5 2.5l-.94 2.06-2.06.94zm10 10l.94 2.06.94-2.06 2.06-.94-2.06-.94-.94-2.06-.94 2.06-2.06.94z\"/><path d=\"M17.41 7.96l-1.37-1.37c-.4-.4-.92-.59-1.43-.59-.52 0-1.04.2-1.43.59L10.3 9.45l-7.72 7.72c-.78.78-.78 2.05 0 2.83L4 21.41c.39.39.9.59 1.41.59.51 0 1.02-.2 1.41-.59l7.78-7.78 2.81-2.81c.8-.78.8-2.07 0-2.86zM5.41 20L4 18.59l7.72-7.72 1.47 1.35L5.41 20z\"/>\n",
              "  </svg>\n",
              "      </button>\n",
              "      \n",
              "  <style>\n",
              "    .colab-df-container {\n",
              "      display:flex;\n",
              "      flex-wrap:wrap;\n",
              "      gap: 12px;\n",
              "    }\n",
              "\n",
              "    .colab-df-convert {\n",
              "      background-color: #E8F0FE;\n",
              "      border: none;\n",
              "      border-radius: 50%;\n",
              "      cursor: pointer;\n",
              "      display: none;\n",
              "      fill: #1967D2;\n",
              "      height: 32px;\n",
              "      padding: 0 0 0 0;\n",
              "      width: 32px;\n",
              "    }\n",
              "\n",
              "    .colab-df-convert:hover {\n",
              "      background-color: #E2EBFA;\n",
              "      box-shadow: 0px 1px 2px rgba(60, 64, 67, 0.3), 0px 1px 3px 1px rgba(60, 64, 67, 0.15);\n",
              "      fill: #174EA6;\n",
              "    }\n",
              "\n",
              "    [theme=dark] .colab-df-convert {\n",
              "      background-color: #3B4455;\n",
              "      fill: #D2E3FC;\n",
              "    }\n",
              "\n",
              "    [theme=dark] .colab-df-convert:hover {\n",
              "      background-color: #434B5C;\n",
              "      box-shadow: 0px 1px 3px 1px rgba(0, 0, 0, 0.15);\n",
              "      filter: drop-shadow(0px 1px 2px rgba(0, 0, 0, 0.3));\n",
              "      fill: #FFFFFF;\n",
              "    }\n",
              "  </style>\n",
              "\n",
              "      <script>\n",
              "        const buttonEl =\n",
              "          document.querySelector('#df-a1cbbd73-c880-4d3e-bc3c-a30757b4ae5d button.colab-df-convert');\n",
              "        buttonEl.style.display =\n",
              "          google.colab.kernel.accessAllowed ? 'block' : 'none';\n",
              "\n",
              "        async function convertToInteractive(key) {\n",
              "          const element = document.querySelector('#df-a1cbbd73-c880-4d3e-bc3c-a30757b4ae5d');\n",
              "          const dataTable =\n",
              "            await google.colab.kernel.invokeFunction('convertToInteractive',\n",
              "                                                     [key], {});\n",
              "          if (!dataTable) return;\n",
              "\n",
              "          const docLinkHtml = 'Like what you see? Visit the ' +\n",
              "            '<a target=\"_blank\" href=https://colab.research.google.com/notebooks/data_table.ipynb>data table notebook</a>'\n",
              "            + ' to learn more about interactive tables.';\n",
              "          element.innerHTML = '';\n",
              "          dataTable['output_type'] = 'display_data';\n",
              "          await google.colab.output.renderOutput(dataTable, element);\n",
              "          const docLink = document.createElement('div');\n",
              "          docLink.innerHTML = docLinkHtml;\n",
              "          element.appendChild(docLink);\n",
              "        }\n",
              "      </script>\n",
              "    </div>\n",
              "  </div>\n",
              "  "
            ],
            "text/plain": [
              "    A   B   A   B\n",
              "0  A1  B1  A3  B3\n",
              "1  A2  B2  A4  B4"
            ]
          },
          "execution_count": 9,
          "metadata": {},
          "output_type": "execute_result"
        }
      ],
      "source": [
        "pd.concat([df1,df2],axis=1)"
      ],
      "id": "DCdpNoC5V6Ic"
    },
    {
      "cell_type": "markdown",
      "metadata": {
        "id": "u7DnG0YrQTSn"
      },
      "source": [
        "### Duplicate indices\n",
        "* Note that you are getting duplicate indicies\n",
        "* Try following code to remove indicies"
      ],
      "id": "u7DnG0YrQTSn"
    },
    {
      "cell_type": "markdown",
      "metadata": {
        "id": "q3lfj4FfQTSo"
      },
      "source": [
        "#### Ignoring the index\n",
        "\n",
        "Sometimes the index itself does not matter, and you would prefer it to simply be ignored.\n",
        "This option can be specified using the ``ignore_index`` flag.\n",
        "With this set to true, the concatenation will create a new integer index for the resulting ``Series``:"
      ],
      "id": "q3lfj4FfQTSo"
    },
    {
      "cell_type": "code",
      "execution_count": null,
      "metadata": {
        "colab": {
          "base_uri": "https://localhost:8080/",
          "height": 175
        },
        "id": "uo7FTycpQTSo",
        "outputId": "b2e55e8f-c95f-4dff-f0c5-d46a98e6bc40"
      },
      "outputs": [
        {
          "data": {
            "text/html": [
              "\n",
              "  <div id=\"df-aa291ee4-80a3-4841-9d16-dc88c3d31bc7\">\n",
              "    <div class=\"colab-df-container\">\n",
              "      <div>\n",
              "<style scoped>\n",
              "    .dataframe tbody tr th:only-of-type {\n",
              "        vertical-align: middle;\n",
              "    }\n",
              "\n",
              "    .dataframe tbody tr th {\n",
              "        vertical-align: top;\n",
              "    }\n",
              "\n",
              "    .dataframe thead th {\n",
              "        text-align: right;\n",
              "    }\n",
              "</style>\n",
              "<table border=\"1\" class=\"dataframe\">\n",
              "  <thead>\n",
              "    <tr style=\"text-align: right;\">\n",
              "      <th></th>\n",
              "      <th>A</th>\n",
              "      <th>B</th>\n",
              "    </tr>\n",
              "  </thead>\n",
              "  <tbody>\n",
              "    <tr>\n",
              "      <th>0</th>\n",
              "      <td>A1</td>\n",
              "      <td>B1</td>\n",
              "    </tr>\n",
              "    <tr>\n",
              "      <th>1</th>\n",
              "      <td>A2</td>\n",
              "      <td>B2</td>\n",
              "    </tr>\n",
              "    <tr>\n",
              "      <th>2</th>\n",
              "      <td>A3</td>\n",
              "      <td>B3</td>\n",
              "    </tr>\n",
              "    <tr>\n",
              "      <th>3</th>\n",
              "      <td>A4</td>\n",
              "      <td>B4</td>\n",
              "    </tr>\n",
              "  </tbody>\n",
              "</table>\n",
              "</div>\n",
              "      <button class=\"colab-df-convert\" onclick=\"convertToInteractive('df-aa291ee4-80a3-4841-9d16-dc88c3d31bc7')\"\n",
              "              title=\"Convert this dataframe to an interactive table.\"\n",
              "              style=\"display:none;\">\n",
              "        \n",
              "  <svg xmlns=\"http://www.w3.org/2000/svg\" height=\"24px\"viewBox=\"0 0 24 24\"\n",
              "       width=\"24px\">\n",
              "    <path d=\"M0 0h24v24H0V0z\" fill=\"none\"/>\n",
              "    <path d=\"M18.56 5.44l.94 2.06.94-2.06 2.06-.94-2.06-.94-.94-2.06-.94 2.06-2.06.94zm-11 1L8.5 8.5l.94-2.06 2.06-.94-2.06-.94L8.5 2.5l-.94 2.06-2.06.94zm10 10l.94 2.06.94-2.06 2.06-.94-2.06-.94-.94-2.06-.94 2.06-2.06.94z\"/><path d=\"M17.41 7.96l-1.37-1.37c-.4-.4-.92-.59-1.43-.59-.52 0-1.04.2-1.43.59L10.3 9.45l-7.72 7.72c-.78.78-.78 2.05 0 2.83L4 21.41c.39.39.9.59 1.41.59.51 0 1.02-.2 1.41-.59l7.78-7.78 2.81-2.81c.8-.78.8-2.07 0-2.86zM5.41 20L4 18.59l7.72-7.72 1.47 1.35L5.41 20z\"/>\n",
              "  </svg>\n",
              "      </button>\n",
              "      \n",
              "  <style>\n",
              "    .colab-df-container {\n",
              "      display:flex;\n",
              "      flex-wrap:wrap;\n",
              "      gap: 12px;\n",
              "    }\n",
              "\n",
              "    .colab-df-convert {\n",
              "      background-color: #E8F0FE;\n",
              "      border: none;\n",
              "      border-radius: 50%;\n",
              "      cursor: pointer;\n",
              "      display: none;\n",
              "      fill: #1967D2;\n",
              "      height: 32px;\n",
              "      padding: 0 0 0 0;\n",
              "      width: 32px;\n",
              "    }\n",
              "\n",
              "    .colab-df-convert:hover {\n",
              "      background-color: #E2EBFA;\n",
              "      box-shadow: 0px 1px 2px rgba(60, 64, 67, 0.3), 0px 1px 3px 1px rgba(60, 64, 67, 0.15);\n",
              "      fill: #174EA6;\n",
              "    }\n",
              "\n",
              "    [theme=dark] .colab-df-convert {\n",
              "      background-color: #3B4455;\n",
              "      fill: #D2E3FC;\n",
              "    }\n",
              "\n",
              "    [theme=dark] .colab-df-convert:hover {\n",
              "      background-color: #434B5C;\n",
              "      box-shadow: 0px 1px 3px 1px rgba(0, 0, 0, 0.15);\n",
              "      filter: drop-shadow(0px 1px 2px rgba(0, 0, 0, 0.3));\n",
              "      fill: #FFFFFF;\n",
              "    }\n",
              "  </style>\n",
              "\n",
              "      <script>\n",
              "        const buttonEl =\n",
              "          document.querySelector('#df-aa291ee4-80a3-4841-9d16-dc88c3d31bc7 button.colab-df-convert');\n",
              "        buttonEl.style.display =\n",
              "          google.colab.kernel.accessAllowed ? 'block' : 'none';\n",
              "\n",
              "        async function convertToInteractive(key) {\n",
              "          const element = document.querySelector('#df-aa291ee4-80a3-4841-9d16-dc88c3d31bc7');\n",
              "          const dataTable =\n",
              "            await google.colab.kernel.invokeFunction('convertToInteractive',\n",
              "                                                     [key], {});\n",
              "          if (!dataTable) return;\n",
              "\n",
              "          const docLinkHtml = 'Like what you see? Visit the ' +\n",
              "            '<a target=\"_blank\" href=https://colab.research.google.com/notebooks/data_table.ipynb>data table notebook</a>'\n",
              "            + ' to learn more about interactive tables.';\n",
              "          element.innerHTML = '';\n",
              "          dataTable['output_type'] = 'display_data';\n",
              "          await google.colab.output.renderOutput(dataTable, element);\n",
              "          const docLink = document.createElement('div');\n",
              "          docLink.innerHTML = docLinkHtml;\n",
              "          element.appendChild(docLink);\n",
              "        }\n",
              "      </script>\n",
              "    </div>\n",
              "  </div>\n",
              "  "
            ],
            "text/plain": [
              "    A   B\n",
              "0  A1  B1\n",
              "1  A2  B2\n",
              "2  A3  B3\n",
              "3  A4  B4"
            ]
          },
          "execution_count": 10,
          "metadata": {},
          "output_type": "execute_result"
        }
      ],
      "source": [
        "pd.concat([df1, df2], ignore_index=True)"
      ],
      "id": "uo7FTycpQTSo"
    },
    {
      "cell_type": "markdown",
      "metadata": {
        "id": "GHH31MzFQTSr"
      },
      "source": [
        "### The ``append()`` method\n",
        "\n",
        "Because direct array concatenation is so common, ``Series`` and ``DataFrame`` objects have an ``append`` method that can accomplish the same thing in fewer keystrokes.\n",
        "For example, rather than calling ``pd.concat([df1, df2])``, you can simply call ``df1.append(df2)``:"
      ],
      "id": "GHH31MzFQTSr"
    },
    {
      "cell_type": "code",
      "execution_count": null,
      "metadata": {
        "colab": {
          "base_uri": "https://localhost:8080/",
          "height": 175
        },
        "id": "3XpHmh_GQTSr",
        "outputId": "0eaafd4b-d283-4383-eaa4-99bad61b8d5f"
      },
      "outputs": [
        {
          "data": {
            "text/html": [
              "\n",
              "  <div id=\"df-12f6ec41-795f-4dee-97df-f54a5959e541\">\n",
              "    <div class=\"colab-df-container\">\n",
              "      <div>\n",
              "<style scoped>\n",
              "    .dataframe tbody tr th:only-of-type {\n",
              "        vertical-align: middle;\n",
              "    }\n",
              "\n",
              "    .dataframe tbody tr th {\n",
              "        vertical-align: top;\n",
              "    }\n",
              "\n",
              "    .dataframe thead th {\n",
              "        text-align: right;\n",
              "    }\n",
              "</style>\n",
              "<table border=\"1\" class=\"dataframe\">\n",
              "  <thead>\n",
              "    <tr style=\"text-align: right;\">\n",
              "      <th></th>\n",
              "      <th>A</th>\n",
              "      <th>B</th>\n",
              "    </tr>\n",
              "  </thead>\n",
              "  <tbody>\n",
              "    <tr>\n",
              "      <th>0</th>\n",
              "      <td>A1</td>\n",
              "      <td>B1</td>\n",
              "    </tr>\n",
              "    <tr>\n",
              "      <th>1</th>\n",
              "      <td>A2</td>\n",
              "      <td>B2</td>\n",
              "    </tr>\n",
              "    <tr>\n",
              "      <th>0</th>\n",
              "      <td>A3</td>\n",
              "      <td>B3</td>\n",
              "    </tr>\n",
              "    <tr>\n",
              "      <th>1</th>\n",
              "      <td>A4</td>\n",
              "      <td>B4</td>\n",
              "    </tr>\n",
              "  </tbody>\n",
              "</table>\n",
              "</div>\n",
              "      <button class=\"colab-df-convert\" onclick=\"convertToInteractive('df-12f6ec41-795f-4dee-97df-f54a5959e541')\"\n",
              "              title=\"Convert this dataframe to an interactive table.\"\n",
              "              style=\"display:none;\">\n",
              "        \n",
              "  <svg xmlns=\"http://www.w3.org/2000/svg\" height=\"24px\"viewBox=\"0 0 24 24\"\n",
              "       width=\"24px\">\n",
              "    <path d=\"M0 0h24v24H0V0z\" fill=\"none\"/>\n",
              "    <path d=\"M18.56 5.44l.94 2.06.94-2.06 2.06-.94-2.06-.94-.94-2.06-.94 2.06-2.06.94zm-11 1L8.5 8.5l.94-2.06 2.06-.94-2.06-.94L8.5 2.5l-.94 2.06-2.06.94zm10 10l.94 2.06.94-2.06 2.06-.94-2.06-.94-.94-2.06-.94 2.06-2.06.94z\"/><path d=\"M17.41 7.96l-1.37-1.37c-.4-.4-.92-.59-1.43-.59-.52 0-1.04.2-1.43.59L10.3 9.45l-7.72 7.72c-.78.78-.78 2.05 0 2.83L4 21.41c.39.39.9.59 1.41.59.51 0 1.02-.2 1.41-.59l7.78-7.78 2.81-2.81c.8-.78.8-2.07 0-2.86zM5.41 20L4 18.59l7.72-7.72 1.47 1.35L5.41 20z\"/>\n",
              "  </svg>\n",
              "      </button>\n",
              "      \n",
              "  <style>\n",
              "    .colab-df-container {\n",
              "      display:flex;\n",
              "      flex-wrap:wrap;\n",
              "      gap: 12px;\n",
              "    }\n",
              "\n",
              "    .colab-df-convert {\n",
              "      background-color: #E8F0FE;\n",
              "      border: none;\n",
              "      border-radius: 50%;\n",
              "      cursor: pointer;\n",
              "      display: none;\n",
              "      fill: #1967D2;\n",
              "      height: 32px;\n",
              "      padding: 0 0 0 0;\n",
              "      width: 32px;\n",
              "    }\n",
              "\n",
              "    .colab-df-convert:hover {\n",
              "      background-color: #E2EBFA;\n",
              "      box-shadow: 0px 1px 2px rgba(60, 64, 67, 0.3), 0px 1px 3px 1px rgba(60, 64, 67, 0.15);\n",
              "      fill: #174EA6;\n",
              "    }\n",
              "\n",
              "    [theme=dark] .colab-df-convert {\n",
              "      background-color: #3B4455;\n",
              "      fill: #D2E3FC;\n",
              "    }\n",
              "\n",
              "    [theme=dark] .colab-df-convert:hover {\n",
              "      background-color: #434B5C;\n",
              "      box-shadow: 0px 1px 3px 1px rgba(0, 0, 0, 0.15);\n",
              "      filter: drop-shadow(0px 1px 2px rgba(0, 0, 0, 0.3));\n",
              "      fill: #FFFFFF;\n",
              "    }\n",
              "  </style>\n",
              "\n",
              "      <script>\n",
              "        const buttonEl =\n",
              "          document.querySelector('#df-12f6ec41-795f-4dee-97df-f54a5959e541 button.colab-df-convert');\n",
              "        buttonEl.style.display =\n",
              "          google.colab.kernel.accessAllowed ? 'block' : 'none';\n",
              "\n",
              "        async function convertToInteractive(key) {\n",
              "          const element = document.querySelector('#df-12f6ec41-795f-4dee-97df-f54a5959e541');\n",
              "          const dataTable =\n",
              "            await google.colab.kernel.invokeFunction('convertToInteractive',\n",
              "                                                     [key], {});\n",
              "          if (!dataTable) return;\n",
              "\n",
              "          const docLinkHtml = 'Like what you see? Visit the ' +\n",
              "            '<a target=\"_blank\" href=https://colab.research.google.com/notebooks/data_table.ipynb>data table notebook</a>'\n",
              "            + ' to learn more about interactive tables.';\n",
              "          element.innerHTML = '';\n",
              "          dataTable['output_type'] = 'display_data';\n",
              "          await google.colab.output.renderOutput(dataTable, element);\n",
              "          const docLink = document.createElement('div');\n",
              "          docLink.innerHTML = docLinkHtml;\n",
              "          element.appendChild(docLink);\n",
              "        }\n",
              "      </script>\n",
              "    </div>\n",
              "  </div>\n",
              "  "
            ],
            "text/plain": [
              "    A   B\n",
              "0  A1  B1\n",
              "1  A2  B2\n",
              "0  A3  B3\n",
              "1  A4  B4"
            ]
          },
          "execution_count": 22,
          "metadata": {},
          "output_type": "execute_result"
        }
      ],
      "source": [
        " df1.append(df2)"
      ],
      "id": "3XpHmh_GQTSr"
    },
    {
      "cell_type": "markdown",
      "metadata": {
        "id": "DGFvwQBGQTSt"
      },
      "source": [
        "Note that the ``append()`` method in Pandas does not modify the original object–instead it creates a new object with the combined data.\n",
        "It also is not a very efficient method, because it involves creation of a new index *and* data buffer.\n",
        "Thus, if you plan to do multiple ``append`` operations, it is generally better to build a list of ``DataFrame``s and pass them all at once to the ``concat()`` function.\n"
      ],
      "id": "DGFvwQBGQTSt"
    },
    {
      "cell_type": "code",
      "execution_count": null,
      "metadata": {
        "id": "QFS5w36YfUox"
      },
      "outputs": [],
      "source": [],
      "id": "QFS5w36YfUox"
    },
    {
      "cell_type": "code",
      "execution_count": null,
      "metadata": {
        "id": "ks7tjynSfUox"
      },
      "outputs": [],
      "source": [],
      "id": "ks7tjynSfUox"
    },
    {
      "cell_type": "code",
      "execution_count": null,
      "metadata": {
        "id": "bwuKjp7ufUox",
        "outputId": "d1a0f0cb-78a5-41e6-d1ff-b11b6b255a1d"
      },
      "outputs": [
        {
          "data": {
            "text/plain": [
              "7"
            ]
          },
          "execution_count": 1,
          "metadata": {},
          "output_type": "execute_result"
        }
      ],
      "source": [
        "7"
      ],
      "id": "bwuKjp7ufUox"
    },
    {
      "cell_type": "code",
      "execution_count": null,
      "metadata": {
        "id": "MEpCXXSKfUoy"
      },
      "outputs": [],
      "source": [
        "'string' # this object from class 'str'"
      ],
      "id": "MEpCXXSKfUoy"
    },
    {
      "cell_type": "code",
      "execution_count": null,
      "metadata": {
        "id": "k8BBWspofUoy",
        "outputId": "2e5835de-7191-4ccc-8669-7e374885fe3c"
      },
      "outputs": [
        {
          "data": {
            "text/plain": [
              "'INSOFE'"
            ]
          },
          "execution_count": 13,
          "metadata": {},
          "output_type": "execute_result"
        }
      ],
      "source": [
        "S.upper()"
      ],
      "id": "k8BBWspofUoy"
    },
    {
      "cell_type": "raw",
      "metadata": {
        "id": "g3ZaZh_dfUoz"
      },
      "source": [
        "class list"
      ],
      "id": "g3ZaZh_dfUoz"
    },
    {
      "cell_type": "code",
      "execution_count": null,
      "metadata": {
        "id": "Pe34JihdfUoz"
      },
      "outputs": [],
      "source": [
        "L1 = [1,2,3,4] # creating an instance of class list as a result \n",
        "            # I got object [1,2,3] assigned to variable L"
      ],
      "id": "Pe34JihdfUoz"
    },
    {
      "cell_type": "code",
      "execution_count": null,
      "metadata": {
        "id": "3UuX9aEwfUoz"
      },
      "outputs": [],
      "source": [
        "C = 2"
      ],
      "id": "3UuX9aEwfUoz"
    },
    {
      "cell_type": "code",
      "execution_count": null,
      "metadata": {
        "id": "Ii_UXrvOfUo0",
        "outputId": "5dd97bf5-4605-493f-a253-ba1eabd4d13d"
      },
      "outputs": [
        {
          "name": "stdout",
          "output_type": "stream",
          "text": [
            "<class 'int'>\n"
          ]
        }
      ],
      "source": [
        "print(type(C))"
      ],
      "id": "Ii_UXrvOfUo0"
    },
    {
      "cell_type": "code",
      "execution_count": null,
      "metadata": {
        "id": "ZMs5JmXkfUo0"
      },
      "outputs": [],
      "source": [
        "S = 'INSOFE'"
      ],
      "id": "ZMs5JmXkfUo0"
    },
    {
      "cell_type": "code",
      "execution_count": null,
      "metadata": {
        "id": "94D77pMCfUo2",
        "outputId": "f36bf097-bb30-46c4-f383-eb6d0d16b9e4"
      },
      "outputs": [
        {
          "data": {
            "text/plain": [
              "'INSOFA'"
            ]
          },
          "execution_count": 49,
          "metadata": {},
          "output_type": "execute_result"
        }
      ],
      "source": [
        "S.replace('E','A') # string methods"
      ],
      "id": "94D77pMCfUo2"
    },
    {
      "cell_type": "code",
      "execution_count": null,
      "metadata": {
        "id": "Zh6vbfjcfUo2",
        "outputId": "b26ee776-c28b-4900-a036-195037569226"
      },
      "outputs": [
        {
          "data": {
            "text/plain": [
              "'Titanic (1997)'"
            ]
          },
          "execution_count": 47,
          "metadata": {},
          "output_type": "execute_result"
        }
      ],
      "source": [
        "titanic.wiki_name()"
      ],
      "id": "Zh6vbfjcfUo2"
    },
    {
      "cell_type": "code",
      "execution_count": null,
      "metadata": {
        "id": "Um5mUfZmfUo3",
        "outputId": "c979e8bb-49b6-4468-c9db-093ba3aab65c"
      },
      "outputs": [
        {
          "name": "stdout",
          "output_type": "stream",
          "text": [
            "<class 'str'>\n"
          ]
        }
      ],
      "source": [
        "print(type(S))"
      ],
      "id": "Um5mUfZmfUo3"
    },
    {
      "cell_type": "code",
      "execution_count": null,
      "metadata": {
        "id": "A5Si857pfUo3",
        "outputId": "0618abc6-22d1-46d1-8e0b-a65fa4a4ae5a"
      },
      "outputs": [
        {
          "name": "stdout",
          "output_type": "stream",
          "text": [
            "[1, 2, 3]\n"
          ]
        }
      ],
      "source": [
        "print(L)"
      ],
      "id": "A5Si857pfUo3"
    },
    {
      "cell_type": "code",
      "execution_count": null,
      "metadata": {
        "id": "8wVS-Y0jfUo3",
        "outputId": "4c11c0da-86ea-4eb9-cb3b-f514a49e1651"
      },
      "outputs": [
        {
          "name": "stdout",
          "output_type": "stream",
          "text": [
            "<class 'list'>\n"
          ]
        }
      ],
      "source": [
        "print(type(L))"
      ],
      "id": "8wVS-Y0jfUo3"
    },
    {
      "cell_type": "raw",
      "metadata": {
        "id": "ZbDMPFgjfUo4"
      },
      "source": [
        "str,int,list are builtin objects"
      ],
      "id": "ZbDMPFgjfUo4"
    },
    {
      "cell_type": "raw",
      "metadata": {
        "id": "Is2DE5R8fUo4"
      },
      "source": [
        "custom object - plot that you make in matplotlib"
      ],
      "id": "Is2DE5R8fUo4"
    },
    {
      "cell_type": "raw",
      "metadata": {
        "id": "UIhCHGwffUo4"
      },
      "source": [
        "custom objects can be created by defining a class"
      ],
      "id": "UIhCHGwffUo4"
    },
    {
      "cell_type": "raw",
      "metadata": {
        "id": "6syKsHK9fUo4"
      },
      "source": [
        "classes are the basis of OOPs"
      ],
      "id": "6syKsHK9fUo4"
    },
    {
      "cell_type": "markdown",
      "metadata": {
        "id": "t9Wc2n-xfUo4"
      },
      "source": [
        "## Object Oriented Programming\n",
        "\n",
        "\n",
        "Python is a multi-paradigm programming language. It supports different programming approaches.\n",
        "\n",
        "One of the popular approaches to solve a programming problem is by creating objects. This is known as Object-Oriented Programming (OOP).\n",
        "\n",
        "### Classes\n",
        "\n",
        "* __Classes__ provide a means of bundling __data__ and __functionality__ together. \n",
        "* Each class instance can have __attributes__ attached to it for _maintaining_ its __state__. \n",
        "* Class instances can also have __methods__ (defined by its class) for _modifying_ its __state__.\n",
        "* Creating a new class _creates_ a __new type__ of object, allowing new instances of that type to be made. \n",
        "\n",
        "Class is a blueprint or template for creating an object. No storage is assigned when we define a class.\n",
        "\n",
        "### Create an empty MovieBase class\n",
        "\n",
        "* Define a class by use the `class` keyword followed by the `<<class name>>` that you want to give to the class, and then a colon symbol `:`. \n",
        "\n",
        "* The class definition starts from the next line and it should be indented.\n",
        "\n",
        "### Object\n",
        "\n",
        "An object (instance) is an instantiation of a class. When class is defined, only the description for the object is defined. Therefore, no memory or storage is allocated."
      ],
      "id": "t9Wc2n-xfUo4"
    },
    {
      "cell_type": "raw",
      "metadata": {
        "id": "vCc3pijAfUo5"
      },
      "source": [
        "class <classname>:\n",
        "    statements"
      ],
      "id": "vCc3pijAfUo5"
    },
    {
      "cell_type": "code",
      "execution_count": null,
      "metadata": {
        "id": "U2F25kpSfUo5"
      },
      "outputs": [],
      "source": [
        "class MovieBase: # header\n",
        "    pass # body"
      ],
      "id": "U2F25kpSfUo5"
    },
    {
      "cell_type": "raw",
      "metadata": {
        "id": "k5ks1l40fUo5"
      },
      "source": [
        "def myfun:\n",
        "    pass"
      ],
      "id": "k5ks1l40fUo5"
    },
    {
      "cell_type": "raw",
      "metadata": {
        "id": "Ali3ZdLbfUo6"
      },
      "source": [
        "myfun()"
      ],
      "id": "Ali3ZdLbfUo6"
    },
    {
      "cell_type": "code",
      "execution_count": null,
      "metadata": {
        "id": "B9TZMLEQfUo6"
      },
      "outputs": [],
      "source": [
        "mv = MovieBase() # Test this after deleting the pass statement; A class cannot be empty"
      ],
      "id": "B9TZMLEQfUo6"
    },
    {
      "cell_type": "markdown",
      "metadata": {
        "id": "qmT48mKrfUo6"
      },
      "source": [
        "__Object Name Naming Convention__: Object names should be lowercase, with words separated by underscores as necessary to improve readability."
      ],
      "id": "qmT48mKrfUo6"
    },
    {
      "cell_type": "markdown",
      "metadata": {
        "id": "i8mXlXG1fUo6"
      },
      "source": [
        "### `self` \n",
        " \n",
        "Class methods must have an extra first parameter `self` in the method definition. We do not give a value for this parameter when we call the method, Python provides it.\n",
        "\n",
        "For e.g. \n",
        "\n",
        "```python \n",
        "class MyClass:\n",
        "    \n",
        "    def method(self, parm1, parm2):\n",
        "        pass\n",
        "\n",
        "my_obj = MyClass()\n",
        "my_obj.method(arg1, arg2)\n",
        "```\n",
        "\n",
        "When the method of the `my_obj` object is called i.e. `my_obj.method(arg1, arg2)`, it is automatically converted by Python into `MyClass.method(my_obj, arg1, arg2)`"
      ],
      "id": "i8mXlXG1fUo6"
    },
    {
      "cell_type": "code",
      "execution_count": null,
      "metadata": {
        "id": "0RPCgZ_hfUo7",
        "outputId": "8a3f309c-2497-4968-d108-2aaf60014946"
      },
      "outputs": [
        {
          "name": "stdout",
          "output_type": "stream",
          "text": [
            "<__main__.MovieBase object at 0x7fafb7b9dc70>\n",
            "<__main__.MovieBase object at 0x7fafb7b9dbe0>\n"
          ]
        }
      ],
      "source": [
        "movie_1 = MovieBase() # This is an instance of a class; An object is created\n",
        "movie_2 = MovieBase()\n",
        "\n",
        "print(movie_1)\n",
        "print(movie_2)\n",
        "\n",
        "# MovieBase is a class movie_1 and 2 are instances of the class\n",
        "\n",
        "# name, year and genre are attributes; movie_1.name is an instance of that attribute which is related to movie_1; "
      ],
      "id": "0RPCgZ_hfUo7"
    },
    {
      "cell_type": "code",
      "execution_count": null,
      "metadata": {
        "id": "UsLt6_UPfUo7"
      },
      "outputs": [],
      "source": [
        "class MovieBase:\n",
        "    \n",
        "    \"\"\"\n",
        "    A class to represent the movies that I have seen/heard of.\n",
        "    ...\n",
        "\n",
        "    Attributes\n",
        "    ----------\n",
        "    name : str\n",
        "        Name of the movie\n",
        "    year : str \n",
        "        year in whcih the movie was released\n",
        "    \n",
        "    genre : str\n",
        "        movie genre\n",
        "        \n",
        "    counrty:str\n",
        "        The country in which it was originaly produced\n",
        " \n",
        "\n",
        "    Methods\n",
        "    -------\n",
        "    Wiki_name()\n",
        "        Returns the name of the movie with year of release in brackets as in Wikipedia\n",
        "    \"\"\"\n",
        "    \n",
        "    def __init__ (self, name, year, genre): # __init__ method is within the class MovieBase\n",
        "                                                #initialize - self is the instance convention more than anything\n",
        "            \n",
        "        \"\"\"\n",
        "        Initialises movie attributes.\n",
        "\n",
        "        Parameters\n",
        "        ----------\n",
        "            name : str\n",
        "                Name of the movie\n",
        "            year : int\n",
        "                Year of release\n",
        "            genre : int\n",
        "                Major genre\n",
        "        \"\"\"\n",
        "        self.name = name # creating instance variables - attributes\n",
        "        self.year = year\n",
        "        self.genre = genre\n",
        "        self.concise = name+'; '+str(year)+'; '+genre"
      ],
      "id": "UsLt6_UPfUo7"
    },
    {
      "cell_type": "markdown",
      "metadata": {
        "id": "0JvPmc8tfUo8"
      },
      "source": [
        "### method is a function present inside a class; __init__ is a method - the init method"
      ],
      "id": "0JvPmc8tfUo8"
    },
    {
      "cell_type": "code",
      "execution_count": null,
      "metadata": {
        "id": "aRX7hRyDfUo8"
      },
      "outputs": [],
      "source": [
        "class Newspaper:\n",
        "    \n",
        "    def __init__ (self, name, language, city): \n",
        "            \n",
        "        self.name = name # creating instance variables - attributes\n",
        "        self.language = language\n",
        "        self.city = city\n",
        "        "
      ],
      "id": "aRX7hRyDfUo8"
    },
    {
      "cell_type": "code",
      "execution_count": null,
      "metadata": {
        "id": "ng4GeYx5fUo8"
      },
      "outputs": [],
      "source": [
        "Times = Newspaper('The Times Of India','English','Many')"
      ],
      "id": "ng4GeYx5fUo8"
    },
    {
      "cell_type": "code",
      "execution_count": null,
      "metadata": {
        "id": "AKY6eUU5fUo9",
        "outputId": "8a01b324-c2f8-4668-a6b7-d7db6205a0b4"
      },
      "outputs": [
        {
          "data": {
            "text/plain": [
              "'The Times Of India'"
            ]
          },
          "execution_count": 38,
          "metadata": {},
          "output_type": "execute_result"
        }
      ],
      "source": [
        "Times.name"
      ],
      "id": "AKY6eUU5fUo9"
    },
    {
      "cell_type": "code",
      "execution_count": null,
      "metadata": {
        "id": "VTmfCxSufUo9"
      },
      "outputs": [],
      "source": [
        "Titanic = MovieBase('Titanic',1997,'Disaster-Romance')"
      ],
      "id": "VTmfCxSufUo9"
    },
    {
      "cell_type": "raw",
      "metadata": {
        "id": "0kie4hbMfUo-"
      },
      "source": [
        "MovieBase(Titanic,'Titanic',1997,'Disaster-Romance')"
      ],
      "id": "0kie4hbMfUo-"
    },
    {
      "cell_type": "code",
      "execution_count": null,
      "metadata": {
        "id": "KX90w7KgfUo_",
        "outputId": "794c05f1-30cd-4600-c8ee-bdfad4477e19"
      },
      "outputs": [
        {
          "name": "stdout",
          "output_type": "stream",
          "text": [
            "Disaster-Romance\n"
          ]
        }
      ],
      "source": [
        "print(Titanic.genre)"
      ],
      "id": "KX90w7KgfUo_"
    },
    {
      "cell_type": "code",
      "execution_count": null,
      "metadata": {
        "id": "-Oqz6I56fUpB",
        "outputId": "61a6fce3-8e6b-4c6d-fdca-5f2dc6a2d7ac"
      },
      "outputs": [
        {
          "name": "stdout",
          "output_type": "stream",
          "text": [
            "<class '__main__.MovieBase'>\n"
          ]
        }
      ],
      "source": [
        "print(type(Titanic))"
      ],
      "id": "-Oqz6I56fUpB"
    },
    {
      "cell_type": "code",
      "execution_count": null,
      "metadata": {
        "id": "qXgxLueyfUpC"
      },
      "outputs": [],
      "source": [
        "EngVing = MovieBase('Engish Vinglish',2012,'Comedy-Drama')"
      ],
      "id": "qXgxLueyfUpC"
    },
    {
      "cell_type": "code",
      "execution_count": null,
      "metadata": {
        "id": "YiNcMJeVfUpE",
        "outputId": "49e620e9-f3fe-438b-e789-05c21a03db97"
      },
      "outputs": [
        {
          "name": "stdout",
          "output_type": "stream",
          "text": [
            "Engish Vinglish; 2012; Comedy-Drama\n"
          ]
        }
      ],
      "source": [
        "print(EngVing.concise)"
      ],
      "id": "YiNcMJeVfUpE"
    },
    {
      "cell_type": "code",
      "execution_count": null,
      "metadata": {
        "id": "Ys_qpnSNfUpE"
      },
      "outputs": [],
      "source": [
        "RRR = MovieBase('RRR',2022,'Historical Action Drama')"
      ],
      "id": "Ys_qpnSNfUpE"
    },
    {
      "cell_type": "code",
      "execution_count": null,
      "metadata": {
        "id": "-6ZeUuGIfUpE",
        "outputId": "445b71b5-a1c0-4747-9227-a878b600e13c"
      },
      "outputs": [
        {
          "data": {
            "text/plain": [
              "'RRR; 2022; Historical Action Drama'"
            ]
          },
          "execution_count": 30,
          "metadata": {},
          "output_type": "execute_result"
        }
      ],
      "source": [
        "RRR.concise"
      ],
      "id": "-6ZeUuGIfUpE"
    },
    {
      "cell_type": "code",
      "execution_count": null,
      "metadata": {
        "id": "zaagpheRfUpF"
      },
      "outputs": [],
      "source": [
        "def twonums(num1,num2):\n",
        "    return num1*num2"
      ],
      "id": "zaagpheRfUpF"
    },
    {
      "cell_type": "code",
      "execution_count": null,
      "metadata": {
        "id": "_MSxG3uMfUpH",
        "outputId": "53505e25-6df7-4924-9388-8e174fbca7d8"
      },
      "outputs": [
        {
          "data": {
            "text/plain": [
              "92"
            ]
          },
          "execution_count": 35,
          "metadata": {},
          "output_type": "execute_result"
        }
      ],
      "source": [
        "twonums(23,4)"
      ],
      "id": "_MSxG3uMfUpH"
    },
    {
      "cell_type": "markdown",
      "metadata": {
        "id": "cUdbfY1IfUpI"
      },
      "source": [
        "__Method Names and Instance Vaiables Naming Convention__:\n",
        "\n",
        "* Lowercase with words separated by underscores as necessary to improve readability.\n",
        "\n",
        "__Function and Method Arguments Nameing Convention__:\n",
        "* Always use `self` for the first argument to `instance methods`.\n",
        "* Always use `cls` for the first argument to `class methods`.\n",
        "* If a function argument's name clashes with a reserved keyword, it is generally better to append a __single trailing underscore__ rather than use an abbreviation or spelling corruption. Thus class_ is better than clss. (Perhaps better is to avoid such clashes by using a synonym.)"
      ],
      "id": "cUdbfY1IfUpI"
    },
    {
      "cell_type": "code",
      "execution_count": null,
      "metadata": {
        "id": "zYYkFgOwfUpJ",
        "outputId": "dcf7eba1-dd77-4a85-abb0-0586e7c568e7"
      },
      "outputs": [
        {
          "name": "stdout",
          "output_type": "stream",
          "text": [
            "\n",
            "    A class to represent the movies that I have seen/heard of.\n",
            "    ...\n",
            "\n",
            "    Attributes\n",
            "    ----------\n",
            "    name : str\n",
            "        Name of the movie\n",
            "    year : str \n",
            "        year in whcih the movie was released\n",
            "    \n",
            "    genre : str\n",
            "        movie genre\n",
            "        \n",
            "    counrty:str\n",
            "        The country in which it was originaly produced\n",
            " \n",
            "\n",
            "    Methods\n",
            "    -------\n",
            "    Wiki_name()\n",
            "        Returns the name of the movie with year of release in brackets as in Wikipedia\n",
            "    \n"
          ]
        }
      ],
      "source": [
        "print(movie_1.__doc__)"
      ],
      "id": "zYYkFgOwfUpJ"
    },
    {
      "cell_type": "markdown",
      "metadata": {
        "id": "OLAaIT2UfUpJ"
      },
      "source": [
        "Class vs Instance:\n",
        "    \n",
        "\n",
        "* Instance variables will have data which is specific to each instance. \n",
        "    * __Instance variables__ value is assigned inside a __constructor__ or __method__ with `self`. \n",
        "* __Class variables__ are variables whose value is assigned in __class__."
      ],
      "id": "OLAaIT2UfUpJ"
    },
    {
      "cell_type": "code",
      "execution_count": null,
      "metadata": {
        "id": "mFs0kpDafUpK"
      },
      "outputs": [],
      "source": [
        "class MovieBase:\n",
        "    \n",
        "    def __init__ (self, name, year, genre): \n",
        "            \n",
        "        self.name = name # creating instance variables - attributes\n",
        "        self.year = year\n",
        "        self.genre = genre\n",
        "        self.concise = name+'; '+str(year)+'; '+genre\n",
        "        \n",
        "    def wiki_name(self):\n",
        "        return '{} ({})'.format(self.name, self.year)"
      ],
      "id": "mFs0kpDafUpK"
    },
    {
      "cell_type": "code",
      "execution_count": null,
      "metadata": {
        "id": "T0JCLB-wfUpK"
      },
      "outputs": [],
      "source": [
        "titanic = MovieBase('Titanic', 1997, 'Disaster-Romance')\n",
        "engving = MovieBase('English Vinglish', 2012, 'Comedy-Drama')"
      ],
      "id": "T0JCLB-wfUpK"
    },
    {
      "cell_type": "code",
      "execution_count": null,
      "metadata": {
        "id": "7b0GN2zQfUpK",
        "outputId": "a145b7ed-4fc2-4adb-9d56-7b7488631412"
      },
      "outputs": [
        {
          "name": "stdout",
          "output_type": "stream",
          "text": [
            "Titanic; 1997; Disaster-Romance\n"
          ]
        }
      ],
      "source": [
        "print(titanic.concise) # here we are calling an attribute of an instance"
      ],
      "id": "7b0GN2zQfUpK"
    },
    {
      "cell_type": "code",
      "execution_count": null,
      "metadata": {
        "id": "5m6GOCDyfUpK",
        "outputId": "a8ab261d-3b22-4937-90a5-d5ac94cc7c02"
      },
      "outputs": [
        {
          "name": "stdout",
          "output_type": "stream",
          "text": [
            "Titanic (1997)\n"
          ]
        }
      ],
      "source": [
        "print(titanic.wiki_name())"
      ],
      "id": "5m6GOCDyfUpK"
    },
    {
      "cell_type": "code",
      "execution_count": null,
      "metadata": {
        "id": "6aB4vqH4fUpK",
        "outputId": "483863ce-5188-4bd3-b3a0-e25616c9c0ca"
      },
      "outputs": [
        {
          "name": "stdout",
          "output_type": "stream",
          "text": [
            "English Vinglish(2012)\n"
          ]
        }
      ],
      "source": [
        "print(movie_2.wiki_name()) # Use of paranthesis shows that this is a 'method'"
      ],
      "id": "6aB4vqH4fUpK"
    },
    {
      "cell_type": "code",
      "execution_count": null,
      "metadata": {
        "id": "HxV0Fhb5fUpR",
        "outputId": "2b352a76-5d38-41fd-dc73-b2f10efcfe60"
      },
      "outputs": [
        {
          "name": "stdout",
          "output_type": "stream",
          "text": [
            "English Vinglish(2012)\n"
          ]
        }
      ],
      "source": [
        "print(MovieBase.wiki_name(movie_2))"
      ],
      "id": "HxV0Fhb5fUpR"
    },
    {
      "cell_type": "code",
      "execution_count": null,
      "metadata": {
        "id": "cfPbn3YofUpS",
        "outputId": "0eb9f6ac-6696-4c14-982c-55e3cadd58a0"
      },
      "outputs": [
        {
          "name": "stdout",
          "output_type": "stream",
          "text": [
            "Titanic(1997)\n"
          ]
        }
      ],
      "source": [
        "print(MovieBase.wiki_name(movie_1))"
      ],
      "id": "cfPbn3YofUpS"
    },
    {
      "cell_type": "code",
      "execution_count": null,
      "metadata": {
        "id": "A_jSFd5zfUpS"
      },
      "outputs": [],
      "source": [
        "# Class variables shared among all instances. ex - rating_correction\n",
        "\n",
        "class MovieBase:\n",
        "    \n",
        "    rating_correction = 0.3\n",
        "    \n",
        "    def __init__ (self, name, year, genre, rating): \n",
        "            \n",
        "        self.name = name # creating instance variables - attributes\n",
        "        self.year = year\n",
        "        self.genre = genre\n",
        "        self.concise = name+'; '+str(year)+'; '+genre\n",
        "        self.rating = rating\n",
        "        \n",
        "    def wiki_name(self):\n",
        "        return '{}({})'.format(self.name, self.year)\n",
        "    \n",
        "    def movie_score(self):\n",
        "        self.rating = self.rating + MovieBase.rating_correction"
      ],
      "id": "A_jSFd5zfUpS"
    },
    {
      "cell_type": "code",
      "execution_count": null,
      "metadata": {
        "id": "a2IbZZRAfUpT"
      },
      "outputs": [],
      "source": [
        "        \n",
        "        \n",
        "titanic = MovieBase('Titanic', 1997, 'Disaster-Romance', 2.5)\n",
        "engving = MovieBase('English Vinglish', 2012, 'Comedy-Drama',3.5)"
      ],
      "id": "a2IbZZRAfUpT"
    },
    {
      "cell_type": "code",
      "execution_count": null,
      "metadata": {
        "id": "BZJ1YXzpfUpT"
      },
      "outputs": [],
      "source": [
        "print(movie_1.rating)\n",
        "movie_1.movie_score()\n",
        "print(movie_1.rating)"
      ],
      "id": "BZJ1YXzpfUpT"
    },
    {
      "cell_type": "code",
      "execution_count": null,
      "metadata": {
        "id": "bJFyZzVcfUpT",
        "outputId": "e1fa65cf-137d-447e-a0e0-fc838ff6fe31"
      },
      "outputs": [
        {
          "name": "stdout",
          "output_type": "stream",
          "text": [
            "0.3\n"
          ]
        }
      ],
      "source": [
        "print(MovieBase.rating_correction)"
      ],
      "id": "bJFyZzVcfUpT"
    },
    {
      "cell_type": "code",
      "execution_count": null,
      "metadata": {
        "id": "0IAbblRsfUpT",
        "outputId": "5214be96-9046-42e7-cd2d-4737b8213a05"
      },
      "outputs": [
        {
          "name": "stdout",
          "output_type": "stream",
          "text": [
            "0.3\n"
          ]
        }
      ],
      "source": [
        "print(titanic.rating_correction)"
      ],
      "id": "0IAbblRsfUpT"
    },
    {
      "cell_type": "code",
      "execution_count": null,
      "metadata": {
        "id": "_uTknNTEfUpU",
        "outputId": "e617c403-4cdf-4c5b-9820-aa22b3c80b1f"
      },
      "outputs": [
        {
          "name": "stdout",
          "output_type": "stream",
          "text": [
            "0.3\n"
          ]
        }
      ],
      "source": [
        "print(engving.rating_correction)"
      ],
      "id": "_uTknNTEfUpU"
    },
    {
      "cell_type": "code",
      "execution_count": null,
      "metadata": {
        "id": "i8tL4Y0afUpU",
        "outputId": "48d6d191-9062-4e1f-8f3b-30091826a52e"
      },
      "outputs": [
        {
          "name": "stdout",
          "output_type": "stream",
          "text": [
            "Titanic\n"
          ]
        }
      ],
      "source": [
        "print(titanic.name)"
      ],
      "id": "i8tL4Y0afUpU"
    },
    {
      "cell_type": "code",
      "execution_count": null,
      "metadata": {
        "id": "Bl3c9tHmfUpU",
        "outputId": "79030d87-8a8f-4628-a236-6a21a618de28"
      },
      "outputs": [
        {
          "name": "stdout",
          "output_type": "stream",
          "text": [
            "English Vinglish\n"
          ]
        }
      ],
      "source": [
        "print(engving.name)"
      ],
      "id": "Bl3c9tHmfUpU"
    },
    {
      "cell_type": "code",
      "execution_count": null,
      "metadata": {
        "id": "CNtEyd4dfUpU",
        "outputId": "03fdd37d-938c-448d-a1e3-0c661aa1d246"
      },
      "outputs": [
        {
          "name": "stdout",
          "output_type": "stream",
          "text": [
            "0.4\n",
            "0.4\n",
            "0.4\n"
          ]
        }
      ],
      "source": [
        "MovieBase.rating_correction = 0.4\n",
        "\n",
        "print(MovieBase.rating_correction)\n",
        "print(movie_1.rating_correction)\n",
        "print(movie_2.rating_correction)\n"
      ],
      "id": "CNtEyd4dfUpU"
    },
    {
      "cell_type": "code",
      "execution_count": null,
      "metadata": {
        "id": "ciMe_dupfUpV"
      },
      "outputs": [],
      "source": [
        "class MovieBase:\n",
        "    \n",
        "    rating_correction = 0.3\n",
        "    \n",
        "    def __init__ (self, name, year, genre, rating): \n",
        "            \n",
        "        self.name = name # creating instance variables - attributes\n",
        "        self.year = year\n",
        "        self.genre = genre\n",
        "        self.concise = name+'; '+str(year)+'; '+genre\n",
        "        self.rating = rating\n",
        "        \n",
        "    def wiki_name(self):\n",
        "        return '{}({})'.format(self.name, self.year)\n",
        "    \n",
        "    def movie_score(self):\n",
        "        self.rating = self.rating + MovieBase.rating_correction\n",
        "        \n",
        "    @classmethod\n",
        "    def adjust_score(cls, correction):\n",
        "        cls.rating_correction = correction"
      ],
      "id": "ciMe_dupfUpV"
    },
    {
      "cell_type": "code",
      "execution_count": null,
      "metadata": {
        "id": "um67YadTfUpV"
      },
      "outputs": [],
      "source": [
        "        \n",
        "        \n",
        "movie_1 = MovieBase('Titanic', 1997, 'Disaster-Romance', 2.5)\n",
        "movie_2 = MovieBase('English Vinglish', 2012, 'Comedy-Drama',3.5)"
      ],
      "id": "um67YadTfUpV"
    },
    {
      "cell_type": "code",
      "execution_count": null,
      "metadata": {
        "id": "b4j57F3OfUpV"
      },
      "outputs": [],
      "source": [
        "MovieBase.adjust_score(0.5)"
      ],
      "id": "b4j57F3OfUpV"
    },
    {
      "cell_type": "code",
      "execution_count": null,
      "metadata": {
        "id": "TihXurARfUpV",
        "outputId": "21e2f342-cedf-4f16-8bd8-f3773cc40acf"
      },
      "outputs": [
        {
          "name": "stdout",
          "output_type": "stream",
          "text": [
            "0.5\n",
            "0.5\n",
            "0.5\n"
          ]
        }
      ],
      "source": [
        "print(MovieBase.rating_correction)\n",
        "print(movie_1.rating_correction)\n",
        "print(movie_2.rating_correction)"
      ],
      "id": "TihXurARfUpV"
    },
    {
      "cell_type": "markdown",
      "metadata": {
        "id": "85vuJezOfUpW"
      },
      "source": [
        "#### Class Inheritance\n",
        "\n",
        "The class which inherits the properties of other is known as subclass (derived class, child class) and the class whose properties are inherited is known as superclass (base class, parent class)."
      ],
      "id": "85vuJezOfUpW"
    },
    {
      "cell_type": "code",
      "execution_count": null,
      "metadata": {
        "id": "3VgwDphqfUpW"
      },
      "outputs": [],
      "source": [
        "# class WatchedMovie:\n",
        "#     def __init__(self,name,year, genre)"
      ],
      "id": "3VgwDphqfUpW"
    },
    {
      "cell_type": "raw",
      "metadata": {
        "id": "9KKdlq2EfUpW"
      },
      "source": [
        "class MovieBase:\n",
        "    pass"
      ],
      "id": "9KKdlq2EfUpW"
    },
    {
      "cell_type": "code",
      "execution_count": null,
      "metadata": {
        "id": "p7-O6woMfUpW"
      },
      "outputs": [],
      "source": [
        "class WatchedMovie(MovieBase):\n",
        "    pass"
      ],
      "id": "p7-O6woMfUpW"
    },
    {
      "cell_type": "code",
      "execution_count": null,
      "metadata": {
        "id": "5m6La6XZfUpX"
      },
      "outputs": [],
      "source": [
        "Hobbit1 = WatchedMovie(\"Hobbit:FiveArmies\",\"HighFantasy\", 2014, 4.5, 300, 965)\n",
        "Hobbit2 = WatchedMovie(\"Hobbit:Desolation of Smaug\",\"High Fantasy\", 2013, 4.5, 250, 959)"
      ],
      "id": "5m6La6XZfUpX"
    },
    {
      "cell_type": "code",
      "execution_count": null,
      "metadata": {
        "id": "yEuQt-NefUpX",
        "outputId": "f725ac4d-9ce5-487f-8b0c-77f3173d7308"
      },
      "outputs": [
        {
          "data": {
            "text/plain": [
              "'Hobbit:FiveArmies'"
            ]
          },
          "execution_count": 70,
          "metadata": {},
          "output_type": "execute_result"
        }
      ],
      "source": [
        "Hobbit1.name"
      ],
      "id": "yEuQt-NefUpX"
    },
    {
      "cell_type": "code",
      "execution_count": null,
      "metadata": {
        "id": "R-YESPjpfUpX",
        "outputId": "ecd9f73c-85b8-457d-9515-42d3c343e529"
      },
      "outputs": [
        {
          "name": "stdout",
          "output_type": "stream",
          "text": [
            "Hit\n"
          ]
        },
        {
          "data": {
            "text/plain": [
              "4.5"
            ]
          },
          "execution_count": 58,
          "metadata": {},
          "output_type": "execute_result"
        }
      ],
      "source": [
        "print(WatchedMovie_2.reception)\n",
        "WatchedMovie.wiki_name(WatchedMovie_2)\n",
        "WatchedMovie_2.rating"
      ],
      "id": "R-YESPjpfUpX"
    },
    {
      "cell_type": "code",
      "execution_count": null,
      "metadata": {
        "id": "5VJV6llQfUpX"
      },
      "outputs": [],
      "source": [
        "# If we want to add another attribute to this\n",
        "\n",
        "class WatchedMovie(MovieBase):\n",
        "    def __init__ (self, name, genre, year, rating, budget, boxoffice, comment):\n",
        "        \n",
        "        super().__init__(name, genre, year, rating, budget, boxoffice)\n",
        "        self.comment = comment\n",
        "        #MovieBase.__init__(name,genre,year,rating,budget,boxoffice)"
      ],
      "id": "5VJV6llQfUpX"
    },
    {
      "cell_type": "code",
      "execution_count": null,
      "metadata": {
        "id": "HpoyNF5PfUpX"
      },
      "outputs": [],
      "source": [
        "WatchedMovie_1 = WatchedMovie('Sivaji:The Boss','Action', 2007, 4.5, 60, 120, \"Perfect\")"
      ],
      "id": "HpoyNF5PfUpX"
    },
    {
      "cell_type": "code",
      "execution_count": null,
      "metadata": {
        "id": "bc2GMgdsfUpX",
        "outputId": "9a1707bb-75a7-452e-8136-70e71c9cbde0"
      },
      "outputs": [
        {
          "data": {
            "text/plain": [
              "'Perfect'"
            ]
          },
          "execution_count": 63,
          "metadata": {},
          "output_type": "execute_result"
        }
      ],
      "source": [
        "WatchedMovie_1.comment"
      ],
      "id": "bc2GMgdsfUpX"
    },
    {
      "cell_type": "markdown",
      "metadata": {
        "id": "XRpKqC4lfUpX"
      },
      "source": [
        "#### Types of Inheritance\n",
        "\n",
        "In Python, there are two types of Inheritance:\n",
        "\n",
        "1. Multiple Inheritance\n",
        "2. Multilevel Inheritance"
      ],
      "id": "XRpKqC4lfUpX"
    },
    {
      "cell_type": "code",
      "execution_count": null,
      "metadata": {
        "id": "pSaqgp_RfUpX"
      },
      "outputs": [],
      "source": [
        "class A:\n",
        "    pass\n",
        "    # variable of class A\n",
        "    # methods of class A\n",
        "\n",
        "class B:\n",
        "    pass\n",
        "    # variable of class B\n",
        "    # methods of class B\n",
        "\n",
        "class C(A, B):\n",
        "    pass\n",
        "    # class C inheriting property of both class A and B\n",
        "    # add more properties to class C"
      ],
      "id": "pSaqgp_RfUpX"
    },
    {
      "cell_type": "markdown",
      "metadata": {
        "id": "ubNQv97EfUpY"
      },
      "source": [
        "#### Multilevel Inheritance\n",
        "\n",
        "In multilevel inheritance, we inherit the classes at multiple separate levels."
      ],
      "id": "ubNQv97EfUpY"
    },
    {
      "cell_type": "code",
      "execution_count": null,
      "metadata": {
        "id": "v0D6Gb5KfUpY"
      },
      "outputs": [],
      "source": [
        "class A:\n",
        "    pass\n",
        "    # properties of class A\n",
        "\n",
        "class B(A):\n",
        "    pass\n",
        "    # class B inheriting property of class A\n",
        "    # more properties of class B\n",
        "\n",
        "class C(B):\n",
        "    pass\n",
        "    # class C inheriting property of class B\n",
        "    # thus, class C also inherits properties of class A\n",
        "    # more properties of class C"
      ],
      "id": "v0D6Gb5KfUpY"
    },
    {
      "cell_type": "code",
      "execution_count": null,
      "metadata": {
        "id": "p0crtcMpfUpY"
      },
      "outputs": [],
      "source": [
        "class MovieBase:\n",
        "    \n",
        "    def __init__ (self, name, genre, year): \n",
        "            \n",
        "        self.name = name \n",
        "        self.year = year\n",
        "        self.genre = genre\n",
        "        self.concise = name+'; '+str(year)+'; '+genre\n",
        "\n",
        "        \n",
        "titanic = MovieBase('Titanic','Disaster-Romance', 1997)\n",
        "EngVing = MovieBase('English Vinglish','Comedy-Drama', 2012)"
      ],
      "id": "p0crtcMpfUpY"
    },
    {
      "cell_type": "code",
      "execution_count": null,
      "metadata": {
        "id": "qzxo65KHfUpY"
      },
      "outputs": [],
      "source": [
        " class MovieBase:\n",
        "    \n",
        "    def __init__ (self, name, genre, year, country): \n",
        "            \n",
        "        self.name = name \n",
        "        self.year = year\n",
        "        self.genre = genre\n",
        "        self.country = country\n",
        "        self.concise = name+'; '+str(year)+'; '+genre\n",
        "        \n",
        "    def __repr__(self):\n",
        "        return \"Movie('{}', '{}', {})\".format(self.name, self.year, self.genre)\n",
        "    \n",
        "    def __str__(self):\n",
        "        return \"{} is a/an {} {} film released in {}.\". format(self.name, self.country, self.genre, self.year)\n",
        "    \n",
        "    def wiki_name(self):\n",
        "        pass\n",
        "    def hit_flop(self,budget,boxoffice):\n",
        "        pass\n",
        "    \n",
        "    @classmethod\n",
        "    def from_strs(cls):\n",
        "        pass\n",
        "    \n",
        "    @staticmethod\n",
        "    def weedkay(day):\n",
        "        pass\n",
        "            \n",
        "titanic = MovieBase('Titanic','Disaster-Romance', 1997, \"American\")\n",
        "engving = MovieBase('English Vinglish','Comedy-Drama', 2012, \"Indian\")"
      ],
      "id": "qzxo65KHfUpY"
    },
    {
      "cell_type": "code",
      "execution_count": null,
      "metadata": {
        "id": "_-uc0l_7fUpY",
        "outputId": "6e18e9c4-92c6-48da-8ce0-02107ddcbe39"
      },
      "outputs": [
        {
          "name": "stdout",
          "output_type": "stream",
          "text": [
            "<__main__.MovieBase object at 0x7fafb7bb5640>\n",
            "<__main__.MovieBase object at 0x7fafb7bb5e20>\n"
          ]
        }
      ],
      "source": [
        "print(titanic)\n",
        "print(engving)"
      ],
      "id": "_-uc0l_7fUpY"
    },
    {
      "cell_type": "markdown",
      "metadata": {
        "id": "bu2J_Lx0fUpZ"
      },
      "source": [
        "### Method Overriding in Python\n",
        "\n",
        "Method overriding is a concept of object oriented programming that allows us to change the implementation of a function in the child class that is defined in the parent class. It is the ability of a child class to change the implementation of any method which is already provided by one of its parent class(ancestors).\n",
        "\n",
        "Following conditions must be met for overriding a function:\n",
        "* Inheritance should be there. Function overriding cannot be done within a class. We need to derive a child class from a parent class.\n",
        "* The function that is redefined in the child class should have the same signature as in the parent class i.e. same number of parameters."
      ],
      "id": "bu2J_Lx0fUpZ"
    },
    {
      "cell_type": "code",
      "execution_count": null,
      "metadata": {
        "id": "a_C9e_6_fUpZ",
        "outputId": "dd46f2a1-2381-4acb-8d92-79c7ce55974c"
      },
      "outputs": [
        {
          "name": "stdout",
          "output_type": "stream",
          "text": [
            "I eat only plants. I am vegetarian.\n",
            "I breathe oxygen.\n"
          ]
        }
      ],
      "source": [
        "# parent class\n",
        "\n",
        "class Animal:\n",
        "    \n",
        "    # function breath\n",
        "    def breathe(self):\n",
        "        print(\"I breathe oxygen.\")\n",
        "    \n",
        "    # function feed\n",
        "    def feed(self):\n",
        "        print(\"I eat food.\")\n",
        "\n",
        "# child class\n",
        "\n",
        "class Herbivorous(Animal):\n",
        "    \n",
        "    # function feed\n",
        "    def feed(self):\n",
        "        print(\"I eat only plants. I am vegetarian.\")\n",
        "    \n",
        "        \n",
        "herbi = Herbivorous()\n",
        "\n",
        "herbi.feed()\n",
        "\n",
        "herbi.breathe()"
      ],
      "id": "a_C9e_6_fUpZ"
    },
    {
      "cell_type": "code",
      "execution_count": null,
      "metadata": {
        "id": "ZU_7bbPffUpZ"
      },
      "outputs": [],
      "source": [],
      "id": "ZU_7bbPffUpZ"
    },
    {
      "cell_type": "code",
      "execution_count": null,
      "metadata": {
        "id": "ZfdLKrm5fUpZ"
      },
      "outputs": [],
      "source": [],
      "id": "ZfdLKrm5fUpZ"
    },
    {
      "cell_type": "code",
      "execution_count": null,
      "metadata": {
        "id": "7HX0uJ_XfUpZ"
      },
      "outputs": [],
      "source": [],
      "id": "7HX0uJ_XfUpZ"
    },
    {
      "cell_type": "code",
      "execution_count": null,
      "metadata": {
        "id": "-6YPk-2FfUpZ"
      },
      "outputs": [],
      "source": [
        "if something:"
      ],
      "id": "-6YPk-2FfUpZ"
    },
    {
      "cell_type": "markdown",
      "metadata": {
        "id": "7PcHjDG-fUpa"
      },
      "source": [
        "#### Syntax Error"
      ],
      "id": "7PcHjDG-fUpa"
    },
    {
      "cell_type": "markdown",
      "metadata": {
        "id": "pdwbMS53fUpa"
      },
      "source": [
        "### Python assert Keyword\n",
        "\n",
        "* The `assert` keyword is used when debugging code.\n",
        "* The `assert` keyword lets you test if a condition in your code returns True, if not, the program will raise an AssertionError."
      ],
      "id": "pdwbMS53fUpa"
    },
    {
      "cell_type": "code",
      "execution_count": null,
      "metadata": {
        "id": "nLDx6Tm9fUpa",
        "outputId": "74ffe9d7-1e5c-4138-ca0a-5e9916b447f7"
      },
      "outputs": [
        {
          "ename": "AssertionError",
          "evalue": "",
          "output_type": "error",
          "traceback": [
            "\u001b[0;31m---------------------------------------------------------------------------\u001b[0m",
            "\u001b[0;31mAssertionError\u001b[0m                            Traceback (most recent call last)",
            "\u001b[0;32m<ipython-input-5-61a90d30e768>\u001b[0m in \u001b[0;36m<module>\u001b[0;34m\u001b[0m\n\u001b[1;32m      1\u001b[0m \u001b[0mx\u001b[0m \u001b[0;34m=\u001b[0m \u001b[0;34m\"INSOFE\"\u001b[0m\u001b[0;34m\u001b[0m\u001b[0;34m\u001b[0m\u001b[0m\n\u001b[1;32m      2\u001b[0m \u001b[0;34m\u001b[0m\u001b[0m\n\u001b[0;32m----> 3\u001b[0;31m \u001b[0;32massert\u001b[0m \u001b[0mx\u001b[0m \u001b[0;34m==\u001b[0m \u001b[0;34m\"InSOFE\"\u001b[0m\u001b[0;34m\u001b[0m\u001b[0;34m\u001b[0m\u001b[0m\n\u001b[0m",
            "\u001b[0;31mAssertionError\u001b[0m: "
          ]
        }
      ],
      "source": [
        "x = \"INSOFE\"\n",
        "\n",
        "assert x == \"InSOFE\""
      ],
      "id": "nLDx6Tm9fUpa"
    },
    {
      "cell_type": "markdown",
      "metadata": {
        "id": "xXUXeAd3fUpa"
      },
      "source": [
        "### Indexerror"
      ],
      "id": "xXUXeAd3fUpa"
    },
    {
      "cell_type": "code",
      "execution_count": null,
      "metadata": {
        "id": "fCXnUP9BfUpb",
        "outputId": "ce05f421-2bd3-4588-c989-26291ab20272"
      },
      "outputs": [
        {
          "ename": "IndexError",
          "evalue": "list index out of range",
          "output_type": "error",
          "traceback": [
            "\u001b[0;31m---------------------------------------------------------------------------\u001b[0m",
            "\u001b[0;31mIndexError\u001b[0m                                Traceback (most recent call last)",
            "\u001b[0;32m<ipython-input-3-cb1308399d98>\u001b[0m in \u001b[0;36m<module>\u001b[0;34m\u001b[0m\n\u001b[1;32m      1\u001b[0m \u001b[0mL\u001b[0m \u001b[0;34m=\u001b[0m \u001b[0;34m[\u001b[0m\u001b[0;36m1\u001b[0m\u001b[0;34m,\u001b[0m\u001b[0;36m2\u001b[0m\u001b[0;34m,\u001b[0m\u001b[0;36m3\u001b[0m\u001b[0;34m]\u001b[0m\u001b[0;34m\u001b[0m\u001b[0;34m\u001b[0m\u001b[0m\n\u001b[0;32m----> 2\u001b[0;31m \u001b[0mL\u001b[0m\u001b[0;34m[\u001b[0m\u001b[0;36m4\u001b[0m\u001b[0;34m]\u001b[0m\u001b[0;34m\u001b[0m\u001b[0;34m\u001b[0m\u001b[0m\n\u001b[0m",
            "\u001b[0;31mIndexError\u001b[0m: list index out of range"
          ]
        }
      ],
      "source": [
        "L = [1,2,3]\n",
        "L[4]"
      ],
      "id": "fCXnUP9BfUpb"
    },
    {
      "cell_type": "markdown",
      "metadata": {
        "id": "LVuLTbvUfUpb"
      },
      "source": [
        "### Keyerror"
      ],
      "id": "LVuLTbvUfUpb"
    },
    {
      "cell_type": "code",
      "execution_count": null,
      "metadata": {
        "id": "O115waiqfUpb",
        "outputId": "9c1b7831-e861-4e11-d6c1-16762b363318"
      },
      "outputs": [
        {
          "ename": "KeyError",
          "evalue": "3",
          "output_type": "error",
          "traceback": [
            "\u001b[0;31m---------------------------------------------------------------------------\u001b[0m",
            "\u001b[0;31mKeyError\u001b[0m                                  Traceback (most recent call last)",
            "\u001b[0;32m<ipython-input-6-532d37c395ed>\u001b[0m in \u001b[0;36m<module>\u001b[0;34m\u001b[0m\n\u001b[1;32m      1\u001b[0m \u001b[0mD\u001b[0m \u001b[0;34m=\u001b[0m \u001b[0;34m{\u001b[0m\u001b[0;36m1\u001b[0m\u001b[0;34m:\u001b[0m\u001b[0;36m3\u001b[0m\u001b[0;34m,\u001b[0m \u001b[0;36m2\u001b[0m\u001b[0;34m:\u001b[0m\u001b[0;36m5\u001b[0m\u001b[0;34m}\u001b[0m\u001b[0;34m\u001b[0m\u001b[0;34m\u001b[0m\u001b[0m\n\u001b[0;32m----> 2\u001b[0;31m \u001b[0mD\u001b[0m\u001b[0;34m[\u001b[0m\u001b[0;36m3\u001b[0m\u001b[0;34m]\u001b[0m\u001b[0;34m\u001b[0m\u001b[0;34m\u001b[0m\u001b[0m\n\u001b[0m",
            "\u001b[0;31mKeyError\u001b[0m: 3"
          ]
        }
      ],
      "source": [
        "D = {1:3, 2:5}\n",
        "D[3]"
      ],
      "id": "O115waiqfUpb"
    },
    {
      "cell_type": "markdown",
      "metadata": {
        "id": "d1dQiuAGfUpb"
      },
      "source": [
        "### Zero division error"
      ],
      "id": "d1dQiuAGfUpb"
    },
    {
      "cell_type": "code",
      "execution_count": null,
      "metadata": {
        "id": "fBSXWmPDfUpb",
        "outputId": "32e039e5-6494-436f-a825-2422435e2de2"
      },
      "outputs": [
        {
          "ename": "ZeroDivisionError",
          "evalue": "division by zero",
          "output_type": "error",
          "traceback": [
            "\u001b[0;31m---------------------------------------------------------------------------\u001b[0m",
            "\u001b[0;31mZeroDivisionError\u001b[0m                         Traceback (most recent call last)",
            "\u001b[0;32m<ipython-input-8-e8326a161779>\u001b[0m in \u001b[0;36m<module>\u001b[0;34m\u001b[0m\n\u001b[0;32m----> 1\u001b[0;31m \u001b[0;36m2\u001b[0m\u001b[0;34m/\u001b[0m\u001b[0;36m0\u001b[0m\u001b[0;34m\u001b[0m\u001b[0;34m\u001b[0m\u001b[0m\n\u001b[0m",
            "\u001b[0;31mZeroDivisionError\u001b[0m: division by zero"
          ]
        }
      ],
      "source": [
        "2/0"
      ],
      "id": "fBSXWmPDfUpb"
    },
    {
      "cell_type": "code",
      "execution_count": null,
      "metadata": {
        "id": "L-hl0NgFfUpb",
        "outputId": "e3738772-c2f0-4408-9481-7196de7a59ff"
      },
      "outputs": [
        {
          "data": {
            "text/plain": [
              "12"
            ]
          },
          "execution_count": 7,
          "metadata": {},
          "output_type": "execute_result"
        }
      ],
      "source": [
        "4 * 3"
      ],
      "id": "L-hl0NgFfUpb"
    },
    {
      "cell_type": "code",
      "execution_count": null,
      "metadata": {
        "id": "LRwAzMqZfUpc",
        "outputId": "213fa420-8ed1-4871-f436-f77fc2b3f497"
      },
      "outputs": [
        {
          "data": {
            "text/plain": [
              "'spam spam spam '"
            ]
          },
          "execution_count": 1,
          "metadata": {},
          "output_type": "execute_result"
        }
      ],
      "source": [
        "'spam ' * 3"
      ],
      "id": "LRwAzMqZfUpc"
    },
    {
      "cell_type": "markdown",
      "metadata": {
        "id": "Tavh8HHZfUpc"
      },
      "source": [
        "### TypeError"
      ],
      "id": "Tavh8HHZfUpc"
    },
    {
      "cell_type": "code",
      "execution_count": null,
      "metadata": {
        "id": "wcwviQAHfUpc",
        "outputId": "bdba466c-7ccb-464f-e935-a89582d90c2b"
      },
      "outputs": [
        {
          "ename": "TypeError",
          "evalue": "unsupported operand type(s) for +: 'int' and 'str'",
          "output_type": "error",
          "traceback": [
            "\u001b[0;31m---------------------------------------------------------------------------\u001b[0m",
            "\u001b[0;31mTypeError\u001b[0m                                 Traceback (most recent call last)",
            "\u001b[0;32m<ipython-input-9-81ca28e1c404>\u001b[0m in \u001b[0;36m<module>\u001b[0;34m\u001b[0m\n\u001b[0;32m----> 1\u001b[0;31m \u001b[0;36m4\u001b[0m\u001b[0;34m+\u001b[0m\u001b[0;34m'spam'\u001b[0m\u001b[0;34m*\u001b[0m\u001b[0;36m3\u001b[0m\u001b[0;34m\u001b[0m\u001b[0;34m\u001b[0m\u001b[0m\n\u001b[0m",
            "\u001b[0;31mTypeError\u001b[0m: unsupported operand type(s) for +: 'int' and 'str'"
          ]
        }
      ],
      "source": [
        "4+'spam'*3"
      ],
      "id": "wcwviQAHfUpc"
    },
    {
      "cell_type": "markdown",
      "metadata": {
        "id": "mEQY7BcXfUpc"
      },
      "source": [
        "### ValueError"
      ],
      "id": "mEQY7BcXfUpc"
    },
    {
      "cell_type": "code",
      "execution_count": null,
      "metadata": {
        "id": "SlJBYkcAfUpc",
        "outputId": "94ca98ab-69dd-48c4-8c9c-240b6782781a"
      },
      "outputs": [
        {
          "ename": "ValueError",
          "evalue": "invalid literal for int() with base 10: 'g'",
          "output_type": "error",
          "traceback": [
            "\u001b[0;31m---------------------------------------------------------------------------\u001b[0m",
            "\u001b[0;31mValueError\u001b[0m                                Traceback (most recent call last)",
            "\u001b[0;32m/var/folders/64/86wm1bvj5tdbj8tcrs97120w0000gn/T/ipykernel_11966/1850497852.py\u001b[0m in \u001b[0;36m<module>\u001b[0;34m\u001b[0m\n\u001b[0;32m----> 1\u001b[0;31m \u001b[0mint\u001b[0m\u001b[0;34m(\u001b[0m\u001b[0;34m'g'\u001b[0m\u001b[0;34m)\u001b[0m\u001b[0;34m\u001b[0m\u001b[0;34m\u001b[0m\u001b[0m\n\u001b[0m",
            "\u001b[0;31mValueError\u001b[0m: invalid literal for int() with base 10: 'g'"
          ]
        }
      ],
      "source": [
        "int('g')"
      ],
      "id": "SlJBYkcAfUpc"
    },
    {
      "cell_type": "markdown",
      "metadata": {
        "id": "qSxSV9knfUpd"
      },
      "source": [
        "### NameError"
      ],
      "id": "qSxSV9knfUpd"
    },
    {
      "cell_type": "code",
      "execution_count": null,
      "metadata": {
        "id": "5e5uA3LZfUpd",
        "outputId": "73785534-a3fe-44b5-bc63-0613ec5bcfdb"
      },
      "outputs": [
        {
          "ename": "NameError",
          "evalue": "name 'f' is not defined",
          "output_type": "error",
          "traceback": [
            "\u001b[0;31m---------------------------------------------------------------------------\u001b[0m",
            "\u001b[0;31mNameError\u001b[0m                                 Traceback (most recent call last)",
            "\u001b[0;32m<ipython-input-14-fc0364975534>\u001b[0m in \u001b[0;36m<module>\u001b[0;34m\u001b[0m\n\u001b[0;32m----> 1\u001b[0;31m \u001b[0mprint\u001b[0m\u001b[0;34m(\u001b[0m\u001b[0mf\u001b[0m\u001b[0;34m)\u001b[0m\u001b[0;34m\u001b[0m\u001b[0;34m\u001b[0m\u001b[0m\n\u001b[0m",
            "\u001b[0;31mNameError\u001b[0m: name 'f' is not defined"
          ]
        }
      ],
      "source": [
        "print(f)"
      ],
      "id": "5e5uA3LZfUpd"
    },
    {
      "cell_type": "markdown",
      "metadata": {
        "id": "UVKBeoy9fUpd"
      },
      "source": [
        "### ModuleError"
      ],
      "id": "UVKBeoy9fUpd"
    },
    {
      "cell_type": "code",
      "execution_count": null,
      "metadata": {
        "id": "qtOpK7K7fUpd",
        "outputId": "5a88f872-db87-4e32-b13c-e88de0391e49"
      },
      "outputs": [
        {
          "ename": "ModuleNotFoundError",
          "evalue": "No module named 'randomModuleThatisnotpresent'",
          "output_type": "error",
          "traceback": [
            "\u001b[0;31m---------------------------------------------------------------------------\u001b[0m",
            "\u001b[0;31mModuleNotFoundError\u001b[0m                       Traceback (most recent call last)",
            "\u001b[0;32m<ipython-input-15-90b172bb71fc>\u001b[0m in \u001b[0;36m<module>\u001b[0;34m\u001b[0m\n\u001b[0;32m----> 1\u001b[0;31m \u001b[0;32mimport\u001b[0m \u001b[0mrandomModuleThatisnotpresent\u001b[0m\u001b[0;34m\u001b[0m\u001b[0;34m\u001b[0m\u001b[0m\n\u001b[0m",
            "\u001b[0;31mModuleNotFoundError\u001b[0m: No module named 'randomModuleThatisnotpresent'"
          ]
        }
      ],
      "source": [
        "import randomModuleThatIsNotPresent"
      ],
      "id": "qtOpK7K7fUpd"
    },
    {
      "cell_type": "code",
      "execution_count": null,
      "metadata": {
        "id": "qMiJSaEtfUpd",
        "outputId": "7410d074-d06c-4732-c086-6b869a63b373"
      },
      "outputs": [
        {
          "ename": "FileNotFoundError",
          "evalue": "[Errno 2] No such file or directory: 'NoSuchFile.txt'",
          "output_type": "error",
          "traceback": [
            "\u001b[0;31m---------------------------------------------------------------------------\u001b[0m",
            "\u001b[0;31mFileNotFoundError\u001b[0m                         Traceback (most recent call last)",
            "\u001b[0;32m<ipython-input-10-992f92e7a38b>\u001b[0m in \u001b[0;36m<module>\u001b[0;34m\u001b[0m\n\u001b[0;32m----> 1\u001b[0;31m \u001b[0;32mwith\u001b[0m \u001b[0mopen\u001b[0m\u001b[0;34m(\u001b[0m\u001b[0;34m'NoSuchFile.txt'\u001b[0m\u001b[0;34m,\u001b[0m \u001b[0;34m'r'\u001b[0m\u001b[0;34m)\u001b[0m \u001b[0;32mas\u001b[0m \u001b[0mf1\u001b[0m\u001b[0;34m:\u001b[0m\u001b[0;34m\u001b[0m\u001b[0;34m\u001b[0m\u001b[0m\n\u001b[0m\u001b[1;32m      2\u001b[0m     \u001b[0;32mpass\u001b[0m\u001b[0;34m\u001b[0m\u001b[0;34m\u001b[0m\u001b[0m\n",
            "\u001b[0;31mFileNotFoundError\u001b[0m: [Errno 2] No such file or directory: 'NoSuchFile.txt'"
          ]
        }
      ],
      "source": [
        "with open('NoSuchFile.txt', 'r') as f1:\n",
        "    pass"
      ],
      "id": "qMiJSaEtfUpd"
    },
    {
      "cell_type": "markdown",
      "metadata": {
        "id": "VcBI14uifUpe"
      },
      "source": [
        "#### Exception Handling"
      ],
      "id": "VcBI14uifUpe"
    },
    {
      "cell_type": "raw",
      "metadata": {
        "id": "B3cmvtByfUpe"
      },
      "source": [
        "try:\n",
        "    statements # runs the statements\n",
        "except:\n",
        "    statements # if error\n",
        "else:\n",
        "    statements # no error\n",
        "finally:\n",
        "    statements # executes anyway\n",
        "    "
      ],
      "id": "B3cmvtByfUpe"
    },
    {
      "cell_type": "code",
      "execution_count": null,
      "metadata": {
        "id": "yMlix0TCfUpe"
      },
      "outputs": [],
      "source": [
        "def int_input(prompt='Please enter a number'):\n",
        "    while True:\n",
        "        try:\n",
        "            age = int(input(prompt))\n",
        "            return age\n",
        "        except:\n",
        "            print(\"Not a proper integer! Try it again\")"
      ],
      "id": "yMlix0TCfUpe"
    },
    {
      "cell_type": "code",
      "execution_count": null,
      "metadata": {
        "id": "4shK6FcPfUpe",
        "outputId": "999f2cfc-2425-4bdc-d6e5-0186f46fe7c5"
      },
      "outputs": [
        {
          "name": "stdout",
          "output_type": "stream",
          "text": [
            "Please enter a numberj\n",
            "Not a proper integer! Try it again\n",
            "Please enter a numberk\n",
            "Not a proper integer! Try it again\n",
            "Please enter a numberg\n",
            "Not a proper integer! Try it again\n",
            "Please enter a number \n",
            "Not a proper integer! Try it again\n",
            "Please enter a numbery\n",
            "Not a proper integer! Try it again\n",
            "Please enter a number4\n"
          ]
        },
        {
          "data": {
            "text/plain": [
              "4"
            ]
          },
          "execution_count": 21,
          "metadata": {},
          "output_type": "execute_result"
        }
      ],
      "source": [
        "int_input()"
      ],
      "id": "4shK6FcPfUpe"
    },
    {
      "cell_type": "code",
      "execution_count": null,
      "metadata": {
        "id": "q7p0-XdyfUpe"
      },
      "outputs": [],
      "source": [
        "#### I can have many except"
      ],
      "id": "q7p0-XdyfUpe"
    },
    {
      "cell_type": "code",
      "execution_count": null,
      "metadata": {
        "id": "TfDSGSEJfUpe",
        "outputId": "76aa85fa-b451-4841-8593-f22d6b16b8fd"
      },
      "outputs": [
        {
          "name": "stdout",
          "output_type": "stream",
          "text": [
            "1234\n"
          ]
        }
      ],
      "source": [
        "try:\n",
        "    f = open('integers.txt')\n",
        "    s = f.readline()\n",
        "    i = int(s.strip())\n",
        "    print(i)\n",
        "except (IOError):\n",
        "    print('This file does not exist')\n",
        "except (ValueError):\n",
        "    print(\"The read line was not an integer\")\n",
        "except:\n",
        "    print(\"An unexpected error occurred\")\n",
        "    raise # raise will raise en error at the location\n",
        "finally:\n",
        "    f.close()"
      ],
      "id": "TfDSGSEJfUpe"
    },
    {
      "cell_type": "code",
      "execution_count": null,
      "metadata": {
        "id": "Mbbz8IQLfUpf",
        "outputId": "98d2defa-28a5-44ee-e3bf-0cd35b2b7738"
      },
      "outputs": [
        {
          "data": {
            "text/plain": [
              "1234"
            ]
          },
          "execution_count": 3,
          "metadata": {},
          "output_type": "execute_result"
        }
      ],
      "source": [],
      "id": "Mbbz8IQLfUpf"
    },
    {
      "cell_type": "markdown",
      "metadata": {
        "id": "AqNwYqTifUpf"
      },
      "source": [],
      "id": "AqNwYqTifUpf"
    }
  ],
  "metadata": {
    "kernelspec": {
      "display_name": "Python 3",
      "language": "python",
      "name": "python3"
    },
    "language_info": {
      "codemirror_mode": {
        "name": "ipython",
        "version": 3
      },
      "file_extension": ".py",
      "mimetype": "text/x-python",
      "name": "python",
      "nbconvert_exporter": "python",
      "pygments_lexer": "ipython3",
      "version": "3.7.6"
    },
    "colab": {
      "provenance": [],
      "collapsed_sections": [
        "pMYBBthtfUiS",
        "6f7qH0yOfUi1",
        "HDnbpHIEfUi7",
        "HOHq4st-fUi9",
        "2f3ke8grfUjQ",
        "7PBToqU8fUjQ",
        "F9ZD86akfUji",
        "tkqT5KokfUjk",
        "gON39ACKfUjp",
        "-7KiUxOsfUjq",
        "K-_vGRXrfUj4",
        "5UtZDWvGfUj9",
        "2Z4JU-jpfUj-",
        "jXjDOKsqfUj-",
        "ymxrvlEUfUj_",
        "4Sm-khBTfUkA",
        "aUcOPrWNfUkB",
        "uTV5ENOXfUkC",
        "gCs7iQTUfUkC",
        "XOzinRVDfUkE",
        "eH6aJmKmfUkI",
        "JzXB0H4ifUkM",
        "IzLhu6H7fUkM",
        "ovmH2zQgfUkO",
        "1zBPYxxsfUkO",
        "VfrggGpffUkP",
        "dnn80KsyfUkQ",
        "lOWz58--fUkT",
        "2-Mckj-MfUkU",
        "tT-NRNegfUkW",
        "ZsQzOjZsfUkX",
        "2YoE51YPfUkZ",
        "E9FV1d2yfUkb",
        "0bRu5jINfUkc",
        "7poXN-y-fUkd",
        "0maFLTEgfUke",
        "Q8K3LHmifUkf",
        "heRoa0cmfUkg",
        "847sDInqfUkj",
        "1wYELuLDfUkt",
        "s_ncd4MKfUku",
        "opNmWjEFfUkx",
        "1Rb6-BgmfUk0",
        "ssU2Oq8gfUk1",
        "V7jSPkqPfUk-",
        "gq__JWSXfUlD",
        "mAQ3lmoXfUlE",
        "FhxfMKk1fUlF",
        "fayl3sRffUlG",
        "uZIzVF-cfUlK",
        "Q1Ev7cp3fUlP",
        "ZBausjxxfUlR",
        "cS4NFYLnfUlT",
        "UYT36RKBfUlY",
        "LFX2jiZVfUla",
        "K0xEfivGfUla",
        "8LWCpnoEfUlb",
        "IC7_qj-SfUld",
        "hcvIPRwofUle",
        "_-CQg4fSfUle",
        "Pu9IwaMIfUlf",
        "2QMHfol7fUlh",
        "3yW6UTjOfUln",
        "z7zIOX0bfUlo",
        "soVlZHDOfUlp",
        "QHkjXaWifUlq",
        "_qmNx1JLfUlr",
        "Ws6KHBR8fUls",
        "qyJ72_S3fUls",
        "XUtDHhyafUlt",
        "giJw7tD5fUlv",
        "rWhKpWDSfUlw",
        "CSP142eyfUlw",
        "zz0v8ApMfUl-",
        "zP-yOlUMfUmA",
        "b2c_HSgLfUmB",
        "_yp4O6xhfUmC",
        "1xo7zNrtfUmC",
        "JD20zEWrfUmD",
        "uSwxgJoZfUmD",
        "Y72683GmfUmE",
        "rydRcnqtfUmE",
        "zLDSURtzfUmF",
        "1ifXlkhWEYxa",
        "VpgJ1dWpJXhZ",
        "1fgcfHPSJw_K",
        "SUQNspwtJntM",
        "YjCzKRg1QO1Z",
        "PhKcMg2ufUmn",
        "r18FDmk4fUmn",
        "Eoz_Wr0ffUmo",
        "R-AuddfHfUmp",
        "s_uYR9mffUmt",
        "s5PSp9iwfUmx",
        "gm9vAQaHfUmz",
        "mwSiGio3fUmz",
        "S0flamiofUm0",
        "SsJ6nZmnfUm1",
        "g3c6WJ5ffUm2",
        "q0bLdFoxfUm2",
        "ISWIBj-6fUm3",
        "75cli5vVfUm4",
        "MysMmUE2fUm_",
        "dvTqXUL0fUnD",
        "Bh-G4qf9fUnI",
        "yxqfzGLBfUnJ",
        "NPHiMHJbfUnJ",
        "2q99gPCqfUnK",
        "7md7CabMfUnL",
        "-Nqs2vo1fUnL",
        "NyyLV5zyfUnM",
        "OlNHGgVpfUnR",
        "2GXAH_bZfUnT",
        "tFSlbPbWfUnW",
        "23U7a76IfUn0",
        "nBB84UtjfUn0",
        "ogM5v1GnfUn0",
        "S3GfljV9fUn1",
        "-nS8MVybfUn2",
        "hGe28A3-fUn-",
        "4BbfeYwUfUn_",
        "j4Avd7RDfUoA",
        "HYyhvkuBfUoB",
        "ArSOnP0ifUoB",
        "jSSyOtPcfUoC",
        "JLvcBbKqfUoC",
        "hJ25fUWRfUoE",
        "LbzADVPiY9ti",
        "XwKlUZtjY6Kt",
        "Kbo3JikOaWS8",
        "XvHAr8LIbqeo",
        "j8SLblaTcXLC",
        "1fajzY1QgQDI",
        "33pafoT-pi4t",
        "roIEYNV6qnVb",
        "2ckv29RqujUO",
        "bo1e61Ts5hXO",
        "MgRQ42J15m2c",
        "8cShyOQ45rHr",
        "Oi7Go7nV57Rw",
        "dW9KSCBxBTt9",
        "I4u5QVBOBRIE",
        "8uijJE6DPCe1",
        "WD9miqZL-PId",
        "01a4VFrS_J6z",
        "q3pvABc1PCe2",
        "FU5Zfj7UPCe3",
        "cAM_zfblPCfA",
        "WuAWZHd5PCfJ",
        "nIPAlAa7PCfK",
        "iQDN3FwOPCfN",
        "Opas3am1LhRm",
        "5evw-TsZPCfU",
        "KWYFaoOW3TIP",
        "Cl1VFns13xa-",
        "mvyHm56WQTSY",
        "EXrVJa5RQTSj",
        "yMCr6KaXWcUv",
        "u7DnG0YrQTSn",
        "q3lfj4FfQTSo",
        "GHH31MzFQTSr",
        "t9Wc2n-xfUo4",
        "i8mXlXG1fUo6",
        "0JvPmc8tfUo8",
        "85vuJezOfUpW",
        "XRpKqC4lfUpX",
        "ubNQv97EfUpY",
        "bu2J_Lx0fUpZ",
        "7PcHjDG-fUpa",
        "pdwbMS53fUpa",
        "xXUXeAd3fUpa",
        "LVuLTbvUfUpb",
        "d1dQiuAGfUpb",
        "Tavh8HHZfUpc",
        "mEQY7BcXfUpc",
        "qSxSV9knfUpd",
        "UVKBeoy9fUpd",
        "VcBI14uifUpe"
      ],
      "toc_visible": true,
      "include_colab_link": true
    }
  },
  "nbformat": 4,
  "nbformat_minor": 5
}